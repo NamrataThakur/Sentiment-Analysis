{
 "cells": [
  {
   "cell_type": "markdown",
   "metadata": {},
   "source": [
    "## Amazon Fine Food Review - KNN - Brute Force Algorithm"
   ]
  },
  {
   "cell_type": "code",
   "execution_count": 2,
   "metadata": {},
   "outputs": [],
   "source": [
    "# Getting all the imports done\n",
    "\n",
    "%matplotlib inline\n",
    "import warnings\n",
    "warnings.filterwarnings(\"ignore\")\n",
    "\n",
    "\n",
    "import sqlite3\n",
    "import pandas as pd\n",
    "import numpy as np\n",
    "import nltk\n",
    "import string\n",
    "import matplotlib.pyplot as plt\n",
    "import seaborn as sns\n",
    "from sklearn.feature_extraction.text import TfidfTransformer\n",
    "from sklearn.feature_extraction.text import TfidfVectorizer\n",
    "\n",
    "from sklearn.feature_extraction.text import CountVectorizer\n",
    "from sklearn.metrics import confusion_matrix\n",
    "from sklearn import metrics\n",
    "from sklearn.metrics import roc_curve, auc\n",
    "from nltk.stem.porter import PorterStemmer\n",
    "\n",
    "import re\n",
    "# Tutorial about Python regular expressions: https://pymotw.com/2/re/\n",
    "import string\n",
    "from nltk.corpus import stopwords\n",
    "from nltk.stem import PorterStemmer\n",
    "from nltk.stem.wordnet import WordNetLemmatizer\n",
    "\n",
    "from gensim.models import Word2Vec\n",
    "from gensim.models import KeyedVectors\n",
    "import pickle\n",
    "\n",
    "from tqdm import tqdm\n",
    "import os\n",
    "\n"
   ]
  },
  {
   "cell_type": "code",
   "execution_count": 3,
   "metadata": {},
   "outputs": [
    {
     "name": "stdout",
     "output_type": "stream",
     "text": [
      "Number of data points in our data (250000, 10)\n"
     ]
    },
    {
     "data": {
      "text/html": [
       "<div>\n",
       "<style scoped>\n",
       "    .dataframe tbody tr th:only-of-type {\n",
       "        vertical-align: middle;\n",
       "    }\n",
       "\n",
       "    .dataframe tbody tr th {\n",
       "        vertical-align: top;\n",
       "    }\n",
       "\n",
       "    .dataframe thead th {\n",
       "        text-align: right;\n",
       "    }\n",
       "</style>\n",
       "<table border=\"1\" class=\"dataframe\">\n",
       "  <thead>\n",
       "    <tr style=\"text-align: right;\">\n",
       "      <th></th>\n",
       "      <th>Id</th>\n",
       "      <th>ProductId</th>\n",
       "      <th>UserId</th>\n",
       "      <th>ProfileName</th>\n",
       "      <th>HelpfulnessNumerator</th>\n",
       "      <th>HelpfulnessDenominator</th>\n",
       "      <th>Score</th>\n",
       "      <th>Time</th>\n",
       "      <th>Summary</th>\n",
       "      <th>Text</th>\n",
       "    </tr>\n",
       "  </thead>\n",
       "  <tbody>\n",
       "    <tr>\n",
       "      <th>0</th>\n",
       "      <td>1</td>\n",
       "      <td>B001E4KFG0</td>\n",
       "      <td>A3SGXH7AUHU8GW</td>\n",
       "      <td>delmartian</td>\n",
       "      <td>1</td>\n",
       "      <td>1</td>\n",
       "      <td>1</td>\n",
       "      <td>1303862400</td>\n",
       "      <td>Good Quality Dog Food</td>\n",
       "      <td>I have bought several of the Vitality canned d...</td>\n",
       "    </tr>\n",
       "    <tr>\n",
       "      <th>1</th>\n",
       "      <td>2</td>\n",
       "      <td>B00813GRG4</td>\n",
       "      <td>A1D87F6ZCVE5NK</td>\n",
       "      <td>dll pa</td>\n",
       "      <td>0</td>\n",
       "      <td>0</td>\n",
       "      <td>0</td>\n",
       "      <td>1346976000</td>\n",
       "      <td>Not as Advertised</td>\n",
       "      <td>Product arrived labeled as Jumbo Salted Peanut...</td>\n",
       "    </tr>\n",
       "    <tr>\n",
       "      <th>2</th>\n",
       "      <td>3</td>\n",
       "      <td>B000LQOCH0</td>\n",
       "      <td>ABXLMWJIXXAIN</td>\n",
       "      <td>Natalia Corres \"Natalia Corres\"</td>\n",
       "      <td>1</td>\n",
       "      <td>1</td>\n",
       "      <td>1</td>\n",
       "      <td>1219017600</td>\n",
       "      <td>\"Delight\" says it all</td>\n",
       "      <td>This is a confection that has been around a fe...</td>\n",
       "    </tr>\n",
       "  </tbody>\n",
       "</table>\n",
       "</div>"
      ],
      "text/plain": [
       "   Id   ProductId          UserId                      ProfileName  \\\n",
       "0   1  B001E4KFG0  A3SGXH7AUHU8GW                       delmartian   \n",
       "1   2  B00813GRG4  A1D87F6ZCVE5NK                           dll pa   \n",
       "2   3  B000LQOCH0   ABXLMWJIXXAIN  Natalia Corres \"Natalia Corres\"   \n",
       "\n",
       "   HelpfulnessNumerator  HelpfulnessDenominator  Score        Time  \\\n",
       "0                     1                       1      1  1303862400   \n",
       "1                     0                       0      0  1346976000   \n",
       "2                     1                       1      1  1219017600   \n",
       "\n",
       "                 Summary                                               Text  \n",
       "0  Good Quality Dog Food  I have bought several of the Vitality canned d...  \n",
       "1      Not as Advertised  Product arrived labeled as Jumbo Salted Peanut...  \n",
       "2  \"Delight\" says it all  This is a confection that has been around a fe...  "
      ]
     },
     "execution_count": 3,
     "metadata": {},
     "output_type": "execute_result"
    }
   ],
   "source": [
    "# using SQLite Table to read data.\n",
    "con = sqlite3.connect(r'C:\\Users\\NamrataT\\Desktop\\EXAM\\PYTHON\\Amazon Fine Food Reviews\\database.sqlite') \n",
    "\n",
    "# filtering only positive and negative reviews i.e. \n",
    "# not taking into consideration those reviews with Score=3\n",
    "# SELECT * FROM Reviews WHERE Score != 3 LIMIT 500000, will give top 500000 data points\n",
    "\n",
    "filtered_data = pd.read_sql_query(\"\"\" SELECT * FROM Reviews WHERE Score != 3 LIMIT 250000\"\"\", con) \n",
    "\n",
    "# Give reviews with Score>3 a positive rating(1), and reviews with a score<3 a negative rating(0).\n",
    "def partition(x):\n",
    "    if x < 3:\n",
    "        return 0\n",
    "    return 1\n",
    "\n",
    "#changing reviews with score less than 3 to be positive and vice-versa\n",
    "actualScore = filtered_data['Score']\n",
    "positiveNegative = actualScore.map(partition) \n",
    "filtered_data['Score'] = positiveNegative\n",
    "print(\"Number of data points in our data\", filtered_data.shape)\n",
    "filtered_data.head(3)"
   ]
  },
  {
   "cell_type": "code",
   "execution_count": 4,
   "metadata": {},
   "outputs": [
    {
     "data": {
      "text/plain": [
       "1    210615\n",
       "0     39385\n",
       "Name: Score, dtype: int64"
      ]
     },
     "execution_count": 4,
     "metadata": {},
     "output_type": "execute_result"
    }
   ],
   "source": [
    "filtered_data['Score'].value_counts()"
   ]
  },
  {
   "cell_type": "code",
   "execution_count": 5,
   "metadata": {},
   "outputs": [
    {
     "name": "stdout",
     "output_type": "stream",
     "text": [
      "(210615, 10) (39385, 10)\n"
     ]
    }
   ],
   "source": [
    "demo_positive = filtered_data[filtered_data['Score']==1]\n",
    "demo_negetive = filtered_data[filtered_data['Score']==0]\n",
    "\n",
    "print(demo_positive.shape, demo_negetive.shape)"
   ]
  },
  {
   "cell_type": "code",
   "execution_count": 6,
   "metadata": {},
   "outputs": [
    {
     "name": "stdout",
     "output_type": "stream",
     "text": [
      "(25000, 10) (39000, 10)\n"
     ]
    }
   ],
   "source": [
    "demo_positive = demo_positive[0:25000]\n",
    "demo_negetive = demo_negetive[0:39000]\n",
    "print(demo_positive.shape, demo_negetive.shape)"
   ]
  },
  {
   "cell_type": "code",
   "execution_count": 7,
   "metadata": {},
   "outputs": [
    {
     "name": "stdout",
     "output_type": "stream",
     "text": [
      "(64000, 10)\n",
      "<class 'pandas.core.frame.DataFrame'>\n"
     ]
    }
   ],
   "source": [
    "filtered_data = pd.DataFrame(np.vstack((demo_positive,demo_negetive)),columns=['Id', 'ProductId', 'UserId', 'ProfileName', 'HelpfulnessNumerator',\n",
    "       'HelpfulnessDenominator', 'Score', 'Time', 'Summary', 'Text'])\n",
    "print(filtered_data.shape)\n",
    "print(type(filtered_data))"
   ]
  },
  {
   "cell_type": "code",
   "execution_count": 8,
   "metadata": {},
   "outputs": [],
   "source": [
    "#Sorting data according to Time in ascending order\n",
    "sorted_data=filtered_data.sort_values('Time', axis=0, ascending=True, inplace=False, kind='quicksort', na_position='last')\n",
    "sorted_data.reset_index(drop=True, inplace=True)"
   ]
  },
  {
   "cell_type": "code",
   "execution_count": 9,
   "metadata": {},
   "outputs": [
    {
     "data": {
      "text/plain": [
       "(54263, 10)"
      ]
     },
     "execution_count": 9,
     "metadata": {},
     "output_type": "execute_result"
    }
   ],
   "source": [
    "#Deduplication of entries\n",
    "final=sorted_data.drop_duplicates(subset={\"UserId\",\"ProfileName\",\"Time\",\"Text\"}, keep='first', inplace=False)\n",
    "final.shape"
   ]
  },
  {
   "cell_type": "code",
   "execution_count": 10,
   "metadata": {},
   "outputs": [
    {
     "data": {
      "text/plain": [
       "84.7859375"
      ]
     },
     "execution_count": 10,
     "metadata": {},
     "output_type": "execute_result"
    }
   ],
   "source": [
    "#Checking to see how much % of data still remains\n",
    "(final['Id'].size*1.0)/(filtered_data['Id'].size*1.0)*100"
   ]
  },
  {
   "cell_type": "code",
   "execution_count": 11,
   "metadata": {},
   "outputs": [],
   "source": [
    "final=final[final.HelpfulnessNumerator<=final.HelpfulnessDenominator]"
   ]
  },
  {
   "cell_type": "code",
   "execution_count": 12,
   "metadata": {},
   "outputs": [
    {
     "name": "stdout",
     "output_type": "stream",
     "text": [
      "(54263, 10)\n"
     ]
    },
    {
     "data": {
      "text/plain": [
       "0    30817\n",
       "1    23446\n",
       "Name: Score, dtype: int64"
      ]
     },
     "execution_count": 12,
     "metadata": {},
     "output_type": "execute_result"
    }
   ],
   "source": [
    "#Before starting the next phase of preprocessing lets see the number of entries left\n",
    "print(final.shape)\n",
    "\n",
    "#How many positive and negative reviews are present in our dataset?\n",
    "final['Score'].value_counts()"
   ]
  },
  {
   "cell_type": "code",
   "execution_count": 13,
   "metadata": {},
   "outputs": [
    {
     "data": {
      "text/plain": [
       "(54263,)"
      ]
     },
     "execution_count": 13,
     "metadata": {},
     "output_type": "execute_result"
    }
   ],
   "source": [
    "final_score = final['Score']\n",
    "final_score.shape\n"
   ]
  },
  {
   "cell_type": "code",
   "execution_count": 14,
   "metadata": {},
   "outputs": [],
   "source": [
    "# https://stackoverflow.com/a/47091490/4084039\n",
    "import re\n",
    "\n",
    "def decontracted(phrase):\n",
    "    # specific\n",
    "    phrase = re.sub(r\"won't\", \"will not\", phrase)\n",
    "    phrase = re.sub(r\"can\\'t\", \"can not\", phrase)\n",
    "\n",
    "    # general\n",
    "    phrase = re.sub(r\"n\\'t\", \" not\", phrase)\n",
    "    phrase = re.sub(r\"\\'re\", \" are\", phrase)\n",
    "    phrase = re.sub(r\"\\'s\", \" is\", phrase)\n",
    "    phrase = re.sub(r\"\\'d\", \" would\", phrase)\n",
    "    phrase = re.sub(r\"\\'ll\", \" will\", phrase)\n",
    "    phrase = re.sub(r\"\\'t\", \" not\", phrase)\n",
    "    phrase = re.sub(r\"\\'ve\", \" have\", phrase)\n",
    "    phrase = re.sub(r\"\\'m\", \" am\", phrase)\n",
    "    return phrase"
   ]
  },
  {
   "cell_type": "code",
   "execution_count": 15,
   "metadata": {},
   "outputs": [],
   "source": [
    "# https://gist.github.com/sebleier/554280\n",
    "# we are removing the words from the stop words list: 'no', 'nor', 'not'\n",
    "# <br /><br /> ==> after the above steps, we are getting \"br br\"\n",
    "# we are including them into stop words list\n",
    "# instead of <br /> if we have <br/> these tags would have revmoved in the 1st step\n",
    "\n",
    "stopwords= set(['br', 'the', 'i', 'me', 'my', 'myself', 'we', 'our', 'ours', 'ourselves', 'you', \"you're\", \"you've\",\\\n",
    "            \"you'll\", \"you'd\", 'your', 'yours', 'yourself', 'yourselves', 'he', 'him', 'his', 'himself', \\\n",
    "            'she', \"she's\", 'her', 'hers', 'herself', 'it', \"it's\", 'its', 'itself', 'they', 'them', 'their',\\\n",
    "            'theirs', 'themselves', 'what', 'which', 'who', 'whom', 'this', 'that', \"that'll\", 'these', 'those', \\\n",
    "            'am', 'is', 'are', 'was', 'were', 'be', 'been', 'being', 'have', 'has', 'had', 'having', 'do', 'does', \\\n",
    "            'did', 'doing', 'a', 'an', 'the', 'and', 'but', 'if', 'or', 'because', 'as', 'until', 'while', 'of', \\\n",
    "            'at', 'by', 'for', 'with', 'about', 'against', 'between', 'into', 'through', 'during', 'before', 'after',\\\n",
    "            'above', 'below', 'to', 'from', 'up', 'down', 'in', 'out', 'on', 'off', 'over', 'under', 'again', 'further',\\\n",
    "            'then', 'once', 'here', 'there', 'when', 'where', 'why', 'how', 'all', 'any', 'both', 'each', 'few', 'more',\\\n",
    "            'most', 'other', 'some', 'such', 'only', 'own', 'same', 'so', 'than', 'too', 'very', \\\n",
    "            's', 't', 'can', 'will', 'just', 'don', \"don't\", 'should', \"should've\", 'now', 'd', 'll', 'm', 'o', 're', \\\n",
    "            've', 'y', 'ain', 'aren', \"aren't\", 'couldn', \"couldn't\", 'didn', \"didn't\", 'doesn', \"doesn't\", 'hadn',\\\n",
    "            \"hadn't\", 'hasn', \"hasn't\", 'haven', \"haven't\", 'isn', \"isn't\", 'ma', 'mightn', \"mightn't\", 'mustn',\\\n",
    "            \"mustn't\", 'needn', \"needn't\", 'shan', \"shan't\", 'shouldn', \"shouldn't\", 'wasn', \"wasn't\", 'weren', \"weren't\", \\\n",
    "            'won', \"won't\", 'wouldn', \"wouldn't\"])"
   ]
  },
  {
   "cell_type": "code",
   "execution_count": 16,
   "metadata": {},
   "outputs": [
    {
     "name": "stderr",
     "output_type": "stream",
     "text": [
      "100%|███████████████████████████████████████████████████████████████████████████| 54263/54263 [01:26<00:00, 624.62it/s]\n"
     ]
    }
   ],
   "source": [
    "# Combining all the above stundents \n",
    "from tqdm import tqdm\n",
    "from bs4 import BeautifulSoup\n",
    "\n",
    "preprocessed_reviews = []\n",
    "# tqdm is for printing the status bar\n",
    "for sentance in tqdm(final['Text'].values):\n",
    "    sentance = re.sub(r\"http\\S+\", \"\", sentance)\n",
    "    sentance = BeautifulSoup(sentance, 'lxml').get_text()\n",
    "    sentance = decontracted(sentance)\n",
    "    sentance = re.sub(\"\\S*\\d\\S*\", \"\", sentance).strip()\n",
    "    sentance = re.sub('[^A-Za-z]+', ' ', sentance)\n",
    "    # https://gist.github.com/sebleier/554280\n",
    "    sentance = ' '.join(e.lower() for e in sentance.split() if e.lower() not in stopwords)\n",
    "    preprocessed_reviews.append(sentance.strip())"
   ]
  },
  {
   "cell_type": "code",
   "execution_count": 17,
   "metadata": {},
   "outputs": [
    {
     "data": {
      "text/plain": [
       "'yes years old addicted scooby doo fruit snacks always liked fruit snacks buy time time firsat time ever bought case good no fruit snacks even betty crocker compare try get hooked brush teeth'"
      ]
     },
     "execution_count": 17,
     "metadata": {},
     "output_type": "execute_result"
    }
   ],
   "source": [
    "preprocessed_reviews[1500]"
   ]
  },
  {
   "cell_type": "markdown",
   "metadata": {},
   "source": [
    "## 1) Applying KNN brute force"
   ]
  },
  {
   "cell_type": "markdown",
   "metadata": {},
   "source": [
    "## 1.1) Applying KNN brute force on BOW, SET 1"
   ]
  },
  {
   "cell_type": "code",
   "execution_count": 18,
   "metadata": {},
   "outputs": [],
   "source": [
    "# Getting all the imports done\n",
    "\n",
    "from sklearn.neighbors import KNeighborsClassifier\n",
    "from sklearn.metrics import accuracy_score\n",
    "#from sklearn.cross_validation import cross_val_score\n",
    "from collections import Counter\n",
    "from sklearn.metrics import accuracy_score\n",
    "#from sklearn import cross_validation\n",
    "from sklearn.metrics import roc_auc_score\n",
    "from sklearn import preprocessing\n",
    "from sklearn.model_selection import train_test_split\n",
    "from sklearn.metrics import auc,roc_curve\n",
    "from sklearn.metrics import confusion_matrix\n",
    "from sklearn.feature_extraction.text import TfidfVectorizer\n",
    "from sklearn.preprocessing import StandardScaler\n",
    "from plotly.plotly import plotly as py\n",
    "from imblearn.over_sampling import SMOTE\n",
    "from imblearn.over_sampling import RandomOverSampler\n",
    "from sklearn.utils import resample"
   ]
  },
  {
   "cell_type": "code",
   "execution_count": 19,
   "metadata": {},
   "outputs": [],
   "source": [
    "final['Cleaned_Text']=preprocessed_reviews\n",
    "final_review = final[['Cleaned_Text','Score']]\n",
    "X = final_review.drop(['Score'],axis=1)\n",
    "Y = final_review['Score']"
   ]
  },
  {
   "cell_type": "code",
   "execution_count": 20,
   "metadata": {},
   "outputs": [
    {
     "name": "stdout",
     "output_type": "stream",
     "text": [
      "(34728, 1) (34728,)\n"
     ]
    }
   ],
   "source": [
    "# Please write all the code with proper documentation\n",
    "# TIME BASED SPILTTING\n",
    "# SIMPLE CROSS VALIDATION\n",
    "\n",
    "X_1, X_test, Y_1, Y_test = train_test_split(X,Y,test_size=0.2,shuffle = False)\n",
    "X_1_train, X_1_cv, Y_1_train, Y_1_cv = train_test_split( X_1, Y_1, test_size=0.2,shuffle = False)\n",
    "print(X_1_train.shape,Y_1_train.shape)"
   ]
  },
  {
   "cell_type": "code",
   "execution_count": 21,
   "metadata": {},
   "outputs": [],
   "source": [
    "df_post_split = pd.concat([X_1_train,Y_1_train],axis=1)\n",
    "x_positive = df_post_split[df_post_split['Score']==1]\n",
    "x_negetive = df_post_split[df_post_split['Score']==0]"
   ]
  },
  {
   "cell_type": "code",
   "execution_count": 22,
   "metadata": {},
   "outputs": [
    {
     "data": {
      "text/plain": [
       "0    18757\n",
       "1    15971\n",
       "Name: Score, dtype: int64"
      ]
     },
     "execution_count": 22,
     "metadata": {},
     "output_type": "execute_result"
    }
   ],
   "source": [
    "df_post_split['Score'].value_counts()"
   ]
  },
  {
   "cell_type": "code",
   "execution_count": 23,
   "metadata": {},
   "outputs": [],
   "source": [
    "# Indicies of each class' observations\n",
    "i_class0 = np.where(df_post_split['Score'] == 0)[0]\n",
    "i_class1 = np.where(df_post_split['Score'] == 1)[0]"
   ]
  },
  {
   "cell_type": "code",
   "execution_count": 24,
   "metadata": {},
   "outputs": [],
   "source": [
    "# For every observation of class 1, randomly sample from class 0 without replacement\n",
    "#x_negetive_upsample = resample(x_negetive, replace = True, n_samples=17000)\n",
    "x_negetive_downsample = resample(x_negetive,replace=False,n_samples=13000,random_state=123) "
   ]
  },
  {
   "cell_type": "code",
   "execution_count": 25,
   "metadata": {},
   "outputs": [
    {
     "name": "stdout",
     "output_type": "stream",
     "text": [
      "(13000, 2) <class 'pandas.core.frame.DataFrame'>\n"
     ]
    }
   ],
   "source": [
    "print(x_negetive_downsample.shape, type(x_positive))"
   ]
  },
  {
   "cell_type": "code",
   "execution_count": 26,
   "metadata": {},
   "outputs": [
    {
     "data": {
      "text/plain": [
       "pandas.core.frame.DataFrame"
      ]
     },
     "execution_count": 26,
     "metadata": {},
     "output_type": "execute_result"
    }
   ],
   "source": [
    "#df_upsample = pd.concat([x_positive,x_negetive_upsample])\n",
    "df_upsample = pd.concat([x_positive,x_negetive_downsample])\n",
    "type(df_upsample)"
   ]
  },
  {
   "cell_type": "code",
   "execution_count": 27,
   "metadata": {},
   "outputs": [
    {
     "data": {
      "text/html": [
       "<div>\n",
       "<style scoped>\n",
       "    .dataframe tbody tr th:only-of-type {\n",
       "        vertical-align: middle;\n",
       "    }\n",
       "\n",
       "    .dataframe tbody tr th {\n",
       "        vertical-align: top;\n",
       "    }\n",
       "\n",
       "    .dataframe thead th {\n",
       "        text-align: right;\n",
       "    }\n",
       "</style>\n",
       "<table border=\"1\" class=\"dataframe\">\n",
       "  <thead>\n",
       "    <tr style=\"text-align: right;\">\n",
       "      <th></th>\n",
       "      <th>Cleaned_Text</th>\n",
       "      <th>Score</th>\n",
       "    </tr>\n",
       "  </thead>\n",
       "  <tbody>\n",
       "    <tr>\n",
       "      <th>1</th>\n",
       "      <td>really good idea final product outstanding use...</td>\n",
       "      <td>1</td>\n",
       "    </tr>\n",
       "    <tr>\n",
       "      <th>2</th>\n",
       "      <td>received shipment could hardly wait try produc...</td>\n",
       "      <td>1</td>\n",
       "    </tr>\n",
       "    <tr>\n",
       "      <th>8</th>\n",
       "      <td>nothing product bother link top page buy used ...</td>\n",
       "      <td>1</td>\n",
       "    </tr>\n",
       "    <tr>\n",
       "      <th>9</th>\n",
       "      <td>love stuff sugar free not rot gums tastes good...</td>\n",
       "      <td>1</td>\n",
       "    </tr>\n",
       "    <tr>\n",
       "      <th>11</th>\n",
       "      <td>chatchi favorite afternoon treat became myster...</td>\n",
       "      <td>1</td>\n",
       "    </tr>\n",
       "  </tbody>\n",
       "</table>\n",
       "</div>"
      ],
      "text/plain": [
       "                                         Cleaned_Text Score\n",
       "1   really good idea final product outstanding use...     1\n",
       "2   received shipment could hardly wait try produc...     1\n",
       "8   nothing product bother link top page buy used ...     1\n",
       "9   love stuff sugar free not rot gums tastes good...     1\n",
       "11  chatchi favorite afternoon treat became myster...     1"
      ]
     },
     "execution_count": 27,
     "metadata": {},
     "output_type": "execute_result"
    }
   ],
   "source": [
    "df_upsample.head()"
   ]
  },
  {
   "cell_type": "code",
   "execution_count": 28,
   "metadata": {},
   "outputs": [
    {
     "data": {
      "text/plain": [
       "1    15971\n",
       "0    13000\n",
       "Name: Score, dtype: int64"
      ]
     },
     "execution_count": 28,
     "metadata": {},
     "output_type": "execute_result"
    }
   ],
   "source": [
    "df_upsample['Score'].value_counts()"
   ]
  },
  {
   "cell_type": "code",
   "execution_count": 29,
   "metadata": {},
   "outputs": [
    {
     "name": "stdout",
     "output_type": "stream",
     "text": [
      "(28971, 1) (28971,)\n"
     ]
    }
   ],
   "source": [
    "X_Train = df_upsample.drop(['Score'],axis=1)\n",
    "Y_Train = df_upsample['Score']\n",
    "print(X_Train.shape, Y_Train.shape)"
   ]
  },
  {
   "cell_type": "code",
   "execution_count": 29,
   "metadata": {},
   "outputs": [
    {
     "name": "stdout",
     "output_type": "stream",
     "text": [
      " some feature names  ['abandoned', 'ability', 'able', 'absence', 'absent', 'absolute', 'absolutely', 'absorb', 'absorbed', 'absorbs']\n",
      "==================================================\n",
      "the type of count vectorizer  <class 'scipy.sparse.csr.csr_matrix'>\n",
      "the shape of BOW vectorizer  (28971, 6803)\n",
      "the number of unique words  6803\n"
     ]
    }
   ],
   "source": [
    "# Applying BOW for Vectorization\n",
    "# BoW -- fit_transform on D_Train\n",
    "count_vect = CountVectorizer(min_df=10) #in scikit-learn # changes done as suggested\n",
    "D_Train = count_vect.fit_transform(X_Train['Cleaned_Text'])\n",
    "print(\" some feature names \", count_vect.get_feature_names()[:10])\n",
    "print('='*50)\n",
    "\n",
    "print(\"the type of count vectorizer \",type(D_Train))\n",
    "print(\"the shape of BOW vectorizer \",D_Train.get_shape())\n",
    "print(\"the number of unique words \", D_Train.get_shape()[1])"
   ]
  },
  {
   "cell_type": "code",
   "execution_count": 30,
   "metadata": {},
   "outputs": [
    {
     "name": "stdout",
     "output_type": "stream",
     "text": [
      "the type of count vectorizer  <class 'scipy.sparse.csr.csr_matrix'>\n",
      "the shape of BOW vectorizer  (8682, 6803)\n",
      "the number of unique words  6803\n"
     ]
    }
   ],
   "source": [
    "# BoW -- transform on D_CV\n",
    "\n",
    "D_Cv = count_vect.transform(X_1_cv['Cleaned_Text'])\n",
    "print(\"the type of count vectorizer \",type(D_Cv))\n",
    "print(\"the shape of BOW vectorizer \",D_Cv.get_shape())\n",
    "print(\"the number of unique words \", D_Cv.get_shape()[1])"
   ]
  },
  {
   "cell_type": "code",
   "execution_count": 31,
   "metadata": {},
   "outputs": [
    {
     "name": "stdout",
     "output_type": "stream",
     "text": [
      "the type of count vectorizer  <class 'scipy.sparse.csr.csr_matrix'>\n",
      "the shape of BOW vectorizer  (10853, 6803)\n",
      "the number of unique words  6803\n"
     ]
    }
   ],
   "source": [
    "# BoW -- transform on D_Test\n",
    "\n",
    "D_Test = count_vect.transform(X_test['Cleaned_Text'])\n",
    "print(\"the type of count vectorizer \",type(D_Test))\n",
    "print(\"the shape of BOW vectorizer \",D_Test.get_shape())\n",
    "print(\"the number of unique words \", D_Test.get_shape()[1])"
   ]
  },
  {
   "cell_type": "code",
   "execution_count": 32,
   "metadata": {},
   "outputs": [
    {
     "name": "stdout",
     "output_type": "stream",
     "text": [
      "28971\n",
      "8682\n",
      "10853\n"
     ]
    }
   ],
   "source": [
    "\n",
    "n_cv = D_Cv.get_shape()[0]\n",
    "n_train = D_Train.get_shape()[0]\n",
    "n_test = D_Test.get_shape()[0]\n",
    "print(n_train)\n",
    "print(n_cv)\n",
    "print(n_test)"
   ]
  },
  {
   "cell_type": "code",
   "execution_count": 33,
   "metadata": {},
   "outputs": [
    {
     "name": "stderr",
     "output_type": "stream",
     "text": [
      "C:\\Users\\NamrataT\\Anaconda3\\lib\\site-packages\\sklearn\\utils\\validation.py:595: DataConversionWarning:\n",
      "\n",
      "Data with input dtype int64 was converted to float64 by StandardScaler.\n",
      "\n",
      "C:\\Users\\NamrataT\\Anaconda3\\lib\\site-packages\\sklearn\\utils\\validation.py:595: DataConversionWarning:\n",
      "\n",
      "Data with input dtype int64 was converted to float64 by StandardScaler.\n",
      "\n",
      "C:\\Users\\NamrataT\\Anaconda3\\lib\\site-packages\\sklearn\\utils\\validation.py:595: DataConversionWarning:\n",
      "\n",
      "Data with input dtype int64 was converted to float64 by StandardScaler.\n",
      "\n",
      "C:\\Users\\NamrataT\\Anaconda3\\lib\\site-packages\\sklearn\\utils\\validation.py:595: DataConversionWarning:\n",
      "\n",
      "Data with input dtype int64 was converted to float64 by StandardScaler.\n",
      "\n"
     ]
    },
    {
     "name": "stdout",
     "output_type": "stream",
     "text": [
      "(28971, 6803)\n",
      "(8682, 6803)\n",
      "(10853, 6803)\n"
     ]
    }
   ],
   "source": [
    "# Standardization Process\n",
    "# Changes done as suggested\n",
    "\n",
    "scaler = StandardScaler(with_mean=False)\n",
    "scaler.fit(D_Train)\n",
    "D_Train = scaler.transform(D_Train)\n",
    "D_Cv = scaler.transform(D_Cv)\n",
    "D_Test = scaler.transform(D_Test)\n",
    "\n",
    "print(D_Train.shape)\n",
    "print(D_Cv.shape)\n",
    "print(D_Test.shape)"
   ]
  },
  {
   "cell_type": "code",
   "execution_count": 34,
   "metadata": {},
   "outputs": [],
   "source": [
    "D_Train=D_Train.astype('int')\n",
    "D_Cv=D_Cv.astype('int')\n",
    "D_Test=D_Test.astype('int')\n",
    "Y_Train=Y_Train.astype('int')\n",
    "Y_1_cv=Y_1_cv.astype('int')\n",
    "Y_test=Y_test.astype('int')"
   ]
  },
  {
   "cell_type": "code",
   "execution_count": 35,
   "metadata": {},
   "outputs": [
    {
     "name": "stderr",
     "output_type": "stream",
     "text": [
      "\r",
      "  0%|                                                                                           | 0/25 [00:00<?, ?it/s]"
     ]
    },
    {
     "name": "stdout",
     "output_type": "stream",
     "text": [
      "8682\n",
      "8682\n",
      "\n",
      "CV Accuracy for k = 1 is 59%\n",
      "\n",
      "CV AUC for k = 1 is 0.625892%\n",
      "\n",
      "Train Accuracy for k = 1 is 99%\n",
      "\n",
      "Train AUC for k = 1 is 0.999000%\n"
     ]
    },
    {
     "name": "stderr",
     "output_type": "stream",
     "text": [
      "\r",
      "  4%|███▎                                                                              | 1/25 [02:24<57:51, 144.66s/it]"
     ]
    },
    {
     "name": "stdout",
     "output_type": "stream",
     "text": [
      "8682\n",
      "8682\n",
      "\n",
      "CV Accuracy for k = 3 is 59%\n",
      "\n",
      "CV AUC for k = 3 is 0.697326%\n",
      "\n",
      "Train Accuracy for k = 3 is 81%\n",
      "\n",
      "Train AUC for k = 3 is 0.907941%\n"
     ]
    },
    {
     "name": "stderr",
     "output_type": "stream",
     "text": [
      "\r",
      "  8%|██████▌                                                                           | 2/25 [04:41<54:30, 142.20s/it]"
     ]
    },
    {
     "name": "stdout",
     "output_type": "stream",
     "text": [
      "8682\n",
      "8682\n",
      "\n",
      "CV Accuracy for k = 5 is 60%\n",
      "\n",
      "CV AUC for k = 5 is 0.720839%\n",
      "\n",
      "Train Accuracy for k = 5 is 78%\n",
      "\n",
      "Train AUC for k = 5 is 0.881096%\n"
     ]
    },
    {
     "name": "stderr",
     "output_type": "stream",
     "text": [
      "\r",
      " 12%|█████████▊                                                                        | 3/25 [07:29<55:01, 150.08s/it]"
     ]
    },
    {
     "name": "stdout",
     "output_type": "stream",
     "text": [
      "8682\n",
      "8682\n",
      "\n",
      "CV Accuracy for k = 7 is 59%\n",
      "\n",
      "CV AUC for k = 7 is 0.730636%\n",
      "\n",
      "Train Accuracy for k = 7 is 75%\n",
      "\n",
      "Train AUC for k = 7 is 0.865001%\n"
     ]
    },
    {
     "name": "stderr",
     "output_type": "stream",
     "text": [
      "\r",
      " 16%|█████████████                                                                     | 4/25 [10:10<53:36, 153.19s/it]"
     ]
    },
    {
     "name": "stdout",
     "output_type": "stream",
     "text": [
      "8682\n",
      "8682\n",
      "\n",
      "CV Accuracy for k = 9 is 57%\n",
      "\n",
      "CV AUC for k = 9 is 0.733441%\n",
      "\n",
      "Train Accuracy for k = 9 is 74%\n",
      "\n",
      "Train AUC for k = 9 is 0.856148%\n"
     ]
    },
    {
     "name": "stderr",
     "output_type": "stream",
     "text": [
      "\r",
      " 20%|████████████████▍                                                                 | 5/25 [12:46<51:21, 154.08s/it]"
     ]
    },
    {
     "name": "stdout",
     "output_type": "stream",
     "text": [
      "8682\n",
      "8682\n",
      "\n",
      "CV Accuracy for k = 11 is 56%\n",
      "\n",
      "CV AUC for k = 11 is 0.735705%\n",
      "\n",
      "Train Accuracy for k = 11 is 72%\n",
      "\n",
      "Train AUC for k = 11 is 0.845651%\n"
     ]
    },
    {
     "name": "stderr",
     "output_type": "stream",
     "text": [
      "\r",
      " 24%|███████████████████▋                                                              | 6/25 [15:21<48:53, 154.37s/it]"
     ]
    },
    {
     "name": "stdout",
     "output_type": "stream",
     "text": [
      "8682\n",
      "8682\n",
      "\n",
      "CV Accuracy for k = 13 is 54%\n",
      "\n",
      "CV AUC for k = 13 is 0.733153%\n",
      "\n",
      "Train Accuracy for k = 13 is 70%\n",
      "\n",
      "Train AUC for k = 13 is 0.837510%\n"
     ]
    },
    {
     "name": "stderr",
     "output_type": "stream",
     "text": [
      "\r",
      " 28%|██████████████████████▉                                                           | 7/25 [17:56<46:23, 154.65s/it]"
     ]
    },
    {
     "name": "stdout",
     "output_type": "stream",
     "text": [
      "8682\n",
      "8682\n",
      "\n",
      "CV Accuracy for k = 15 is 52%\n",
      "\n",
      "CV AUC for k = 15 is 0.731027%\n",
      "\n",
      "Train Accuracy for k = 15 is 69%\n",
      "\n",
      "Train AUC for k = 15 is 0.829032%\n"
     ]
    },
    {
     "name": "stderr",
     "output_type": "stream",
     "text": [
      "\r",
      " 32%|██████████████████████████▏                                                       | 8/25 [20:31<43:52, 154.86s/it]"
     ]
    },
    {
     "name": "stdout",
     "output_type": "stream",
     "text": [
      "8682\n",
      "8682\n",
      "\n",
      "CV Accuracy for k = 17 is 51%\n",
      "\n",
      "CV AUC for k = 17 is 0.729303%\n",
      "\n",
      "Train Accuracy for k = 17 is 67%\n",
      "\n",
      "Train AUC for k = 17 is 0.822982%\n"
     ]
    },
    {
     "name": "stderr",
     "output_type": "stream",
     "text": [
      "\r",
      " 36%|█████████████████████████████▌                                                    | 9/25 [23:08<41:28, 155.51s/it]"
     ]
    },
    {
     "name": "stdout",
     "output_type": "stream",
     "text": [
      "8682\n",
      "8682\n",
      "\n",
      "CV Accuracy for k = 19 is 50%\n",
      "\n",
      "CV AUC for k = 19 is 0.729088%\n",
      "\n",
      "Train Accuracy for k = 19 is 66%\n",
      "\n",
      "Train AUC for k = 19 is 0.816587%\n"
     ]
    },
    {
     "name": "stderr",
     "output_type": "stream",
     "text": [
      "\r",
      " 40%|████████████████████████████████▍                                                | 10/25 [25:44<38:51, 155.44s/it]"
     ]
    },
    {
     "name": "stdout",
     "output_type": "stream",
     "text": [
      "8682\n",
      "8682\n",
      "\n",
      "CV Accuracy for k = 21 is 49%\n",
      "\n",
      "CV AUC for k = 21 is 0.727767%\n",
      "\n",
      "Train Accuracy for k = 21 is 65%\n",
      "\n",
      "Train AUC for k = 21 is 0.810819%\n"
     ]
    },
    {
     "name": "stderr",
     "output_type": "stream",
     "text": [
      "\r",
      " 44%|███████████████████████████████████▋                                             | 11/25 [28:17<36:08, 154.90s/it]"
     ]
    },
    {
     "name": "stdout",
     "output_type": "stream",
     "text": [
      "8682\n",
      "8682\n",
      "\n",
      "CV Accuracy for k = 23 is 48%\n",
      "\n",
      "CV AUC for k = 23 is 0.724201%\n",
      "\n",
      "Train Accuracy for k = 23 is 64%\n",
      "\n",
      "Train AUC for k = 23 is 0.804265%\n"
     ]
    },
    {
     "name": "stderr",
     "output_type": "stream",
     "text": [
      "\r",
      " 48%|██████████████████████████████████████▉                                          | 12/25 [30:51<33:27, 154.40s/it]"
     ]
    },
    {
     "name": "stdout",
     "output_type": "stream",
     "text": [
      "8682\n",
      "8682\n",
      "\n",
      "CV Accuracy for k = 25 is 47%\n",
      "\n",
      "CV AUC for k = 25 is 0.721797%\n",
      "\n",
      "Train Accuracy for k = 25 is 63%\n",
      "\n",
      "Train AUC for k = 25 is 0.799116%\n"
     ]
    },
    {
     "name": "stderr",
     "output_type": "stream",
     "text": [
      "\r",
      " 52%|██████████████████████████████████████████                                       | 13/25 [33:26<30:55, 154.66s/it]"
     ]
    },
    {
     "name": "stdout",
     "output_type": "stream",
     "text": [
      "8682\n",
      "8682\n",
      "\n",
      "CV Accuracy for k = 27 is 46%\n",
      "\n",
      "CV AUC for k = 27 is 0.718152%\n",
      "\n",
      "Train Accuracy for k = 27 is 62%\n",
      "\n",
      "Train AUC for k = 27 is 0.793555%\n"
     ]
    },
    {
     "name": "stderr",
     "output_type": "stream",
     "text": [
      "\r",
      " 56%|█████████████████████████████████████████████▎                                   | 14/25 [36:06<28:38, 156.26s/it]"
     ]
    },
    {
     "name": "stdout",
     "output_type": "stream",
     "text": [
      "8682\n",
      "8682\n",
      "\n",
      "CV Accuracy for k = 29 is 45%\n",
      "\n",
      "CV AUC for k = 29 is 0.715074%\n",
      "\n",
      "Train Accuracy for k = 29 is 61%\n",
      "\n",
      "Train AUC for k = 29 is 0.789503%\n"
     ]
    },
    {
     "name": "stderr",
     "output_type": "stream",
     "text": [
      "\r",
      " 60%|████████████████████████████████████████████████▌                                | 15/25 [38:47<26:16, 157.61s/it]"
     ]
    },
    {
     "name": "stdout",
     "output_type": "stream",
     "text": [
      "8682\n",
      "8682\n",
      "\n",
      "CV Accuracy for k = 31 is 45%\n",
      "\n",
      "CV AUC for k = 31 is 0.714037%\n",
      "\n",
      "Train Accuracy for k = 31 is 60%\n",
      "\n",
      "Train AUC for k = 31 is 0.786697%\n"
     ]
    },
    {
     "name": "stderr",
     "output_type": "stream",
     "text": [
      "\r",
      " 64%|███████████████████████████████████████████████████▊                             | 16/25 [41:23<23:35, 157.27s/it]"
     ]
    },
    {
     "name": "stdout",
     "output_type": "stream",
     "text": [
      "8682\n",
      "8682\n",
      "\n",
      "CV Accuracy for k = 33 is 44%\n",
      "\n",
      "CV AUC for k = 33 is 0.710955%\n",
      "\n",
      "Train Accuracy for k = 33 is 60%\n",
      "\n",
      "Train AUC for k = 33 is 0.782906%\n"
     ]
    },
    {
     "name": "stderr",
     "output_type": "stream",
     "text": [
      "\r",
      " 68%|███████████████████████████████████████████████████████                          | 17/25 [44:02<21:02, 157.76s/it]"
     ]
    },
    {
     "name": "stdout",
     "output_type": "stream",
     "text": [
      "8682\n",
      "8682\n",
      "\n",
      "CV Accuracy for k = 35 is 44%\n",
      "\n",
      "CV AUC for k = 35 is 0.708325%\n",
      "\n",
      "Train Accuracy for k = 35 is 59%\n",
      "\n",
      "Train AUC for k = 35 is 0.781665%\n"
     ]
    },
    {
     "name": "stderr",
     "output_type": "stream",
     "text": [
      "\r",
      " 72%|██████████████████████████████████████████████████████████▎                      | 18/25 [46:44<18:34, 159.15s/it]"
     ]
    },
    {
     "name": "stdout",
     "output_type": "stream",
     "text": [
      "8682\n",
      "8682\n",
      "\n",
      "CV Accuracy for k = 37 is 43%\n",
      "\n",
      "CV AUC for k = 37 is 0.708296%\n",
      "\n",
      "Train Accuracy for k = 37 is 59%\n",
      "\n",
      "Train AUC for k = 37 is 0.779068%\n"
     ]
    },
    {
     "name": "stderr",
     "output_type": "stream",
     "text": [
      "\r",
      " 76%|█████████████████████████████████████████████████████████████▌                   | 19/25 [49:27<16:01, 160.33s/it]"
     ]
    },
    {
     "name": "stdout",
     "output_type": "stream",
     "text": [
      "8682\n",
      "8682\n",
      "\n",
      "CV Accuracy for k = 39 is 42%\n",
      "\n",
      "CV AUC for k = 39 is 0.705065%\n",
      "\n",
      "Train Accuracy for k = 39 is 58%\n",
      "\n",
      "Train AUC for k = 39 is 0.775557%\n"
     ]
    },
    {
     "name": "stderr",
     "output_type": "stream",
     "text": [
      "\r",
      " 80%|████████████████████████████████████████████████████████████████▊                | 20/25 [52:12<13:27, 161.55s/it]"
     ]
    },
    {
     "name": "stdout",
     "output_type": "stream",
     "text": [
      "8682\n",
      "8682\n",
      "\n",
      "CV Accuracy for k = 41 is 42%\n",
      "\n",
      "CV AUC for k = 41 is 0.706798%\n",
      "\n",
      "Train Accuracy for k = 41 is 58%\n",
      "\n",
      "Train AUC for k = 41 is 0.774191%\n"
     ]
    },
    {
     "name": "stderr",
     "output_type": "stream",
     "text": [
      "\r",
      " 84%|████████████████████████████████████████████████████████████████████             | 21/25 [54:49<10:40, 160.14s/it]"
     ]
    },
    {
     "name": "stdout",
     "output_type": "stream",
     "text": [
      "8682\n",
      "8682\n",
      "\n",
      "CV Accuracy for k = 43 is 41%\n",
      "\n",
      "CV AUC for k = 43 is 0.707036%\n",
      "\n",
      "Train Accuracy for k = 43 is 57%\n",
      "\n",
      "Train AUC for k = 43 is 0.772349%\n"
     ]
    },
    {
     "name": "stderr",
     "output_type": "stream",
     "text": [
      "\r",
      " 88%|███████████████████████████████████████████████████████████████████████▎         | 22/25 [57:25<07:57, 159.07s/it]"
     ]
    },
    {
     "name": "stdout",
     "output_type": "stream",
     "text": [
      "8682\n",
      "8682\n",
      "\n",
      "CV Accuracy for k = 45 is 41%\n",
      "\n",
      "CV AUC for k = 45 is 0.706945%\n",
      "\n",
      "Train Accuracy for k = 45 is 57%\n",
      "\n",
      "Train AUC for k = 45 is 0.770567%\n"
     ]
    },
    {
     "name": "stderr",
     "output_type": "stream",
     "text": [
      "\r",
      " 92%|████████████████████████████████████████████████████████████████████████▋      | 23/25 [1:00:01<05:16, 158.20s/it]"
     ]
    },
    {
     "name": "stdout",
     "output_type": "stream",
     "text": [
      "8682\n",
      "8682\n",
      "\n",
      "CV Accuracy for k = 47 is 41%\n",
      "\n",
      "CV AUC for k = 47 is 0.706992%\n",
      "\n",
      "Train Accuracy for k = 47 is 57%\n",
      "\n",
      "Train AUC for k = 47 is 0.769931%\n"
     ]
    },
    {
     "name": "stderr",
     "output_type": "stream",
     "text": [
      "\r",
      " 96%|███████████████████████████████████████████████████████████████████████████▊   | 24/25 [1:02:38<02:37, 157.66s/it]"
     ]
    },
    {
     "name": "stdout",
     "output_type": "stream",
     "text": [
      "8682\n",
      "8682\n",
      "\n",
      "CV Accuracy for k = 49 is 40%\n",
      "\n",
      "CV AUC for k = 49 is 0.706165%\n",
      "\n",
      "Train Accuracy for k = 49 is 57%\n",
      "\n",
      "Train AUC for k = 49 is 0.770559%\n"
     ]
    },
    {
     "name": "stderr",
     "output_type": "stream",
     "text": [
      "100%|███████████████████████████████████████████████████████████████████████████████| 25/25 [1:05:15<00:00, 157.56s/it]\n"
     ]
    },
    {
     "name": "stdout",
     "output_type": "stream",
     "text": [
      "[0.6258922863682891, 0.6973255373770691, 0.7208389375112498, 0.7306362997488756, 0.7334407024549904, 0.7357046136470068, 0.7331529843954671, 0.7310269445340496, 0.7293034687652725, 0.7290880798679981, 0.7277673925552959, 0.7242013601247954, 0.7217972498315451, 0.7181524658354786, 0.715073610557915, 0.7140373319440749, 0.71095474662441, 0.7083246462615975, 0.7082957875148143, 0.7050651503737025, 0.7067982176793115, 0.7070362672834866, 0.7069447550475743, 0.7069924603228691, 0.7061653445209917]\n",
      "[0.999, 0.9079406086994215, 0.8810959431276881, 0.8650014834579985, 0.8561481555511673, 0.8456510743029433, 0.8375100277907553, 0.8290323374577961, 0.8229820780934674, 0.8165872085462593, 0.8108192131892903, 0.8042650862380374, 0.7991155218834136, 0.7935554273852126, 0.7895028537300781, 0.7866967171267153, 0.7829060027068292, 0.7816649191081912, 0.7790684076426986, 0.7755565303458672, 0.774191404613169, 0.7723490822307739, 0.7705671481483266, 0.7699312672488116, 0.7705594900372309]\n"
     ]
    }
   ],
   "source": [
    "# Applying Brute Force KNN\n",
    "\n",
    "cv_score = []\n",
    "train_score = []\n",
    "\n",
    "# creating odd list of K for KNN\n",
    "myList = list(range(0,50))\n",
    "neighbours = list(filter(lambda x: x % 2 != 0, myList))\n",
    "\n",
    "\n",
    "cv_auc = []\n",
    "train_auc = []\n",
    "cv_score = []\n",
    "train_score = []\n",
    "for i in tqdm(neighbours):\n",
    "    knn = KNeighborsClassifier(n_neighbors = i)\n",
    "    \n",
    "    predicted_labels_cv = []\n",
    "    predicted_labels_train = []\n",
    "    predict_cv_prob = []\n",
    "    predict_train_prob = []\n",
    "    accuracy_cv = []\n",
    "    auc_score_cv = []\n",
    "    auc_score_train = []\n",
    "    accuracy_train = []\n",
    "    \n",
    "    # Fitting the model in Train - CrossValidation\n",
    "    knn.fit(D_Train,Y_Train)\n",
    "    \n",
    "    # Predicting the model with CrossValidation and Train Data\n",
    "    for j in range(0,n_cv,1000):\n",
    "        predicted_labels_cv.extend(knn.predict(D_Cv[j:j+1000]))\n",
    "        predict_cv_prob.extend(knn.predict_proba(D_Cv[j:j+1000])[:,1])\n",
    "    \n",
    "    for k in range(0,n_train,1000):\n",
    "        predicted_labels_train.extend(knn.predict(D_Train[k:k+1000]))\n",
    "        predict_train_prob.extend(knn.predict_proba(D_Train[k:k+1000])[:,1])\n",
    "    \n",
    "    print(len(predict_cv_prob))\n",
    "    print(len(Y_1_cv))\n",
    "    \n",
    "    # Getting the Cross-Validation Accuracy and AUC Score\n",
    "    auc_score_cv = roc_auc_score(Y_1_cv,predict_cv_prob)\n",
    "    accuracy_cv = accuracy_score(Y_1_cv,predicted_labels_cv,normalize=True)* float(100)\n",
    "    print('\\nCV Accuracy for k = %d is %d%%' % (i,accuracy_cv))\n",
    "    print('\\nCV AUC for k = %d is %f%%' % (i,auc_score_cv))\n",
    "    cv_score.append(accuracy_cv)\n",
    "    cv_auc.append(auc_score_cv)\n",
    "    \n",
    "    # Getting the Training Accuracy and AUC Score\n",
    "    auc_score_train = roc_auc_score(Y_Train,predict_train_prob)\n",
    "    accuracy_train = accuracy_score(Y_Train,predicted_labels_train, normalize=True)* float(100)\n",
    "    print('\\nTrain Accuracy for k = %d is %d%%' % (i,accuracy_train))\n",
    "    print('\\nTrain AUC for k = %d is %f%%' % (i,auc_score_train))\n",
    "    train_score.append(accuracy_train)\n",
    "    train_auc.append(auc_score_train)\n",
    "\n",
    "print(cv_auc)\n",
    "print(train_auc)"
   ]
  },
  {
   "cell_type": "code",
   "execution_count": 36,
   "metadata": {},
   "outputs": [
    {
     "data": {
      "image/png": "[encoded data removed]",
      "text/plain": [
       "<Figure size 432x288 with 1 Axes>"
      ]
     },
     "metadata": {},
     "output_type": "display_data"
    }
   ],
   "source": [
    "# Plotting Train_AUC and CV_AUC against K\n",
    "plt.plot(neighbours,train_auc)\n",
    "plt.plot(neighbours,cv_auc)\n",
    "plt.legend(['Train AUC', 'CV AUC'], loc='upper right')\n",
    "plt.title(\"ERROR PLOTS for BOW Vectorizer\")\n",
    "plt.xlabel('Hyper-parameter k')\n",
    "plt.ylabel('AUC Value')\n",
    "plt.show()"
   ]
  },
  {
   "cell_type": "code",
   "execution_count": 186,
   "metadata": {},
   "outputs": [
    {
     "name": "stdout",
     "output_type": "stream",
     "text": [
      "AUC Metric Best K = 9\n",
      "0.724\n"
     ]
    }
   ],
   "source": [
    "# Getting the optimal K Based to CV AUC\n",
    "optimal_k_auc = neighbours[cv_auc.index(max(cv_auc))]\n",
    "best_cv_auc = max([ '%.3f' % elem for elem in cv_auc ])\n",
    "print('AUC Metric Best K = %d' % optimal_k_auc)\n",
    "print(best_cv_auc)"
   ]
  },
  {
   "cell_type": "code",
   "execution_count": 38,
   "metadata": {},
   "outputs": [
    {
     "name": "stdout",
     "output_type": "stream",
     "text": [
      "10853\n",
      "10853\n",
      "Algo Run Successfully on D_Test\n",
      "====================================================================================================\n"
     ]
    }
   ],
   "source": [
    "# Applying Best K on D_Test\n",
    "\n",
    "test_neigh = KNeighborsClassifier(n_neighbors = 9)\n",
    "test_neigh.fit(D_Train,Y_Train)\n",
    "\n",
    "predicted_labels_test = []\n",
    "predicted_labels_train = []\n",
    "predict_test_prob = []\n",
    "predict_train_prob = []\n",
    "\n",
    "# Predicting the model with CrossValidation and Train Data\n",
    "for j in range(0,n_test,1000):\n",
    "    predicted_labels_test.extend(test_neigh.predict(D_Test[j:j+1000]))\n",
    "    predict_test_prob.extend(test_neigh.predict_proba(D_Test[j:j+1000])[:,1])\n",
    "    \n",
    "for k in range(0,n_train,1000):\n",
    "    predicted_labels_train.extend(test_neigh.predict(D_Train[k:k+1000]))\n",
    "    predict_train_prob.extend(test_neigh.predict_proba(D_Train[k:k+1000])[:,1])\n",
    "    \n",
    "print(len(predict_test_prob))\n",
    "print(len(Y_test))\n",
    "    \n",
    "train_fpr, train_tpr, thresholds = roc_curve(Y_Train, predict_train_prob)\n",
    "test_fpr, test_tpr, thresholds = roc_curve(Y_test, predict_test_prob)\n",
    "\n",
    "print('Algo Run Successfully on D_Test')\n",
    "print(\"=\"*100)\n"
   ]
  },
  {
   "cell_type": "code",
   "execution_count": 39,
   "metadata": {},
   "outputs": [
    {
     "data": {
      "image/png": "[encoded data removed]",
      "text/plain": [
       "<Figure size 432x288 with 1 Axes>"
      ]
     },
     "metadata": {},
     "output_type": "display_data"
    },
    {
     "name": "stdout",
     "output_type": "stream",
     "text": [
      "====================================================================================================\n"
     ]
    }
   ],
   "source": [
    "# Plotting the AUC curve on Test and Train Data\n",
    "\n",
    "plt.plot(train_fpr, train_tpr, label=\"Train AUC =\"+str(auc(train_fpr, train_tpr)))\n",
    "plt.plot(test_fpr, test_tpr, label=\"Test AUC =\"+str(auc(test_fpr, test_tpr)))\n",
    "plt.legend()\n",
    "plt.xlabel(\"Hyper-parameter k\")\n",
    "plt.ylabel(\"AUC\")\n",
    "plt.title(\"ERROR PLOTS\")\n",
    "plt.show()\n",
    "\n",
    "print(\"=\"*100)"
   ]
  },
  {
   "cell_type": "code",
   "execution_count": 40,
   "metadata": {},
   "outputs": [
    {
     "name": "stdout",
     "output_type": "stream",
     "text": [
      "Train Confusion Matrix\n",
      "6410 6590 918 15053\n",
      "[[ 6410  6590]\n",
      " [  918 15053]]\n",
      "========================================================================================================================\n",
      "Test Confusion Matrix\n",
      "2431 4280 422 3720\n",
      "[[2431 4280]\n",
      " [ 422 3720]]\n",
      "========================================================================================================================\n"
     ]
    }
   ],
   "source": [
    "# Getting the confusion metrics\n",
    "\n",
    "print('Train Confusion Matrix')\n",
    "tr_true_negetive,tr_false_positive, tr_false_negetive, tr_true_positive = confusion_matrix(Y_Train,predicted_labels_train).ravel()\n",
    "print(tr_true_negetive, tr_false_positive, tr_false_negetive, tr_true_positive)\n",
    "print(confusion_matrix(Y_Train,predicted_labels_train))\n",
    "print(\"=\"*120)\n",
    "\n",
    "print('Test Confusion Matrix')\n",
    "true_negetive,false_positive, false_negetive, true_positive = confusion_matrix(Y_test,predicted_labels_test).ravel()\n",
    "print(true_negetive, false_positive, false_negetive, true_positive)\n",
    "print(confusion_matrix(Y_test,predicted_labels_test))\n",
    "print(\"=\"*120)"
   ]
  },
  {
   "cell_type": "code",
   "execution_count": 4,
   "metadata": {},
   "outputs": [
    {
     "data": {
      "text/plain": [
       "<matplotlib.axes._subplots.AxesSubplot at 0x1d4faa8b358>"
      ]
     },
     "execution_count": 4,
     "metadata": {},
     "output_type": "execute_result"
    },
    {
     "data": {
      "image/png": "[encoded data removed]",
      "text/plain": [
       "<Figure size 432x288 with 2 Axes>"
      ]
     },
     "metadata": {},
     "output_type": "display_data"
    }
   ],
   "source": [
    "import seaborn as sns\n",
    "conMatrix= [[tr_true_negetive,tr_false_positive],[tr_false_negetive,tr_true_positive]]\n",
    "data = conMatrix\n",
    "sns.heatmap(data, cmap=\"YlGnBu\", annot=True, fmt=\"d\")"
   ]
  },
  {
   "cell_type": "code",
   "execution_count": 3,
   "metadata": {},
   "outputs": [
    {
     "data": {
      "text/plain": [
       "<matplotlib.axes._subplots.AxesSubplot at 0x1d4fa9f8240>"
      ]
     },
     "execution_count": 3,
     "metadata": {},
     "output_type": "execute_result"
    },
    {
     "data": {
      "image/png": "[encoded data removed]",
      "text/plain": [
       "<Figure size 432x288 with 2 Axes>"
      ]
     },
     "metadata": {},
     "output_type": "display_data"
    }
   ],
   "source": [
    "conMatrix= [[true_negetive,false_positive],[false_negetive,true_positive]]\n",
    "data = conMatrix\n",
    "sns.heatmap(data, cmap=\"YlGnBu\", annot=True, fmt=\"d\")"
   ]
  },
  {
   "cell_type": "markdown",
   "metadata": {},
   "source": [
    "## 1.2) Applying KNN brute force on TFIDF, SET 2"
   ]
  },
  {
   "cell_type": "code",
   "execution_count": 30,
   "metadata": {},
   "outputs": [
    {
     "name": "stdout",
     "output_type": "stream",
     "text": [
      " some feature names  ['abandoned', 'ability', 'able', 'absence', 'absent', 'absolute', 'absolutely', 'absorb', 'absorbed', 'absorbs']\n",
      "==================================================\n",
      "the type of vectorizer  <class 'scipy.sparse.csr.csr_matrix'>\n",
      "the shape of vectorizer  (28971, 6803)\n"
     ]
    }
   ],
   "source": [
    "# Applying Tfidf for Vectorization\n",
    "# Tfidf -- fit_transform on D2_Train\n",
    "\n",
    "tfidf_vect = TfidfVectorizer(min_df=10) #in scikit-learn\n",
    "D2_Train = tfidf_vect.fit_transform(X_Train['Cleaned_Text'])\n",
    "print(\" some feature names \", tfidf_vect.get_feature_names()[:10])\n",
    "print('='*50)\n",
    "\n",
    "print(\"the type of vectorizer \",type(D2_Train))\n",
    "print(\"the shape of vectorizer \",D2_Train.get_shape())"
   ]
  },
  {
   "cell_type": "code",
   "execution_count": 31,
   "metadata": {},
   "outputs": [
    {
     "name": "stdout",
     "output_type": "stream",
     "text": [
      "the type of count vectorizer  <class 'scipy.sparse.csr.csr_matrix'>\n",
      "the shape of vectorizer  (8682, 6803)\n"
     ]
    }
   ],
   "source": [
    "# BoW -- transform on D2_CV\n",
    "\n",
    "D2_Cv = tfidf_vect.transform(X_1_cv['Cleaned_Text'])\n",
    "print(\"the type of count vectorizer \",type(D2_Cv))\n",
    "print(\"the shape of vectorizer \",D2_Cv.get_shape())"
   ]
  },
  {
   "cell_type": "code",
   "execution_count": 32,
   "metadata": {},
   "outputs": [
    {
     "name": "stdout",
     "output_type": "stream",
     "text": [
      "the type of vectorizer  <class 'scipy.sparse.csr.csr_matrix'>\n",
      "the shape of vectorizer  (10853, 6803)\n"
     ]
    }
   ],
   "source": [
    "# BoW -- transform on D2_Test\n",
    "\n",
    "D2_Test = tfidf_vect.transform(X_test['Cleaned_Text'])\n",
    "print(\"the type of vectorizer \",type(D2_Test))\n",
    "print(\"the shape of vectorizer \",D2_Test.get_shape())"
   ]
  },
  {
   "cell_type": "code",
   "execution_count": 33,
   "metadata": {},
   "outputs": [
    {
     "name": "stdout",
     "output_type": "stream",
     "text": [
      "28971\n",
      "8682\n",
      "10853\n"
     ]
    }
   ],
   "source": [
    "n_cv = D2_Cv.get_shape()[0]\n",
    "n_train = D2_Train.get_shape()[0]\n",
    "n_test = D2_Test.get_shape()[0]\n",
    "print(n_train)\n",
    "print(n_cv)\n",
    "print(n_test)"
   ]
  },
  {
   "cell_type": "code",
   "execution_count": 34,
   "metadata": {},
   "outputs": [
    {
     "name": "stdout",
     "output_type": "stream",
     "text": [
      "(28971, 6803)\n",
      "(8682, 6803)\n",
      "(10853, 6803)\n"
     ]
    }
   ],
   "source": [
    "# Standardization Process\n",
    "\n",
    "scaler = StandardScaler(with_mean=False)\n",
    "scaler.fit(D2_Train)\n",
    "D2_Train = scaler.transform(D2_Train)\n",
    "D2_Cv = scaler.transform(D2_Cv)\n",
    "D2_Test = scaler.transform(D2_Test)\n",
    "\n",
    "print(D2_Train.shape)\n",
    "print(D2_Cv.shape)\n",
    "print(D2_Test.shape)"
   ]
  },
  {
   "cell_type": "code",
   "execution_count": 35,
   "metadata": {},
   "outputs": [],
   "source": [
    "D2_Train=D2_Train.astype('int')\n",
    "D2_Cv=D2_Cv.astype('int')\n",
    "D2_Test=D2_Test.astype('int')\n",
    "Y_Train=Y_Train.astype('int')\n",
    "Y_1_cv=Y_1_cv.astype('int')\n",
    "Y_test=Y_test.astype('int')"
   ]
  },
  {
   "cell_type": "code",
   "execution_count": 36,
   "metadata": {},
   "outputs": [
    {
     "name": "stderr",
     "output_type": "stream",
     "text": [
      "\r",
      "  0%|                                                                                           | 0/25 [00:00<?, ?it/s]"
     ]
    },
    {
     "name": "stdout",
     "output_type": "stream",
     "text": [
      "8682\n",
      "8682\n",
      "\n",
      "CV Accuracy for k = 1 is 50%\n",
      "\n",
      "CV AUC for k = 1 is 0.566752%\n",
      "\n",
      "Train Accuracy for k = 1 is 99%\n",
      "\n",
      "Train AUC for k = 1 is 0.999038%\n"
     ]
    },
    {
     "name": "stderr",
     "output_type": "stream",
     "text": [
      "\r",
      "  4%|███▎                                                                              | 1/25 [02:15<54:16, 135.70s/it]"
     ]
    },
    {
     "name": "stdout",
     "output_type": "stream",
     "text": [
      "8682\n",
      "8682\n",
      "\n",
      "CV Accuracy for k = 3 is 46%\n",
      "\n",
      "CV AUC for k = 3 is 0.567999%\n",
      "\n",
      "Train Accuracy for k = 3 is 68%\n",
      "\n",
      "Train AUC for k = 3 is 0.916395%\n"
     ]
    },
    {
     "name": "stderr",
     "output_type": "stream",
     "text": [
      "\r",
      "  8%|██████▌                                                                           | 2/25 [04:35<52:31, 137.02s/it]"
     ]
    },
    {
     "name": "stdout",
     "output_type": "stream",
     "text": [
      "8682\n",
      "8682\n",
      "\n",
      "CV Accuracy for k = 5 is 49%\n",
      "\n",
      "CV AUC for k = 5 is 0.577761%\n",
      "\n",
      "Train Accuracy for k = 5 is 71%\n",
      "\n",
      "Train AUC for k = 5 is 0.806697%\n"
     ]
    },
    {
     "name": "stderr",
     "output_type": "stream",
     "text": [
      "\r",
      " 12%|█████████▊                                                                        | 3/25 [07:07<51:49, 141.33s/it]"
     ]
    },
    {
     "name": "stdout",
     "output_type": "stream",
     "text": [
      "8682\n",
      "8682\n",
      "\n",
      "CV Accuracy for k = 7 is 47%\n",
      "\n",
      "CV AUC for k = 7 is 0.573067%\n",
      "\n",
      "Train Accuracy for k = 7 is 67%\n",
      "\n",
      "Train AUC for k = 7 is 0.772642%\n"
     ]
    },
    {
     "name": "stderr",
     "output_type": "stream",
     "text": [
      "\r",
      " 16%|█████████████                                                                     | 4/25 [09:38<50:29, 144.27s/it]"
     ]
    },
    {
     "name": "stdout",
     "output_type": "stream",
     "text": [
      "8682\n",
      "8682\n",
      "\n",
      "CV Accuracy for k = 9 is 45%\n",
      "\n",
      "CV AUC for k = 9 is 0.569144%\n",
      "\n",
      "Train Accuracy for k = 9 is 65%\n",
      "\n",
      "Train AUC for k = 9 is 0.751236%\n"
     ]
    },
    {
     "name": "stderr",
     "output_type": "stream",
     "text": [
      "\r",
      " 20%|████████████████▍                                                                 | 5/25 [12:08<48:42, 146.14s/it]"
     ]
    },
    {
     "name": "stdout",
     "output_type": "stream",
     "text": [
      "8682\n",
      "8682\n",
      "\n",
      "CV Accuracy for k = 11 is 44%\n",
      "\n",
      "CV AUC for k = 11 is 0.563797%\n",
      "\n",
      "Train Accuracy for k = 11 is 63%\n",
      "\n",
      "Train AUC for k = 11 is 0.730676%\n"
     ]
    },
    {
     "name": "stderr",
     "output_type": "stream",
     "text": [
      "\r",
      " 24%|███████████████████▋                                                              | 6/25 [14:38<46:39, 147.34s/it]"
     ]
    },
    {
     "name": "stdout",
     "output_type": "stream",
     "text": [
      "8682\n",
      "8682\n",
      "\n",
      "CV Accuracy for k = 13 is 43%\n",
      "\n",
      "CV AUC for k = 13 is 0.558645%\n",
      "\n",
      "Train Accuracy for k = 13 is 61%\n",
      "\n",
      "Train AUC for k = 13 is 0.714812%\n"
     ]
    },
    {
     "name": "stderr",
     "output_type": "stream",
     "text": [
      "\r",
      " 28%|██████████████████████▉                                                           | 7/25 [17:15<45:01, 150.10s/it]"
     ]
    },
    {
     "name": "stdout",
     "output_type": "stream",
     "text": [
      "8682\n",
      "8682\n",
      "\n",
      "CV Accuracy for k = 15 is 41%\n",
      "\n",
      "CV AUC for k = 15 is 0.557162%\n",
      "\n",
      "Train Accuracy for k = 15 is 60%\n",
      "\n",
      "Train AUC for k = 15 is 0.704187%\n"
     ]
    },
    {
     "name": "stderr",
     "output_type": "stream",
     "text": [
      "\r",
      " 32%|██████████████████████████▏                                                       | 8/25 [19:45<42:29, 149.99s/it]"
     ]
    },
    {
     "name": "stdout",
     "output_type": "stream",
     "text": [
      "8682\n",
      "8682\n",
      "\n",
      "CV Accuracy for k = 17 is 41%\n",
      "\n",
      "CV AUC for k = 17 is 0.553378%\n",
      "\n",
      "Train Accuracy for k = 17 is 59%\n",
      "\n",
      "Train AUC for k = 17 is 0.694620%\n"
     ]
    },
    {
     "name": "stderr",
     "output_type": "stream",
     "text": [
      "\r",
      " 36%|█████████████████████████████▌                                                    | 9/25 [22:17<40:09, 150.59s/it]"
     ]
    },
    {
     "name": "stdout",
     "output_type": "stream",
     "text": [
      "8682\n",
      "8682\n",
      "\n",
      "CV Accuracy for k = 19 is 40%\n",
      "\n",
      "CV AUC for k = 19 is 0.550031%\n",
      "\n",
      "Train Accuracy for k = 19 is 58%\n",
      "\n",
      "Train AUC for k = 19 is 0.687909%\n"
     ]
    },
    {
     "name": "stderr",
     "output_type": "stream",
     "text": [
      "\r",
      " 40%|████████████████████████████████▍                                                | 10/25 [24:53<38:03, 152.26s/it]"
     ]
    },
    {
     "name": "stdout",
     "output_type": "stream",
     "text": [
      "8682\n",
      "8682\n",
      "\n",
      "CV Accuracy for k = 21 is 40%\n",
      "\n",
      "CV AUC for k = 21 is 0.548051%\n",
      "\n",
      "Train Accuracy for k = 21 is 57%\n",
      "\n",
      "Train AUC for k = 21 is 0.681701%\n"
     ]
    },
    {
     "name": "stderr",
     "output_type": "stream",
     "text": [
      "\r",
      " 44%|███████████████████████████████████▋                                             | 11/25 [27:22<35:19, 151.37s/it]"
     ]
    },
    {
     "name": "stdout",
     "output_type": "stream",
     "text": [
      "8682\n",
      "8682\n",
      "\n",
      "CV Accuracy for k = 23 is 39%\n",
      "\n",
      "CV AUC for k = 23 is 0.547412%\n",
      "\n",
      "Train Accuracy for k = 23 is 57%\n",
      "\n",
      "Train AUC for k = 23 is 0.676239%\n"
     ]
    },
    {
     "name": "stderr",
     "output_type": "stream",
     "text": [
      "\r",
      " 48%|██████████████████████████████████████▉                                          | 12/25 [29:52<32:40, 150.79s/it]"
     ]
    },
    {
     "name": "stdout",
     "output_type": "stream",
     "text": [
      "8682\n",
      "8682\n",
      "\n",
      "CV Accuracy for k = 25 is 39%\n",
      "\n",
      "CV AUC for k = 25 is 0.543842%\n",
      "\n",
      "Train Accuracy for k = 25 is 56%\n",
      "\n",
      "Train AUC for k = 25 is 0.671648%\n"
     ]
    },
    {
     "name": "stderr",
     "output_type": "stream",
     "text": [
      "\r",
      " 52%|██████████████████████████████████████████                                       | 13/25 [32:23<30:12, 151.03s/it]"
     ]
    },
    {
     "name": "stdout",
     "output_type": "stream",
     "text": [
      "8682\n",
      "8682\n",
      "\n",
      "CV Accuracy for k = 27 is 39%\n",
      "\n",
      "CV AUC for k = 27 is 0.544087%\n",
      "\n",
      "Train Accuracy for k = 27 is 56%\n",
      "\n",
      "Train AUC for k = 27 is 0.668242%\n"
     ]
    },
    {
     "name": "stderr",
     "output_type": "stream",
     "text": [
      "\r",
      " 56%|█████████████████████████████████████████████▎                                   | 14/25 [35:00<27:59, 152.64s/it]"
     ]
    },
    {
     "name": "stdout",
     "output_type": "stream",
     "text": [
      "8682\n",
      "8682\n",
      "\n",
      "CV Accuracy for k = 29 is 39%\n",
      "\n",
      "CV AUC for k = 29 is 0.545393%\n",
      "\n",
      "Train Accuracy for k = 29 is 56%\n",
      "\n",
      "Train AUC for k = 29 is 0.664745%\n"
     ]
    },
    {
     "name": "stderr",
     "output_type": "stream",
     "text": [
      "\r",
      " 60%|████████████████████████████████████████████████▌                                | 15/25 [37:30<25:20, 152.06s/it]"
     ]
    },
    {
     "name": "stdout",
     "output_type": "stream",
     "text": [
      "8682\n",
      "8682\n",
      "\n",
      "CV Accuracy for k = 31 is 38%\n",
      "\n",
      "CV AUC for k = 31 is 0.548736%\n",
      "\n",
      "Train Accuracy for k = 31 is 55%\n",
      "\n",
      "Train AUC for k = 31 is 0.662305%\n"
     ]
    },
    {
     "name": "stderr",
     "output_type": "stream",
     "text": [
      "\r",
      " 64%|███████████████████████████████████████████████████▊                             | 16/25 [40:12<23:14, 154.92s/it]"
     ]
    },
    {
     "name": "stdout",
     "output_type": "stream",
     "text": [
      "8682\n",
      "8682\n",
      "\n",
      "CV Accuracy for k = 33 is 38%\n",
      "\n",
      "CV AUC for k = 33 is 0.544542%\n",
      "\n",
      "Train Accuracy for k = 33 is 55%\n",
      "\n",
      "Train AUC for k = 33 is 0.658968%\n"
     ]
    },
    {
     "name": "stderr",
     "output_type": "stream",
     "text": [
      "\r",
      " 68%|███████████████████████████████████████████████████████                          | 17/25 [42:46<20:38, 154.78s/it]"
     ]
    },
    {
     "name": "stdout",
     "output_type": "stream",
     "text": [
      "8682\n",
      "8682\n",
      "\n",
      "CV Accuracy for k = 35 is 38%\n",
      "\n",
      "CV AUC for k = 35 is 0.544558%\n",
      "\n",
      "Train Accuracy for k = 35 is 55%\n",
      "\n",
      "Train AUC for k = 35 is 0.658160%\n"
     ]
    },
    {
     "name": "stderr",
     "output_type": "stream",
     "text": [
      "\r",
      " 72%|██████████████████████████████████████████████████████████▎                      | 18/25 [45:21<18:02, 154.66s/it]"
     ]
    },
    {
     "name": "stdout",
     "output_type": "stream",
     "text": [
      "8682\n",
      "8682\n",
      "\n",
      "CV Accuracy for k = 37 is 38%\n",
      "\n",
      "CV AUC for k = 37 is 0.545353%\n",
      "\n",
      "Train Accuracy for k = 37 is 55%\n",
      "\n",
      "Train AUC for k = 37 is 0.656728%\n"
     ]
    },
    {
     "name": "stderr",
     "output_type": "stream",
     "text": [
      "\r",
      " 76%|█████████████████████████████████████████████████████████████▌                   | 19/25 [47:56<15:29, 154.93s/it]"
     ]
    },
    {
     "name": "stdout",
     "output_type": "stream",
     "text": [
      "8682\n",
      "8682\n",
      "\n",
      "CV Accuracy for k = 39 is 38%\n",
      "\n",
      "CV AUC for k = 39 is 0.546404%\n",
      "\n",
      "Train Accuracy for k = 39 is 55%\n",
      "\n",
      "Train AUC for k = 39 is 0.655250%\n"
     ]
    },
    {
     "name": "stderr",
     "output_type": "stream",
     "text": [
      "\r",
      " 80%|████████████████████████████████████████████████████████████████▊                | 20/25 [50:32<12:56, 155.25s/it]"
     ]
    },
    {
     "name": "stdout",
     "output_type": "stream",
     "text": [
      "8682\n",
      "8682\n",
      "\n",
      "CV Accuracy for k = 41 is 38%\n",
      "\n",
      "CV AUC for k = 41 is 0.546928%\n",
      "\n",
      "Train Accuracy for k = 41 is 55%\n",
      "\n",
      "Train AUC for k = 41 is 0.654126%\n"
     ]
    },
    {
     "name": "stderr",
     "output_type": "stream",
     "text": [
      "\r",
      " 84%|████████████████████████████████████████████████████████████████████             | 21/25 [53:08<10:21, 155.46s/it]"
     ]
    },
    {
     "name": "stdout",
     "output_type": "stream",
     "text": [
      "8682\n",
      "8682\n",
      "\n",
      "CV Accuracy for k = 43 is 38%\n",
      "\n",
      "CV AUC for k = 43 is 0.549651%\n",
      "\n",
      "Train Accuracy for k = 43 is 55%\n",
      "\n",
      "Train AUC for k = 43 is 0.652058%\n"
     ]
    },
    {
     "name": "stderr",
     "output_type": "stream",
     "text": [
      "\r",
      " 88%|███████████████████████████████████████████████████████████████████████▎         | 22/25 [55:40<07:43, 154.39s/it]"
     ]
    },
    {
     "name": "stdout",
     "output_type": "stream",
     "text": [
      "8682\n",
      "8682\n",
      "\n",
      "CV Accuracy for k = 45 is 38%\n",
      "\n",
      "CV AUC for k = 45 is 0.549011%\n",
      "\n",
      "Train Accuracy for k = 45 is 55%\n",
      "\n",
      "Train AUC for k = 45 is 0.651990%\n"
     ]
    },
    {
     "name": "stderr",
     "output_type": "stream",
     "text": [
      "\r",
      " 92%|██████████████████████████████████████████████████████████████████████████▌      | 23/25 [58:13<05:08, 154.04s/it]"
     ]
    },
    {
     "name": "stdout",
     "output_type": "stream",
     "text": [
      "8682\n",
      "8682\n",
      "\n",
      "CV Accuracy for k = 47 is 38%\n",
      "\n",
      "CV AUC for k = 47 is 0.549910%\n",
      "\n",
      "Train Accuracy for k = 47 is 55%\n",
      "\n",
      "Train AUC for k = 47 is 0.653419%\n"
     ]
    },
    {
     "name": "stderr",
     "output_type": "stream",
     "text": [
      "\r",
      " 96%|███████████████████████████████████████████████████████████████████████████▊   | 24/25 [1:00:43<02:32, 152.81s/it]"
     ]
    },
    {
     "name": "stdout",
     "output_type": "stream",
     "text": [
      "8682\n",
      "8682\n",
      "\n",
      "CV Accuracy for k = 49 is 38%\n",
      "\n",
      "CV AUC for k = 49 is 0.546040%\n",
      "\n",
      "Train Accuracy for k = 49 is 55%\n",
      "\n",
      "Train AUC for k = 49 is 0.653634%\n"
     ]
    },
    {
     "name": "stderr",
     "output_type": "stream",
     "text": [
      "100%|███████████████████████████████████████████████████████████████████████████████| 25/25 [1:03:19<00:00, 153.54s/it]\n"
     ]
    },
    {
     "name": "stdout",
     "output_type": "stream",
     "text": [
      "[0.5667523847168789, 0.5679987796872789, 0.577761001001951, 0.5730671496762688, 0.5691442952483695, 0.5637965647377975, 0.558645096141695, 0.557161857520581, 0.5533784730127528, 0.5500313071127639, 0.5480513839381695, 0.5474121444673914, 0.5438424941765068, 0.5440867418205646, 0.5453926772374377, 0.5487363374587599, 0.5445424520017903, 0.5445577087153473, 0.5453526844552093, 0.5464042478280358, 0.5469275194485237, 0.5496513195907365, 0.5490109302573554, 0.5499099545400419, 0.5460399096555757]\n",
      "[0.9990384615384615, 0.9163947659941337, 0.806696827904423, 0.7726415353790284, 0.7512356290006407, 0.7306762738232278, 0.7148124581573332, 0.7041871107728913, 0.6946199987477302, 0.6879089599899819, 0.6817013746068595, 0.6762389162087052, 0.6716478569329988, 0.6682415411587348, 0.6647449006131305, 0.6623047687394941, 0.6589684765175342, 0.6581595849207458, 0.6567276602303213, 0.6552502083102545, 0.6541255424495359, 0.6520581847868492, 0.6519900926197965, 0.6534191683965649, 0.6536343083377083]\n"
     ]
    }
   ],
   "source": [
    "# Applying Brute Force KNN\n",
    "\n",
    "cv_score = []\n",
    "train_score = []\n",
    "\n",
    "# creating odd list of K for KNN\n",
    "myList = list(range(0,50))\n",
    "neighbours = list(filter(lambda x: x % 2 != 0, myList))\n",
    "\n",
    "\n",
    "cv_auc = []\n",
    "train_auc = []\n",
    "cv_score = []\n",
    "train_score = []\n",
    "for i in tqdm(neighbours):\n",
    "    knn = KNeighborsClassifier(n_neighbors = i)\n",
    "    \n",
    "    predicted_labels_cv = []\n",
    "    predicted_labels_train = []\n",
    "    predict_cv_prob = []\n",
    "    predict_train_prob = []\n",
    "    accuracy_cv = []\n",
    "    auc_score_cv = []\n",
    "    auc_score_train = []\n",
    "    accuracy_train = []\n",
    "    \n",
    "    # Fitting the model in Train - CrossValidation\n",
    "    knn.fit(D2_Train,Y_Train)\n",
    "    \n",
    "    # Predicting the model with CrossValidation and Train Data\n",
    "    for j in range(0,n_cv,1000):\n",
    "        predicted_labels_cv.extend(knn.predict(D2_Cv[j:j+1000]))\n",
    "        predict_cv_prob.extend(knn.predict_proba(D2_Cv[j:j+1000])[:,1])\n",
    "    \n",
    "    for k in range(0,n_train,1000):\n",
    "        predicted_labels_train.extend(knn.predict(D2_Train[k:k+1000]))\n",
    "        predict_train_prob.extend(knn.predict_proba(D2_Train[k:k+1000])[:,1])\n",
    "    \n",
    "    print(len(predict_cv_prob))\n",
    "    print(len(Y_1_cv))\n",
    "    \n",
    "    # Getting the Cross-Validation Accuracy and AUC Score\n",
    "    auc_score_cv = roc_auc_score(Y_1_cv,predict_cv_prob)\n",
    "    accuracy_cv = accuracy_score(Y_1_cv,predicted_labels_cv,normalize=True)* float(100)\n",
    "    print('\\nCV Accuracy for k = %d is %d%%' % (i,accuracy_cv))\n",
    "    print('\\nCV AUC for k = %d is %f%%' % (i,auc_score_cv))\n",
    "    cv_score.append(accuracy_cv)\n",
    "    cv_auc.append(auc_score_cv)\n",
    "    \n",
    "    # Getting the Training Accuracy and AUC Score\n",
    "    auc_score_train = roc_auc_score(Y_Train,predict_train_prob)\n",
    "    accuracy_train = accuracy_score(Y_Train,predicted_labels_train, normalize=True)* float(100)\n",
    "    print('\\nTrain Accuracy for k = %d is %d%%' % (i,accuracy_train))\n",
    "    print('\\nTrain AUC for k = %d is %f%%' % (i,auc_score_train))\n",
    "    train_score.append(accuracy_train)\n",
    "    train_auc.append(auc_score_train)\n",
    "\n",
    "# Misclassification Error ( Cross-Validation Error )\n",
    "cv_error = [1 - x for x in cv_score]\n",
    "\n",
    "# Misclassification Error ( Training Error )\n",
    "train_error = [1 - x for x in train_score]  \n",
    "\n",
    "print(cv_auc)\n",
    "print(train_auc)"
   ]
  },
  {
   "cell_type": "code",
   "execution_count": 37,
   "metadata": {},
   "outputs": [
    {
     "data": {
      "image/png": "[encoded data removed]",
      "text/plain": [
       "<Figure size 432x288 with 1 Axes>"
      ]
     },
     "metadata": {},
     "output_type": "display_data"
    }
   ],
   "source": [
    "# Plotting Train_AUC and CV_AUC against K\n",
    "plt.plot(neighbours,train_auc)\n",
    "plt.plot(neighbours,cv_auc)\n",
    "plt.legend(['Train AUC', 'CV AUC'], loc='upper right')\n",
    "plt.title(\"ERROR PLOTS for Tf-Idf Vectorizer\")\n",
    "plt.xlabel('Hyper-parameter k')\n",
    "plt.ylabel('AUC Value')\n",
    "plt.show()"
   ]
  },
  {
   "cell_type": "code",
   "execution_count": 39,
   "metadata": {},
   "outputs": [
    {
     "name": "stdout",
     "output_type": "stream",
     "text": [
      "AUC Metric Best K = 5\n",
      "0.578\n"
     ]
    }
   ],
   "source": [
    "# Getting the optimal K Based to CV AUC\n",
    "optimal_k_auc = neighbours[cv_auc.index(max(cv_auc))]\n",
    "best_cv_auc = max([ '%.3f' % elem for elem in cv_auc ])\n",
    "print('AUC Metric Best K = %d' % optimal_k_auc)\n",
    "print(best_cv_auc)"
   ]
  },
  {
   "cell_type": "code",
   "execution_count": 40,
   "metadata": {},
   "outputs": [
    {
     "name": "stdout",
     "output_type": "stream",
     "text": [
      "10853\n",
      "10853\n",
      "Algo Run Successfully on D2_Test\n",
      "====================================================================================================\n"
     ]
    }
   ],
   "source": [
    "# Applying Best K on D_Test\n",
    "\n",
    "test_neigh = KNeighborsClassifier(n_neighbors = 5)\n",
    "test_neigh.fit(D2_Train,Y_Train)\n",
    "\n",
    "predicted_labels_test = []\n",
    "predicted_labels_train = []\n",
    "predict_test_prob = []\n",
    "predict_train_prob = []\n",
    "\n",
    "# Predicting the model with CrossValidation and Train Data\n",
    "for j in range(0,n_test,1000):\n",
    "    predicted_labels_test.extend(test_neigh.predict(D2_Test[j:j+1000]))\n",
    "    predict_test_prob.extend(test_neigh.predict_proba(D2_Test[j:j+1000])[:,1])\n",
    "    \n",
    "for k in range(0,n_train,1000):\n",
    "    predicted_labels_train.extend(test_neigh.predict(D2_Train[k:k+1000]))\n",
    "    predict_train_prob.extend(test_neigh.predict_proba(D2_Train[k:k+1000])[:,1])\n",
    "    \n",
    "print(len(predict_test_prob))\n",
    "print(len(Y_test))\n",
    "    \n",
    "train_fpr, train_tpr, thresholds = roc_curve(Y_Train, predict_train_prob)\n",
    "test_fpr, test_tpr, thresholds = roc_curve(Y_test, predict_test_prob)\n",
    "\n",
    "print('Algo Run Successfully on D2_Test')\n",
    "print(\"=\"*100)\n"
   ]
  },
  {
   "cell_type": "code",
   "execution_count": 41,
   "metadata": {},
   "outputs": [
    {
     "data": {
      "image/png": "[encoded data removed]",
      "text/plain": [
       "<Figure size 432x288 with 1 Axes>"
      ]
     },
     "metadata": {},
     "output_type": "display_data"
    },
    {
     "name": "stdout",
     "output_type": "stream",
     "text": [
      "====================================================================================================\n"
     ]
    }
   ],
   "source": [
    "# Plotting the AUC curve on Test and Train Data\n",
    "\n",
    "plt.plot(train_fpr, train_tpr, label=\"Train AUC =\"+str(auc(train_fpr, train_tpr)))\n",
    "plt.plot(test_fpr, test_tpr, label=\"Test AUC =\"+str(auc(test_fpr, test_tpr)))\n",
    "plt.legend()\n",
    "plt.xlabel(\"Hyper-parameter k\")\n",
    "plt.ylabel(\"AUC\")\n",
    "plt.title(\"ERROR PLOTS\")\n",
    "plt.show()\n",
    "\n",
    "print(\"=\"*100)"
   ]
  },
  {
   "cell_type": "code",
   "execution_count": 42,
   "metadata": {},
   "outputs": [
    {
     "name": "stdout",
     "output_type": "stream",
     "text": [
      "Train Confusion Matrix\n",
      "6293 6707 1588 14383\n",
      "[[ 6293  6707]\n",
      " [ 1588 14383]]\n",
      "========================================================================================================================\n",
      "Test Confusion Matrix\n",
      "2034 4677 812 3330\n",
      "[[2034 4677]\n",
      " [ 812 3330]]\n",
      "========================================================================================================================\n"
     ]
    }
   ],
   "source": [
    "# Getting the confusion metrics\n",
    "\n",
    "print('Train Confusion Matrix')\n",
    "tr_true_negetive,tr_false_positive, tr_false_negetive, tr_true_positive = confusion_matrix(Y_Train,predicted_labels_train).ravel()\n",
    "print(tr_true_negetive, tr_false_positive, tr_false_negetive, tr_true_positive)\n",
    "print(confusion_matrix(Y_Train,predicted_labels_train))\n",
    "print(\"=\"*120)\n",
    "\n",
    "print('Test Confusion Matrix')\n",
    "true_negetive,false_positive, false_negetive, true_positive = confusion_matrix(Y_test,predicted_labels_test).ravel()\n",
    "print(true_negetive, false_positive, false_negetive, true_positive)\n",
    "print(confusion_matrix(Y_test,predicted_labels_test))\n",
    "print(\"=\"*120)"
   ]
  },
  {
   "cell_type": "code",
   "execution_count": 6,
   "metadata": {},
   "outputs": [
    {
     "data": {
      "text/plain": [
       "<matplotlib.axes._subplots.AxesSubplot at 0x1d4fbae1390>"
      ]
     },
     "execution_count": 6,
     "metadata": {},
     "output_type": "execute_result"
    },
    {
     "data": {
      "image/png": "[encoded data removed]",
      "text/plain": [
       "<Figure size 432x288 with 2 Axes>"
      ]
     },
     "metadata": {},
     "output_type": "display_data"
    }
   ],
   "source": [
    "conMatrix= [[tr_true_negetive,tr_false_positive],[tr_false_negetive,tr_true_positive]]\n",
    "data = conMatrix\n",
    "sns.heatmap(data, cmap=\"YlGnBu\", annot=True, fmt=\"d\")"
   ]
  },
  {
   "cell_type": "code",
   "execution_count": 7,
   "metadata": {},
   "outputs": [
    {
     "data": {
      "text/plain": [
       "<matplotlib.axes._subplots.AxesSubplot at 0x1d4fbb4ecc0>"
      ]
     },
     "execution_count": 7,
     "metadata": {},
     "output_type": "execute_result"
    },
    {
     "data": {
      "image/png": "[encoded data removed]",
      "text/plain": [
       "<Figure size 432x288 with 2 Axes>"
      ]
     },
     "metadata": {},
     "output_type": "display_data"
    }
   ],
   "source": [
    "conMatrix= [[true_negetive,false_positive],[false_negetive,true_positive]]\n",
    "data = conMatrix\n",
    "sns.heatmap(data, cmap=\"YlGnBu\", annot=True, fmt=\"d\")"
   ]
  },
  {
   "cell_type": "markdown",
   "metadata": {},
   "source": [
    "## 1.3) Applying KNN brute force on Avg Word2Vec, SET 3"
   ]
  },
  {
   "cell_type": "markdown",
   "metadata": {},
   "source": [
    "#### We are using the previous Split of Train, CV,Test"
   ]
  },
  {
   "cell_type": "code",
   "execution_count": 32,
   "metadata": {},
   "outputs": [
    {
     "name": "stdout",
     "output_type": "stream",
     "text": [
      "28971\n",
      "[('great', 0.8195052742958069), ('amazing', 0.7860738039016724), ('decent', 0.7820311188697815), ('awesome', 0.7323476076126099), ('fantastic', 0.7189544439315796), ('ok', 0.716693639755249), ('wonderful', 0.6574519872665405), ('bad', 0.6540374159812927), ('wise', 0.6523261070251465), ('terrific', 0.6404758095741272)]\n",
      "====================================================================================================\n",
      "Total Words Present  10695\n",
      "Sample Words :  ['really', 'good', 'idea', 'final', 'product', 'outstanding', 'use', 'car', 'window', 'everybody', 'asks', 'bought', 'made', 'two', 'thumbs', 'received', 'shipment', 'could', 'hardly', 'wait', 'try', 'love', 'call', 'instead', 'stickers', 'removed', 'easily', 'daughter', 'designed', 'signs', 'printed', 'reverse', 'windows', 'beautifully', 'print', 'shop', 'program', 'going', 'lot', 'fun', 'everywhere', 'surfaces', 'like', 'tv', 'screens', 'computer', 'nothing', 'bother', 'link', 'top', 'page', 'buy', 'used', 'chewing', 'gum', 'lose', 'flavor', 'overnight', 'alaska', 'stuff', 'sugar', 'free', 'not', 'rot', 'gums', 'tastes', 'get', 'chatchi', 'favorite', 'afternoon', 'treat', 'became', 'unavailable', 'vending', 'machine', 'work', 'panicked', 'would', 'day', 'without', 'chuckles', 'delicious', 'fat', 'candy', 'provides', 'sweet', 'filled', 'enjoyment', 'earn', 'every', 'fortunately', 'amazon', 'carries', 'chewy', 'fruity', 'back', 'job', 'complaint', 'black', 'licorice']\n",
      "====================================================================================================\n"
     ]
    }
   ],
   "source": [
    "# Applying Word2Vec for Vectorization of X_3_train\n",
    "# Creating Word2Vec Model\n",
    "\n",
    "list_of_sentence = []\n",
    "for sentence in X_Train['Cleaned_Text']:\n",
    "    list_of_sentence.append(sentence.split())\n",
    "print(len(list_of_sentence))\n",
    "\n",
    "# Creating Word2Vec model with 50 dimension and min_count=5, it will consider the word only if it appeared more than 5 times\n",
    "\n",
    "w2v_model = Word2Vec(list_of_sentence, min_count=5, size=50, workers=4)\n",
    "print(w2v_model.wv.most_similar(\"good\"))\n",
    "print(\"=\"*100)\n",
    "\n",
    "w2v_words = list(w2v_model.wv.vocab)\n",
    "print(\"Total Words Present \", len(w2v_words))\n",
    "print(\"Sample Words : \", w2v_words[0:100])\n",
    "print(\"=\"*100)"
   ]
  },
  {
   "cell_type": "code",
   "execution_count": 31,
   "metadata": {},
   "outputs": [
    {
     "name": "stderr",
     "output_type": "stream",
     "text": [
      "100%|███████████████████████████████████████████████████████████████████████████| 28971/28971 [01:22<00:00, 353.15it/s]\n"
     ]
    },
    {
     "name": "stdout",
     "output_type": "stream",
     "text": [
      "28971\n",
      "[-0.18343148  0.40459244  0.22405695 -0.16623469 -0.05012659  0.36548541\n",
      "  0.27845646 -0.02884736  0.12364415  0.02807481  0.34402387  0.15370359\n",
      " -0.21295661  0.24957281  0.23974756  0.86386329  0.03599098 -0.0452275\n",
      "  0.39128342 -0.05495582 -0.50433844 -0.40762827 -0.07607232  0.06720944\n",
      "  0.38376971 -0.34133918 -0.49212575  0.67705775  0.16172356  0.62573517\n",
      " -0.40236608 -0.6358205   0.1185935  -0.24059475 -0.08607964  0.28990196\n",
      "  0.11616422 -0.10175336  0.20231522  0.15476629  0.35911222 -0.20201776\n",
      " -0.55013927  0.50655071 -0.1080811  -0.01920549 -0.21956641  0.31154464\n",
      "  0.1135768  -0.102149  ]\n"
     ]
    }
   ],
   "source": [
    "# Creating Average Word2Vec Model for Train Data\n",
    "\n",
    "sent_vect_train = []\n",
    "for sent in tqdm(list_of_sentence):\n",
    "    sentence_vec = np.zeros(50)\n",
    "    count_words = 0\n",
    "    for word in sent:\n",
    "        if word in w2v_words:\n",
    "            vec = w2v_model.wv[word]\n",
    "            count_words += 1\n",
    "            sentence_vec += vec\n",
    "    if count_words != 0:\n",
    "        sentence_vec /= count_words\n",
    "    sent_vect_train.append(sentence_vec)\n",
    "print(len(sent_vect_train))\n",
    "print(sent_vect_train[0])"
   ]
  },
  {
   "cell_type": "code",
   "execution_count": 33,
   "metadata": {},
   "outputs": [
    {
     "name": "stdout",
     "output_type": "stream",
     "text": [
      "8682\n"
     ]
    }
   ],
   "source": [
    "# Applying Word2Vec for Vectorization of X_3_cv\n",
    "# Creating Word2Vec Model\n",
    "\n",
    "list_of_sentence = []\n",
    "for sentence in X_1_cv['Cleaned_Text']:\n",
    "    list_of_sentence.append(sentence.split())\n",
    "print(len(list_of_sentence))"
   ]
  },
  {
   "cell_type": "code",
   "execution_count": 34,
   "metadata": {},
   "outputs": [
    {
     "name": "stderr",
     "output_type": "stream",
     "text": [
      "100%|█████████████████████████████████████████████████████████████████████████████| 8682/8682 [00:27<00:00, 311.74it/s]\n"
     ]
    },
    {
     "name": "stdout",
     "output_type": "stream",
     "text": [
      "8682\n",
      "[ 0.02781695  0.58314518 -0.03797786  0.19669727 -0.03793408  0.0198147\n",
      "  1.29097467  0.08634523  0.19531724 -0.32600266  0.46764006 -0.42962637\n",
      " -0.15662104  0.12129142 -0.17255095  0.85984866  0.22085959  0.02714663\n",
      " -0.14212181 -0.15579586 -0.65110601  0.33387336  0.07938337 -0.07257863\n",
      "  0.60698932 -0.18052846 -0.58252993  0.20605408 -0.04638014  0.06363098\n",
      " -0.51657781 -0.05163055 -0.14587512 -0.68678377  0.17427628  0.52357205\n",
      " -0.60429567  0.02821625  0.62959924  0.14200857 -0.00156858  0.04332041\n",
      " -0.49559739  0.75694533  0.05228331 -0.06870292  0.00366008 -0.66163671\n",
      " -0.22661489  0.03615093]\n"
     ]
    }
   ],
   "source": [
    "# Creating Average Word2Vec Vector for Cross-Validation Data\n",
    "\n",
    "sent_vect_cv = []\n",
    "for sent in tqdm(list_of_sentence):\n",
    "    sentence_vec = np.zeros(50)\n",
    "    count_words = 0\n",
    "    for word in sent:\n",
    "        if word in w2v_words:\n",
    "            vec = w2v_model.wv[word]\n",
    "            count_words += 1\n",
    "            sentence_vec += vec\n",
    "    if count_words != 0:\n",
    "        sentence_vec /= count_words\n",
    "    sent_vect_cv.append(sentence_vec)\n",
    "print(len(sent_vect_cv))\n",
    "print(sent_vect_cv[0])"
   ]
  },
  {
   "cell_type": "code",
   "execution_count": 36,
   "metadata": {},
   "outputs": [
    {
     "name": "stdout",
     "output_type": "stream",
     "text": [
      "10853\n"
     ]
    }
   ],
   "source": [
    "# Applying Word2Vec for Vectorization of X3_test\n",
    "# Creating Word2Vec Model\n",
    "\n",
    "list_of_sentence = []\n",
    "for sentence in X_test['Cleaned_Text']:\n",
    "    list_of_sentence.append(sentence.split())\n",
    "print(len(list_of_sentence))"
   ]
  },
  {
   "cell_type": "code",
   "execution_count": 37,
   "metadata": {},
   "outputs": [
    {
     "name": "stderr",
     "output_type": "stream",
     "text": [
      "100%|███████████████████████████████████████████████████████████████████████████| 10853/10853 [00:33<00:00, 323.93it/s]\n"
     ]
    },
    {
     "name": "stdout",
     "output_type": "stream",
     "text": [
      "10853\n",
      "[-0.13140258  0.66256223  0.30516312 -0.18445755 -0.33281532  0.60884552\n",
      "  0.27796002 -0.30277244 -0.37644566  0.4191922   0.24822802 -0.13323124\n",
      " -0.09056406  0.15710755 -0.21587094  0.66926824  0.31207834  0.12192119\n",
      "  0.19151678  0.30015765 -0.65829378 -0.00954082  0.44338622  0.3099545\n",
      "  0.72574284 -0.07513978 -0.33195759  0.54055587  0.27577346  0.34037761\n",
      " -0.64455664 -1.05688622 -0.09416804 -0.49394421  0.18393796  0.10853573\n",
      "  0.30314892 -0.23744934 -0.23303003  0.20922928  0.3012016  -0.22947545\n",
      " -0.28616402  0.19389603 -0.57434243  0.14195534 -0.07887016 -0.28537781\n",
      " -0.02159773 -0.14192012]\n"
     ]
    }
   ],
   "source": [
    "# Creating Average Word2Vec Vector for Test Data\n",
    "\n",
    "sent_vect_test = []\n",
    "for sent in tqdm(list_of_sentence):\n",
    "    sentence_vec = np.zeros(50)\n",
    "    count_words = 0\n",
    "    for word in sent:\n",
    "        if word in w2v_words:\n",
    "            vec = w2v_model.wv[word]\n",
    "            count_words += 1\n",
    "            sentence_vec += vec\n",
    "    if count_words != 0:\n",
    "        sentence_vec /= count_words\n",
    "    sent_vect_test.append(sentence_vec)\n",
    "print(len(sent_vect_test))\n",
    "print(sent_vect_test[0])"
   ]
  },
  {
   "cell_type": "code",
   "execution_count": 39,
   "metadata": {},
   "outputs": [
    {
     "name": "stdout",
     "output_type": "stream",
     "text": [
      "28971\n",
      "8682\n",
      "10853\n"
     ]
    }
   ],
   "source": [
    "n_cv = len(sent_vect_cv)\n",
    "n_train = len(sent_vect_train)\n",
    "n_test = len(sent_vect_test)\n",
    "print(n_train)\n",
    "print(n_cv)\n",
    "print(n_test)"
   ]
  },
  {
   "cell_type": "code",
   "execution_count": 40,
   "metadata": {},
   "outputs": [
    {
     "name": "stdout",
     "output_type": "stream",
     "text": [
      "(28971, 50)\n",
      "(8682, 50)\n",
      "(10853, 50)\n"
     ]
    }
   ],
   "source": [
    "# Standardization Process\n",
    "\n",
    "scaler = StandardScaler()\n",
    "scaler.fit(sent_vect_train)\n",
    "D3_Train = scaler.transform(sent_vect_train)\n",
    "D3_Cv = scaler.transform(sent_vect_cv)\n",
    "D3_Test = scaler.transform(sent_vect_test)\n",
    "\n",
    "print(D3_Train.shape)\n",
    "print(D3_Cv.shape)\n",
    "print(D3_Test.shape)"
   ]
  },
  {
   "cell_type": "code",
   "execution_count": 42,
   "metadata": {},
   "outputs": [],
   "source": [
    "D3_Train=D3_Train.astype('int')\n",
    "D3_Cv=D3_Cv.astype('int')\n",
    "D3_Test=D3_Test.astype('int')\n",
    "Y_Train=Y_Train.astype('int')\n",
    "Y_1_cv=Y_1_cv.astype('int')\n",
    "Y_test=Y_test.astype('int')"
   ]
  },
  {
   "cell_type": "code",
   "execution_count": 43,
   "metadata": {},
   "outputs": [
    {
     "name": "stderr",
     "output_type": "stream",
     "text": [
      "\r",
      "  0%|                                                                                           | 0/10 [00:00<?, ?it/s]"
     ]
    },
    {
     "name": "stdout",
     "output_type": "stream",
     "text": [
      "8682\n",
      "8682\n",
      "\n",
      "CV Accuracy for k = 1 is 61%\n",
      "\n",
      "CV AUC for k = 1 is 0.640907%\n",
      "\n",
      "Train Accuracy for k = 1 is 98%\n",
      "\n",
      "Train AUC for k = 1 is 0.983446%\n"
     ]
    },
    {
     "name": "stderr",
     "output_type": "stream",
     "text": [
      "\r",
      " 10%|████████▏                                                                         | 1/10 [03:37<32:38, 217.56s/it]"
     ]
    },
    {
     "name": "stdout",
     "output_type": "stream",
     "text": [
      "8682\n",
      "8682\n",
      "\n",
      "CV Accuracy for k = 3 is 64%\n",
      "\n",
      "CV AUC for k = 3 is 0.718981%\n",
      "\n",
      "Train Accuracy for k = 3 is 81%\n",
      "\n",
      "Train AUC for k = 3 is 0.900919%\n"
     ]
    },
    {
     "name": "stderr",
     "output_type": "stream",
     "text": [
      "\r",
      " 20%|████████████████▍                                                                 | 2/10 [10:16<36:16, 272.06s/it]"
     ]
    },
    {
     "name": "stdout",
     "output_type": "stream",
     "text": [
      "8682\n",
      "8682\n",
      "\n",
      "CV Accuracy for k = 5 is 65%\n",
      "\n",
      "CV AUC for k = 5 is 0.744829%\n",
      "\n",
      "Train Accuracy for k = 5 is 78%\n",
      "\n",
      "Train AUC for k = 5 is 0.871217%\n"
     ]
    },
    {
     "name": "stderr",
     "output_type": "stream",
     "text": [
      "\r",
      " 30%|████████████████████████▌                                                         | 3/10 [17:03<36:27, 312.56s/it]"
     ]
    },
    {
     "name": "stdout",
     "output_type": "stream",
     "text": [
      "8682\n",
      "8682\n",
      "\n",
      "CV Accuracy for k = 7 is 66%\n",
      "\n",
      "CV AUC for k = 7 is 0.757104%\n",
      "\n",
      "Train Accuracy for k = 7 is 77%\n",
      "\n",
      "Train AUC for k = 7 is 0.857096%\n"
     ]
    },
    {
     "name": "stderr",
     "output_type": "stream",
     "text": [
      "\r",
      " 40%|████████████████████████████████▊                                                 | 4/10 [23:28<33:25, 334.31s/it]"
     ]
    },
    {
     "name": "stdout",
     "output_type": "stream",
     "text": [
      "8682\n",
      "8682\n",
      "\n",
      "CV Accuracy for k = 9 is 67%\n",
      "\n",
      "CV AUC for k = 9 is 0.766140%\n",
      "\n",
      "Train Accuracy for k = 9 is 76%\n",
      "\n",
      "Train AUC for k = 9 is 0.847793%\n"
     ]
    },
    {
     "name": "stderr",
     "output_type": "stream",
     "text": [
      "\r",
      " 50%|█████████████████████████████████████████                                         | 5/10 [29:57<29:13, 350.72s/it]"
     ]
    },
    {
     "name": "stdout",
     "output_type": "stream",
     "text": [
      "8682\n",
      "8682\n",
      "\n",
      "CV Accuracy for k = 11 is 67%\n",
      "\n",
      "CV AUC for k = 11 is 0.772897%\n",
      "\n",
      "Train Accuracy for k = 11 is 75%\n",
      "\n",
      "Train AUC for k = 11 is 0.841065%\n"
     ]
    },
    {
     "name": "stderr",
     "output_type": "stream",
     "text": [
      "\r",
      " 60%|█████████████████████████████████████████████████▏                                | 6/10 [36:24<24:05, 361.40s/it]"
     ]
    },
    {
     "name": "stdout",
     "output_type": "stream",
     "text": [
      "8682\n",
      "8682\n",
      "\n",
      "CV Accuracy for k = 13 is 68%\n",
      "\n",
      "CV AUC for k = 13 is 0.778328%\n",
      "\n",
      "Train Accuracy for k = 13 is 75%\n",
      "\n",
      "Train AUC for k = 13 is 0.837248%\n"
     ]
    },
    {
     "name": "stderr",
     "output_type": "stream",
     "text": [
      "\r",
      " 70%|█████████████████████████████████████████████████████████▍                        | 7/10 [42:55<18:31, 370.50s/it]"
     ]
    },
    {
     "name": "stdout",
     "output_type": "stream",
     "text": [
      "8682\n",
      "8682\n",
      "\n",
      "CV Accuracy for k = 15 is 68%\n",
      "\n",
      "CV AUC for k = 15 is 0.782417%\n",
      "\n",
      "Train Accuracy for k = 15 is 75%\n",
      "\n",
      "Train AUC for k = 15 is 0.833578%\n"
     ]
    },
    {
     "name": "stderr",
     "output_type": "stream",
     "text": [
      "\r",
      " 80%|█████████████████████████████████████████████████████████████████▌                | 8/10 [49:29<12:34, 377.41s/it]"
     ]
    },
    {
     "name": "stdout",
     "output_type": "stream",
     "text": [
      "8682\n",
      "8682\n",
      "\n",
      "CV Accuracy for k = 17 is 68%\n",
      "\n",
      "CV AUC for k = 17 is 0.782909%\n",
      "\n",
      "Train Accuracy for k = 17 is 75%\n",
      "\n",
      "Train AUC for k = 17 is 0.830330%\n"
     ]
    },
    {
     "name": "stderr",
     "output_type": "stream",
     "text": [
      "\r",
      " 90%|█████████████████████████████████████████████████████████████████████████▊        | 9/10 [56:03<06:22, 382.42s/it]"
     ]
    },
    {
     "name": "stdout",
     "output_type": "stream",
     "text": [
      "8682\n",
      "8682\n",
      "\n",
      "CV Accuracy for k = 19 is 68%\n",
      "\n",
      "CV AUC for k = 19 is 0.785162%\n",
      "\n",
      "Train Accuracy for k = 19 is 75%\n",
      "\n",
      "Train AUC for k = 19 is 0.827062%\n"
     ]
    },
    {
     "name": "stderr",
     "output_type": "stream",
     "text": [
      "100%|███████████████████████████████████████████████████████████████████████████████| 10/10 [1:02:32<00:00, 384.28s/it]\n"
     ]
    },
    {
     "name": "stdout",
     "output_type": "stream",
     "text": [
      "[0.6409071641880959, 0.7189808156362467, 0.7448290258077968, 0.7571043139086764, 0.7661395696496178, 0.772896779302159, 0.778328057146713, 0.7824174172885601, 0.7829085768924621, 0.7851617466850443]\n",
      "[0.9834463209759997, 0.9009188192059647, 0.8712168088313914, 0.8570956300602536, 0.8477930287106921, 0.8410651011689455, 0.8372475351960043, 0.8335778935859707, 0.8303302957764794, 0.8270615466494561]\n"
     ]
    }
   ],
   "source": [
    "# Applying Brute Force KNN on Word2Vec Train Model\n",
    "\n",
    "cv_score = []\n",
    "train_score = []\n",
    "\n",
    "# creating odd list of K for KNN\n",
    "myList = list(range(0,20))\n",
    "neighbours = list(filter(lambda x: x % 2 != 0, myList))\n",
    "\n",
    "\n",
    "cv_auc = []\n",
    "train_auc = []\n",
    "cv_score = []\n",
    "train_score = []\n",
    "for i in tqdm(neighbours):\n",
    "    knn = KNeighborsClassifier(n_neighbors = i)\n",
    "    \n",
    "    predicted_labels_cv = []\n",
    "    predicted_labels_train = []\n",
    "    predict_cv_prob = []\n",
    "    predict_train_prob = []\n",
    "    accuracy_cv = []\n",
    "    auc_score_cv = []\n",
    "    auc_score_train = []\n",
    "    accuracy_train = []\n",
    "    \n",
    "    # Fitting the model in Train - CrossValidation\n",
    "    knn.fit(D3_Train,Y_Train)\n",
    "    \n",
    "    # Predicting the model with CrossValidation and Train Data\n",
    "    for j in range(0,n_cv,1000):\n",
    "        predicted_labels_cv.extend(knn.predict(D3_Cv[j:j+1000]))\n",
    "        predict_cv_prob.extend(knn.predict_proba(D3_Cv[j:j+1000])[:,1])\n",
    "    \n",
    "    for k in range(0,n_train,1000):\n",
    "        predicted_labels_train.extend(knn.predict(D3_Train[k:k+1000]))\n",
    "        predict_train_prob.extend(knn.predict_proba(D3_Train[k:k+1000])[:,1])\n",
    "    \n",
    "    print(len(predict_cv_prob))\n",
    "    print(len(Y_1_cv))\n",
    "    \n",
    "    # Getting the Cross-Validation Accuracy and AUC Score\n",
    "    auc_score_cv = roc_auc_score(Y_1_cv,predict_cv_prob)\n",
    "    accuracy_cv = accuracy_score(Y_1_cv,predicted_labels_cv,normalize=True)* float(100)\n",
    "    print('\\nCV Accuracy for k = %d is %d%%' % (i,accuracy_cv))\n",
    "    print('\\nCV AUC for k = %d is %f%%' % (i,auc_score_cv))\n",
    "    cv_score.append(accuracy_cv)\n",
    "    cv_auc.append(auc_score_cv)\n",
    "    \n",
    "    # Getting the Training Accuracy and AUC Score\n",
    "    auc_score_train = roc_auc_score(Y_Train,predict_train_prob)\n",
    "    accuracy_train = accuracy_score(Y_Train,predicted_labels_train, normalize=True)* float(100)\n",
    "    print('\\nTrain Accuracy for k = %d is %d%%' % (i,accuracy_train))\n",
    "    print('\\nTrain AUC for k = %d is %f%%' % (i,auc_score_train))\n",
    "    train_score.append(accuracy_train)\n",
    "    train_auc.append(auc_score_train)\n",
    "\n",
    "# Misclassification Error ( Cross-Validation Error )\n",
    "cv_error = [1 - x for x in cv_score]\n",
    "\n",
    "# Misclassification Error ( Training Error )\n",
    "train_error = [1 - x for x in train_score]  \n",
    "\n",
    "print(cv_auc)\n",
    "print(train_auc)"
   ]
  },
  {
   "cell_type": "code",
   "execution_count": 44,
   "metadata": {},
   "outputs": [
    {
     "data": {
      "image/png": "[encoded data removed]",
      "text/plain": [
       "<Figure size 432x288 with 1 Axes>"
      ]
     },
     "metadata": {},
     "output_type": "display_data"
    }
   ],
   "source": [
    "# Plotting Train_AUC and CV_AUC against K\n",
    "plt.plot(neighbours,train_auc)\n",
    "plt.plot(neighbours,cv_auc)\n",
    "plt.legend(['Train AUC', 'CV AUC'], loc='upper right')\n",
    "plt.title(\"ERROR PLOTS for Avg Word2Vec Vectorizer\")\n",
    "plt.xlabel('Hyper-parameter k')\n",
    "plt.ylabel('AUC Value')\n",
    "plt.show()"
   ]
  },
  {
   "cell_type": "code",
   "execution_count": 46,
   "metadata": {},
   "outputs": [
    {
     "name": "stdout",
     "output_type": "stream",
     "text": [
      "AUC Metric Best K = 19\n",
      "0.785\n"
     ]
    }
   ],
   "source": [
    "# Getting the optimal K Based to CV AUC\n",
    "optimal_k_auc = neighbours[cv_auc.index(max(cv_auc))]\n",
    "best_cv_auc = max([ '%.3f' % elem for elem in cv_auc ])\n",
    "print('AUC Metric Best K = %d' % optimal_k_auc)\n",
    "print(best_cv_auc)"
   ]
  },
  {
   "cell_type": "code",
   "execution_count": 53,
   "metadata": {},
   "outputs": [
    {
     "name": "stdout",
     "output_type": "stream",
     "text": [
      "10853\n",
      "10853\n",
      "Algo Run Successfully on D3_Test\n",
      "====================================================================================================\n"
     ]
    }
   ],
   "source": [
    "# Applying Best K on D_Test\n",
    "\n",
    "test_neigh = KNeighborsClassifier(n_neighbors = 19)\n",
    "test_neigh.fit(D3_Train,Y_Train)\n",
    "\n",
    "predicted_labels_test = []\n",
    "predicted_labels_train = []\n",
    "predict_test_prob = []\n",
    "predict_train_prob = []\n",
    "\n",
    "# Predicting the model with CrossValidation and Train Data\n",
    "for j in range(0,n_test,1000):\n",
    "    predicted_labels_test.extend(test_neigh.predict(D3_Test[j:j+1000]))\n",
    "    predict_test_prob.extend(test_neigh.predict_proba(D3_Test[j:j+1000])[:,1])\n",
    "    \n",
    "for k in range(0,n_train,1000):\n",
    "    predicted_labels_train.extend(test_neigh.predict(D3_Train[k:k+1000]))\n",
    "    predict_train_prob.extend(test_neigh.predict_proba(D3_Train[k:k+1000])[:,1])\n",
    "    \n",
    "print(len(predict_test_prob))\n",
    "print(len(Y_test))\n",
    "    \n",
    "train_fpr, train_tpr, thresholds = roc_curve(Y_Train, predict_train_prob)\n",
    "test_fpr, test_tpr, thresholds = roc_curve(Y_test, predict_test_prob)\n",
    "\n",
    "print('Algo Run Successfully on D3_Test')\n",
    "print(\"=\"*100)"
   ]
  },
  {
   "cell_type": "code",
   "execution_count": 54,
   "metadata": {},
   "outputs": [
    {
     "data": {
      "image/png": "[encoded data removed]",
      "text/plain": [
       "<Figure size 432x288 with 1 Axes>"
      ]
     },
     "metadata": {},
     "output_type": "display_data"
    },
    {
     "name": "stdout",
     "output_type": "stream",
     "text": [
      "====================================================================================================\n"
     ]
    }
   ],
   "source": [
    "# Plotting the AUC curve on Test and Train Data\n",
    "\n",
    "plt.plot(train_fpr, train_tpr, label=\"Train AUC =\"+str(auc(train_fpr, train_tpr)))\n",
    "plt.plot(test_fpr, test_tpr, label=\"Test AUC =\"+str(auc(test_fpr, test_tpr)))\n",
    "plt.legend()\n",
    "plt.xlabel(\"Hyper-parameter k\")\n",
    "plt.ylabel(\"AUC\")\n",
    "plt.title(\"ERROR PLOTS\")\n",
    "plt.show()\n",
    "\n",
    "print(\"=\"*100)"
   ]
  },
  {
   "cell_type": "code",
   "execution_count": 55,
   "metadata": {},
   "outputs": [
    {
     "name": "stdout",
     "output_type": "stream",
     "text": [
      "Train Confusion Matrix\n",
      "8231 4769 2454 13517\n",
      "[[ 8231  4769]\n",
      " [ 2454 13517]]\n",
      "========================================================================================================================\n",
      "Test Confusion Matrix\n",
      "3925 2786 712 3430\n",
      "[[3925 2786]\n",
      " [ 712 3430]]\n",
      "========================================================================================================================\n"
     ]
    }
   ],
   "source": [
    "# Getting the confusion metrics\n",
    "\n",
    "print('Train Confusion Matrix')\n",
    "tr_true_negetive,tr_false_positive, tr_false_negetive, tr_true_positive = confusion_matrix(Y_Train,predicted_labels_train).ravel()\n",
    "print(tr_true_negetive, tr_false_positive, tr_false_negetive, tr_true_positive)\n",
    "print(confusion_matrix(Y_Train,predicted_labels_train))\n",
    "print(\"=\"*120)\n",
    "\n",
    "print('Test Confusion Matrix')\n",
    "true_negetive,false_positive, false_negetive, true_positive = confusion_matrix(Y_test,predicted_labels_test).ravel()\n",
    "print(true_negetive, false_positive, false_negetive, true_positive)\n",
    "print(confusion_matrix(Y_test,predicted_labels_test))\n",
    "print(\"=\"*120)"
   ]
  },
  {
   "cell_type": "code",
   "execution_count": 9,
   "metadata": {},
   "outputs": [
    {
     "data": {
      "text/plain": [
       "<matplotlib.axes._subplots.AxesSubplot at 0x1d4fbbd9208>"
      ]
     },
     "execution_count": 9,
     "metadata": {},
     "output_type": "execute_result"
    },
    {
     "data": {
      "image/png": "[encoded data removed]",
      "text/plain": [
       "<Figure size 432x288 with 2 Axes>"
      ]
     },
     "metadata": {},
     "output_type": "display_data"
    }
   ],
   "source": [
    "conMatrix= [[tr_true_negetive,tr_false_positive],[tr_false_negetive,tr_true_positive]]\n",
    "data = conMatrix\n",
    "sns.heatmap(data, cmap=\"YlGnBu\", annot=True, fmt=\"d\")"
   ]
  },
  {
   "cell_type": "code",
   "execution_count": 10,
   "metadata": {},
   "outputs": [
    {
     "data": {
      "text/plain": [
       "<matplotlib.axes._subplots.AxesSubplot at 0x1d4fbc4bb38>"
      ]
     },
     "execution_count": 10,
     "metadata": {},
     "output_type": "execute_result"
    },
    {
     "data": {
      "image/png": "[encoded data removed]",
      "text/plain": [
       "<Figure size 432x288 with 2 Axes>"
      ]
     },
     "metadata": {},
     "output_type": "display_data"
    }
   ],
   "source": [
    "conMatrix= [[true_negetive,false_positive],[false_negetive,true_positive]]\n",
    "data = conMatrix\n",
    "sns.heatmap(data, cmap=\"YlGnBu\", annot=True, fmt=\"d\")"
   ]
  },
  {
   "cell_type": "markdown",
   "metadata": {},
   "source": [
    " ## 1.4) Applying KNN brute force on Tf-Idf Weighted Avg Word2Vec, SET 4"
   ]
  },
  {
   "cell_type": "markdown",
   "metadata": {},
   "source": [
    "We are using the previous splitting and the Word2Vec Model here. We are not training the Word2Vec Model again here."
   ]
  },
  {
   "cell_type": "code",
   "execution_count": 29,
   "metadata": {},
   "outputs": [
    {
     "name": "stdout",
     "output_type": "stream",
     "text": [
      " some feature names  ['abandoned', 'ability', 'able', 'absence', 'absent', 'absolute', 'absolutely', 'absorb', 'absorbed', 'absorbs']\n",
      "==================================================\n",
      "the type of vectorizer  <class 'scipy.sparse.csr.csr_matrix'>\n",
      "the shape of vectorizer  (28971, 6803)\n"
     ]
    }
   ],
   "source": [
    "# Tf-Idf Model Creation\n",
    "\n",
    "tfidf_vect = TfidfVectorizer(min_df=10) #in scikit-learn\n",
    "D4_Train = tfidf_vect.fit_transform(X_Train['Cleaned_Text'])\n",
    "print(\" some feature names \", tfidf_vect.get_feature_names()[:10])\n",
    "print('='*50)\n",
    "\n",
    "print(\"the type of vectorizer \",type(D4_Train))\n",
    "print(\"the shape of vectorizer \",D4_Train.get_shape())\n",
    "\n",
    "# we are converting a dictionary with word as a key, and the idf as a value\n",
    "dictionary = dict(zip(tfidf_vect.get_feature_names(), list(tfidf_vect.idf_)))"
   ]
  },
  {
   "cell_type": "code",
   "execution_count": 30,
   "metadata": {},
   "outputs": [
    {
     "name": "stdout",
     "output_type": "stream",
     "text": [
      "28971\n"
     ]
    }
   ],
   "source": [
    "# Splitting the Training Data into sentences\n",
    "list_of_sentence = []\n",
    "for sentence in X_Train['Cleaned_Text']:\n",
    "    list_of_sentence.append(sentence.split())\n",
    "print(len(list_of_sentence))"
   ]
  },
  {
   "cell_type": "code",
   "execution_count": 33,
   "metadata": {},
   "outputs": [
    {
     "name": "stderr",
     "output_type": "stream",
     "text": [
      "100%|███████████████████████████████████████████████████████████████████████████| 28971/28971 [03:42<00:00, 130.44it/s]\n"
     ]
    },
    {
     "name": "stdout",
     "output_type": "stream",
     "text": [
      "28971\n"
     ]
    }
   ],
   "source": [
    "# Tf-Idf Weighted Word2Vec for Training Data\n",
    "\n",
    "tf_idf_features = tfidf_vect.get_feature_names()\n",
    "\n",
    "tfidf_w2v_train = []\n",
    "for sent in tqdm(list_of_sentence):\n",
    "    sent_vec = np.zeros(50)\n",
    "    weighted_sum = 0\n",
    "    for word in sent:\n",
    "        if word in w2v_words and word in tf_idf_features:\n",
    "            vec = w2v_model.wv[word]\n",
    "            tfidf = dictionary[word]*(sent.count(word)/len(sent))\n",
    "            sent_vec += vec * tfidf\n",
    "            weighted_sum += tfidf\n",
    "    if weighted_sum != 0:\n",
    "        sent_vec /= weighted_sum\n",
    "    tfidf_w2v_train.append(sent_vec)\n",
    "print(len(tfidf_w2v_train))"
   ]
  },
  {
   "cell_type": "code",
   "execution_count": 37,
   "metadata": {},
   "outputs": [
    {
     "name": "stdout",
     "output_type": "stream",
     "text": [
      "8682\n"
     ]
    }
   ],
   "source": [
    "# Splitting the Cross-Validation Data into sentences\n",
    "\n",
    "list_of_sentence = []\n",
    "for sentence in X_1_cv['Cleaned_Text']:\n",
    "    list_of_sentence.append(sentence.split())\n",
    "print(len(list_of_sentence))"
   ]
  },
  {
   "cell_type": "code",
   "execution_count": 38,
   "metadata": {},
   "outputs": [
    {
     "name": "stdout",
     "output_type": "stream",
     "text": [
      " some feature names  ['abandoned', 'ability', 'able', 'absence', 'absent', 'absolute', 'absolutely', 'absorb', 'absorbed', 'absorbs']\n",
      "==================================================\n",
      "the type of vectorizer  <class 'scipy.sparse.csr.csr_matrix'>\n",
      "the shape of vectorizer  (8682, 6803)\n"
     ]
    }
   ],
   "source": [
    "# Tf-Idf Vector Creation for Cross Validation Data\n",
    "\n",
    "D4_Cv = tfidf_vect.transform(X_1_cv['Cleaned_Text'])\n",
    "print(\" some feature names \", tfidf_vect.get_feature_names()[:10])\n",
    "print('='*50)\n",
    "\n",
    "print(\"the type of vectorizer \",type(D4_Cv))\n",
    "print(\"the shape of vectorizer \",D4_Cv.get_shape())\n",
    "\n",
    "# we are converting a dictionary with word as a key, and the idf as a value\n",
    "dictionary = dict(zip(tfidf_vect.get_feature_names(), list(tfidf_vect.idf_)))"
   ]
  },
  {
   "cell_type": "code",
   "execution_count": 39,
   "metadata": {},
   "outputs": [
    {
     "name": "stderr",
     "output_type": "stream",
     "text": [
      "100%|█████████████████████████████████████████████████████████████████████████████| 8682/8682 [01:06<00:00, 130.61it/s]\n"
     ]
    },
    {
     "name": "stdout",
     "output_type": "stream",
     "text": [
      "8682\n"
     ]
    }
   ],
   "source": [
    "# Tf-Idf Weighted Word2Vec for Cross-Validation Data\n",
    "\n",
    "tf_idf_features = tfidf_vect.get_feature_names()\n",
    "\n",
    "tfidf_w2v_cv = []\n",
    "for sent in tqdm(list_of_sentence):\n",
    "    sent_vec = np.zeros(50)\n",
    "    weighted_sum = 0\n",
    "    for word in sent:\n",
    "        if word in w2v_words and word in tf_idf_features:\n",
    "            vec = w2v_model.wv[word]\n",
    "            tfidf = dictionary[word]*(sent.count(word)/len(sent))\n",
    "            sent_vec += vec * tfidf\n",
    "            weighted_sum += tfidf\n",
    "    if weighted_sum != 0:\n",
    "        sent_vec /= weighted_sum\n",
    "    tfidf_w2v_cv.append(sent_vec)\n",
    "print(len(tfidf_w2v_cv))"
   ]
  },
  {
   "cell_type": "code",
   "execution_count": 41,
   "metadata": {},
   "outputs": [
    {
     "name": "stdout",
     "output_type": "stream",
     "text": [
      "10853\n"
     ]
    }
   ],
   "source": [
    "# Splitting the Test Data into sentences\n",
    "\n",
    "list_of_sentence = []\n",
    "for sentence in X_test['Cleaned_Text']:\n",
    "    list_of_sentence.append(sentence.split())\n",
    "print(len(list_of_sentence))"
   ]
  },
  {
   "cell_type": "code",
   "execution_count": 42,
   "metadata": {},
   "outputs": [
    {
     "name": "stdout",
     "output_type": "stream",
     "text": [
      " some feature names  ['abandoned', 'ability', 'able', 'absence', 'absent', 'absolute', 'absolutely', 'absorb', 'absorbed', 'absorbs']\n",
      "==================================================\n",
      "the type  <class 'scipy.sparse.csr.csr_matrix'>\n",
      "the shape of vectorizer  (10853, 6803)\n"
     ]
    }
   ],
   "source": [
    "# Tf-Idf Vector Creation for Test Data\n",
    "\n",
    "D4_Test = tfidf_vect.transform(X_test['Cleaned_Text'])\n",
    "print(\" some feature names \", tfidf_vect.get_feature_names()[:10])\n",
    "print('='*50)\n",
    "\n",
    "print(\"the type \",type(D4_Test))\n",
    "print(\"the shape of vectorizer \",D4_Test.get_shape())\n",
    "\n",
    "# we are converting a dictionary with word as a key, and the idf as a value\n",
    "dictionary = dict(zip(tfidf_vect.get_feature_names(), list(tfidf_vect.idf_)))"
   ]
  },
  {
   "cell_type": "code",
   "execution_count": 43,
   "metadata": {},
   "outputs": [
    {
     "name": "stderr",
     "output_type": "stream",
     "text": [
      "100%|███████████████████████████████████████████████████████████████████████████| 10853/10853 [01:20<00:00, 135.22it/s]\n"
     ]
    },
    {
     "name": "stdout",
     "output_type": "stream",
     "text": [
      "10853\n"
     ]
    }
   ],
   "source": [
    "# Tf-Idf Weighted Word2Vec for Test Data\n",
    "\n",
    "tf_idf_features = tfidf_vect.get_feature_names()\n",
    "\n",
    "tfidf_w2v_test = []\n",
    "for sent in tqdm(list_of_sentence):\n",
    "    sent_vec = np.zeros(50)\n",
    "    weighted_sum = 0\n",
    "    for word in sent:\n",
    "        if word in w2v_words and word in tf_idf_features:\n",
    "            vec = w2v_model.wv[word]\n",
    "            tfidf = dictionary[word]*(sent.count(word)/len(sent))\n",
    "            sent_vec += vec * tfidf\n",
    "            weighted_sum += tfidf\n",
    "    if weighted_sum != 0:\n",
    "        sent_vec /= weighted_sum\n",
    "    tfidf_w2v_test.append(sent_vec)\n",
    "print(len(tfidf_w2v_test))"
   ]
  },
  {
   "cell_type": "code",
   "execution_count": 45,
   "metadata": {},
   "outputs": [
    {
     "name": "stdout",
     "output_type": "stream",
     "text": [
      "28971\n",
      "8682\n",
      "10853\n"
     ]
    }
   ],
   "source": [
    "n_cv = len(tfidf_w2v_cv)\n",
    "n_train = len(tfidf_w2v_train)\n",
    "n_test = len(tfidf_w2v_test)\n",
    "print(n_train)\n",
    "print(n_cv)\n",
    "print(n_test)"
   ]
  },
  {
   "cell_type": "code",
   "execution_count": 47,
   "metadata": {},
   "outputs": [
    {
     "name": "stdout",
     "output_type": "stream",
     "text": [
      "(28971, 50)\n",
      "(8682, 50)\n",
      "(10853, 50)\n"
     ]
    }
   ],
   "source": [
    "# Standardization Process\n",
    "\n",
    "scaler = StandardScaler()\n",
    "scaler.fit(tfidf_w2v_train)\n",
    "D3_Train = scaler.transform(tfidf_w2v_train)\n",
    "D3_Cv = scaler.transform(tfidf_w2v_cv)\n",
    "D3_Test = scaler.transform(tfidf_w2v_test)\n",
    "\n",
    "print(D3_Train.shape)\n",
    "print(D3_Cv.shape)\n",
    "print(D3_Test.shape)"
   ]
  },
  {
   "cell_type": "code",
   "execution_count": 48,
   "metadata": {},
   "outputs": [],
   "source": [
    "D3_Train=D3_Train.astype('int')\n",
    "D3_Cv=D3_Cv.astype('int')\n",
    "D3_Test=D3_Test.astype('int')\n",
    "Y_Train=Y_Train.astype('int')\n",
    "Y_1_cv=Y_1_cv.astype('int')\n",
    "Y_test=Y_test.astype('int')"
   ]
  },
  {
   "cell_type": "code",
   "execution_count": 49,
   "metadata": {},
   "outputs": [
    {
     "name": "stderr",
     "output_type": "stream",
     "text": [
      "\r",
      "  0%|                                                                                           | 0/10 [00:00<?, ?it/s]"
     ]
    },
    {
     "name": "stdout",
     "output_type": "stream",
     "text": [
      "8682\n",
      "8682\n",
      "\n",
      "CV Accuracy for k = 1 is 59%\n",
      "\n",
      "CV AUC for k = 1 is 0.626297%\n",
      "\n",
      "Train Accuracy for k = 1 is 97%\n",
      "\n",
      "Train AUC for k = 1 is 0.968083%\n"
     ]
    },
    {
     "name": "stderr",
     "output_type": "stream",
     "text": [
      "\r",
      " 10%|████████▏                                                                         | 1/10 [03:33<32:04, 213.84s/it]"
     ]
    },
    {
     "name": "stdout",
     "output_type": "stream",
     "text": [
      "8682\n",
      "8682\n",
      "\n",
      "CV Accuracy for k = 3 is 60%\n",
      "\n",
      "CV AUC for k = 3 is 0.687543%\n",
      "\n",
      "Train Accuracy for k = 3 is 80%\n",
      "\n",
      "Train AUC for k = 3 is 0.887731%\n"
     ]
    },
    {
     "name": "stderr",
     "output_type": "stream",
     "text": [
      "\r",
      " 20%|████████████████▍                                                                 | 2/10 [09:37<34:29, 258.67s/it]"
     ]
    },
    {
     "name": "stdout",
     "output_type": "stream",
     "text": [
      "8682\n",
      "8682\n",
      "\n",
      "CV Accuracy for k = 5 is 61%\n",
      "\n",
      "CV AUC for k = 5 is 0.709031%\n",
      "\n",
      "Train Accuracy for k = 5 is 76%\n",
      "\n",
      "Train AUC for k = 5 is 0.850615%\n"
     ]
    },
    {
     "name": "stderr",
     "output_type": "stream",
     "text": [
      "\r",
      " 30%|████████████████████████▌                                                         | 3/10 [16:03<34:38, 296.91s/it]"
     ]
    },
    {
     "name": "stdout",
     "output_type": "stream",
     "text": [
      "8682\n",
      "8682\n",
      "\n",
      "CV Accuracy for k = 7 is 62%\n",
      "\n",
      "CV AUC for k = 7 is 0.723627%\n",
      "\n",
      "Train Accuracy for k = 7 is 75%\n",
      "\n",
      "Train AUC for k = 7 is 0.832819%\n"
     ]
    },
    {
     "name": "stderr",
     "output_type": "stream",
     "text": [
      "\r",
      " 40%|████████████████████████████████▊                                                 | 4/10 [22:12<31:50, 318.47s/it]"
     ]
    },
    {
     "name": "stdout",
     "output_type": "stream",
     "text": [
      "8682\n",
      "8682\n",
      "\n",
      "CV Accuracy for k = 9 is 62%\n",
      "\n",
      "CV AUC for k = 9 is 0.732430%\n",
      "\n",
      "Train Accuracy for k = 9 is 74%\n",
      "\n",
      "Train AUC for k = 9 is 0.821658%\n"
     ]
    },
    {
     "name": "stderr",
     "output_type": "stream",
     "text": [
      "\r",
      " 50%|█████████████████████████████████████████                                         | 5/10 [28:47<28:28, 341.68s/it]"
     ]
    },
    {
     "name": "stdout",
     "output_type": "stream",
     "text": [
      "8682\n",
      "8682\n",
      "\n",
      "CV Accuracy for k = 11 is 62%\n",
      "\n",
      "CV AUC for k = 11 is 0.737795%\n",
      "\n",
      "Train Accuracy for k = 11 is 73%\n",
      "\n",
      "Train AUC for k = 11 is 0.814337%\n"
     ]
    },
    {
     "name": "stderr",
     "output_type": "stream",
     "text": [
      "\r",
      " 60%|█████████████████████████████████████████████████▏                                | 6/10 [35:25<23:54, 358.51s/it]"
     ]
    },
    {
     "name": "stdout",
     "output_type": "stream",
     "text": [
      "8682\n",
      "8682\n",
      "\n",
      "CV Accuracy for k = 13 is 63%\n",
      "\n",
      "CV AUC for k = 13 is 0.741560%\n",
      "\n",
      "Train Accuracy for k = 13 is 73%\n",
      "\n",
      "Train AUC for k = 13 is 0.808557%\n"
     ]
    },
    {
     "name": "stderr",
     "output_type": "stream",
     "text": [
      "\r",
      " 70%|█████████████████████████████████████████████████████████▍                        | 7/10 [42:05<18:32, 370.96s/it]"
     ]
    },
    {
     "name": "stdout",
     "output_type": "stream",
     "text": [
      "8682\n",
      "8682\n",
      "\n",
      "CV Accuracy for k = 15 is 63%\n",
      "\n",
      "CV AUC for k = 15 is 0.745919%\n",
      "\n",
      "Train Accuracy for k = 15 is 73%\n",
      "\n",
      "Train AUC for k = 15 is 0.804243%\n"
     ]
    },
    {
     "name": "stderr",
     "output_type": "stream",
     "text": [
      "\r",
      " 80%|█████████████████████████████████████████████████████████████████▌                | 8/10 [49:01<12:49, 384.57s/it]"
     ]
    },
    {
     "name": "stdout",
     "output_type": "stream",
     "text": [
      "8682\n",
      "8682\n",
      "\n",
      "CV Accuracy for k = 17 is 63%\n",
      "\n",
      "CV AUC for k = 17 is 0.746807%\n",
      "\n",
      "Train Accuracy for k = 17 is 72%\n",
      "\n",
      "Train AUC for k = 17 is 0.800843%\n"
     ]
    },
    {
     "name": "stderr",
     "output_type": "stream",
     "text": [
      "\r",
      " 90%|█████████████████████████████████████████████████████████████████████████▊        | 9/10 [55:46<06:30, 390.61s/it]"
     ]
    },
    {
     "name": "stdout",
     "output_type": "stream",
     "text": [
      "8682\n",
      "8682\n",
      "\n",
      "CV Accuracy for k = 19 is 64%\n",
      "\n",
      "CV AUC for k = 19 is 0.748300%\n",
      "\n",
      "Train Accuracy for k = 19 is 72%\n",
      "\n",
      "Train AUC for k = 19 is 0.798125%\n"
     ]
    },
    {
     "name": "stderr",
     "output_type": "stream",
     "text": [
      "100%|███████████████████████████████████████████████████████████████████████████████| 10/10 [1:02:24<00:00, 392.92s/it]\n"
     ]
    },
    {
     "name": "stdout",
     "output_type": "stream",
     "text": [
      "[0.6262965612321187, 0.6875425904901202, 0.7090311947627741, 0.7236271019137808, 0.7324298890909843, 0.7377952882220359, 0.741559685974206, 0.7459190955550967, 0.746806817529762, 0.7482996476877076]\n",
      "[0.9680831699763515, 0.887730954663019, 0.850614948729187, 0.8328187026485505, 0.8216580846052701, 0.8143372506899524, 0.8085574478742721, 0.8042429017979703, 0.8008426643483622, 0.7981253497926531]\n"
     ]
    }
   ],
   "source": [
    "# Applying Brute Force KNN on Tf_Idf Weighted Word2Vec Train Model\n",
    "\n",
    "cv_score = []\n",
    "train_score = []\n",
    "\n",
    "# creating odd list of K for KNN\n",
    "myList = list(range(0,20))\n",
    "neighbours = list(filter(lambda x: x % 2 != 0, myList))\n",
    "\n",
    "\n",
    "cv_auc = []\n",
    "train_auc = []\n",
    "cv_score = []\n",
    "train_score = []\n",
    "for i in tqdm(neighbours):\n",
    "    knn = KNeighborsClassifier(n_neighbors = i)\n",
    "    \n",
    "    predicted_labels_cv = []\n",
    "    predicted_labels_train = []\n",
    "    predict_cv_prob = []\n",
    "    predict_train_prob = []\n",
    "    accuracy_cv = []\n",
    "    auc_score_cv = []\n",
    "    auc_score_train = []\n",
    "    accuracy_train = []\n",
    "    \n",
    "    # Fitting the model in Train - CrossValidation\n",
    "    knn.fit(D3_Train,Y_Train)\n",
    "    \n",
    "    # Predicting the model with CrossValidation and Train Data\n",
    "    for j in range(0,n_cv,1000):\n",
    "        predicted_labels_cv.extend(knn.predict(D3_Cv[j:j+1000]))\n",
    "        predict_cv_prob.extend(knn.predict_proba(D3_Cv[j:j+1000])[:,1])\n",
    "    \n",
    "    for k in range(0,n_train,1000):\n",
    "        predicted_labels_train.extend(knn.predict(D3_Train[k:k+1000]))\n",
    "        predict_train_prob.extend(knn.predict_proba(D3_Train[k:k+1000])[:,1])\n",
    "    \n",
    "    print(len(predict_cv_prob))\n",
    "    print(len(Y_1_cv))\n",
    "    \n",
    "    # Getting the Cross-Validation Accuracy and AUC Score\n",
    "    auc_score_cv = roc_auc_score(Y_1_cv,predict_cv_prob)\n",
    "    accuracy_cv = accuracy_score(Y_1_cv,predicted_labels_cv,normalize=True)* float(100)\n",
    "    print('\\nCV Accuracy for k = %d is %d%%' % (i,accuracy_cv))\n",
    "    print('\\nCV AUC for k = %d is %f%%' % (i,auc_score_cv))\n",
    "    cv_score.append(accuracy_cv)\n",
    "    cv_auc.append(auc_score_cv)\n",
    "    \n",
    "    # Getting the Training Accuracy and AUC Score\n",
    "    auc_score_train = roc_auc_score(Y_Train,predict_train_prob)\n",
    "    accuracy_train = accuracy_score(Y_Train,predicted_labels_train, normalize=True)* float(100)\n",
    "    print('\\nTrain Accuracy for k = %d is %d%%' % (i,accuracy_train))\n",
    "    print('\\nTrain AUC for k = %d is %f%%' % (i,auc_score_train))\n",
    "    train_score.append(accuracy_train)\n",
    "    train_auc.append(auc_score_train)\n",
    "\n",
    "# Misclassification Error ( Cross-Validation Error )\n",
    "cv_error = [1 - x for x in cv_score]\n",
    "\n",
    "# Misclassification Error ( Training Error )\n",
    "train_error = [1 - x for x in train_score]  \n",
    "\n",
    "print(cv_auc)\n",
    "print(train_auc)"
   ]
  },
  {
   "cell_type": "code",
   "execution_count": 50,
   "metadata": {},
   "outputs": [
    {
     "data": {
      "image/png": "[encoded data removed]",
      "text/plain": [
       "<Figure size 432x288 with 1 Axes>"
      ]
     },
     "metadata": {},
     "output_type": "display_data"
    }
   ],
   "source": [
    "# Plotting Train_AUC and CV_AUC against K\n",
    "plt.plot(neighbours,train_auc)\n",
    "plt.plot(neighbours,cv_auc)\n",
    "plt.legend(['Train AUC', 'CV AUC'], loc='upper right')\n",
    "plt.title(\"ERROR PLOTS for Avg Word2Vec Vectorizer\")\n",
    "plt.xlabel('Hyper-parameter k')\n",
    "plt.ylabel('AUC Value')\n",
    "plt.show()"
   ]
  },
  {
   "cell_type": "code",
   "execution_count": 52,
   "metadata": {},
   "outputs": [
    {
     "name": "stdout",
     "output_type": "stream",
     "text": [
      "AUC Metric Best K = 19\n",
      "0.748\n"
     ]
    }
   ],
   "source": [
    "# Getting the optimal K Based to CV AUC\n",
    "optimal_k_auc = neighbours[cv_auc.index(max(cv_auc))]\n",
    "best_cv_auc = max([ '%.3f' % elem for elem in cv_auc ])\n",
    "print('AUC Metric Best K = %d' % optimal_k_auc)\n",
    "print(best_cv_auc)"
   ]
  },
  {
   "cell_type": "code",
   "execution_count": 63,
   "metadata": {},
   "outputs": [
    {
     "name": "stdout",
     "output_type": "stream",
     "text": [
      "10853\n",
      "10853\n",
      "Algo Run Successfully on D3_Test\n",
      "====================================================================================================\n"
     ]
    }
   ],
   "source": [
    "# Applying Best K on D_Test\n",
    "\n",
    "test_neigh = KNeighborsClassifier(n_neighbors = 15)\n",
    "test_neigh.fit(D3_Train,Y_Train)\n",
    "\n",
    "predicted_labels_test = []\n",
    "predicted_labels_train = []\n",
    "predict_test_prob = []\n",
    "predict_train_prob = []\n",
    "\n",
    "# Predicting the model with CrossValidation and Train Data\n",
    "for j in range(0,n_test,1000):\n",
    "    predicted_labels_test.extend(test_neigh.predict(D3_Test[j:j+1000]))\n",
    "    predict_test_prob.extend(test_neigh.predict_proba(D3_Test[j:j+1000])[:,1])\n",
    "    \n",
    "for k in range(0,n_train,1000):\n",
    "    predicted_labels_train.extend(test_neigh.predict(D3_Train[k:k+1000]))\n",
    "    predict_train_prob.extend(test_neigh.predict_proba(D3_Train[k:k+1000])[:,1])\n",
    "    \n",
    "print(len(predict_test_prob))\n",
    "print(len(Y_test))\n",
    "    \n",
    "train_fpr, train_tpr, thresholds = roc_curve(Y_Train, predict_train_prob)\n",
    "test_fpr, test_tpr, thresholds = roc_curve(Y_test, predict_test_prob)\n",
    "\n",
    "print('Algo Run Successfully on D3_Test')\n",
    "print(\"=\"*100)"
   ]
  },
  {
   "cell_type": "code",
   "execution_count": 64,
   "metadata": {},
   "outputs": [
    {
     "data": {
      "image/png": "[encoded data removed]",
      "text/plain": [
       "<Figure size 432x288 with 1 Axes>"
      ]
     },
     "metadata": {},
     "output_type": "display_data"
    },
    {
     "name": "stdout",
     "output_type": "stream",
     "text": [
      "====================================================================================================\n"
     ]
    }
   ],
   "source": [
    "# Plotting the AUC curve on Test and Train Data\n",
    "\n",
    "plt.plot(train_fpr, train_tpr, label=\"Train AUC =\"+str(auc(train_fpr, train_tpr)))\n",
    "plt.plot(test_fpr, test_tpr, label=\"Test AUC =\"+str(auc(test_fpr, test_tpr)))\n",
    "plt.legend()\n",
    "plt.xlabel(\"Hyper-parameter k\")\n",
    "plt.ylabel(\"AUC\")\n",
    "plt.title(\"ERROR PLOTS\")\n",
    "plt.show()\n",
    "\n",
    "print(\"=\"*100)"
   ]
  },
  {
   "cell_type": "code",
   "execution_count": 65,
   "metadata": {},
   "outputs": [
    {
     "name": "stdout",
     "output_type": "stream",
     "text": [
      "Train Confusion Matrix\n",
      "7092 5908 1867 14104\n",
      "[[ 7092  5908]\n",
      " [ 1867 14104]]\n",
      "========================================================================================================================\n",
      "Test Confusion Matrix\n",
      "3348 3363 608 3534\n",
      "[[3348 3363]\n",
      " [ 608 3534]]\n",
      "========================================================================================================================\n"
     ]
    }
   ],
   "source": [
    "# Getting the confusion metrics\n",
    "\n",
    "print('Train Confusion Matrix')\n",
    "tr_true_negetive,tr_false_positive, tr_false_negetive, tr_true_positive = confusion_matrix(Y_Train,predicted_labels_train).ravel()\n",
    "print(tr_true_negetive, tr_false_positive, tr_false_negetive, tr_true_positive)\n",
    "print(confusion_matrix(Y_Train,predicted_labels_train))\n",
    "print(\"=\"*120)\n",
    "\n",
    "print('Test Confusion Matrix')\n",
    "true_negetive,false_positive, false_negetive, true_positive = confusion_matrix(Y_test,predicted_labels_test).ravel()\n",
    "print(true_negetive, false_positive, false_negetive, true_positive)\n",
    "print(confusion_matrix(Y_test,predicted_labels_test))\n",
    "print(\"=\"*120)"
   ]
  },
  {
   "cell_type": "code",
   "execution_count": 12,
   "metadata": {},
   "outputs": [
    {
     "data": {
      "text/plain": [
       "<matplotlib.axes._subplots.AxesSubplot at 0x1d4fbcd5438>"
      ]
     },
     "execution_count": 12,
     "metadata": {},
     "output_type": "execute_result"
    },
    {
     "data": {
      "image/png": "[encoded data removed]",
      "text/plain": [
       "<Figure size 432x288 with 2 Axes>"
      ]
     },
     "metadata": {},
     "output_type": "display_data"
    }
   ],
   "source": [
    "conMatrix= [[tr_true_negetive,tr_false_positive],[tr_false_negetive,tr_true_positive]]\n",
    "data = conMatrix\n",
    "sns.heatmap(data, cmap=\"YlGnBu\", annot=True, fmt=\"d\")"
   ]
  },
  {
   "cell_type": "code",
   "execution_count": 13,
   "metadata": {},
   "outputs": [
    {
     "data": {
      "text/plain": [
       "<matplotlib.axes._subplots.AxesSubplot at 0x1d4fbd47d30>"
      ]
     },
     "execution_count": 13,
     "metadata": {},
     "output_type": "execute_result"
    },
    {
     "data": {
      "image/png": "[encoded data removed]",
      "text/plain": [
       "<Figure size 432x288 with 2 Axes>"
      ]
     },
     "metadata": {},
     "output_type": "display_data"
    }
   ],
   "source": [
    "conMatrix= [[true_negetive,false_positive],[false_negetive,true_positive]]\n",
    "data = conMatrix\n",
    "sns.heatmap(data, cmap=\"YlGnBu\", annot=True, fmt=\"d\")"
   ]
  },
  {
   "cell_type": "markdown",
   "metadata": {},
   "source": [
    "## Conclusion for Brute Force"
   ]
  },
  {
   "cell_type": "code",
   "execution_count": 1,
   "metadata": {},
   "outputs": [],
   "source": [
    "# Importing Pretty Table\n",
    "from prettytable import PrettyTable"
   ]
  },
  {
   "cell_type": "code",
   "execution_count": 6,
   "metadata": {},
   "outputs": [
    {
     "name": "stdout",
     "output_type": "stream",
     "text": [
      "+------------------------------+-----------------------+------+\n",
      "|          Vectorizer          | Hyper-Parameter Value | AUC  |\n",
      "+------------------------------+-----------------------+------+\n",
      "|             BOW              |         K = 9         | 0.73 |\n",
      "|            Tf-Idf            |         K = 5         | 0.58 |\n",
      "|         Avg Word2Vec         |         K = 19        | 0.78 |\n",
      "| Tf-Idf Weighted Avg Word2Vec |         K = 15        | 0.75 |\n",
      "+------------------------------+-----------------------+------+\n"
     ]
    }
   ],
   "source": [
    "x = PrettyTable()\n",
    "x.field_names = ['Vectorizer', 'Hyper-Parameter Value','AUC']\n",
    "x.add_row(['BOW','K = 9','0.73'])\n",
    "x.add_row(['Tf-Idf','K = 5 ','0.58'])\n",
    "x.add_row(['Avg Word2Vec','K = 19','0.78'])\n",
    "x.add_row(['Tf-Idf Weighted Avg Word2Vec','K = 15','0.75'])\n",
    "\n",
    "print(x)"
   ]
  },
  {
   "cell_type": "markdown",
   "metadata": {},
   "source": [
    "##### From the above table we see that for Amazon Fine Food Review Dataset with 250k datapoints as sample , KNN runs best for Avg Word2Vec Vectorizer  at K = 19 giving AUC value of 0.78 (approx). \n",
    "\n",
    "##### We have upsampled the training set explicitly.\n",
    "\n",
    "##### We have used Time Based Splitting and Simple Cross-Validation to break the data in Train , CV and Test part. These findings are from Brute Force KNN Method. "
   ]
  },
  {
   "cell_type": "code",
   "execution_count": null,
   "metadata": {},
   "outputs": [],
   "source": []
  }
 ],
 "metadata": {
  "kernelspec": {
   "display_name": "Python 3",
   "language": "python",
   "name": "python3"
  },
  "language_info": {
   "codemirror_mode": {
    "name": "ipython",
    "version": 3
   },
   "file_extension": ".py",
   "mimetype": "text/x-python",
   "name": "python",
   "nbconvert_exporter": "python",
   "pygments_lexer": "ipython3",
   "version": "3.6.5"
  }
 },
 "nbformat": 4,
 "nbformat_minor": 2
}
