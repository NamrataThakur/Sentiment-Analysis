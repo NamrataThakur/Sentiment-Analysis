{
 "cells": [
  {
   "cell_type": "markdown",
   "metadata": {},
   "source": [
    "## Amazon Fine Food Review - Logistic Regression Algorithm"
   ]
  },
  {
   "cell_type": "code",
   "execution_count": 1,
   "metadata": {},
   "outputs": [
    {
     "name": "stderr",
     "output_type": "stream",
     "text": [
      "C:\\Users\\NamrataT\\Anaconda3\\lib\\site-packages\\gensim\\utils.py:1197: UserWarning: detected Windows; aliasing chunkize to chunkize_serial\n",
      "  warnings.warn(\"detected Windows; aliasing chunkize to chunkize_serial\")\n"
     ]
    }
   ],
   "source": [
    "# Getting all the imports done\n",
    "\n",
    "%matplotlib inline\n",
    "import warnings\n",
    "warnings.filterwarnings(\"ignore\")\n",
    "\n",
    "import sqlite3\n",
    "import pandas as pd\n",
    "import numpy as np\n",
    "import nltk\n",
    "import string\n",
    "import matplotlib.pyplot as plt\n",
    "import seaborn as sns\n",
    "from sklearn.feature_extraction.text import TfidfTransformer\n",
    "from sklearn.feature_extraction.text import TfidfVectorizer\n",
    "\n",
    "from sklearn.feature_extraction.text import CountVectorizer\n",
    "from sklearn.metrics import confusion_matrix\n",
    "from sklearn import metrics\n",
    "from sklearn.metrics import roc_curve, auc\n",
    "from nltk.stem.porter import PorterStemmer\n",
    "\n",
    "import re\n",
    "# Tutorial about Python regular expressions: https://pymotw.com/2/re/\n",
    "import string\n",
    "from nltk.corpus import stopwords\n",
    "from nltk.stem import PorterStemmer\n",
    "from nltk.stem.wordnet import WordNetLemmatizer\n",
    "\n",
    "from gensim.models import Word2Vec\n",
    "from gensim.models import KeyedVectors\n",
    "import pickle\n",
    "\n",
    "from tqdm import tqdm\n",
    "import os\n",
    "import seaborn as sns"
   ]
  },
  {
   "cell_type": "code",
   "execution_count": 2,
   "metadata": {},
   "outputs": [
    {
     "name": "stdout",
     "output_type": "stream",
     "text": [
      "Number of data points in our data (100000, 10)\n"
     ]
    },
    {
     "data": {
      "text/html": [
       "<div>\n",
       "<style scoped>\n",
       "    .dataframe tbody tr th:only-of-type {\n",
       "        vertical-align: middle;\n",
       "    }\n",
       "\n",
       "    .dataframe tbody tr th {\n",
       "        vertical-align: top;\n",
       "    }\n",
       "\n",
       "    .dataframe thead th {\n",
       "        text-align: right;\n",
       "    }\n",
       "</style>\n",
       "<table border=\"1\" class=\"dataframe\">\n",
       "  <thead>\n",
       "    <tr style=\"text-align: right;\">\n",
       "      <th></th>\n",
       "      <th>Id</th>\n",
       "      <th>ProductId</th>\n",
       "      <th>UserId</th>\n",
       "      <th>ProfileName</th>\n",
       "      <th>HelpfulnessNumerator</th>\n",
       "      <th>HelpfulnessDenominator</th>\n",
       "      <th>Score</th>\n",
       "      <th>Time</th>\n",
       "      <th>Summary</th>\n",
       "      <th>Text</th>\n",
       "    </tr>\n",
       "  </thead>\n",
       "  <tbody>\n",
       "    <tr>\n",
       "      <th>0</th>\n",
       "      <td>1</td>\n",
       "      <td>B001E4KFG0</td>\n",
       "      <td>A3SGXH7AUHU8GW</td>\n",
       "      <td>delmartian</td>\n",
       "      <td>1</td>\n",
       "      <td>1</td>\n",
       "      <td>1</td>\n",
       "      <td>1303862400</td>\n",
       "      <td>Good Quality Dog Food</td>\n",
       "      <td>I have bought several of the Vitality canned d...</td>\n",
       "    </tr>\n",
       "    <tr>\n",
       "      <th>1</th>\n",
       "      <td>2</td>\n",
       "      <td>B00813GRG4</td>\n",
       "      <td>A1D87F6ZCVE5NK</td>\n",
       "      <td>dll pa</td>\n",
       "      <td>0</td>\n",
       "      <td>0</td>\n",
       "      <td>0</td>\n",
       "      <td>1346976000</td>\n",
       "      <td>Not as Advertised</td>\n",
       "      <td>Product arrived labeled as Jumbo Salted Peanut...</td>\n",
       "    </tr>\n",
       "    <tr>\n",
       "      <th>2</th>\n",
       "      <td>3</td>\n",
       "      <td>B000LQOCH0</td>\n",
       "      <td>ABXLMWJIXXAIN</td>\n",
       "      <td>Natalia Corres \"Natalia Corres\"</td>\n",
       "      <td>1</td>\n",
       "      <td>1</td>\n",
       "      <td>1</td>\n",
       "      <td>1219017600</td>\n",
       "      <td>\"Delight\" says it all</td>\n",
       "      <td>This is a confection that has been around a fe...</td>\n",
       "    </tr>\n",
       "  </tbody>\n",
       "</table>\n",
       "</div>"
      ],
      "text/plain": [
       "   Id   ProductId          UserId                      ProfileName  \\\n",
       "0   1  B001E4KFG0  A3SGXH7AUHU8GW                       delmartian   \n",
       "1   2  B00813GRG4  A1D87F6ZCVE5NK                           dll pa   \n",
       "2   3  B000LQOCH0   ABXLMWJIXXAIN  Natalia Corres \"Natalia Corres\"   \n",
       "\n",
       "   HelpfulnessNumerator  HelpfulnessDenominator  Score        Time  \\\n",
       "0                     1                       1      1  1303862400   \n",
       "1                     0                       0      0  1346976000   \n",
       "2                     1                       1      1  1219017600   \n",
       "\n",
       "                 Summary                                               Text  \n",
       "0  Good Quality Dog Food  I have bought several of the Vitality canned d...  \n",
       "1      Not as Advertised  Product arrived labeled as Jumbo Salted Peanut...  \n",
       "2  \"Delight\" says it all  This is a confection that has been around a fe...  "
      ]
     },
     "execution_count": 2,
     "metadata": {},
     "output_type": "execute_result"
    }
   ],
   "source": [
    "# using SQLite Table to read data.\n",
    "con = sqlite3.connect(r'C:\\Users\\NamrataT\\Desktop\\EXAM\\PYTHON\\Amazon Fine Food Reviews\\database.sqlite') \n",
    "\n",
    "# filtering only positive and negative reviews i.e. \n",
    "# not taking into consideration those reviews with Score=3\n",
    "# SELECT * FROM Reviews WHERE Score != 3 LIMIT 500000, will give top 500000 data points\n",
    "\n",
    "filtered_data = pd.read_sql_query(\"\"\" SELECT * FROM Reviews WHERE Score != 3 LIMIT 100000\"\"\", con) \n",
    "\n",
    "# Give reviews with Score>3 a positive rating(1), and reviews with a score<3 a negative rating(0).\n",
    "def partition(x):\n",
    "    if x < 3:\n",
    "        return 0\n",
    "    return 1\n",
    "\n",
    "#changing reviews with score less than 3 to be positive and vice-versa\n",
    "actualScore = filtered_data['Score']\n",
    "positiveNegative = actualScore.map(partition) \n",
    "filtered_data['Score'] = positiveNegative\n",
    "print(\"Number of data points in our data\", filtered_data.shape)\n",
    "filtered_data.head(3)"
   ]
  },
  {
   "cell_type": "code",
   "execution_count": 3,
   "metadata": {},
   "outputs": [
    {
     "data": {
      "text/plain": [
       "1    83876\n",
       "0    16124\n",
       "Name: Score, dtype: int64"
      ]
     },
     "execution_count": 3,
     "metadata": {},
     "output_type": "execute_result"
    }
   ],
   "source": [
    "filtered_data['Score'].value_counts()"
   ]
  },
  {
   "cell_type": "code",
   "execution_count": 4,
   "metadata": {},
   "outputs": [],
   "source": [
    "#Sorting data according to Time in ascending order\n",
    "sorted_data=filtered_data.sort_values('Time', axis=0, ascending=True, inplace=False, kind='quicksort', na_position='last')\n",
    "sorted_data.reset_index(drop=True, inplace=True)"
   ]
  },
  {
   "cell_type": "code",
   "execution_count": 5,
   "metadata": {},
   "outputs": [
    {
     "data": {
      "text/plain": [
       "(87775, 10)"
      ]
     },
     "execution_count": 5,
     "metadata": {},
     "output_type": "execute_result"
    }
   ],
   "source": [
    "#Deduplication of entries\n",
    "final=sorted_data.drop_duplicates(subset={\"UserId\",\"ProfileName\",\"Time\",\"Text\"}, keep='first', inplace=False)\n",
    "final.shape"
   ]
  },
  {
   "cell_type": "code",
   "execution_count": 6,
   "metadata": {},
   "outputs": [
    {
     "data": {
      "text/plain": [
       "87.775"
      ]
     },
     "execution_count": 6,
     "metadata": {},
     "output_type": "execute_result"
    }
   ],
   "source": [
    "#Checking to see how much % of data still remains\n",
    "(final['Id'].size*1.0)/(filtered_data['Id'].size*1.0)*100"
   ]
  },
  {
   "cell_type": "code",
   "execution_count": 7,
   "metadata": {},
   "outputs": [],
   "source": [
    "final=final[final.HelpfulnessNumerator<=final.HelpfulnessDenominator]"
   ]
  },
  {
   "cell_type": "code",
   "execution_count": 8,
   "metadata": {},
   "outputs": [
    {
     "name": "stdout",
     "output_type": "stream",
     "text": [
      "(87773, 10)\n"
     ]
    },
    {
     "data": {
      "text/plain": [
       "1    73592\n",
       "0    14181\n",
       "Name: Score, dtype: int64"
      ]
     },
     "execution_count": 8,
     "metadata": {},
     "output_type": "execute_result"
    }
   ],
   "source": [
    "#Before starting the next phase of preprocessing lets see the number of entries left\n",
    "print(final.shape)\n",
    "\n",
    "#How many positive and negative reviews are present in our dataset?\n",
    "final['Score'].value_counts()"
   ]
  },
  {
   "cell_type": "code",
   "execution_count": 9,
   "metadata": {},
   "outputs": [
    {
     "data": {
      "text/plain": [
       "(87773,)"
      ]
     },
     "execution_count": 9,
     "metadata": {},
     "output_type": "execute_result"
    }
   ],
   "source": [
    "final_score = final['Score']\n",
    "final_score.shape"
   ]
  },
  {
   "cell_type": "code",
   "execution_count": 10,
   "metadata": {},
   "outputs": [],
   "source": [
    "# https://stackoverflow.com/a/47091490/4084039\n",
    "import re\n",
    "\n",
    "def decontracted(phrase):\n",
    "    # specific\n",
    "    phrase = re.sub(r\"won't\", \"will not\", phrase)\n",
    "    phrase = re.sub(r\"can\\'t\", \"can not\", phrase)\n",
    "\n",
    "    # general\n",
    "    phrase = re.sub(r\"n\\'t\", \" not\", phrase)\n",
    "    phrase = re.sub(r\"\\'re\", \" are\", phrase)\n",
    "    phrase = re.sub(r\"\\'s\", \" is\", phrase)\n",
    "    phrase = re.sub(r\"\\'d\", \" would\", phrase)\n",
    "    phrase = re.sub(r\"\\'ll\", \" will\", phrase)\n",
    "    phrase = re.sub(r\"\\'t\", \" not\", phrase)\n",
    "    phrase = re.sub(r\"\\'ve\", \" have\", phrase)\n",
    "    phrase = re.sub(r\"\\'m\", \" am\", phrase)\n",
    "    return phrase"
   ]
  },
  {
   "cell_type": "code",
   "execution_count": 11,
   "metadata": {},
   "outputs": [],
   "source": [
    "# https://gist.github.com/sebleier/554280\n",
    "# we are removing the words from the stop words list: 'no', 'nor', 'not'\n",
    "# <br /><br /> ==> after the above steps, we are getting \"br br\"\n",
    "# we are including them into stop words list\n",
    "# instead of <br /> if we have <br/> these tags would have revmoved in the 1st step\n",
    "\n",
    "stopwords= set(['br', 'the', 'i', 'me', 'my', 'myself', 'we', 'our', 'ours', 'ourselves', 'you', \"you're\", \"you've\",\\\n",
    "            \"you'll\", \"you'd\", 'your', 'yours', 'yourself', 'yourselves', 'he', 'him', 'his', 'himself', \\\n",
    "            'she', \"she's\", 'her', 'hers', 'herself', 'it', \"it's\", 'its', 'itself', 'they', 'them', 'their',\\\n",
    "            'theirs', 'themselves', 'what', 'which', 'who', 'whom', 'this', 'that', \"that'll\", 'these', 'those', \\\n",
    "            'am', 'is', 'are', 'was', 'were', 'be', 'been', 'being', 'have', 'has', 'had', 'having', 'do', 'does', \\\n",
    "            'did', 'doing', 'a', 'an', 'the', 'and', 'but', 'if', 'or', 'because', 'as', 'until', 'while', 'of', \\\n",
    "            'at', 'by', 'for', 'with', 'about', 'against', 'between', 'into', 'through', 'during', 'before', 'after',\\\n",
    "            'above', 'below','not','no', 'to', 'from', 'up', 'down', 'in', 'out', 'on', 'off', 'over', 'under', 'again', 'further',\\\n",
    "            'then', 'once', 'here', 'there', 'when', 'where', 'why', 'how', 'all', 'any', 'both', 'each', 'few', 'more',\\\n",
    "            'most', 'other', 'some', 'such', 'only', 'own', 'same', 'so', 'than', 'too', 'very', \\\n",
    "            's', 't', 'can', 'will', 'just', 'don', \"don't\", 'should', \"should've\", 'now', 'd', 'll', 'm', 'o', 're', \\\n",
    "            've', 'y', 'ain', 'aren', \"aren't\", 'couldn', \"couldn't\", 'didn', \"didn't\", 'doesn', \"doesn't\", 'hadn',\\\n",
    "            \"hadn't\", 'hasn', \"hasn't\", 'haven', \"haven't\", 'isn', \"isn't\", 'ma', 'mightn', \"mightn't\", 'mustn',\\\n",
    "            \"mustn't\", 'needn', \"needn't\", 'shan', \"shan't\", 'shouldn', \"shouldn't\", 'wasn', \"wasn't\", 'weren', \"weren't\", \\\n",
    "            'won', \"won't\", 'wouldn', \"wouldn't\"])"
   ]
  },
  {
   "cell_type": "code",
   "execution_count": 12,
   "metadata": {},
   "outputs": [
    {
     "name": "stderr",
     "output_type": "stream",
     "text": [
      "100%|██████████████████████████████████████████████████████████████████████████| 87773/87773 [01:04<00:00, 1362.27it/s]\n"
     ]
    }
   ],
   "source": [
    "# Combining all the above stundents \n",
    "from tqdm import tqdm\n",
    "from bs4 import BeautifulSoup\n",
    "\n",
    "preprocessed_reviews = []\n",
    "# tqdm is for printing the status bar\n",
    "for sentance in tqdm(final['Text'].values):\n",
    "    sentance = re.sub(r\"http\\S+\", \"\", sentance)\n",
    "    sentance = BeautifulSoup(sentance, 'lxml').get_text()\n",
    "    sentance = decontracted(sentance)\n",
    "    sentance = re.sub(\"\\S*\\d\\S*\", \"\", sentance).strip()\n",
    "    sentance = re.sub('[^A-Za-z]+', ' ', sentance)\n",
    "    # https://gist.github.com/sebleier/554280\n",
    "    sentance = ' '.join(e.lower() for e in sentance.split() if e.lower() not in stopwords)\n",
    "    preprocessed_reviews.append(sentance.strip())"
   ]
  },
  {
   "cell_type": "markdown",
   "metadata": {},
   "source": [
    "## 1) Applying Logistic Regression"
   ]
  },
  {
   "cell_type": "markdown",
   "metadata": {},
   "source": [
    "## 1.1) Applying Logistic Regression on BOW, SET 1"
   ]
  },
  {
   "cell_type": "code",
   "execution_count": 13,
   "metadata": {},
   "outputs": [],
   "source": [
    "# Getting all the imports done\n",
    "\n",
    "from sklearn.metrics import accuracy_score\n",
    "#from sklearn.cross_validation import cross_val_score\n",
    "from collections import Counter\n",
    "from sklearn.metrics import accuracy_score\n",
    "#from sklearn import cross_validation\n",
    "from sklearn.metrics import roc_auc_score\n",
    "from sklearn import preprocessing\n",
    "from sklearn.model_selection import train_test_split\n",
    "from sklearn.metrics import auc,roc_curve\n",
    "from sklearn.metrics import confusion_matrix\n",
    "from sklearn.feature_extraction.text import TfidfVectorizer\n",
    "from sklearn.preprocessing import StandardScaler\n",
    "from sklearn.utils import resample\n",
    "from sklearn.linear_model import LogisticRegression\n",
    "from scipy.sparse import hstack"
   ]
  },
  {
   "cell_type": "code",
   "execution_count": 14,
   "metadata": {},
   "outputs": [],
   "source": [
    "final['Cleaned_Text']=preprocessed_reviews\n",
    "final_review = final[['Cleaned_Text','Score']]\n",
    "X = final_review.drop(['Score'],axis=1)\n",
    "Y = final_review['Score']"
   ]
  },
  {
   "cell_type": "code",
   "execution_count": 15,
   "metadata": {},
   "outputs": [
    {
     "name": "stdout",
     "output_type": "stream",
     "text": [
      "(56174, 1) (56174,)\n"
     ]
    }
   ],
   "source": [
    "# Please write all the code with proper documentation\n",
    "# TIME BASED SPILTTING\n",
    "# SIMPLE CROSS VALIDATION\n",
    "\n",
    "X_1, X_test, Y_1, Y_test = train_test_split(X,Y,test_size=0.2,shuffle = False)\n",
    "X_1_train, X_1_cv, Y_1_train, Y_1_cv = train_test_split( X_1, Y_1, test_size=0.2,shuffle = False)\n",
    "print(X_1_train.shape,Y_1_train.shape)"
   ]
  },
  {
   "cell_type": "code",
   "execution_count": 16,
   "metadata": {},
   "outputs": [],
   "source": [
    "df_post_split = pd.concat([X_1_train,Y_1_train],axis=1)\n",
    "x_positive = df_post_split[df_post_split['Score']==1]\n",
    "x_negetive = df_post_split[df_post_split['Score']==0]"
   ]
  },
  {
   "cell_type": "code",
   "execution_count": 17,
   "metadata": {},
   "outputs": [
    {
     "data": {
      "text/plain": [
       "1    47504\n",
       "0     8670\n",
       "Name: Score, dtype: int64"
      ]
     },
     "execution_count": 17,
     "metadata": {},
     "output_type": "execute_result"
    }
   ],
   "source": [
    "df_post_split['Score'].value_counts()"
   ]
  },
  {
   "cell_type": "code",
   "execution_count": 18,
   "metadata": {},
   "outputs": [],
   "source": [
    "# For every observation of class 1, randomly sample from class 0 without replacement\n",
    "#x_negetive_upsample = resample(x_negetive, replace = True, n_samples=17000)\n",
    "x_negative_downsample = resample(x_negetive,replace=True,n_samples=30000,random_state=123) "
   ]
  },
  {
   "cell_type": "code",
   "execution_count": 19,
   "metadata": {},
   "outputs": [
    {
     "name": "stdout",
     "output_type": "stream",
     "text": [
      "(30000, 2) <class 'pandas.core.frame.DataFrame'>\n"
     ]
    }
   ],
   "source": [
    "print(x_negative_downsample.shape, type(x_positive))"
   ]
  },
  {
   "cell_type": "code",
   "execution_count": 20,
   "metadata": {},
   "outputs": [
    {
     "data": {
      "text/html": [
       "<div>\n",
       "<style scoped>\n",
       "    .dataframe tbody tr th:only-of-type {\n",
       "        vertical-align: middle;\n",
       "    }\n",
       "\n",
       "    .dataframe tbody tr th {\n",
       "        vertical-align: top;\n",
       "    }\n",
       "\n",
       "    .dataframe thead th {\n",
       "        text-align: right;\n",
       "    }\n",
       "</style>\n",
       "<table border=\"1\" class=\"dataframe\">\n",
       "  <thead>\n",
       "    <tr style=\"text-align: right;\">\n",
       "      <th></th>\n",
       "      <th>Cleaned_Text</th>\n",
       "      <th>Score</th>\n",
       "    </tr>\n",
       "  </thead>\n",
       "  <tbody>\n",
       "    <tr>\n",
       "      <th>0</th>\n",
       "      <td>bought apartment infested fruit flies hours tr...</td>\n",
       "      <td>1</td>\n",
       "    </tr>\n",
       "    <tr>\n",
       "      <th>1</th>\n",
       "      <td>really good idea final product outstanding use...</td>\n",
       "      <td>1</td>\n",
       "    </tr>\n",
       "    <tr>\n",
       "      <th>2</th>\n",
       "      <td>received shipment could hardly wait try produc...</td>\n",
       "      <td>1</td>\n",
       "    </tr>\n",
       "    <tr>\n",
       "      <th>3</th>\n",
       "      <td>nothing product bother link top page buy used ...</td>\n",
       "      <td>1</td>\n",
       "    </tr>\n",
       "    <tr>\n",
       "      <th>4</th>\n",
       "      <td>love stuff sugar free rot gums tastes good goi...</td>\n",
       "      <td>1</td>\n",
       "    </tr>\n",
       "  </tbody>\n",
       "</table>\n",
       "</div>"
      ],
      "text/plain": [
       "                                        Cleaned_Text  Score\n",
       "0  bought apartment infested fruit flies hours tr...      1\n",
       "1  really good idea final product outstanding use...      1\n",
       "2  received shipment could hardly wait try produc...      1\n",
       "3  nothing product bother link top page buy used ...      1\n",
       "4  love stuff sugar free rot gums tastes good goi...      1"
      ]
     },
     "execution_count": 20,
     "metadata": {},
     "output_type": "execute_result"
    }
   ],
   "source": [
    "#df_upsample = pd.concat([x_positive,x_negetive_upsample])\n",
    "df_upsample = pd.concat([x_positive,x_negative_downsample])\n",
    "type(df_upsample)\n",
    "df_upsample.head()"
   ]
  },
  {
   "cell_type": "code",
   "execution_count": 21,
   "metadata": {},
   "outputs": [
    {
     "data": {
      "text/plain": [
       "1    47504\n",
       "0    30000\n",
       "Name: Score, dtype: int64"
      ]
     },
     "execution_count": 21,
     "metadata": {},
     "output_type": "execute_result"
    }
   ],
   "source": [
    "df_upsample['Score'].value_counts()"
   ]
  },
  {
   "cell_type": "code",
   "execution_count": 22,
   "metadata": {},
   "outputs": [
    {
     "name": "stdout",
     "output_type": "stream",
     "text": [
      "(77504, 1) (77504,)\n"
     ]
    }
   ],
   "source": [
    "X_Train = df_upsample.drop(['Score'],axis=1)\n",
    "Y_1_train = df_upsample['Score']\n",
    "print(X_Train.shape, Y_1_train.shape)"
   ]
  },
  {
   "cell_type": "code",
   "execution_count": 23,
   "metadata": {},
   "outputs": [
    {
     "name": "stdout",
     "output_type": "stream",
     "text": [
      "(77504, 11334) (14044, 11334) (17555, 11334)\n"
     ]
    }
   ],
   "source": [
    "# BoW -- transform with unigram and bigram\n",
    "\n",
    "ngram_vect = CountVectorizer(min_df=10)\n",
    "D1_Train = ngram_vect.fit_transform(X_Train['Cleaned_Text'])\n",
    "D1_Cv = ngram_vect.transform(X_1_cv['Cleaned_Text'])\n",
    "D1_Test = ngram_vect.transform(X_test['Cleaned_Text'])\n",
    "print(D1_Train.shape,D1_Cv.shape,D1_Test.shape)"
   ]
  },
  {
   "cell_type": "code",
   "execution_count": 24,
   "metadata": {},
   "outputs": [
    {
     "name": "stdout",
     "output_type": "stream",
     "text": [
      "77504\n",
      "14044\n",
      "17555\n"
     ]
    }
   ],
   "source": [
    "n_cv = D1_Cv.get_shape()[0]\n",
    "n_train = D1_Train.get_shape()[0]\n",
    "n_test = D1_Test.get_shape()[0]\n",
    "print(n_train)\n",
    "print(n_cv)\n",
    "print(n_test)"
   ]
  },
  {
   "cell_type": "code",
   "execution_count": 25,
   "metadata": {},
   "outputs": [
    {
     "name": "stderr",
     "output_type": "stream",
     "text": [
      "C:\\Users\\NamrataT\\Anaconda3\\lib\\site-packages\\sklearn\\utils\\validation.py:595: DataConversionWarning: Data with input dtype int64 was converted to float64 by StandardScaler.\n",
      "  warnings.warn(msg, DataConversionWarning)\n",
      "C:\\Users\\NamrataT\\Anaconda3\\lib\\site-packages\\sklearn\\utils\\validation.py:595: DataConversionWarning: Data with input dtype int64 was converted to float64 by StandardScaler.\n",
      "  warnings.warn(msg, DataConversionWarning)\n",
      "C:\\Users\\NamrataT\\Anaconda3\\lib\\site-packages\\sklearn\\utils\\validation.py:595: DataConversionWarning: Data with input dtype int64 was converted to float64 by StandardScaler.\n",
      "  warnings.warn(msg, DataConversionWarning)\n",
      "C:\\Users\\NamrataT\\Anaconda3\\lib\\site-packages\\sklearn\\utils\\validation.py:595: DataConversionWarning: Data with input dtype int64 was converted to float64 by StandardScaler.\n",
      "  warnings.warn(msg, DataConversionWarning)\n"
     ]
    },
    {
     "name": "stdout",
     "output_type": "stream",
     "text": [
      "(77504, 11334)\n",
      "(14044, 11334)\n",
      "(17555, 11334)\n"
     ]
    }
   ],
   "source": [
    "# Standardization Process\n",
    "# Changes done as suggested\n",
    "\n",
    "from sklearn.preprocessing import StandardScaler\n",
    "scaler = StandardScaler(with_mean=False)\n",
    "scaler.fit(D1_Train)\n",
    "D1_Train = scaler.transform(D1_Train)\n",
    "D1_Cv = scaler.transform(D1_Cv)\n",
    "D1_Test = scaler.transform(D1_Test)\n",
    "\n",
    "print(D1_Train.shape)\n",
    "print(D1_Cv.shape)\n",
    "print(D1_Test.shape)"
   ]
  },
  {
   "cell_type": "code",
   "execution_count": 26,
   "metadata": {},
   "outputs": [],
   "source": [
    "D1_Train=D1_Train.astype('int')\n",
    "D1_Cv=D1_Cv.astype('int')\n",
    "D1_Test=D1_Test.astype('int')\n",
    "Y_1_train=Y_1_train.astype('int')\n",
    "Y_1_cv=Y_1_cv.astype('int')\n",
    "Y_test=Y_test.astype('int')"
   ]
  },
  {
   "cell_type": "code",
   "execution_count": 27,
   "metadata": {},
   "outputs": [
    {
     "name": "stderr",
     "output_type": "stream",
     "text": [
      "\r",
      "  0%|                                                                                           | 0/11 [00:00<?, ?it/s]"
     ]
    },
    {
     "name": "stdout",
     "output_type": "stream",
     "text": [
      "77504\n",
      "14044\n",
      "\n",
      "CV Accuracy for Lamda = 0.000010 is 90.949872%\n",
      "\n",
      "CV AUC for Lamda = 0.000010 is 0.919567%\n",
      "\n",
      "Train Accuracy for Lamda = 0.000010 is 90.085673%\n",
      "\n",
      "Train AUC for Lamda = 0.000010 is 0.967433%\n"
     ]
    },
    {
     "name": "stderr",
     "output_type": "stream",
     "text": [
      "\r",
      "  9%|███████▌                                                                           | 1/11 [00:01<00:14,  1.41s/it]"
     ]
    },
    {
     "name": "stdout",
     "output_type": "stream",
     "text": [
      "77504\n",
      "14044\n",
      "\n",
      "CV Accuracy for Lamda = 0.000100 is 90.771860%\n",
      "\n",
      "CV AUC for Lamda = 0.000100 is 0.925781%\n",
      "\n",
      "Train Accuracy for Lamda = 0.000100 is 93.906121%\n",
      "\n",
      "Train AUC for Lamda = 0.000100 is 0.985440%\n"
     ]
    },
    {
     "name": "stderr",
     "output_type": "stream",
     "text": [
      "\r",
      " 18%|███████████████                                                                    | 2/11 [00:03<00:13,  1.51s/it]"
     ]
    },
    {
     "name": "stdout",
     "output_type": "stream",
     "text": [
      "77504\n",
      "14044\n",
      "\n",
      "CV Accuracy for Lamda = 0.001000 is 89.753631%\n",
      "\n",
      "CV AUC for Lamda = 0.001000 is 0.911316%\n",
      "\n",
      "Train Accuracy for Lamda = 0.001000 is 96.529211%\n",
      "\n",
      "Train AUC for Lamda = 0.001000 is 0.994098%\n"
     ]
    },
    {
     "name": "stderr",
     "output_type": "stream",
     "text": [
      "\r",
      " 27%|██████████████████████▋                                                            | 3/11 [00:05<00:15,  1.90s/it]"
     ]
    },
    {
     "name": "stdout",
     "output_type": "stream",
     "text": [
      "77504\n",
      "14044\n",
      "\n",
      "CV Accuracy for Lamda = 0.010000 is 87.994873%\n",
      "\n",
      "CV AUC for Lamda = 0.010000 is 0.884189%\n",
      "\n",
      "Train Accuracy for Lamda = 0.010000 is 98.216866%\n",
      "\n",
      "Train AUC for Lamda = 0.010000 is 0.997763%\n"
     ]
    },
    {
     "name": "stderr",
     "output_type": "stream",
     "text": [
      "\r",
      " 36%|██████████████████████████████▏                                                    | 4/11 [00:11<00:20,  2.91s/it]"
     ]
    },
    {
     "name": "stdout",
     "output_type": "stream",
     "text": [
      "77504\n",
      "14044\n",
      "\n",
      "CV Accuracy for Lamda = 0.100000 is 86.328681%\n",
      "\n",
      "CV AUC for Lamda = 0.100000 is 0.853923%\n",
      "\n",
      "Train Accuracy for Lamda = 0.100000 is 99.100692%\n",
      "\n",
      "Train AUC for Lamda = 0.100000 is 0.999253%\n"
     ]
    },
    {
     "name": "stderr",
     "output_type": "stream",
     "text": [
      " 45%|█████████████████████████████████████▋                                             | 5/11 [00:22<00:31,  5.33s/it]C:\\Users\\NamrataT\\Anaconda3\\lib\\site-packages\\sklearn\\svm\\base.py:931: ConvergenceWarning: Liblinear failed to converge, increase the number of iterations.\n",
      "  \"the number of iterations.\", ConvergenceWarning)\n"
     ]
    },
    {
     "name": "stdout",
     "output_type": "stream",
     "text": [
      "77504\n",
      "14044\n",
      "\n",
      "CV Accuracy for Lamda = 1.000000 is 84.854742%\n",
      "\n",
      "CV AUC for Lamda = 1.000000 is 0.832135%\n",
      "\n",
      "Train Accuracy for Lamda = 1.000000 is 99.695500%\n",
      "\n",
      "Train AUC for Lamda = 1.000000 is 0.999764%\n"
     ]
    },
    {
     "name": "stderr",
     "output_type": "stream",
     "text": [
      " 55%|█████████████████████████████████████████████▎                                     | 6/11 [00:52<01:03, 12.75s/it]C:\\Users\\NamrataT\\Anaconda3\\lib\\site-packages\\sklearn\\svm\\base.py:931: ConvergenceWarning: Liblinear failed to converge, increase the number of iterations.\n",
      "  \"the number of iterations.\", ConvergenceWarning)\n"
     ]
    },
    {
     "name": "stdout",
     "output_type": "stream",
     "text": [
      "77504\n",
      "14044\n",
      "\n",
      "CV Accuracy for Lamda = 10.000000 is 84.911706%\n",
      "\n",
      "CV AUC for Lamda = 10.000000 is 0.836157%\n",
      "\n",
      "Train Accuracy for Lamda = 10.000000 is 99.630987%\n",
      "\n",
      "Train AUC for Lamda = 10.000000 is 0.999655%\n"
     ]
    },
    {
     "name": "stderr",
     "output_type": "stream",
     "text": [
      " 64%|████████████████████████████████████████████████████▊                              | 7/11 [01:12<00:59, 14.89s/it]C:\\Users\\NamrataT\\Anaconda3\\lib\\site-packages\\sklearn\\svm\\base.py:931: ConvergenceWarning: Liblinear failed to converge, increase the number of iterations.\n",
      "  \"the number of iterations.\", ConvergenceWarning)\n"
     ]
    },
    {
     "name": "stdout",
     "output_type": "stream",
     "text": [
      "77504\n",
      "14044\n",
      "\n",
      "CV Accuracy for Lamda = 100.000000 is 85.132441%\n",
      "\n",
      "CV AUC for Lamda = 100.000000 is 0.838728%\n",
      "\n",
      "Train Accuracy for Lamda = 100.000000 is 99.522605%\n",
      "\n",
      "Train AUC for Lamda = 100.000000 is 0.999550%\n"
     ]
    },
    {
     "name": "stderr",
     "output_type": "stream",
     "text": [
      " 73%|████████████████████████████████████████████████████████████▎                      | 8/11 [01:28<00:45, 15.32s/it]C:\\Users\\NamrataT\\Anaconda3\\lib\\site-packages\\sklearn\\svm\\base.py:931: ConvergenceWarning: Liblinear failed to converge, increase the number of iterations.\n",
      "  \"the number of iterations.\", ConvergenceWarning)\n"
     ]
    },
    {
     "name": "stdout",
     "output_type": "stream",
     "text": [
      "77504\n",
      "14044\n",
      "\n",
      "CV Accuracy for Lamda = 1000.000000 is 85.118200%\n",
      "\n",
      "CV AUC for Lamda = 1000.000000 is 0.838514%\n",
      "\n",
      "Train Accuracy for Lamda = 1000.000000 is 99.553571%\n",
      "\n",
      "Train AUC for Lamda = 1000.000000 is 0.999573%\n"
     ]
    },
    {
     "name": "stderr",
     "output_type": "stream",
     "text": [
      " 82%|███████████████████████████████████████████████████████████████████▉               | 9/11 [01:46<00:32, 16.23s/it]C:\\Users\\NamrataT\\Anaconda3\\lib\\site-packages\\sklearn\\svm\\base.py:931: ConvergenceWarning: Liblinear failed to converge, increase the number of iterations.\n",
      "  \"the number of iterations.\", ConvergenceWarning)\n"
     ]
    },
    {
     "name": "stdout",
     "output_type": "stream",
     "text": [
      "77504\n",
      "14044\n",
      "\n",
      "CV Accuracy for Lamda = 10000.000000 is 85.139561%\n",
      "\n",
      "CV AUC for Lamda = 10000.000000 is 0.838583%\n",
      "\n",
      "Train Accuracy for Lamda = 10000.000000 is 99.549701%\n",
      "\n",
      "Train AUC for Lamda = 10000.000000 is 0.999570%\n"
     ]
    },
    {
     "name": "stderr",
     "output_type": "stream",
     "text": [
      " 91%|██████████████████████████████████████████████████████████████████████████▌       | 10/11 [02:05<00:16, 16.83s/it]C:\\Users\\NamrataT\\Anaconda3\\lib\\site-packages\\sklearn\\svm\\base.py:931: ConvergenceWarning: Liblinear failed to converge, increase the number of iterations.\n",
      "  \"the number of iterations.\", ConvergenceWarning)\n"
     ]
    },
    {
     "name": "stdout",
     "output_type": "stream",
     "text": [
      "77504\n",
      "14044\n",
      "\n",
      "CV Accuracy for Lamda = 100000.000000 is 84.812019%\n",
      "\n",
      "CV AUC for Lamda = 100000.000000 is 0.832596%\n",
      "\n",
      "Train Accuracy for Lamda = 100000.000000 is 99.695500%\n",
      "\n",
      "Train AUC for Lamda = 100000.000000 is 0.999736%\n"
     ]
    },
    {
     "name": "stderr",
     "output_type": "stream",
     "text": [
      "100%|██████████████████████████████████████████████████████████████████████████████████| 11/11 [02:27<00:00, 18.56s/it]\n"
     ]
    },
    {
     "name": "stdout",
     "output_type": "stream",
     "text": [
      "[0.9195674670012395, 0.925780864340079, 0.9113159814166234, 0.8841886998993099, 0.8539233854681564, 0.8321354726554643, 0.8361567511471311, 0.8387275215480536, 0.8385138667402856, 0.8385830106365885, 0.8325958320779172]\n",
      "[0.9674326439177051, 0.9854395794740092, 0.9940984776720557, 0.9977628694425732, 0.9992534653222185, 0.9997640033821713, 0.9996548357331312, 0.9995503603205343, 0.9995731296311889, 0.9995700246295048, 0.9997356268244078]\n"
     ]
    }
   ],
   "source": [
    "# Applying Logistic Regression with L2 Regularization\n",
    "\n",
    "cv_score = []\n",
    "train_score = []\n",
    "\n",
    "# creating list of lamda for LR\n",
    "lamda = list((0.00001,0.0001,0.001,0.01,0.1,1,10,100,1000,10000,100000))\n",
    "\n",
    "\n",
    "cv_auc = []\n",
    "train_auc = []\n",
    "cv_score = []\n",
    "train_score = []\n",
    "for i in tqdm(lamda):\n",
    "    lr = LogisticRegression(C = i)\n",
    "    \n",
    "    predicted_labels_cv = []\n",
    "    predicted_labels_train = []\n",
    "    predict_cv_prob = []\n",
    "    predict_train_prob = []\n",
    "    accuracy_cv = []\n",
    "    auc_score_cv = []\n",
    "    auc_score_train = []\n",
    "    accuracy_train = []\n",
    "    \n",
    "    # Fitting the model in Train - CrossValidation\n",
    "    lr.fit(D1_Train,Y_1_train)\n",
    "    \n",
    "    # Predicting the model with CrossValidation and Train Data\n",
    "    for j in range(0,n_cv,1000):\n",
    "        predicted_labels_cv.extend(lr.predict(D1_Cv[j:j+1000]))\n",
    "        predict_cv_prob.extend(lr.predict_log_proba(D1_Cv[j:j+1000])[:,1])\n",
    "    \n",
    "    for k in range(0,n_train,1000):\n",
    "        predicted_labels_train.extend(lr.predict(D1_Train[k:k+1000]))\n",
    "        predict_train_prob.extend(lr.predict_log_proba(D1_Train[k:k+1000])[:,1])\n",
    "    \n",
    "    print(len(predict_train_prob))\n",
    "    print(len(Y_1_cv))\n",
    "    \n",
    "    # Getting the Cross-Validation Accuracy and AUC Score\n",
    "    auc_score_cv = roc_auc_score(Y_1_cv,predict_cv_prob)\n",
    "    accuracy_cv = accuracy_score(Y_1_cv,predicted_labels_cv,normalize=True)* float(100)\n",
    "    print('\\nCV Accuracy for Lamda = %f is %f%%' % (i,accuracy_cv))\n",
    "    print('\\nCV AUC for Lamda = %f is %f%%' % (i,auc_score_cv))\n",
    "    cv_score.append(accuracy_cv)\n",
    "    cv_auc.append(auc_score_cv)\n",
    "    \n",
    "    # Getting the Training Accuracy and AUC Score\n",
    "    auc_score_train = roc_auc_score(Y_1_train,predict_train_prob)\n",
    "    accuracy_train = accuracy_score(Y_1_train,predicted_labels_train, normalize=True)* float(100)\n",
    "    print('\\nTrain Accuracy for Lamda = %f is %f%%' % (i,accuracy_train))\n",
    "    print('\\nTrain AUC for Lamda = %f is %f%%' % (i,auc_score_train))\n",
    "    train_score.append(accuracy_train)\n",
    "    train_auc.append(auc_score_train)\n",
    "\n",
    "# Misclassification Error ( Cross-Validation Error )\n",
    "cv_error = [1 - x for x in cv_score]\n",
    "\n",
    "# Misclassification Error ( Training Error )\n",
    "train_error = [1 - x for x in train_score]  \n",
    "\n",
    "print(cv_auc)\n",
    "print(train_auc)"
   ]
  },
  {
   "cell_type": "code",
   "execution_count": 28,
   "metadata": {},
   "outputs": [
    {
     "name": "stdout",
     "output_type": "stream",
     "text": [
      "1e-05 -11.512925464970229\n",
      "0.0001 -9.210340371976182\n",
      "0.001 -6.907755278982137\n",
      "0.01 -4.605170185988091\n",
      "0.1 -2.3025850929940455\n",
      "1 0.0\n",
      "10 2.302585092994046\n",
      "100 4.605170185988092\n",
      "1000 6.907755278982137\n",
      "10000 9.210340371976184\n",
      "100000 11.512925464970229\n"
     ]
    }
   ],
   "source": [
    "import math\n",
    "alpha = []\n",
    "for n in range(len(lamda)):\n",
    "    alpha1 = lamda[n]\n",
    "    x = math.log(alpha1)\n",
    "    print(alpha1,x)\n",
    "    alpha.append(x)"
   ]
  },
  {
   "cell_type": "code",
   "execution_count": 29,
   "metadata": {},
   "outputs": [
    {
     "data": {
      "image/png": "[encoded data removed]",
      "text/plain": [
       "<Figure size 432x288 with 1 Axes>"
      ]
     },
     "metadata": {},
     "output_type": "display_data"
    }
   ],
   "source": [
    "# Plotting Train_AUC and CV_AUC against Lamda\n",
    "plt.plot(alpha,train_auc)\n",
    "plt.plot(alpha,cv_auc)\n",
    "plt.legend(['Train AUC', 'CV AUC'], loc='upper right')\n",
    "plt.title(\"ERROR PLOTS for BOW Vectorizer\")\n",
    "plt.xlabel('Hyper-parameter Lamda')\n",
    "plt.ylabel('AUC Value')\n",
    "plt.show()"
   ]
  },
  {
   "cell_type": "code",
   "execution_count": 30,
   "metadata": {},
   "outputs": [
    {
     "name": "stdout",
     "output_type": "stream",
     "text": [
      "AUC Metric Best Lamda = 0.000100\n",
      "0.926\n"
     ]
    }
   ],
   "source": [
    "# Getting the optimal Alpha Based to CV AUC\n",
    "optimal_lamda_auc = lamda[cv_auc.index(max(cv_auc))]\n",
    "best_cv_auc = max([ '%.3f' % elem for elem in cv_auc ])\n",
    "print('AUC Metric Best Lamda = %f' % optimal_lamda_auc)\n",
    "print(best_cv_auc)"
   ]
  },
  {
   "cell_type": "code",
   "execution_count": 40,
   "metadata": {},
   "outputs": [
    {
     "name": "stdout",
     "output_type": "stream",
     "text": [
      "17555\n",
      "17555\n",
      "Algo Run Successfully on D_Test\n",
      "====================================================================================================\n"
     ]
    }
   ],
   "source": [
    "# Applying Best K on D_Test\n",
    "\n",
    "test_neigh = LogisticRegression(C = 0.0001)\n",
    "test_neigh.fit(D1_Train,Y_1_train)\n",
    "\n",
    "predicted_labels_test = []\n",
    "predicted_labels_train = []\n",
    "predict_test_prob = []\n",
    "predict_train_prob = []\n",
    "predict_test_logprob = []\n",
    "predict_train_logprob = []\n",
    "\n",
    "# Predicting the model with CrossValidation and Train Data\n",
    "for j in range(0,n_test,1000):\n",
    "    predicted_labels_test.extend(test_neigh.predict(D1_Test[j:j+1000]))\n",
    "    predict_test_prob.extend(test_neigh.predict_proba(D1_Test[j:j+1000])[:,1])\n",
    "    \n",
    "for k in range(0,n_train,1000):\n",
    "    predicted_labels_train.extend(test_neigh.predict(D1_Train[k:k+1000]))\n",
    "    predict_train_prob.extend(test_neigh.predict_proba(D1_Train[k:k+1000])[:,1])\n",
    "    \n",
    "print(len(predict_test_prob))\n",
    "print(len(Y_test))\n",
    "    \n",
    "train_fpr, train_tpr, thresholds = roc_curve(Y_1_train, predict_train_prob)\n",
    "test_fpr, test_tpr, thresholds = roc_curve(Y_test, predict_test_prob)\n",
    "\n",
    "print('Algo Run Successfully on D_Test')\n",
    "print(\"=\"*100)\n"
   ]
  },
  {
   "cell_type": "code",
   "execution_count": 41,
   "metadata": {},
   "outputs": [
    {
     "data": {
      "image/png": "[encoded data removed]",
      "text/plain": [
       "<Figure size 432x288 with 1 Axes>"
      ]
     },
     "metadata": {},
     "output_type": "display_data"
    },
    {
     "name": "stdout",
     "output_type": "stream",
     "text": [
      "====================================================================================================\n"
     ]
    }
   ],
   "source": [
    "# Plotting the AUC curve on Test and Train Data\n",
    "\n",
    "plt.plot(train_fpr, train_tpr, label=\"Train AUC =\"+str(auc(train_fpr, train_tpr)))\n",
    "plt.plot(test_fpr, test_tpr, label=\"Test AUC =\"+str(auc(test_fpr, test_tpr)))\n",
    "plt.legend()\n",
    "plt.xlabel(\"FPR\")\n",
    "plt.ylabel(\"TPR\")\n",
    "plt.title(\"ERROR PLOTS\")\n",
    "plt.show()\n",
    "\n",
    "print(\"=\"*100)"
   ]
  },
  {
   "cell_type": "code",
   "execution_count": 42,
   "metadata": {},
   "outputs": [
    {
     "name": "stdout",
     "output_type": "stream",
     "text": [
      "Train Confusion Matrix\n",
      "26857 3143 1580 45924\n",
      "[[26857  3143]\n",
      " [ 1580 45924]]\n",
      "========================================================================================================================\n",
      "Test Confusion Matrix\n",
      "2095 819 801 13840\n",
      "[[ 2095   819]\n",
      " [  801 13840]]\n",
      "========================================================================================================================\n"
     ]
    }
   ],
   "source": [
    "# Getting the confusion metrics\n",
    "\n",
    "print('Train Confusion Matrix')\n",
    "tr_true_negetive,tr_false_positive, tr_false_negetive, tr_true_positive = confusion_matrix(Y_1_train,predicted_labels_train).ravel()\n",
    "print(tr_true_negetive, tr_false_positive, tr_false_negetive, tr_true_positive)\n",
    "print(confusion_matrix(Y_1_train,predicted_labels_train))\n",
    "print(\"=\"*120)\n",
    "\n",
    "print('Test Confusion Matrix')\n",
    "true_negetive,false_positive, false_negetive, true_positive = confusion_matrix(Y_test,predicted_labels_test).ravel()\n",
    "print(true_negetive, false_positive, false_negetive, true_positive)\n",
    "print(confusion_matrix(Y_test,predicted_labels_test))\n",
    "print(\"=\"*120)"
   ]
  },
  {
   "cell_type": "markdown",
   "metadata": {},
   "source": [
    "##### Heatmap on the model created by L2 Regularizer"
   ]
  },
  {
   "cell_type": "code",
   "execution_count": 156,
   "metadata": {},
   "outputs": [
    {
     "data": {
      "text/plain": [
       "Text(0.5,1,'Confusion Matrix of Train Data')"
      ]
     },
     "execution_count": 156,
     "metadata": {},
     "output_type": "execute_result"
    },
    {
     "data": {
      "image/png": "[encoded data removed]",
      "text/plain": [
       "<Figure size 432x288 with 2 Axes>"
      ]
     },
     "metadata": {},
     "output_type": "display_data"
    }
   ],
   "source": [
    "conMatrix= [[tr_true_negetive,tr_false_positive],[tr_false_negetive,tr_true_positive]]\n",
    "data = conMatrix\n",
    "sns.heatmap(data, cmap=\"YlGnBu\", annot=True, fmt=\"d\")\n",
    "plt.xlabel('Actual Values')\n",
    "plt.ylabel('Predicted Values')\n",
    "plt.title('Confusion Matrix of Train Data')"
   ]
  },
  {
   "cell_type": "code",
   "execution_count": 157,
   "metadata": {},
   "outputs": [
    {
     "data": {
      "text/plain": [
       "Text(0.5,1,'Confusion Matrix of Test Data')"
      ]
     },
     "execution_count": 157,
     "metadata": {},
     "output_type": "execute_result"
    },
    {
     "data": {
      "image/png": "[encoded data removed]",
      "text/plain": [
       "<Figure size 432x288 with 2 Axes>"
      ]
     },
     "metadata": {},
     "output_type": "display_data"
    }
   ],
   "source": [
    "conMatrix= [[true_negetive,false_positive],[false_negetive,true_positive]]\n",
    "data = conMatrix\n",
    "sns.heatmap(data, cmap=\"YlGnBu\", annot=True, fmt=\"d\")\n",
    "plt.xlabel('Actual Values')\n",
    "plt.ylabel('Predicted Values')\n",
    "plt.title('Confusion Matrix of Test Data')"
   ]
  },
  {
   "cell_type": "code",
   "execution_count": 70,
   "metadata": {},
   "outputs": [
    {
     "name": "stdout",
     "output_type": "stream",
     "text": [
      "[[-0.00896849  0.00041388 -0.00107146 ... -0.00209     0.00151501\n",
      "   0.00416625]]\n",
      "Total number of non-zero values in the weight vector :  11334\n"
     ]
    }
   ],
   "source": [
    "# Weight Vector for L2 Regularization\n",
    "\n",
    "w_l2 = test_neigh.coef_\n",
    "print(w_l2)\n",
    "l2_count = np.count_nonzero(w_l2)\n",
    "print(\"Total number of non-zero values in the weight vector : \",np.count_nonzero(w_l2))"
   ]
  },
  {
   "cell_type": "code",
   "execution_count": 37,
   "metadata": {},
   "outputs": [
    {
     "name": "stdout",
     "output_type": "stream",
     "text": [
      "\t-0.1152\tdisappointed   \t\t0.1778\tgreat          \n",
      "\t-0.0950\tworst          \t\t0.1387\tlove           \n",
      "\t-0.0928\tbad            \t\t0.1374\tbest           \n",
      "\t-0.0904\tdisappointing  \t\t0.1241\tdelicious      \n",
      "\t-0.0857\twaste          \t\t0.1190\tloves          \n",
      "\t-0.0852\tterrible       \t\t0.1041\tgood           \n",
      "\t-0.0844\tawful          \t\t0.1023\tperfect        \n",
      "\t-0.0809\thorrible       \t\t0.0973\texcellent      \n",
      "\t-0.0762\tmoney          \t\t0.0883\thighly         \n",
      "\t-0.0734\tunfortunately  \t\t0.0878\twonderful      \n"
     ]
    }
   ],
   "source": [
    "# Feature Importance on L2 Regularization\n",
    "\n",
    "feature = ngram_vect.get_feature_names()\n",
    "coefs_with_fns = sorted(zip(test_neigh.coef_[0], feature))\n",
    "top = zip(coefs_with_fns[:10], coefs_with_fns[:-11:-1])\n",
    "for (coef_1, fn_1), (coef_2, fn_2) in top:\n",
    "    print (\"\\t%.4f\\t%-15s\\t\\t%.4f\\t%-15s\" % (coef_1, fn_1, coef_2, fn_2))"
   ]
  },
  {
   "cell_type": "markdown",
   "metadata": {},
   "source": [
    "#### Performing the Perturbation Test by adding noise "
   ]
  },
  {
   "cell_type": "code",
   "execution_count": 47,
   "metadata": {},
   "outputs": [
    {
     "name": "stdout",
     "output_type": "stream",
     "text": [
      "(77504, 11334)\n"
     ]
    }
   ],
   "source": [
    "# Pertubation Testing -- Adding Noise\n",
    "\n",
    "e = np.random.normal(0,0.01)\n",
    "D1_Train.data = D1_Train.data + e\n",
    "print(D1_Train.shape)"
   ]
  },
  {
   "cell_type": "code",
   "execution_count": 48,
   "metadata": {},
   "outputs": [
    {
     "name": "stderr",
     "output_type": "stream",
     "text": [
      "\r",
      "  0%|                                                                                           | 0/11 [00:00<?, ?it/s]"
     ]
    },
    {
     "name": "stdout",
     "output_type": "stream",
     "text": [
      "77504\n",
      "14044\n",
      "\n",
      "CV Accuracy for Lamda = 0.000010 is 90.942751%\n",
      "\n",
      "CV AUC for Lamda = 0.000010 is 0.919604%\n",
      "\n",
      "Train Accuracy for Lamda = 0.000010 is 90.088254%\n",
      "\n",
      "Train AUC for Lamda = 0.000010 is 0.967446%\n"
     ]
    },
    {
     "name": "stderr",
     "output_type": "stream",
     "text": [
      "\r",
      "  9%|███████▌                                                                           | 1/11 [00:01<00:10,  1.01s/it]"
     ]
    },
    {
     "name": "stdout",
     "output_type": "stream",
     "text": [
      "77504\n",
      "14044\n",
      "\n",
      "CV Accuracy for Lamda = 0.000100 is 90.757619%\n",
      "\n",
      "CV AUC for Lamda = 0.000100 is 0.925792%\n",
      "\n",
      "Train Accuracy for Lamda = 0.000100 is 93.906121%\n",
      "\n",
      "Train AUC for Lamda = 0.000100 is 0.985446%\n"
     ]
    },
    {
     "name": "stderr",
     "output_type": "stream",
     "text": [
      "\r",
      " 18%|███████████████                                                                    | 2/11 [00:02<00:10,  1.19s/it]"
     ]
    },
    {
     "name": "stdout",
     "output_type": "stream",
     "text": [
      "77504\n",
      "14044\n",
      "\n",
      "CV Accuracy for Lamda = 0.001000 is 89.746511%\n",
      "\n",
      "CV AUC for Lamda = 0.001000 is 0.911303%\n",
      "\n",
      "Train Accuracy for Lamda = 0.001000 is 96.536953%\n",
      "\n",
      "Train AUC for Lamda = 0.001000 is 0.994101%\n"
     ]
    },
    {
     "name": "stderr",
     "output_type": "stream",
     "text": [
      "\r",
      " 27%|██████████████████████▋                                                            | 3/11 [00:05<00:13,  1.65s/it]"
     ]
    },
    {
     "name": "stdout",
     "output_type": "stream",
     "text": [
      "77504\n",
      "14044\n",
      "\n",
      "CV Accuracy for Lamda = 0.010000 is 87.987753%\n",
      "\n",
      "CV AUC for Lamda = 0.010000 is 0.884148%\n",
      "\n",
      "Train Accuracy for Lamda = 0.010000 is 98.219447%\n",
      "\n",
      "Train AUC for Lamda = 0.010000 is 0.997764%\n"
     ]
    },
    {
     "name": "stderr",
     "output_type": "stream",
     "text": [
      "\r",
      " 36%|██████████████████████████████▏                                                    | 4/11 [00:10<00:18,  2.69s/it]"
     ]
    },
    {
     "name": "stdout",
     "output_type": "stream",
     "text": [
      "77504\n",
      "14044\n",
      "\n",
      "CV Accuracy for Lamda = 0.100000 is 86.328681%\n",
      "\n",
      "CV AUC for Lamda = 0.100000 is 0.853865%\n",
      "\n",
      "Train Accuracy for Lamda = 0.100000 is 99.101982%\n",
      "\n",
      "Train AUC for Lamda = 0.100000 is 0.999254%\n"
     ]
    },
    {
     "name": "stderr",
     "output_type": "stream",
     "text": [
      " 45%|█████████████████████████████████████▋                                             | 5/11 [00:19<00:28,  4.69s/it]C:\\Users\\NamrataT\\Anaconda3\\lib\\site-packages\\sklearn\\svm\\base.py:931: ConvergenceWarning: Liblinear failed to converge, increase the number of iterations.\n",
      "  \"the number of iterations.\", ConvergenceWarning)\n"
     ]
    },
    {
     "name": "stdout",
     "output_type": "stream",
     "text": [
      "77504\n",
      "14044\n",
      "\n",
      "CV Accuracy for Lamda = 1.000000 is 85.139561%\n",
      "\n",
      "CV AUC for Lamda = 1.000000 is 0.838908%\n",
      "\n",
      "Train Accuracy for Lamda = 1.000000 is 99.512283%\n",
      "\n",
      "Train AUC for Lamda = 1.000000 is 0.999543%\n"
     ]
    },
    {
     "name": "stderr",
     "output_type": "stream",
     "text": [
      " 55%|█████████████████████████████████████████████▎                                     | 6/11 [00:37<00:43,  8.71s/it]C:\\Users\\NamrataT\\Anaconda3\\lib\\site-packages\\sklearn\\svm\\base.py:931: ConvergenceWarning: Liblinear failed to converge, increase the number of iterations.\n",
      "  \"the number of iterations.\", ConvergenceWarning)\n"
     ]
    },
    {
     "name": "stdout",
     "output_type": "stream",
     "text": [
      "77504\n",
      "14044\n",
      "\n",
      "CV Accuracy for Lamda = 10.000000 is 84.897465%\n",
      "\n",
      "CV AUC for Lamda = 10.000000 is 0.835751%\n",
      "\n",
      "Train Accuracy for Lamda = 10.000000 is 99.640019%\n",
      "\n",
      "Train AUC for Lamda = 10.000000 is 0.999659%\n"
     ]
    },
    {
     "name": "stderr",
     "output_type": "stream",
     "text": [
      " 64%|████████████████████████████████████████████████████▊                              | 7/11 [00:59<00:50, 12.50s/it]C:\\Users\\NamrataT\\Anaconda3\\lib\\site-packages\\sklearn\\svm\\base.py:931: ConvergenceWarning: Liblinear failed to converge, increase the number of iterations.\n",
      "  \"the number of iterations.\", ConvergenceWarning)\n"
     ]
    },
    {
     "name": "stdout",
     "output_type": "stream",
     "text": [
      "77504\n",
      "14044\n",
      "\n",
      "CV Accuracy for Lamda = 100.000000 is 84.854742%\n",
      "\n",
      "CV AUC for Lamda = 100.000000 is 0.832950%\n",
      "\n",
      "Train Accuracy for Lamda = 100.000000 is 99.681307%\n",
      "\n",
      "Train AUC for Lamda = 100.000000 is 0.999719%\n"
     ]
    },
    {
     "name": "stderr",
     "output_type": "stream",
     "text": [
      " 73%|████████████████████████████████████████████████████████████▎                      | 8/11 [01:20<00:45, 15.25s/it]C:\\Users\\NamrataT\\Anaconda3\\lib\\site-packages\\sklearn\\svm\\base.py:931: ConvergenceWarning: Liblinear failed to converge, increase the number of iterations.\n",
      "  \"the number of iterations.\", ConvergenceWarning)\n"
     ]
    },
    {
     "name": "stdout",
     "output_type": "stream",
     "text": [
      "77504\n",
      "14044\n",
      "\n",
      "CV Accuracy for Lamda = 1000.000000 is 85.175164%\n",
      "\n",
      "CV AUC for Lamda = 1000.000000 is 0.838769%\n",
      "\n",
      "Train Accuracy for Lamda = 1000.000000 is 99.545830%\n",
      "\n",
      "Train AUC for Lamda = 1000.000000 is 0.999564%\n"
     ]
    },
    {
     "name": "stderr",
     "output_type": "stream",
     "text": [
      " 82%|███████████████████████████████████████████████████████████████████▉               | 9/11 [01:37<00:31, 15.64s/it]C:\\Users\\NamrataT\\Anaconda3\\lib\\site-packages\\sklearn\\svm\\base.py:931: ConvergenceWarning: Liblinear failed to converge, increase the number of iterations.\n",
      "  \"the number of iterations.\", ConvergenceWarning)\n"
     ]
    },
    {
     "name": "stdout",
     "output_type": "stream",
     "text": [
      "77504\n",
      "14044\n",
      "\n",
      "CV Accuracy for Lamda = 10000.000000 is 84.876104%\n",
      "\n",
      "CV AUC for Lamda = 10000.000000 is 0.833476%\n",
      "\n",
      "Train Accuracy for Lamda = 10000.000000 is 99.672275%\n",
      "\n",
      "Train AUC for Lamda = 10000.000000 is 0.999710%\n"
     ]
    },
    {
     "name": "stderr",
     "output_type": "stream",
     "text": [
      " 91%|██████████████████████████████████████████████████████████████████████████▌       | 10/11 [01:59<00:17, 17.65s/it]C:\\Users\\NamrataT\\Anaconda3\\lib\\site-packages\\sklearn\\svm\\base.py:931: ConvergenceWarning: Liblinear failed to converge, increase the number of iterations.\n",
      "  \"the number of iterations.\", ConvergenceWarning)\n"
     ]
    },
    {
     "name": "stdout",
     "output_type": "stream",
     "text": [
      "77504\n",
      "14044\n",
      "\n",
      "CV Accuracy for Lamda = 100000.000000 is 85.054116%\n",
      "\n",
      "CV AUC for Lamda = 100000.000000 is 0.837096%\n",
      "\n",
      "Train Accuracy for Lamda = 100000.000000 is 99.611633%\n",
      "\n",
      "Train AUC for Lamda = 100000.000000 is 0.999630%\n"
     ]
    },
    {
     "name": "stderr",
     "output_type": "stream",
     "text": [
      "100%|██████████████████████████████████████████████████████████████████████████████████| 11/11 [02:19<00:00, 18.30s/it]\n"
     ]
    },
    {
     "name": "stdout",
     "output_type": "stream",
     "text": [
      "[0.9196043684141533, 0.9257923350618691, 0.9113029296862583, 0.8841476273148363, 0.8538645013083519, 0.8389077397063811, 0.8357508187858398, 0.8329496247947086, 0.8387689136980904, 0.8334756801692311, 0.8370955170367297]\n",
      "[0.9674464588946896, 0.985445503887392, 0.9941011153446726, 0.9977641170568091, 0.9992540210648927, 0.9995433440692714, 0.9996591679998877, 0.9997194709919164, 0.9995644650976758, 0.9997104864853485, 0.9996297795975075]\n"
     ]
    }
   ],
   "source": [
    "# Applying Logistic Regression with L2 Regularization ( Pertubation Testing Phase )\n",
    "\n",
    "cv_score = []\n",
    "train_score = []\n",
    "\n",
    "# creating list of lamda for LR\n",
    "lamda = list((0.00001,0.0001,0.001,0.01,0.1,1,10,100,1000,10000,100000))\n",
    "\n",
    "\n",
    "cv_auc = []\n",
    "train_auc = []\n",
    "cv_score = []\n",
    "train_score = []\n",
    "for i in tqdm(lamda):\n",
    "    lr = LogisticRegression(C = i)\n",
    "    \n",
    "    predicted_labels_cv = []\n",
    "    predicted_labels_train = []\n",
    "    predict_cv_prob = []\n",
    "    predict_train_prob = []\n",
    "    accuracy_cv = []\n",
    "    auc_score_cv = []\n",
    "    auc_score_train = []\n",
    "    accuracy_train = []\n",
    "    \n",
    "    # Fitting the model in Train - CrossValidation\n",
    "    lr.fit(D1_Train,Y_1_train)\n",
    "    \n",
    "    # Predicting the model with CrossValidation and Train Data\n",
    "    for j in range(0,n_cv,1000):\n",
    "        predicted_labels_cv.extend(lr.predict(D1_Cv[j:j+1000]))\n",
    "        predict_cv_prob.extend(lr.predict_log_proba(D1_Cv[j:j+1000])[:,1])\n",
    "    \n",
    "    for k in range(0,n_train,1000):\n",
    "        predicted_labels_train.extend(lr.predict(D1_Train[k:k+1000]))\n",
    "        predict_train_prob.extend(lr.predict_log_proba(D1_Train[k:k+1000])[:,1])\n",
    "    \n",
    "    print(len(predict_train_prob))\n",
    "    print(len(Y_1_cv))\n",
    "    \n",
    "    # Getting the Cross-Validation Accuracy and AUC Score\n",
    "    auc_score_cv = roc_auc_score(Y_1_cv,predict_cv_prob)\n",
    "    accuracy_cv = accuracy_score(Y_1_cv,predicted_labels_cv,normalize=True)* float(100)\n",
    "    print('\\nCV Accuracy for Lamda = %f is %f%%' % (i,accuracy_cv))\n",
    "    print('\\nCV AUC for Lamda = %f is %f%%' % (i,auc_score_cv))\n",
    "    cv_score.append(accuracy_cv)\n",
    "    cv_auc.append(auc_score_cv)\n",
    "    \n",
    "    # Getting the Training Accuracy and AUC Score\n",
    "    auc_score_train = roc_auc_score(Y_1_train,predict_train_prob)\n",
    "    accuracy_train = accuracy_score(Y_1_train,predicted_labels_train, normalize=True)* float(100)\n",
    "    print('\\nTrain Accuracy for Lamda = %f is %f%%' % (i,accuracy_train))\n",
    "    print('\\nTrain AUC for Lamda = %f is %f%%' % (i,auc_score_train))\n",
    "    train_score.append(accuracy_train)\n",
    "    train_auc.append(auc_score_train)\n",
    "\n",
    "# Misclassification Error ( Cross-Validation Error )\n",
    "cv_error = [1 - x for x in cv_score]\n",
    "\n",
    "# Misclassification Error ( Training Error )\n",
    "train_error = [1 - x for x in train_score]  \n",
    "\n",
    "print(cv_auc)\n",
    "print(train_auc)"
   ]
  },
  {
   "cell_type": "code",
   "execution_count": 43,
   "metadata": {},
   "outputs": [
    {
     "name": "stdout",
     "output_type": "stream",
     "text": [
      "17555\n",
      "17555\n",
      "Algo Run Successfully on D_Test\n",
      "====================================================================================================\n"
     ]
    }
   ],
   "source": [
    "# Fitting the model on Test Data\n",
    "# Applying Best K on D_Test\n",
    "\n",
    "test_neigh_pert = LogisticRegression(C = 0.0001)\n",
    "test_neigh_pert.fit(D1_Train,Y_1_train)\n",
    "\n",
    "predicted_labels_test = []\n",
    "predicted_labels_train = []\n",
    "predict_test_prob = []\n",
    "predict_train_prob = []\n",
    "predict_test_logprob = []\n",
    "predict_train_logprob = []\n",
    "\n",
    "# Predicting the model with CrossValidation and Train Data\n",
    "for j in range(0,n_test,1000):\n",
    "    predicted_labels_test.extend(test_neigh_pert.predict(D1_Test[j:j+1000]))\n",
    "    predict_test_prob.extend(test_neigh_pert.predict_proba(D1_Test[j:j+1000])[:,1])\n",
    "    \n",
    "for k in range(0,n_train,1000):\n",
    "    predicted_labels_train.extend(test_neigh_pert.predict(D1_Train[k:k+1000]))\n",
    "    predict_train_prob.extend(test_neigh_pert.predict_proba(D1_Train[k:k+1000])[:,1])\n",
    "    \n",
    "print(len(predict_test_prob))\n",
    "print(len(Y_test))\n",
    "    \n",
    "train_fpr, train_tpr, thresholds = roc_curve(Y_1_train, predict_train_prob)\n",
    "test_fpr, test_tpr, thresholds = roc_curve(Y_test, predict_test_prob)\n",
    "\n",
    "print('Algo Run Successfully on D_Test')\n",
    "print(\"=\"*100)\n"
   ]
  },
  {
   "cell_type": "code",
   "execution_count": 75,
   "metadata": {},
   "outputs": [],
   "source": [
    "# Finding the % change in weight vector for the pertubation testing\n",
    "\n",
    "w_new_l2 = test_neigh_pert.coef_\n",
    "w_l2 = w_l2 + 10**-6\n",
    "w_new_l2 = w_new_l2 + 10**-6\n",
    "percentage_change_vector = (abs((w_l2 - w_new_l2)/w_l2))*100"
   ]
  },
  {
   "cell_type": "code",
   "execution_count": 76,
   "metadata": {},
   "outputs": [
    {
     "data": {
      "text/plain": [
       "array([1.87184065e-02, 1.16867935e+02, 2.30776204e+02, 3.31745114e+02,\n",
       "       4.28607448e+02, 5.37514929e+02, 6.80214348e+02, 8.88528820e+02,\n",
       "       1.24562843e+03, 2.36443092e+03])"
      ]
     },
     "execution_count": 76,
     "metadata": {},
     "output_type": "execute_result"
    }
   ],
   "source": [
    "percentiles_vector = np.percentile(percentage_change_vector,np.arange(0,100,10))\n",
    "percentiles_vector"
   ]
  },
  {
   "cell_type": "code",
   "execution_count": 77,
   "metadata": {},
   "outputs": [
    {
     "data": {
      "text/plain": [
       "array([ 888.52881997, 1034.77012751, 1245.62842576, 1592.03944682,\n",
       "       2364.43091681, 4761.37178988])"
      ]
     },
     "execution_count": 77,
     "metadata": {},
     "output_type": "execute_result"
    }
   ],
   "source": [
    "percentiles_vector_70_100 = np.percentile(percentage_change_vector,np.arange(70,100,5))\n",
    "percentiles_vector_70_100"
   ]
  },
  {
   "cell_type": "code",
   "execution_count": 78,
   "metadata": {},
   "outputs": [
    {
     "data": {
      "text/plain": [
       "array([  888.52881997,   913.04001052,   941.45951642,   970.56341246,\n",
       "        1000.85657202,  1034.77012751,  1071.02633633,  1108.11874763,\n",
       "        1152.75654189,  1192.63020193,  1245.62842576,  1297.58323086,\n",
       "        1356.3579155 ,  1424.52025384,  1498.93222824,  1592.03944682,\n",
       "        1682.75633898,  1804.33315132,  1969.66397702,  2144.91380954,\n",
       "        2364.43091681,  2585.81480929,  2870.67962886,  3290.09249785,\n",
       "        3877.55032308,  4761.37178988,  5804.11755636,  7906.28354973,\n",
       "       12289.01904769, 24281.37252139])"
      ]
     },
     "execution_count": 78,
     "metadata": {},
     "output_type": "execute_result"
    }
   ],
   "source": [
    "percentiles_vector_70_100_5 = np.percentile(percentage_change_vector,np.arange(70,100,1))\n",
    "percentiles_vector_70_100_5"
   ]
  },
  {
   "cell_type": "code",
   "execution_count": 79,
   "metadata": {},
   "outputs": [
    {
     "data": {
      "text/plain": [
       "array([ 2364.43091681,  2585.81480929,  2870.67962886,  3290.09249785,\n",
       "        3877.55032308,  4761.37178988,  5804.11755636,  7906.28354973,\n",
       "       12289.01904769, 24281.37252139])"
      ]
     },
     "execution_count": 79,
     "metadata": {},
     "output_type": "execute_result"
    }
   ],
   "source": [
    "percentiles_vector_90_100 = np.percentile(percentage_change_vector,np.arange(90,100,1))\n",
    "percentiles_vector_90_100"
   ]
  },
  {
   "cell_type": "code",
   "execution_count": 80,
   "metadata": {},
   "outputs": [
    {
     "data": {
      "text/plain": [
       "array([ 3877.55032308,  4761.37178988,  5804.11755636,  7906.28354973,\n",
       "       12289.01904769, 24281.37252139])"
      ]
     },
     "execution_count": 80,
     "metadata": {},
     "output_type": "execute_result"
    }
   ],
   "source": [
    "percentiles_vector_94_100 = np.percentile(percentage_change_vector,np.arange(94,100,1))\n",
    "percentiles_vector_94_100"
   ]
  },
  {
   "cell_type": "code",
   "execution_count": 81,
   "metadata": {},
   "outputs": [
    {
     "data": {
      "text/plain": [
       "array([3877.55032308, 3955.58243588, 4015.36327152, 4089.86512893,\n",
       "       4194.84460535, 4271.80824297, 4351.81632515, 4447.80726455,\n",
       "       4558.62813602, 4649.76357291])"
      ]
     },
     "execution_count": 81,
     "metadata": {},
     "output_type": "execute_result"
    }
   ],
   "source": [
    "percentiles_vector_95_99 = np.percentile(percentage_change_vector,np.arange(94,95,.1))\n",
    "percentiles_vector_95_99"
   ]
  },
  {
   "cell_type": "code",
   "execution_count": 57,
   "metadata": {},
   "outputs": [
    {
     "data": {
      "image/png": "[encoded data removed]",
      "text/plain": [
       "<Figure size 432x288 with 1 Axes>"
      ]
     },
     "metadata": {},
     "output_type": "display_data"
    }
   ],
   "source": [
    "plt.plot(percentiles_vector_94_100)\n",
    "plt.ylabel('Percentiles')\n",
    "plt.show()"
   ]
  },
  {
   "cell_type": "code",
   "execution_count": 82,
   "metadata": {},
   "outputs": [],
   "source": [
    "perc = np.percentile(percentage_change_vector,94)"
   ]
  },
  {
   "cell_type": "code",
   "execution_count": 83,
   "metadata": {},
   "outputs": [],
   "source": [
    "#percentage_change_vector= list(percentage_change_vector)\n",
    "value_index = np.where(percentage_change_vector > perc)"
   ]
  },
  {
   "cell_type": "code",
   "execution_count": 84,
   "metadata": {},
   "outputs": [
    {
     "name": "stdout",
     "output_type": "stream",
     "text": [
      "\n",
      " Some of the collinear feature names :  ['aafco', 'absolutly', 'accepted', 'accomplished', 'accomplishment', 'achieve', 'acknowledge', 'acted', 'action', 'addendum', 'adding', 'additon', 'adhesive', 'adult', 'advised', 'affected', 'afterwards', 'aggressive', 'ah', 'aka', 'akita', 'altering', 'alternatives', 'altogether', 'amount', 'ana', 'anal', 'anemic', 'angeles', 'animals', 'announcement', 'annoyance', 'answer', 'antibiotics', 'anyhow', 'anyway', 'apologize', 'apply', 'aroma', 'arsenic', 'associate', 'astounded', 'atrocious', 'attack', 'attributable', 'bacteria', 'bag', 'bahlsen', 'bakes', 'bang', 'banged', 'barbecue', 'barista', 'battle', 'beaba', 'beating', 'beers', 'behold', 'beige', 'bell', 'beverage', 'bikram', 'bil', 'biscotti', 'blamed', 'blander', 'blandness', 'blender', 'blue', 'boiling', 'bounty', 'boxing', 'boy', 'bragging', 'branding', 'breadcrumbs', 'breaks', 'breeze', 'brighter', 'brightness', 'brochure', 'brothers', 'bs', 'bubbles', 'buckwheat', 'bud', 'building', 'bunnies', 'bustelo', 'calcium', 'canin', 'canister', 'cappuccinos', 'capresso', 'cardamom', 'carob', 'casein', 'casing', 'casings', 'cattle']\n",
      "\n",
      " Total Count of Features that are collinear :  680\n"
     ]
    }
   ],
   "source": [
    "weight_index_list = list(zip(value_index[0], value_index[1]))\n",
    "feature_index = []\n",
    "for cord in weight_index_list:\n",
    "    feature_index.append(cord[1])\n",
    "\n",
    "count = 0\n",
    "collinear_feature = []\n",
    "for i in feature_index:\n",
    "    #print(feature[i])\n",
    "    collinear_feature.append(feature[i])\n",
    "    count += 1\n",
    "    \n",
    "\n",
    "print(\"\\n Some of the collinear feature names : \",collinear_feature[0:100])\n",
    "print(\"\\n Total Count of Features that are collinear : \",count)"
   ]
  },
  {
   "cell_type": "markdown",
   "metadata": {},
   "source": [
    "#### Checking the sparsity created by L1 Regularization :"
   ]
  },
  {
   "cell_type": "code",
   "execution_count": 44,
   "metadata": {},
   "outputs": [
    {
     "name": "stderr",
     "output_type": "stream",
     "text": [
      "\r",
      "  0%|                                                                                            | 0/6 [00:00<?, ?it/s]"
     ]
    },
    {
     "name": "stdout",
     "output_type": "stream",
     "text": [
      "77504\n",
      "14044\n",
      "\n",
      "CV Accuracy for Lamda = 0.000010 is 18.491883%\n",
      "\n",
      "CV AUC for Lamda = 0.000010 is 0.500000%\n",
      "\n",
      "Train Accuracy for Lamda = 0.000010 is 38.707680%\n",
      "\n",
      "Train AUC for Lamda = 0.000010 is 0.500000%\n"
     ]
    },
    {
     "name": "stderr",
     "output_type": "stream",
     "text": [
      "\r",
      " 17%|██████████████                                                                      | 1/6 [00:00<00:02,  1.98it/s]"
     ]
    },
    {
     "name": "stdout",
     "output_type": "stream",
     "text": [
      "77504\n",
      "14044\n",
      "\n",
      "CV Accuracy for Lamda = 0.000100 is 18.491883%\n",
      "\n",
      "CV AUC for Lamda = 0.000100 is 0.500000%\n",
      "\n",
      "Train Accuracy for Lamda = 0.000100 is 38.707680%\n",
      "\n",
      "Train AUC for Lamda = 0.000100 is 0.500000%\n"
     ]
    },
    {
     "name": "stderr",
     "output_type": "stream",
     "text": [
      "\r",
      " 33%|████████████████████████████                                                        | 2/6 [00:00<00:01,  2.01it/s]"
     ]
    },
    {
     "name": "stdout",
     "output_type": "stream",
     "text": [
      "77504\n",
      "14044\n",
      "\n",
      "CV Accuracy for Lamda = 0.001000 is 87.553404%\n",
      "\n",
      "CV AUC for Lamda = 0.001000 is 0.901942%\n",
      "\n",
      "Train Accuracy for Lamda = 0.001000 is 81.821583%\n",
      "\n",
      "Train AUC for Lamda = 0.001000 is 0.899162%\n"
     ]
    },
    {
     "name": "stderr",
     "output_type": "stream",
     "text": [
      "\r",
      " 50%|██████████████████████████████████████████                                          | 3/6 [00:01<00:01,  1.75it/s]"
     ]
    },
    {
     "name": "stdout",
     "output_type": "stream",
     "text": [
      "77504\n",
      "14044\n",
      "\n",
      "CV Accuracy for Lamda = 0.010000 is 90.059812%\n",
      "\n",
      "CV AUC for Lamda = 0.010000 is 0.934868%\n",
      "\n",
      "Train Accuracy for Lamda = 0.010000 is 93.586137%\n",
      "\n",
      "Train AUC for Lamda = 0.010000 is 0.981174%\n"
     ]
    },
    {
     "name": "stderr",
     "output_type": "stream",
     "text": [
      "\r",
      " 67%|████████████████████████████████████████████████████████                            | 4/6 [00:03<00:01,  1.06it/s]"
     ]
    },
    {
     "name": "stdout",
     "output_type": "stream",
     "text": [
      "77504\n",
      "14044\n",
      "\n",
      "CV Accuracy for Lamda = 0.100000 is 88.407861%\n",
      "\n",
      "CV AUC for Lamda = 0.100000 is 0.893641%\n",
      "\n",
      "Train Accuracy for Lamda = 0.100000 is 98.028489%\n",
      "\n",
      "Train AUC for Lamda = 0.100000 is 0.997183%\n"
     ]
    },
    {
     "name": "stderr",
     "output_type": "stream",
     "text": [
      "\r",
      " 83%|██████████████████████████████████████████████████████████████████████              | 5/6 [00:07<00:01,  1.87s/it]"
     ]
    },
    {
     "name": "stdout",
     "output_type": "stream",
     "text": [
      "77504\n",
      "14044\n",
      "\n",
      "CV Accuracy for Lamda = 1.000000 is 85.538308%\n",
      "\n",
      "CV AUC for Lamda = 1.000000 is 0.845199%\n",
      "\n",
      "Train Accuracy for Lamda = 1.000000 is 99.495510%\n",
      "\n",
      "Train AUC for Lamda = 1.000000 is 0.999562%\n"
     ]
    },
    {
     "name": "stderr",
     "output_type": "stream",
     "text": [
      "100%|████████████████████████████████████████████████████████████████████████████████████| 6/6 [00:47<00:00, 13.21s/it]\n"
     ]
    },
    {
     "name": "stdout",
     "output_type": "stream",
     "text": [
      "[0.5, 0.5, 0.901942063839848, 0.9348680475105859, 0.8936408605813153, 0.845199094223368]\n",
      "[0.5, 0.5, 0.8991617460284047, 0.981173966753677, 0.9971832396570114, 0.9995624091304591]\n"
     ]
    }
   ],
   "source": [
    "# Applying Logistic Regression with L1 Regularization to measure the sparsity created\n",
    "\n",
    "cv_score = []\n",
    "train_score = []\n",
    "\n",
    "# creating list of lamda for LR\n",
    "lamda = list((0.00001,0.0001,0.001,0.01,0.1,1))\n",
    "\n",
    "\n",
    "cv_auc = []\n",
    "train_auc = []\n",
    "cv_score = []\n",
    "train_score = []\n",
    "for i in tqdm(lamda):\n",
    "    lr_l1 = LogisticRegression(C = i,penalty='l1')\n",
    "    \n",
    "    predicted_labels_cv = []\n",
    "    predicted_labels_train = []\n",
    "    predict_cv_prob = []\n",
    "    predict_train_prob = []\n",
    "    accuracy_cv = []\n",
    "    auc_score_cv = []\n",
    "    auc_score_train = []\n",
    "    accuracy_train = []\n",
    "    \n",
    "    # Fitting the model in Train - CrossValidation\n",
    "    lr_l1.fit(D1_Train,Y_1_train)\n",
    "    \n",
    "    # Predicting the model with CrossValidation and Train Data\n",
    "    for j in range(0,n_cv,1000):\n",
    "        predicted_labels_cv.extend(lr_l1.predict(D1_Cv[j:j+1000]))\n",
    "        predict_cv_prob.extend(lr_l1.predict_log_proba(D1_Cv[j:j+1000])[:,1])\n",
    "    \n",
    "    for k in range(0,n_train,1000):\n",
    "        predicted_labels_train.extend(lr_l1.predict(D1_Train[k:k+1000]))\n",
    "        predict_train_prob.extend(lr_l1.predict_log_proba(D1_Train[k:k+1000])[:,1])\n",
    "    \n",
    "    print(len(predict_train_prob))\n",
    "    print(len(Y_1_cv))\n",
    "    \n",
    "    # Getting the Cross-Validation Accuracy and AUC Score\n",
    "    auc_score_cv = roc_auc_score(Y_1_cv,predict_cv_prob)\n",
    "    accuracy_cv = accuracy_score(Y_1_cv,predicted_labels_cv,normalize=True)* float(100)\n",
    "    print('\\nCV Accuracy for Lamda = %f is %f%%' % (i,accuracy_cv))\n",
    "    print('\\nCV AUC for Lamda = %f is %f%%' % (i,auc_score_cv))\n",
    "    cv_score.append(accuracy_cv)\n",
    "    cv_auc.append(auc_score_cv)\n",
    "    \n",
    "    # Getting the Training Accuracy and AUC Score\n",
    "    auc_score_train = roc_auc_score(Y_1_train,predict_train_prob)\n",
    "    accuracy_train = accuracy_score(Y_1_train,predicted_labels_train, normalize=True)* float(100)\n",
    "    print('\\nTrain Accuracy for Lamda = %f is %f%%' % (i,accuracy_train))\n",
    "    print('\\nTrain AUC for Lamda = %f is %f%%' % (i,auc_score_train))\n",
    "    train_score.append(accuracy_train)\n",
    "    train_auc.append(auc_score_train)\n",
    "\n",
    "# Misclassification Error ( Cross-Validation Error )\n",
    "cv_error = [1 - x for x in cv_score]\n",
    "\n",
    "# Misclassification Error ( Training Error )\n",
    "train_error = [1 - x for x in train_score]  \n",
    "\n",
    "print(cv_auc)\n",
    "print(train_auc)"
   ]
  },
  {
   "cell_type": "code",
   "execution_count": 45,
   "metadata": {},
   "outputs": [
    {
     "name": "stdout",
     "output_type": "stream",
     "text": [
      "-11.512925464970229\n",
      "-9.210340371976182\n",
      "-6.907755278982137\n",
      "-4.605170185988091\n",
      "-2.3025850929940455\n",
      "0.0\n"
     ]
    }
   ],
   "source": [
    "import math\n",
    "alpha = []\n",
    "for n in range(len(lamda)):\n",
    "    alpha1 = lamda[n]\n",
    "    x = math.log(alpha1)\n",
    "    print(x)\n",
    "    alpha.append(x)"
   ]
  },
  {
   "cell_type": "code",
   "execution_count": 46,
   "metadata": {},
   "outputs": [
    {
     "data": {
      "image/png": "[encoded data removed]",
      "text/plain": [
       "<Figure size 432x288 with 1 Axes>"
      ]
     },
     "metadata": {},
     "output_type": "display_data"
    }
   ],
   "source": [
    "# Plotting Train_AUC and CV_AUC against Lamda\n",
    "plt.plot(alpha,train_auc)\n",
    "plt.plot(alpha,cv_auc)\n",
    "plt.legend(['Train AUC', 'CV AUC'], loc='upper right')\n",
    "plt.title(\"ERROR PLOTS for BOW Vectorizer\")\n",
    "plt.xlabel('Hyper-parameter Lamda')\n",
    "plt.ylabel('AUC Value')\n",
    "plt.show()"
   ]
  },
  {
   "cell_type": "code",
   "execution_count": 47,
   "metadata": {},
   "outputs": [
    {
     "name": "stdout",
     "output_type": "stream",
     "text": [
      "AUC Metric Best Lamda = 0.010000\n",
      "0.935\n"
     ]
    }
   ],
   "source": [
    "# Getting the optimal Alpha Based to CV AUC\n",
    "optimal_lamda_auc = lamda[cv_auc.index(max(cv_auc))]\n",
    "best_cv_auc = max([ '%.3f' % elem for elem in cv_auc ])\n",
    "print('AUC Metric Best Lamda = %f' % optimal_lamda_auc)\n",
    "print(best_cv_auc)"
   ]
  },
  {
   "cell_type": "code",
   "execution_count": 62,
   "metadata": {},
   "outputs": [
    {
     "name": "stdout",
     "output_type": "stream",
     "text": [
      "17555\n",
      "17555\n",
      "Algo Run Successfully on D_Test\n",
      "====================================================================================================\n"
     ]
    }
   ],
   "source": [
    "# Applying Best Lamda on D_Test\n",
    "\n",
    "test_neigh_l1 = LogisticRegression(C = 0.01,penalty = 'l1')\n",
    "test_neigh_l1.fit(D1_Train,Y_1_train)\n",
    "\n",
    "predicted_labels_test = []\n",
    "predicted_labels_train = []\n",
    "predict_test_prob = []\n",
    "predict_train_prob = []\n",
    "predict_test_logprob = []\n",
    "predict_train_logprob = []\n",
    "\n",
    "# Predicting the model with CrossValidation and Train Data\n",
    "for j in range(0,n_test,1000):\n",
    "    predicted_labels_test.extend(test_neigh_l1.predict(D1_Test[j:j+1000]))\n",
    "    predict_test_prob.extend(test_neigh_l1.predict_proba(D1_Test[j:j+1000])[:,1])\n",
    "    \n",
    "for k in range(0,n_train,1000):\n",
    "    predicted_labels_train.extend(test_neigh_l1.predict(D1_Train[k:k+1000]))\n",
    "    predict_train_prob.extend(test_neigh_l1.predict_proba(D1_Train[k:k+1000])[:,1])\n",
    "    \n",
    "print(len(predict_test_prob))\n",
    "print(len(Y_test))\n",
    "    \n",
    "train_fpr, train_tpr, thresholds = roc_curve(Y_1_train, predict_train_prob)\n",
    "test_fpr, test_tpr, thresholds = roc_curve(Y_test, predict_test_prob)\n",
    "\n",
    "print('Algo Run Successfully on D_Test')\n",
    "print(\"=\"*100)\n"
   ]
  },
  {
   "cell_type": "code",
   "execution_count": 63,
   "metadata": {},
   "outputs": [
    {
     "name": "stdout",
     "output_type": "stream",
     "text": [
      "Train Confusion Matrix\n",
      "27081 2919 2052 45452\n",
      "[[27081  2919]\n",
      " [ 2052 45452]]\n",
      "========================================================================================================================\n",
      "Test Confusion Matrix\n",
      "2220 694 1052 13589\n",
      "[[ 2220   694]\n",
      " [ 1052 13589]]\n",
      "========================================================================================================================\n"
     ]
    }
   ],
   "source": [
    "# Getting the confusion metrics\n",
    "\n",
    "print('Train Confusion Matrix')\n",
    "tr_true_negetive,tr_false_positive, tr_false_negetive, tr_true_positive = confusion_matrix(Y_1_train,predicted_labels_train).ravel()\n",
    "print(tr_true_negetive, tr_false_positive, tr_false_negetive, tr_true_positive)\n",
    "print(confusion_matrix(Y_1_train,predicted_labels_train))\n",
    "print(\"=\"*120)\n",
    "\n",
    "print('Test Confusion Matrix')\n",
    "true_negetive,false_positive, false_negetive, true_positive = confusion_matrix(Y_test,predicted_labels_test).ravel()\n",
    "print(true_negetive, false_positive, false_negetive, true_positive)\n",
    "print(confusion_matrix(Y_test,predicted_labels_test))\n",
    "print(\"=\"*120)"
   ]
  },
  {
   "cell_type": "markdown",
   "metadata": {},
   "source": [
    "##### Heatmap of Confusion Matrix created on the model created with L1 Regularizer"
   ]
  },
  {
   "cell_type": "code",
   "execution_count": 158,
   "metadata": {},
   "outputs": [
    {
     "data": {
      "text/plain": [
       "Text(0.5,1,'Confusion Matrix of Train Data')"
      ]
     },
     "execution_count": 158,
     "metadata": {},
     "output_type": "execute_result"
    },
    {
     "data": {
      "image/png": "[encoded data removed]",
      "text/plain": [
       "<Figure size 432x288 with 2 Axes>"
      ]
     },
     "metadata": {},
     "output_type": "display_data"
    }
   ],
   "source": [
    "conMatrix= [[tr_true_negetive,tr_false_positive],[tr_false_negetive,tr_true_positive]]\n",
    "data = conMatrix\n",
    "sns.heatmap(data, cmap=\"YlGnBu\", annot=True, fmt=\"d\")\n",
    "plt.xlabel('Actual Values')\n",
    "plt.ylabel('Predicted Values')\n",
    "plt.title('Confusion Matrix of Train Data')"
   ]
  },
  {
   "cell_type": "code",
   "execution_count": 159,
   "metadata": {},
   "outputs": [
    {
     "data": {
      "text/plain": [
       "Text(0.5,1,'Confusion Matrix of Test Data')"
      ]
     },
     "execution_count": 159,
     "metadata": {},
     "output_type": "execute_result"
    },
    {
     "data": {
      "image/png": "[encoded data removed]",
      "text/plain": [
       "<Figure size 432x288 with 2 Axes>"
      ]
     },
     "metadata": {},
     "output_type": "display_data"
    }
   ],
   "source": [
    "conMatrix= [[true_negetive,false_positive],[false_negetive,true_positive]]\n",
    "data = conMatrix\n",
    "sns.heatmap(data, cmap=\"YlGnBu\", annot=True, fmt=\"d\")\n",
    "plt.xlabel('Actual Values')\n",
    "plt.ylabel('Predicted Values')\n",
    "plt.title('Confusion Matrix of Test Data')"
   ]
  },
  {
   "cell_type": "code",
   "execution_count": 71,
   "metadata": {},
   "outputs": [
    {
     "name": "stdout",
     "output_type": "stream",
     "text": [
      "[[-0.00602148  0.          0.         ...  0.          0.\n",
      "   0.        ]]\n",
      "Total number of non-zero values in the weight vector :  3645\n"
     ]
    }
   ],
   "source": [
    "# Weight Vector for L1 Regularization\n",
    "\n",
    "w_l1 = test_neigh_l1.coef_\n",
    "print(w_l1)\n",
    "l1_count = np.count_nonzero(w_l1)\n",
    "print(\"Total number of non-zero values in the weight vector : \",np.count_nonzero(w_l1))"
   ]
  },
  {
   "cell_type": "code",
   "execution_count": 72,
   "metadata": {},
   "outputs": [
    {
     "name": "stdout",
     "output_type": "stream",
     "text": [
      "Total %age of feature zeroed out due to L1 Regularizarion :  67.84\n"
     ]
    }
   ],
   "source": [
    "# %age of Sparsity Created \n",
    "\n",
    "percentage_feature_count = round((abs((l2_count - l1_count)/l2_count)*100),3)\n",
    "print(\"Total %age of feature zeroed out due to L1 Regularizarion : \", percentage_feature_count )"
   ]
  },
  {
   "cell_type": "code",
   "execution_count": 73,
   "metadata": {},
   "outputs": [
    {
     "name": "stdout",
     "output_type": "stream",
     "text": [
      "\t-0.3703\tworst          \t\t0.8308\tgreat          \n",
      "\t-0.3642\tdisappointed   \t\t0.5397\tbest           \n",
      "\t-0.2557\tawful          \t\t0.5189\tdelicious      \n",
      "\t-0.2552\tterrible       \t\t0.3665\tgood           \n",
      "\t-0.2420\tdisappointing  \t\t0.3651\texcellent      \n",
      "\t-0.2401\tbad            \t\t0.3426\tlove           \n",
      "\t-0.2392\ttaste          \t\t0.3326\tperfect        \n",
      "\t-0.2239\thorrible       \t\t0.3272\twonderful      \n",
      "\t-0.2085\twaste          \t\t0.3119\tloves          \n",
      "\t-0.1954\tunfortunately  \t\t0.2607\thighly         \n"
     ]
    }
   ],
   "source": [
    "# Feature Importance on L1 Regularization\n",
    "\n",
    "feature = ngram_vect.get_feature_names()\n",
    "coefs_with_fns = sorted(zip(test_neigh_l1.coef_[0], feature))\n",
    "top = zip(coefs_with_fns[:10], coefs_with_fns[:-11:-1])\n",
    "for (coef_1, fn_1), (coef_2, fn_2) in top:\n",
    "    print (\"\\t%.4f\\t%-15s\\t\\t%.4f\\t%-15s\" % (coef_1, fn_1, coef_2, fn_2))"
   ]
  },
  {
   "cell_type": "markdown",
   "metadata": {},
   "source": [
    "##### We performed L1 regularization and as a result 67.84% of total features zeroed out. \n",
    "##### We also performed Perturbation Test to check for collinearity among the features . The result shows 680 features ( out of 11334 features )  are collinear to one other. "
   ]
  },
  {
   "cell_type": "markdown",
   "metadata": {},
   "source": [
    "## 1.2) Applying Logistic Regression on TF-IDF, SET 2"
   ]
  },
  {
   "cell_type": "markdown",
   "metadata": {},
   "source": [
    "##### We are performing cross validation with GridSearch method on the TFIDF vectorizer."
   ]
  },
  {
   "cell_type": "markdown",
   "metadata": {},
   "source": [
    "##### We didnt perform any sort off class balancing here as we used the 'class_weight' parameter of Logistic Regrssion and set it to 'balanced' . "
   ]
  },
  {
   "cell_type": "code",
   "execution_count": 66,
   "metadata": {},
   "outputs": [],
   "source": [
    "from sklearn.model_selection import GridSearchCV"
   ]
  },
  {
   "cell_type": "code",
   "execution_count": 67,
   "metadata": {},
   "outputs": [],
   "source": [
    "# Time Series Split\n",
    "\n",
    "X_1, X_test, Y_1, Y_test = train_test_split(X,Y,test_size=0.2,shuffle = False)\n",
    "tuned_param = [{'C':[0.00001,0.0001,0.001,0.01,0.1,1]}]"
   ]
  },
  {
   "cell_type": "code",
   "execution_count": 68,
   "metadata": {},
   "outputs": [
    {
     "name": "stdout",
     "output_type": "stream",
     "text": [
      "Some feature names :  ['aa', 'aback', 'abandon', 'abandoned', 'abdominal', 'ability', 'able', 'able add', 'able buy', 'able chew']\n",
      "(70218, 40504) (17555, 40504)\n"
     ]
    }
   ],
   "source": [
    "# Creating Tfidf Vectorizer\n",
    "\n",
    "tfidf_vect = TfidfVectorizer(ngram_range=(1,2) , min_df = 10)\n",
    "D2_Train = tfidf_vect.fit_transform(X_1['Cleaned_Text'])\n",
    "D2_Test = tfidf_vect.transform(X_test['Cleaned_Text'])\n",
    "print(\"Some feature names : \", tfidf_vect.get_feature_names()[0:10])\n",
    "print(D2_Train.shape,D2_Test.shape)"
   ]
  },
  {
   "cell_type": "code",
   "execution_count": 69,
   "metadata": {},
   "outputs": [
    {
     "name": "stdout",
     "output_type": "stream",
     "text": [
      "(70218, 40504) (17555, 40504)\n"
     ]
    }
   ],
   "source": [
    "scaler_tfidf = StandardScaler(with_mean=False)\n",
    "scaler_tfidf.fit(D2_Train)\n",
    "D2_Train = scaler_tfidf.transform(D2_Train)\n",
    "D2_Test = scaler_tfidf.transform(D2_Test)\n",
    "print(D2_Train.shape,D2_Test.shape)"
   ]
  },
  {
   "cell_type": "code",
   "execution_count": 70,
   "metadata": {},
   "outputs": [
    {
     "name": "stdout",
     "output_type": "stream",
     "text": [
      "70218 17555\n"
     ]
    }
   ],
   "source": [
    "n_test = D2_Test.get_shape()[0]\n",
    "n_train = D2_Train.get_shape()[0]\n",
    "print(n_train,n_test)"
   ]
  },
  {
   "cell_type": "code",
   "execution_count": 71,
   "metadata": {},
   "outputs": [
    {
     "name": "stdout",
     "output_type": "stream",
     "text": [
      "LogisticRegression(C=1e-05, class_weight='balanced', dual=False,\n",
      "          fit_intercept=True, intercept_scaling=1, max_iter=100,\n",
      "          multi_class='warn', n_jobs=None, penalty='l2', random_state=None,\n",
      "          solver='warn', tol=0.0001, verbose=0, warm_start=False)\n",
      "AUC SCORE :  0.9518268312905669\n"
     ]
    }
   ],
   "source": [
    "# Using GridSearchCV\n",
    "tfidf_model = GridSearchCV(LogisticRegression(class_weight = 'balanced'),tuned_param,cv = 5, scoring = 'roc_auc')\n",
    "tfidf_model.fit(D2_Train,Y_1)\n",
    "\n",
    "print(tfidf_model.best_estimator_)\n",
    "print(\"AUC SCORE : \",tfidf_model.score(D2_Test,Y_test))"
   ]
  },
  {
   "cell_type": "code",
   "execution_count": 75,
   "metadata": {},
   "outputs": [
    {
     "name": "stdout",
     "output_type": "stream",
     "text": [
      "17555\n",
      "17555\n",
      "Algo Run Successfully on D_Test\n",
      "====================================================================================================\n"
     ]
    }
   ],
   "source": [
    "# Fitting the model on test data\n",
    "\n",
    "test_neigh = LogisticRegression(C = 0.0001,class_weight = 'balanced')\n",
    "test_neigh.fit(D2_Train,Y_1)\n",
    "\n",
    "predict_test_prob = []\n",
    "predict_train_prob = []\n",
    "predicted_labels_test = []\n",
    "predicted_labels_train = []\n",
    "\n",
    "# Predicting the model with Train Data\n",
    "for j in range(0,n_test,1000):\n",
    "    predicted_labels_test.extend(test_neigh.predict(D2_Test[j:j+1000]))\n",
    "    predict_test_prob.extend(test_neigh.predict_proba(D2_Test[j:j+1000])[:,1])\n",
    "    \n",
    "for k in range(0,n_train,1000):\n",
    "    predicted_labels_train.extend(test_neigh.predict(D2_Train[k:k+1000]))\n",
    "    predict_train_prob.extend(test_neigh.predict_proba(D2_Train[k:k+1000])[:,1])\n",
    "    \n",
    "print(len(predict_test_prob))\n",
    "print(len(Y_test))\n",
    "    \n",
    "train_fpr, train_tpr, thresholds = roc_curve(Y_1, predict_train_prob)\n",
    "test_fpr, test_tpr, thresholds = roc_curve(Y_test, predict_test_prob)\n",
    "\n",
    "print('Algo Run Successfully on D_Test')\n",
    "print(\"=\"*100)"
   ]
  },
  {
   "cell_type": "code",
   "execution_count": 76,
   "metadata": {},
   "outputs": [
    {
     "data": {
      "image/png": "[encoded data removed]",
      "text/plain": [
       "<Figure size 432x288 with 1 Axes>"
      ]
     },
     "metadata": {},
     "output_type": "display_data"
    },
    {
     "name": "stdout",
     "output_type": "stream",
     "text": [
      "====================================================================================================\n"
     ]
    }
   ],
   "source": [
    "# Plotting the AUC curve on Test and Train Data\n",
    "\n",
    "plt.plot(train_fpr, train_tpr, label=\"Train AUC =\"+str(auc(train_fpr, train_tpr)))\n",
    "plt.plot(test_fpr, test_tpr, label=\"Test AUC =\"+str(auc(test_fpr, test_tpr)))\n",
    "plt.legend()\n",
    "plt.xlabel(\"FPR\")\n",
    "plt.ylabel(\"TPR\")\n",
    "plt.title(\"ERROR PLOTS\")\n",
    "plt.show()\n",
    "\n",
    "print(\"=\"*100)"
   ]
  },
  {
   "cell_type": "code",
   "execution_count": 77,
   "metadata": {},
   "outputs": [
    {
     "name": "stdout",
     "output_type": "stream",
     "text": [
      "Train Confusion Matrix\n",
      "11233 34 1434 57517\n",
      "[[11233    34]\n",
      " [ 1434 57517]]\n",
      "========================================================================================================================\n",
      "Test Confusion Matrix\n",
      "2273 641 929 13712\n",
      "[[ 2273   641]\n",
      " [  929 13712]]\n",
      "========================================================================================================================\n"
     ]
    }
   ],
   "source": [
    "# Getting the confusion metrics\n",
    "\n",
    "print('Train Confusion Matrix')\n",
    "tr_true_negetive,tr_false_positive, tr_false_negetive, tr_true_positive = confusion_matrix(Y_1,predicted_labels_train).ravel()\n",
    "print(tr_true_negetive, tr_false_positive, tr_false_negetive, tr_true_positive)\n",
    "print(confusion_matrix(Y_1,predicted_labels_train))\n",
    "print(\"=\"*120)\n",
    "\n",
    "print('Test Confusion Matrix')\n",
    "true_negetive,false_positive, false_negetive, true_positive = confusion_matrix(Y_test,predicted_labels_test).ravel()\n",
    "print(true_negetive, false_positive, false_negetive, true_positive)\n",
    "print(confusion_matrix(Y_test,predicted_labels_test))\n",
    "print(\"=\"*120)"
   ]
  },
  {
   "cell_type": "code",
   "execution_count": 161,
   "metadata": {},
   "outputs": [
    {
     "data": {
      "text/plain": [
       "Text(0.5,1,'Confusion Matrix of Train Data')"
      ]
     },
     "execution_count": 161,
     "metadata": {},
     "output_type": "execute_result"
    },
    {
     "data": {
      "image/png": "[encoded data removed]",
      "text/plain": [
       "<Figure size 432x288 with 2 Axes>"
      ]
     },
     "metadata": {},
     "output_type": "display_data"
    }
   ],
   "source": [
    "conMatrix= [[tr_true_negetive,tr_false_positive],[tr_false_negetive,tr_true_positive]]\n",
    "data = conMatrix\n",
    "sns.heatmap(data, cmap=\"YlGnBu\", annot=True, fmt=\"d\")\n",
    "plt.xlabel('Actual Values')\n",
    "plt.ylabel('Predicted Values')\n",
    "plt.title('Confusion Matrix of Train Data')"
   ]
  },
  {
   "cell_type": "code",
   "execution_count": 160,
   "metadata": {},
   "outputs": [
    {
     "data": {
      "text/plain": [
       "Text(0.5,1,'Confusion Matrix of Test Data')"
      ]
     },
     "execution_count": 160,
     "metadata": {},
     "output_type": "execute_result"
    },
    {
     "data": {
      "image/png": "[encoded data removed]",
      "text/plain": [
       "<Figure size 432x288 with 2 Axes>"
      ]
     },
     "metadata": {},
     "output_type": "display_data"
    }
   ],
   "source": [
    "conMatrix= [[true_negetive,false_positive],[false_negetive,true_positive]]\n",
    "data = conMatrix\n",
    "sns.heatmap(data, cmap=\"YlGnBu\", annot=True, fmt=\"d\")\n",
    "plt.xlabel('Actual Values')\n",
    "plt.ylabel('Predicted Values')\n",
    "plt.title('Confusion Matrix of Test Data')"
   ]
  },
  {
   "cell_type": "code",
   "execution_count": 94,
   "metadata": {},
   "outputs": [
    {
     "name": "stdout",
     "output_type": "stream",
     "text": [
      "\t-0.0274\tdisappointed   \t\t0.0399\tgreat          \n",
      "\t-0.0260\tworst          \t\t0.0276\tlove           \n",
      "\t-0.0234\tterrible       \t\t0.0268\tbest           \n",
      "\t-0.0229\tawful          \t\t0.0244\tdelicious      \n",
      "\t-0.0229\thorrible       \t\t0.0233\tgood           \n",
      "\t-0.0219\tdisappointing  \t\t0.0209\tperfect        \n",
      "\t-0.0217\tbad            \t\t0.0205\tloves          \n",
      "\t-0.0205\twaste          \t\t0.0188\tfavorite       \n",
      "\t-0.0193\treturn         \t\t0.0183\tnice           \n",
      "\t-0.0193\tmoney          \t\t0.0176\thighly         \n"
     ]
    }
   ],
   "source": [
    "# Feature Importance on L2 Regularization\n",
    "\n",
    "feature = tfidf_vect.get_feature_names()\n",
    "coefs_with_fns = sorted(zip(tfidf_model.best_estimator_.coef_[0], feature))\n",
    "top = zip(coefs_with_fns[:10], coefs_with_fns[:-11:-1])\n",
    "for (coef_1, fn_1), (coef_2, fn_2) in top:\n",
    "    print (\"\\t%.4f\\t%-15s\\t\\t%.4f\\t%-15s\" % (coef_1, fn_1, coef_2, fn_2))"
   ]
  },
  {
   "cell_type": "markdown",
   "metadata": {},
   "source": [
    "## 1.3) Applying Logistic Regression on Average_Word2Vec, SET 3"
   ]
  },
  {
   "cell_type": "markdown",
   "metadata": {},
   "source": [
    "##### We performed Feature Engineering on the Average Word2Vec vectorizer by taking the count of the words in the review text as a extra feature. "
   ]
  },
  {
   "cell_type": "code",
   "execution_count": 83,
   "metadata": {},
   "outputs": [],
   "source": [
    "final['Cleaned_Text']=preprocessed_reviews\n",
    "#final['Cleaned_Summary'] = preprocessed_summary\n",
    "final['Word Count'] = final['Cleaned_Text'].apply(lambda x:len(x.split()))\n",
    "#final['Summary Word Count'] = final['Cleaned_Summary'].apply(lambda x:len(x.split()))\n",
    "final.head()\n",
    "word_count = final['Word Count']"
   ]
  },
  {
   "cell_type": "code",
   "execution_count": 84,
   "metadata": {},
   "outputs": [],
   "source": [
    "final_review = final[['Cleaned_Text','Word Count','Score']]\n",
    "X = final_review.drop(['Score'],axis=1)\n",
    "Y = final_review['Score']"
   ]
  },
  {
   "cell_type": "code",
   "execution_count": 85,
   "metadata": {},
   "outputs": [],
   "source": [
    "# Time Series Split\n",
    "\n",
    "X_Train, X_test, Y_1, Y_test = train_test_split(X,Y,test_size=0.2,shuffle = False)\n",
    "tuned_param = [{'C':[0.00001,0.0001,0.001,0.01,0.1,1]}]"
   ]
  },
  {
   "cell_type": "code",
   "execution_count": 86,
   "metadata": {},
   "outputs": [
    {
     "name": "stdout",
     "output_type": "stream",
     "text": [
      "70218\n",
      "[('great', 0.8276934027671814), ('decent', 0.8115479946136475), ('fantastic', 0.7662653923034668), ('awesome', 0.7537726163864136), ('terrific', 0.7435007095336914), ('amazing', 0.7258817553520203), ('excellent', 0.6711327433586121), ('wise', 0.6530591249465942), ('yummy', 0.6402285099029541), ('tasty', 0.6271358728408813)]\n",
      "====================================================================================================\n",
      "Total Words Present  15758\n",
      "Sample Words :  ['bought', 'apartment', 'infested', 'fruit', 'flies', 'hours', 'trap', 'attracted', 'many', 'within']\n",
      "====================================================================================================\n"
     ]
    }
   ],
   "source": [
    "# Creating Word2Vec model on Training Data \n",
    "\n",
    "list_of_sentence = []\n",
    "for sentence in X_Train['Cleaned_Text']:\n",
    "    list_of_sentence.append(sentence.split())\n",
    "print(len(list_of_sentence))\n",
    "\n",
    "# Creating Word2Vec model with 50 dimension and min_count=5, it will consider the word only if it appeared more than 5 times\n",
    "\n",
    "w2v_model = Word2Vec(list_of_sentence, min_count=5, size=50, workers=4)\n",
    "print(w2v_model.wv.most_similar(\"good\"))\n",
    "print(\"=\"*100)\n",
    "\n",
    "w2v_words = list(w2v_model.wv.vocab)\n",
    "print(\"Total Words Present \", len(w2v_words))\n",
    "print(\"Sample Words : \", w2v_words[0:10])\n",
    "print(\"=\"*100)"
   ]
  },
  {
   "cell_type": "code",
   "execution_count": 87,
   "metadata": {},
   "outputs": [
    {
     "name": "stderr",
     "output_type": "stream",
     "text": [
      "100%|███████████████████████████████████████████████████████████████████████████| 70218/70218 [04:02<00:00, 289.18it/s]\n"
     ]
    },
    {
     "name": "stdout",
     "output_type": "stream",
     "text": [
      "70218\n",
      "[-1.54477715e-01 -1.25336026e-02  1.21077308e-01  8.04021447e-02\n",
      " -9.30019138e-02  3.90860399e-01  6.40151762e-02  1.83501832e-01\n",
      "  1.83871335e-01 -4.33901457e-01  5.39389519e-01 -1.15178645e-02\n",
      "  2.64906869e-01 -9.79439288e-02 -7.37914064e-02 -2.26268931e-01\n",
      "  1.79797591e-01 -3.66937958e-02  1.49446002e-01  1.01696795e-01\n",
      "  9.75151027e-02 -3.08168449e-01  3.61228438e-01 -1.15138987e-01\n",
      "  1.75303867e-01 -2.29825888e-01 -6.88080206e-02 -2.26223625e-01\n",
      " -1.74562926e-01 -2.50235448e-01  1.14688805e-01  4.74092174e-01\n",
      " -1.63933878e-01 -3.08790752e-01 -9.59109614e-01 -4.52783446e-01\n",
      "  2.86387934e-01 -5.16435351e-01 -8.83073936e-04 -4.04587606e-01\n",
      " -1.71569559e-01  2.36983702e-02  2.03710533e-01 -1.20843874e-02\n",
      " -2.62158470e-01  8.94450013e-01 -6.03243059e-01 -6.68688853e-01\n",
      "  2.38582211e-01 -9.67355972e-02]\n"
     ]
    }
   ],
   "source": [
    "# Fitting Average Word2Vec Model on Train Data\n",
    "\n",
    "sent_vect_train = []\n",
    "for sent in tqdm(list_of_sentence):\n",
    "    sentence_vec = np.zeros(50)\n",
    "    count_words = 0\n",
    "    for word in sent:\n",
    "        if word in w2v_words:\n",
    "            vec = w2v_model.wv[word]\n",
    "            count_words += 1\n",
    "            sentence_vec += vec\n",
    "    if count_words != 0:\n",
    "        sentence_vec /= count_words\n",
    "    sent_vect_train.append(sentence_vec)\n",
    "print(len(sent_vect_train))\n",
    "print(sent_vect_train[0])"
   ]
  },
  {
   "cell_type": "code",
   "execution_count": 88,
   "metadata": {},
   "outputs": [
    {
     "name": "stdout",
     "output_type": "stream",
     "text": [
      "17555\n"
     ]
    }
   ],
   "source": [
    "# Applying Word2Vec for Vectorization of X_test\n",
    "\n",
    "list_of_sentence = []\n",
    "for sentence in X_test['Cleaned_Text']:\n",
    "    list_of_sentence.append(sentence.split())\n",
    "print(len(list_of_sentence))"
   ]
  },
  {
   "cell_type": "code",
   "execution_count": 89,
   "metadata": {},
   "outputs": [
    {
     "name": "stderr",
     "output_type": "stream",
     "text": [
      "100%|███████████████████████████████████████████████████████████████████████████| 17555/17555 [01:00<00:00, 287.84it/s]\n"
     ]
    },
    {
     "name": "stdout",
     "output_type": "stream",
     "text": [
      "17555\n",
      "[-1.36482343 -0.2780526   0.05189467  0.25068517  0.43578938  0.49996195\n",
      "  0.25767373 -0.1967419   0.13386065 -0.38438305  0.05798182 -0.84187759\n",
      "  0.10540663  0.54045647 -0.0400746  -0.32469268  0.36881295 -0.2452042\n",
      "  0.42497767  0.49879502  0.65631439 -0.29328541 -0.33695245  0.02103293\n",
      "  0.25968292  0.51590624 -0.39362707 -0.61814763 -0.19050736 -0.04107351\n",
      " -0.22510337  1.36645022  0.27211266  0.04995622 -0.26450612 -0.72758514\n",
      " -0.13774616 -0.62043119  0.26241042 -0.2699211  -0.28011217 -0.43148334\n",
      "  0.37131868  0.00684359  0.75674663  0.94337131  0.68113747  0.04533273\n",
      "  0.58965219  0.31516088]\n"
     ]
    }
   ],
   "source": [
    "# Creating Average Word2Vec Vector for Test Data\n",
    "\n",
    "sent_vect_test = []\n",
    "for sent in tqdm(list_of_sentence):\n",
    "    sentence_vec = np.zeros(50)\n",
    "    count_words = 0\n",
    "    for word in sent:\n",
    "        if word in w2v_words:\n",
    "            vec = w2v_model.wv[word]\n",
    "            count_words += 1\n",
    "            sentence_vec += vec\n",
    "    if count_words != 0:\n",
    "        sentence_vec /= count_words\n",
    "    sent_vect_test.append(sentence_vec)\n",
    "print(len(sent_vect_test))\n",
    "print(sent_vect_test[0])"
   ]
  },
  {
   "cell_type": "code",
   "execution_count": 90,
   "metadata": {},
   "outputs": [],
   "source": [
    "X_Train_count  =  X_Train['Word Count'].values.reshape(-1,1)\n",
    "X_Test_count = X_test['Word Count'].values.reshape(-1,1)"
   ]
  },
  {
   "cell_type": "code",
   "execution_count": 91,
   "metadata": {},
   "outputs": [],
   "source": [
    "#standardising word count feature\n",
    "import warnings\n",
    "warnings.filterwarnings('ignore')\n",
    "word_scalar = StandardScaler()\n",
    "word_scalar.fit(X_Train_count) \n",
    "X_Train_count = word_scalar.transform(X_Train_count)\n",
    "X_Test_count = word_scalar.transform(X_Test_count)"
   ]
  },
  {
   "cell_type": "code",
   "execution_count": 92,
   "metadata": {},
   "outputs": [],
   "source": [
    "D3_Train = np.hstack((sent_vect_train,X_Train_count))\n",
    "D3_Test = np.hstack((sent_vect_test,X_Test_count))"
   ]
  },
  {
   "cell_type": "code",
   "execution_count": 93,
   "metadata": {},
   "outputs": [
    {
     "name": "stdout",
     "output_type": "stream",
     "text": [
      "70218\n",
      "17555\n"
     ]
    }
   ],
   "source": [
    "n_train = len(D3_Train)\n",
    "n_test = len(D3_Test)\n",
    "print(n_train)\n",
    "print(n_test)"
   ]
  },
  {
   "cell_type": "code",
   "execution_count": 94,
   "metadata": {},
   "outputs": [
    {
     "name": "stdout",
     "output_type": "stream",
     "text": [
      "(70218, 51)\n",
      "(17555, 51)\n"
     ]
    }
   ],
   "source": [
    "# Standardization Process  when we are doing Feature Engineering\n",
    "\n",
    "from sklearn.preprocessing import MaxAbsScaler\n",
    "scaler = MaxAbsScaler()\n",
    "scaler.fit(D3_Train)\n",
    "D3_Train = scaler.transform(D3_Train)\n",
    "D3_Test = scaler.transform(D3_Test)\n",
    "\n",
    "print(D3_Train.shape)\n",
    "print(D3_Test.shape)"
   ]
  },
  {
   "cell_type": "code",
   "execution_count": 21,
   "metadata": {},
   "outputs": [
    {
     "name": "stdout",
     "output_type": "stream",
     "text": [
      "(70218, 50)\n",
      "(17555, 50)\n"
     ]
    }
   ],
   "source": [
    "# Standardization Process when we are not doing Feature Engineering\n",
    "\n",
    "scaler = StandardScaler()\n",
    "scaler.fit(sent_vect_train)\n",
    "D3_Train = scaler.transform(D3_Train)\n",
    "D3_Test = scaler.transform(D3_Test)\n",
    "\n",
    "print(D3_Train.shape)\n",
    "print(D3_Test.shape)"
   ]
  },
  {
   "cell_type": "code",
   "execution_count": 95,
   "metadata": {},
   "outputs": [
    {
     "name": "stdout",
     "output_type": "stream",
     "text": [
      "LogisticRegression(C=1, class_weight='balanced', dual=False,\n",
      "          fit_intercept=True, intercept_scaling=1, max_iter=100,\n",
      "          multi_class='warn', n_jobs=None, penalty='l2', random_state=None,\n",
      "          solver='warn', tol=0.0001, verbose=0, warm_start=False)\n",
      "AUC SCORE :  0.9022267176206268\n"
     ]
    }
   ],
   "source": [
    "# Using GridSearchCV\n",
    "w2v_model_gs = GridSearchCV(LogisticRegression(class_weight = 'balanced'),tuned_param,cv = 5, scoring = 'roc_auc')\n",
    "w2v_model_gs.fit(D3_Train,Y_1)\n",
    "\n",
    "print(w2v_model_gs.best_estimator_)\n",
    "print(\"AUC SCORE : \",w2v_model_gs.score(D3_Test,Y_test))"
   ]
  },
  {
   "cell_type": "code",
   "execution_count": 123,
   "metadata": {},
   "outputs": [
    {
     "name": "stdout",
     "output_type": "stream",
     "text": [
      "17555\n",
      "17555\n",
      "Algo Run Successfully on D_Test\n",
      "====================================================================================================\n"
     ]
    }
   ],
   "source": [
    "# Fitting the model on test data\n",
    "\n",
    "test_neigh = LogisticRegression(C = 0.1,class_weight = 'balanced')\n",
    "test_neigh.fit(D3_Train,Y_1)\n",
    "\n",
    "predict_test_prob = []\n",
    "predict_train_prob = []\n",
    "predicted_labels_test = []\n",
    "predicted_labels_train = []\n",
    "\n",
    "# Predicting the model with Train Data\n",
    "for j in range(0,n_test,1000):\n",
    "    predicted_labels_test.extend(test_neigh.predict(D3_Test[j:j+1000]))\n",
    "    predict_test_prob.extend(test_neigh.predict_proba(D3_Test[j:j+1000])[:,1])\n",
    "    \n",
    "for k in range(0,n_train,1000):\n",
    "    predicted_labels_train.extend(test_neigh.predict(D3_Train[k:k+1000]))\n",
    "    predict_train_prob.extend(test_neigh.predict_proba(D3_Train[k:k+1000])[:,1])\n",
    "    \n",
    "print(len(predict_test_prob))\n",
    "print(len(Y_test))\n",
    "    \n",
    "train_fpr, train_tpr, thresholds = roc_curve(Y_1, predict_train_prob)\n",
    "test_fpr, test_tpr, thresholds = roc_curve(Y_test, predict_test_prob)\n",
    "\n",
    "print('Algo Run Successfully on D_Test')\n",
    "print(\"=\"*100)"
   ]
  },
  {
   "cell_type": "code",
   "execution_count": 124,
   "metadata": {},
   "outputs": [
    {
     "data": {
      "image/png": "[encoded data removed]",
      "text/plain": [
       "<Figure size 432x288 with 1 Axes>"
      ]
     },
     "metadata": {},
     "output_type": "display_data"
    },
    {
     "name": "stdout",
     "output_type": "stream",
     "text": [
      "====================================================================================================\n"
     ]
    }
   ],
   "source": [
    "# Plotting the AUC curve on Test and Train Data\n",
    "\n",
    "plt.plot(train_fpr, train_tpr, label=\"Train AUC =\"+str(auc(train_fpr, train_tpr)))\n",
    "plt.plot(test_fpr, test_tpr, label=\"Test AUC =\"+str(auc(test_fpr, test_tpr)))\n",
    "plt.legend()\n",
    "plt.xlabel(\"FPR\")\n",
    "plt.ylabel(\"TPR\")\n",
    "plt.title(\"ERROR PLOTS\")\n",
    "plt.show()\n",
    "\n",
    "print(\"=\"*100)"
   ]
  },
  {
   "cell_type": "code",
   "execution_count": 125,
   "metadata": {},
   "outputs": [
    {
     "name": "stdout",
     "output_type": "stream",
     "text": [
      "Train Confusion Matrix\n",
      "9449 1818 11579 47372\n",
      "[[ 9449  1818]\n",
      " [11579 47372]]\n",
      "========================================================================================================================\n",
      "Test Confusion Matrix\n",
      "2481 433 2994 11647\n",
      "[[ 2481   433]\n",
      " [ 2994 11647]]\n",
      "========================================================================================================================\n"
     ]
    }
   ],
   "source": [
    "# Getting the confusion metrics\n",
    "\n",
    "print('Train Confusion Matrix')\n",
    "tr_true_negetive,tr_false_positive, tr_false_negetive, tr_true_positive = confusion_matrix(Y_1,predicted_labels_train).ravel()\n",
    "print(tr_true_negetive, tr_false_positive, tr_false_negetive, tr_true_positive)\n",
    "print(confusion_matrix(Y_1,predicted_labels_train))\n",
    "print(\"=\"*120)\n",
    "\n",
    "print('Test Confusion Matrix')\n",
    "true_negetive,false_positive, false_negetive, true_positive = confusion_matrix(Y_test,predicted_labels_test).ravel()\n",
    "print(true_negetive, false_positive, false_negetive, true_positive)\n",
    "print(confusion_matrix(Y_test,predicted_labels_test))\n",
    "print(\"=\"*120)"
   ]
  },
  {
   "cell_type": "code",
   "execution_count": 95,
   "metadata": {},
   "outputs": [],
   "source": [
    "import seaborn as sns"
   ]
  },
  {
   "cell_type": "code",
   "execution_count": 163,
   "metadata": {},
   "outputs": [
    {
     "data": {
      "text/plain": [
       "Text(0.5,1,'Confusion Matrix of Train Data')"
      ]
     },
     "execution_count": 163,
     "metadata": {},
     "output_type": "execute_result"
    },
    {
     "data": {
      "image/png": "[encoded data removed]",
      "text/plain": [
       "<Figure size 432x288 with 2 Axes>"
      ]
     },
     "metadata": {},
     "output_type": "display_data"
    }
   ],
   "source": [
    "conMatrix= [[tr_true_negetive,tr_false_positive],[tr_false_negetive,tr_true_positive]]\n",
    "data = conMatrix\n",
    "sns.heatmap(data, cmap=\"YlGnBu\", annot=True, fmt=\"d\")\n",
    "plt.xlabel('Actual Values')\n",
    "plt.ylabel('Predicted Values')\n",
    "plt.title('Confusion Matrix of Train Data')"
   ]
  },
  {
   "cell_type": "code",
   "execution_count": 162,
   "metadata": {},
   "outputs": [
    {
     "data": {
      "text/plain": [
       "Text(0.5,1,'Confusion Matrix of Test Data')"
      ]
     },
     "execution_count": 162,
     "metadata": {},
     "output_type": "execute_result"
    },
    {
     "data": {
      "image/png": "[encoded data removed]",
      "text/plain": [
       "<Figure size 432x288 with 2 Axes>"
      ]
     },
     "metadata": {},
     "output_type": "display_data"
    }
   ],
   "source": [
    "conMatrix= [[true_negetive,false_positive],[false_negetive,true_positive]]\n",
    "data = conMatrix\n",
    "sns.heatmap(data, cmap=\"YlGnBu\", annot=True, fmt=\"d\")\n",
    "plt.xlabel('Actual Values')\n",
    "plt.ylabel('Predicted Values')\n",
    "plt.title('Confusion Matrix of Test Data')"
   ]
  },
  {
   "cell_type": "code",
   "execution_count": 90,
   "metadata": {},
   "outputs": [
    {
     "name": "stdout",
     "output_type": "stream",
     "text": [
      "\t-7.6015\tattracted      \t\t7.4908\tdays           \n",
      "\t-3.3093\twait           \t\t4.2062\tstickers       \n",
      "\t-3.1154\twithin         \t\t3.4646\thours          \n",
      "\t-3.0651\treally         \t\t3.2548\tshipment       \n",
      "\t-2.4642\tconsider       \t\t2.6654\tgood           \n",
      "\t-2.3747\ttrap           \t\t2.5235\tone            \n",
      "\t-2.2222\tidea           \t\t2.3280\tterm           \n",
      "\t-2.0874\treceived       \t\t2.0724\tcould          \n",
      "\t-1.9469\tuse            \t\t1.9828\tcrazy          \n",
      "\t-1.6627\twindow         \t\t1.7334\tmay            \n"
     ]
    }
   ],
   "source": [
    "# Feature Importance on L2 Regularization\n",
    "\n",
    "feature = w2v_words\n",
    "coefs_with_fns = sorted(zip(w2v_model_gs.best_estimator_.coef_[0], feature))\n",
    "top = zip(coefs_with_fns[:10], coefs_with_fns[:-11:-1])\n",
    "for (coef_1, fn_1), (coef_2, fn_2) in top:\n",
    "    print (\"\\t%.4f\\t%-15s\\t\\t%.4f\\t%-15s\" % (coef_1, fn_1, coef_2, fn_2))"
   ]
  },
  {
   "cell_type": "markdown",
   "metadata": {},
   "source": [
    "## 1.4) Applying Logistic Regression on Tf-Idf_Weighted-Average_Word2Vec, SET 4"
   ]
  },
  {
   "cell_type": "markdown",
   "metadata": {},
   "source": [
    "##### We are using the previously created Tf-Idf and Word2Vec vectorizer ."
   ]
  },
  {
   "cell_type": "code",
   "execution_count": 120,
   "metadata": {},
   "outputs": [],
   "source": [
    "# Time Series Split\n",
    "\n",
    "X_Train, X_test, Y_1, Y_test = train_test_split(X,Y,test_size=0.2,shuffle = False)\n",
    "tuned_param = [{'C':[0.00001,0.0001,0.001,0.01,0.1,1]}]"
   ]
  },
  {
   "cell_type": "code",
   "execution_count": 121,
   "metadata": {},
   "outputs": [
    {
     "name": "stdout",
     "output_type": "stream",
     "text": [
      "70218\n"
     ]
    }
   ],
   "source": [
    "# Splitting the Training Data into sentences\n",
    "list_of_sentence = []\n",
    "for sentence in X_Train['Cleaned_Text']:\n",
    "    list_of_sentence.append(sentence.split())\n",
    "print(len(list_of_sentence))"
   ]
  },
  {
   "cell_type": "code",
   "execution_count": 122,
   "metadata": {},
   "outputs": [
    {
     "name": "stderr",
     "output_type": "stream",
     "text": [
      "100%|████████████████████████████████████████████████████████████████████████████| 70218/70218 [55:38<00:00, 21.03it/s]\n"
     ]
    },
    {
     "name": "stdout",
     "output_type": "stream",
     "text": [
      "70218\n"
     ]
    }
   ],
   "source": [
    "# Tf-Idf Weighted Word2Vec for Training Data\n",
    "\n",
    "tf_idf_features = tfidf_vect.get_feature_names()\n",
    "dictionary = dict(zip(tfidf_vect.get_feature_names(), list(tfidf_vect.idf_)))\n",
    "\n",
    "tfidf_w2v_train = []\n",
    "for sent in tqdm(list_of_sentence):\n",
    "    sent_vec = np.zeros(50)\n",
    "    weighted_sum = 0\n",
    "    for word in sent:\n",
    "        if word in w2v_words and word in tf_idf_features:\n",
    "            vec = w2v_model.wv[word]\n",
    "            tfidf = dictionary[word]*(sent.count(word)/len(sent))\n",
    "            sent_vec += vec * tfidf\n",
    "            weighted_sum += tfidf\n",
    "    if weighted_sum != 0:\n",
    "        sent_vec /= weighted_sum\n",
    "    tfidf_w2v_train.append(sent_vec)\n",
    "print(len(tfidf_w2v_train))"
   ]
  },
  {
   "cell_type": "code",
   "execution_count": 129,
   "metadata": {},
   "outputs": [
    {
     "name": "stdout",
     "output_type": "stream",
     "text": [
      "17555\n"
     ]
    }
   ],
   "source": [
    "# Splitting the Test Data into sentences\n",
    "\n",
    "list_of_sentence = []\n",
    "for sentence in X_test['Cleaned_Text']:\n",
    "    list_of_sentence.append(sentence.split())\n",
    "print(len(list_of_sentence))"
   ]
  },
  {
   "cell_type": "code",
   "execution_count": 130,
   "metadata": {},
   "outputs": [
    {
     "name": "stderr",
     "output_type": "stream",
     "text": [
      "100%|████████████████████████████████████████████████████████████████████████████| 17555/17555 [13:06<00:00, 22.33it/s]\n"
     ]
    },
    {
     "name": "stdout",
     "output_type": "stream",
     "text": [
      "17555\n"
     ]
    }
   ],
   "source": [
    "# Tf-Idf Weighted Word2Vec for Test Data\n",
    "\n",
    "tf_idf_features = tfidf_vect.get_feature_names()\n",
    "\n",
    "tfidf_w2v_test = []\n",
    "for sent in tqdm(list_of_sentence):\n",
    "    sent_vec = np.zeros(50)\n",
    "    weighted_sum = 0\n",
    "    for word in sent:\n",
    "        if word in w2v_words and word in tf_idf_features:\n",
    "            vec = w2v_model.wv[word]\n",
    "            tfidf = dictionary[word]*(sent.count(word)/len(sent))\n",
    "            sent_vec += vec * tfidf\n",
    "            weighted_sum += tfidf\n",
    "    if weighted_sum != 0:\n",
    "        sent_vec /= weighted_sum\n",
    "    tfidf_w2v_test.append(sent_vec)\n",
    "print(len(tfidf_w2v_test))"
   ]
  },
  {
   "cell_type": "code",
   "execution_count": 131,
   "metadata": {},
   "outputs": [
    {
     "name": "stdout",
     "output_type": "stream",
     "text": [
      "70218\n",
      "17555\n"
     ]
    }
   ],
   "source": [
    "n_train = len(tfidf_w2v_train)\n",
    "n_test = len(tfidf_w2v_test)\n",
    "print(n_train)\n",
    "print(n_test)"
   ]
  },
  {
   "cell_type": "code",
   "execution_count": 132,
   "metadata": {},
   "outputs": [
    {
     "name": "stdout",
     "output_type": "stream",
     "text": [
      "(70218, 50)\n",
      "(17555, 50)\n"
     ]
    }
   ],
   "source": [
    "# Standardization Process\n",
    "\n",
    "scaler = StandardScaler()\n",
    "scaler.fit(tfidf_w2v_train)\n",
    "D4_Train = scaler.transform(tfidf_w2v_train)\n",
    "D4_Test = scaler.transform(tfidf_w2v_test)\n",
    "\n",
    "print(D4_Train.shape)\n",
    "print(D4_Test.shape)"
   ]
  },
  {
   "cell_type": "code",
   "execution_count": 133,
   "metadata": {},
   "outputs": [
    {
     "name": "stdout",
     "output_type": "stream",
     "text": [
      "LogisticRegression(C=0.01, class_weight='balanced', dual=False,\n",
      "          fit_intercept=True, intercept_scaling=1, max_iter=100,\n",
      "          multi_class='warn', n_jobs=None, penalty='l2', random_state=None,\n",
      "          solver='warn', tol=0.0001, verbose=0, warm_start=False)\n",
      "AUC SCORE :  0.8786771918555731\n"
     ]
    }
   ],
   "source": [
    "# Using GridSearchCV\n",
    "tfidfw2v_model_gs = GridSearchCV(LogisticRegression(class_weight = 'balanced'),tuned_param,cv = 5, scoring = 'roc_auc')\n",
    "tfidfw2v_model_gs.fit(D4_Train,Y_1)\n",
    "\n",
    "print(tfidfw2v_model_gs.best_estimator_)\n",
    "print(\"AUC SCORE : \",tfidfw2v_model_gs.score(D4_Test,Y_test))"
   ]
  },
  {
   "cell_type": "code",
   "execution_count": 149,
   "metadata": {},
   "outputs": [
    {
     "name": "stdout",
     "output_type": "stream",
     "text": [
      "17555\n",
      "17555\n",
      "Algo Run Successfully on D_Test\n",
      "====================================================================================================\n"
     ]
    }
   ],
   "source": [
    "# Fitting the model on test data\n",
    "\n",
    "test_neigh = LogisticRegression(C = 0.1,class_weight = 'balanced')\n",
    "test_neigh.fit(D4_Train,Y_1)\n",
    "\n",
    "predict_test_prob = []\n",
    "predict_train_prob = []\n",
    "predicted_labels_test = []\n",
    "predicted_labels_train = []\n",
    "\n",
    "# Predicting the model with Train Data\n",
    "for j in range(0,n_test,1000):\n",
    "    predicted_labels_test.extend(test_neigh.predict(D4_Test[j:j+1000]))\n",
    "    predict_test_prob.extend(test_neigh.predict_proba(D4_Test[j:j+1000])[:,1])\n",
    "    \n",
    "for k in range(0,n_train,1000):\n",
    "    predicted_labels_train.extend(test_neigh.predict(D4_Train[k:k+1000]))\n",
    "    predict_train_prob.extend(test_neigh.predict_proba(D4_Train[k:k+1000])[:,1])\n",
    "    \n",
    "print(len(predict_test_prob))\n",
    "print(len(Y_test))\n",
    "    \n",
    "train_fpr, train_tpr, thresholds = roc_curve(Y_1, predict_train_prob)\n",
    "test_fpr, test_tpr, thresholds = roc_curve(Y_test, predict_test_prob)\n",
    "\n",
    "print('Algo Run Successfully on D_Test')\n",
    "print(\"=\"*100)"
   ]
  },
  {
   "cell_type": "code",
   "execution_count": 150,
   "metadata": {},
   "outputs": [
    {
     "data": {
      "image/png": "[encoded data removed]",
      "text/plain": [
       "<Figure size 432x288 with 1 Axes>"
      ]
     },
     "metadata": {},
     "output_type": "display_data"
    },
    {
     "name": "stdout",
     "output_type": "stream",
     "text": [
      "====================================================================================================\n"
     ]
    }
   ],
   "source": [
    "# Plotting the AUC curve on Test and Train Data\n",
    "\n",
    "plt.plot(train_fpr, train_tpr, label=\"Train AUC =\"+str(auc(train_fpr, train_tpr)))\n",
    "plt.plot(test_fpr, test_tpr, label=\"Test AUC =\"+str(auc(test_fpr, test_tpr)))\n",
    "plt.legend()\n",
    "plt.xlabel(\"FPR\")\n",
    "plt.ylabel(\"TPR\")\n",
    "plt.title(\"ERROR PLOTS\")\n",
    "plt.show()\n",
    "\n",
    "print(\"=\"*100)"
   ]
  },
  {
   "cell_type": "code",
   "execution_count": 151,
   "metadata": {},
   "outputs": [
    {
     "name": "stdout",
     "output_type": "stream",
     "text": [
      "Train Confusion Matrix\n",
      "9188 2079 12745 46206\n",
      "[[ 9188  2079]\n",
      " [12745 46206]]\n",
      "========================================================================================================================\n",
      "Test Confusion Matrix\n",
      "2381 533 3300 11341\n",
      "[[ 2381   533]\n",
      " [ 3300 11341]]\n",
      "========================================================================================================================\n"
     ]
    }
   ],
   "source": [
    "# Getting the confusion metrics\n",
    "\n",
    "print('Train Confusion Matrix')\n",
    "tr_true_negetive,tr_false_positive, tr_false_negetive, tr_true_positive = confusion_matrix(Y_1,predicted_labels_train).ravel()\n",
    "print(tr_true_negetive, tr_false_positive, tr_false_negetive, tr_true_positive)\n",
    "print(confusion_matrix(Y_1,predicted_labels_train))\n",
    "print(\"=\"*120)\n",
    "\n",
    "print('Test Confusion Matrix')\n",
    "true_negetive,false_positive, false_negetive, true_positive = confusion_matrix(Y_test,predicted_labels_test).ravel()\n",
    "print(true_negetive, false_positive, false_negetive, true_positive)\n",
    "print(confusion_matrix(Y_test,predicted_labels_test))\n",
    "print(\"=\"*120)"
   ]
  },
  {
   "cell_type": "code",
   "execution_count": 164,
   "metadata": {},
   "outputs": [
    {
     "data": {
      "text/plain": [
       "Text(0.5,1,'Confusion Matrix of Train Data')"
      ]
     },
     "execution_count": 164,
     "metadata": {},
     "output_type": "execute_result"
    },
    {
     "data": {
      "image/png": "[encoded data removed]",
      "text/plain": [
       "<Figure size 432x288 with 2 Axes>"
      ]
     },
     "metadata": {},
     "output_type": "display_data"
    }
   ],
   "source": [
    "conMatrix= [[tr_true_negetive,tr_false_positive],[tr_false_negetive,tr_true_positive]]\n",
    "data = conMatrix\n",
    "sns.heatmap(data, cmap=\"YlGnBu\", annot=True, fmt=\"d\")\n",
    "plt.xlabel('Actual Values')\n",
    "plt.ylabel('Predicted Values')\n",
    "plt.title('Confusion Matrix of Train Data')"
   ]
  },
  {
   "cell_type": "code",
   "execution_count": 165,
   "metadata": {},
   "outputs": [
    {
     "data": {
      "text/plain": [
       "Text(0.5,1,'Confusion Matrix of Train Data')"
      ]
     },
     "execution_count": 165,
     "metadata": {},
     "output_type": "execute_result"
    },
    {
     "data": {
      "image/png": "[encoded data removed]",
      "text/plain": [
       "<Figure size 432x288 with 2 Axes>"
      ]
     },
     "metadata": {},
     "output_type": "display_data"
    }
   ],
   "source": [
    "conMatrix= [[true_negetive,false_positive],[false_negetive,true_positive]]\n",
    "data = conMatrix\n",
    "sns.heatmap(data, cmap=\"YlGnBu\", annot=True, fmt=\"d\")\n",
    "plt.xlabel('Actual Values')\n",
    "plt.ylabel('Predicted Values')\n",
    "plt.title('Confusion Matrix of Train Data')"
   ]
  },
  {
   "cell_type": "code",
   "execution_count": 63,
   "metadata": {},
   "outputs": [
    {
     "name": "stdout",
     "output_type": "stream",
     "text": [
      "\t-0.7443\tattracted      \t\t0.7457\tdays           \n",
      "\t-0.4777\twithin         \t\t0.4581\tshipment       \n",
      "\t-0.3587\twindow         \t\t0.4036\tsolution       \n",
      "\t-0.3426\twait           \t\t0.3796\tterm           \n",
      "\t-0.3298\tavoid          \t\t0.3061\thardly         \n",
      "\t-0.3250\tmade           \t\t0.2592\tone            \n",
      "\t-0.3181\tfruit          \t\t0.2325\ttouching       \n",
      "\t-0.3168\tidea           \t\t0.2302\thours          \n",
      "\t-0.3122\treceived       \t\t0.2202\tlong           \n",
      "\t-0.2990\treally         \t\t0.1880\tsurface        \n"
     ]
    }
   ],
   "source": [
    "# Feature Importance on L2 Regularization\n",
    "\n",
    "feature = w2v_words + tf_idf_features\n",
    "coefs_with_fns = sorted(zip(w2v_model_gs.best_estimator_.coef_[0], feature))\n",
    "top = zip(coefs_with_fns[:10], coefs_with_fns[:-11:-1])\n",
    "for (coef_1, fn_1), (coef_2, fn_2) in top:\n",
    "    print (\"\\t%.4f\\t%-15s\\t\\t%.4f\\t%-15s\" % (coef_1, fn_1, coef_2, fn_2))"
   ]
  },
  {
   "cell_type": "markdown",
   "metadata": {},
   "source": [
    "### Conclusion "
   ]
  },
  {
   "cell_type": "code",
   "execution_count": 81,
   "metadata": {},
   "outputs": [],
   "source": [
    "# Importing Pretty Table\n",
    "from prettytable import PrettyTable"
   ]
  },
  {
   "cell_type": "code",
   "execution_count": 154,
   "metadata": {},
   "outputs": [
    {
     "name": "stdout",
     "output_type": "stream",
     "text": [
      "+-------------------------+-----------------------+------+\n",
      "|        Vectorizer       | Hyper-Parameter Value | AUC  |\n",
      "+-------------------------+-----------------------+------+\n",
      "|           BOW           |     Lamda = 0.0001    | 0.92 |\n",
      "|          Tf-Idf         |       C = 0.0001      | 0.95 |\n",
      "|     Average Word2Vec    |        C = 0.1        | 0.90 |\n",
      "| Tf-Idf_Average_Word2Vec |        C = 0.1        | 0.88 |\n",
      "+-------------------------+-----------------------+------+\n"
     ]
    }
   ],
   "source": [
    "x = PrettyTable()\n",
    "x.field_names = ['Vectorizer', 'Hyper-Parameter Value','AUC']\n",
    "x.add_row(['BOW','Lamda = 0.0001','0.92'])\n",
    "x.add_row(['Tf-Idf','C = 0.0001','0.95'])\n",
    "x.add_row(['Average Word2Vec','C = 0.1','0.90'])\n",
    "x.add_row(['Tf-Idf_Average_Word2Vec','C = 0.1','0.88'])\n",
    "\n",
    "print(x)"
   ]
  },
  {
   "cell_type": "markdown",
   "metadata": {},
   "source": [
    "#### We have sampled top 100k datapoints that are highly imbalanced. We have thus balanced only the train datapoints with upsampling the negetive points for the BOW vectorizer. For the other vectorizer we have used the 'class_weight' parameter to balance the class.\n",
    "#### We have also done feature engineering on the Average Word2Vec vectorizer by adding a new feature that contains the word count of the reviews to see if the model performance is increasing or not.¶"
   ]
  },
  {
   "cell_type": "markdown",
   "metadata": {},
   "source": [
    "##### We have performed Perturbation test and also calculated sparsity on weight vector obtained after using L1 regularization on BOW.\n",
    "##### We have also performed a feature importance to check if the model is performing good. We have listed the top 10 features for each class along with their weight vector values."
   ]
  },
  {
   "cell_type": "code",
   "execution_count": null,
   "metadata": {},
   "outputs": [],
   "source": []
  }
 ],
 "metadata": {
  "kernelspec": {
   "display_name": "Python 3",
   "language": "python",
   "name": "python3"
  },
  "language_info": {
   "codemirror_mode": {
    "name": "ipython",
    "version": 3
   },
   "file_extension": ".py",
   "mimetype": "text/x-python",
   "name": "python",
   "nbconvert_exporter": "python",
   "pygments_lexer": "ipython3",
   "version": "3.6.5"
  }
 },
 "nbformat": 4,
 "nbformat_minor": 2
}
