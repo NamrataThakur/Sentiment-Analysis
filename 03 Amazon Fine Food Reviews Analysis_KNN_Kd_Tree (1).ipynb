{
 "cells": [
  {
   "cell_type": "markdown",
   "metadata": {},
   "source": [
    "## Amazon Fine Food Review Analysis _ KNN _ KD-Tree"
   ]
  },
  {
   "cell_type": "code",
   "execution_count": 2,
   "metadata": {},
   "outputs": [
    {
     "name": "stderr",
     "output_type": "stream",
     "text": [
      "C:\\Users\\NamrataT\\Anaconda3\\lib\\site-packages\\gensim\\utils.py:1197: UserWarning: detected Windows; aliasing chunkize to chunkize_serial\n",
      "  warnings.warn(\"detected Windows; aliasing chunkize to chunkize_serial\")\n"
     ]
    }
   ],
   "source": [
    "# Getting all the imports done\n",
    "\n",
    "%matplotlib inline\n",
    "import warnings\n",
    "warnings.filterwarnings(\"ignore\")\n",
    "\n",
    "\n",
    "import sqlite3\n",
    "import pandas as pd\n",
    "import numpy as np\n",
    "import nltk\n",
    "import string\n",
    "import matplotlib.pyplot as plt\n",
    "import seaborn as sns\n",
    "from sklearn.feature_extraction.text import TfidfTransformer\n",
    "from sklearn.feature_extraction.text import TfidfVectorizer\n",
    "\n",
    "from sklearn.feature_extraction.text import CountVectorizer\n",
    "from sklearn.metrics import confusion_matrix\n",
    "from sklearn import metrics\n",
    "from sklearn.metrics import roc_curve, auc\n",
    "from nltk.stem.porter import PorterStemmer\n",
    "\n",
    "import re\n",
    "# Tutorial about Python regular expressions: https://pymotw.com/2/re/\n",
    "import string\n",
    "from nltk.corpus import stopwords\n",
    "from nltk.stem import PorterStemmer\n",
    "from nltk.stem.wordnet import WordNetLemmatizer\n",
    "\n",
    "from gensim.models import Word2Vec\n",
    "from gensim.models import KeyedVectors\n",
    "import pickle\n",
    "\n",
    "from tqdm import tqdm\n",
    "import os\n",
    "\n"
   ]
  },
  {
   "cell_type": "code",
   "execution_count": 3,
   "metadata": {},
   "outputs": [
    {
     "name": "stdout",
     "output_type": "stream",
     "text": [
      "Number of data points in our data (70000, 10)\n"
     ]
    },
    {
     "data": {
      "text/html": [
       "<div>\n",
       "<style scoped>\n",
       "    .dataframe tbody tr th:only-of-type {\n",
       "        vertical-align: middle;\n",
       "    }\n",
       "\n",
       "    .dataframe tbody tr th {\n",
       "        vertical-align: top;\n",
       "    }\n",
       "\n",
       "    .dataframe thead th {\n",
       "        text-align: right;\n",
       "    }\n",
       "</style>\n",
       "<table border=\"1\" class=\"dataframe\">\n",
       "  <thead>\n",
       "    <tr style=\"text-align: right;\">\n",
       "      <th></th>\n",
       "      <th>Id</th>\n",
       "      <th>ProductId</th>\n",
       "      <th>UserId</th>\n",
       "      <th>ProfileName</th>\n",
       "      <th>HelpfulnessNumerator</th>\n",
       "      <th>HelpfulnessDenominator</th>\n",
       "      <th>Score</th>\n",
       "      <th>Time</th>\n",
       "      <th>Summary</th>\n",
       "      <th>Text</th>\n",
       "    </tr>\n",
       "  </thead>\n",
       "  <tbody>\n",
       "    <tr>\n",
       "      <th>0</th>\n",
       "      <td>1</td>\n",
       "      <td>B001E4KFG0</td>\n",
       "      <td>A3SGXH7AUHU8GW</td>\n",
       "      <td>delmartian</td>\n",
       "      <td>1</td>\n",
       "      <td>1</td>\n",
       "      <td>1</td>\n",
       "      <td>1303862400</td>\n",
       "      <td>Good Quality Dog Food</td>\n",
       "      <td>I have bought several of the Vitality canned d...</td>\n",
       "    </tr>\n",
       "    <tr>\n",
       "      <th>1</th>\n",
       "      <td>2</td>\n",
       "      <td>B00813GRG4</td>\n",
       "      <td>A1D87F6ZCVE5NK</td>\n",
       "      <td>dll pa</td>\n",
       "      <td>0</td>\n",
       "      <td>0</td>\n",
       "      <td>0</td>\n",
       "      <td>1346976000</td>\n",
       "      <td>Not as Advertised</td>\n",
       "      <td>Product arrived labeled as Jumbo Salted Peanut...</td>\n",
       "    </tr>\n",
       "    <tr>\n",
       "      <th>2</th>\n",
       "      <td>3</td>\n",
       "      <td>B000LQOCH0</td>\n",
       "      <td>ABXLMWJIXXAIN</td>\n",
       "      <td>Natalia Corres \"Natalia Corres\"</td>\n",
       "      <td>1</td>\n",
       "      <td>1</td>\n",
       "      <td>1</td>\n",
       "      <td>1219017600</td>\n",
       "      <td>\"Delight\" says it all</td>\n",
       "      <td>This is a confection that has been around a fe...</td>\n",
       "    </tr>\n",
       "  </tbody>\n",
       "</table>\n",
       "</div>"
      ],
      "text/plain": [
       "   Id   ProductId          UserId                      ProfileName  \\\n",
       "0   1  B001E4KFG0  A3SGXH7AUHU8GW                       delmartian   \n",
       "1   2  B00813GRG4  A1D87F6ZCVE5NK                           dll pa   \n",
       "2   3  B000LQOCH0   ABXLMWJIXXAIN  Natalia Corres \"Natalia Corres\"   \n",
       "\n",
       "   HelpfulnessNumerator  HelpfulnessDenominator  Score        Time  \\\n",
       "0                     1                       1      1  1303862400   \n",
       "1                     0                       0      0  1346976000   \n",
       "2                     1                       1      1  1219017600   \n",
       "\n",
       "                 Summary                                               Text  \n",
       "0  Good Quality Dog Food  I have bought several of the Vitality canned d...  \n",
       "1      Not as Advertised  Product arrived labeled as Jumbo Salted Peanut...  \n",
       "2  \"Delight\" says it all  This is a confection that has been around a fe...  "
      ]
     },
     "execution_count": 3,
     "metadata": {},
     "output_type": "execute_result"
    }
   ],
   "source": [
    "# using SQLite Table to read data.\n",
    "con = sqlite3.connect(r'C:\\Users\\NamrataT\\Desktop\\EXAM\\PYTHON\\Amazon Fine Food Reviews\\database.sqlite') \n",
    "\n",
    "# filtering only positive and negative reviews i.e. \n",
    "# not taking into consideration those reviews with Score=3\n",
    "\n",
    "filtered_data = pd.read_sql_query(\"\"\" SELECT * FROM Reviews WHERE Score != 3 LIMIT 70000\"\"\", con) \n",
    "\n",
    "# Give reviews with Score>3 a positive rating(1), and reviews with a score<3 a negative rating(0).\n",
    "def partition(x):\n",
    "    if x < 3:\n",
    "        return 0\n",
    "    return 1\n",
    "\n",
    "#changing reviews with score less than 3 to be positive and vice-versa\n",
    "actualScore = filtered_data['Score']\n",
    "positiveNegative = actualScore.map(partition) \n",
    "filtered_data['Score'] = positiveNegative\n",
    "print(\"Number of data points in our data\", filtered_data.shape)\n",
    "filtered_data.head(3)"
   ]
  },
  {
   "cell_type": "code",
   "execution_count": 4,
   "metadata": {},
   "outputs": [
    {
     "data": {
      "text/plain": [
       "1    58605\n",
       "0    11395\n",
       "Name: Score, dtype: int64"
      ]
     },
     "execution_count": 4,
     "metadata": {},
     "output_type": "execute_result"
    }
   ],
   "source": [
    "filtered_data['Score'].value_counts()"
   ]
  },
  {
   "cell_type": "code",
   "execution_count": 5,
   "metadata": {},
   "outputs": [
    {
     "name": "stdout",
     "output_type": "stream",
     "text": [
      "(58605, 10) (11395, 10)\n"
     ]
    }
   ],
   "source": [
    "demo_positive = filtered_data[filtered_data['Score']==1]\n",
    "demo_negetive = filtered_data[filtered_data['Score']==0]\n",
    "\n",
    "print(demo_positive.shape, demo_negetive.shape)"
   ]
  },
  {
   "cell_type": "code",
   "execution_count": 6,
   "metadata": {},
   "outputs": [
    {
     "name": "stdout",
     "output_type": "stream",
     "text": [
      "(9000, 10) (11395, 10)\n"
     ]
    }
   ],
   "source": [
    "demo_positive = demo_positive[0:9000]\n",
    "demo_negetive = demo_negetive[0:11395]\n",
    "print(demo_positive.shape, demo_negetive.shape)"
   ]
  },
  {
   "cell_type": "code",
   "execution_count": 7,
   "metadata": {},
   "outputs": [
    {
     "name": "stdout",
     "output_type": "stream",
     "text": [
      "(20395, 10)\n",
      "<class 'pandas.core.frame.DataFrame'>\n"
     ]
    }
   ],
   "source": [
    "filtered_data = pd.DataFrame(np.vstack((demo_positive,demo_negetive)),columns=['Id', 'ProductId', 'UserId', 'ProfileName', 'HelpfulnessNumerator',\n",
    "       'HelpfulnessDenominator', 'Score', 'Time', 'Summary', 'Text'])\n",
    "print(filtered_data.shape)\n",
    "print(type(filtered_data))"
   ]
  },
  {
   "cell_type": "code",
   "execution_count": 8,
   "metadata": {},
   "outputs": [],
   "source": [
    "#Sorting data according to Time in ascending order\n",
    "sorted_data=filtered_data.sort_values('Time', axis=0, ascending=True, inplace=False, kind='quicksort', na_position='last')\n",
    "sorted_data.reset_index(drop=True, inplace=True)"
   ]
  },
  {
   "cell_type": "code",
   "execution_count": 9,
   "metadata": {},
   "outputs": [
    {
     "data": {
      "text/plain": [
       "(18870, 10)"
      ]
     },
     "execution_count": 9,
     "metadata": {},
     "output_type": "execute_result"
    }
   ],
   "source": [
    "#Deduplication of entries\n",
    "final=sorted_data.drop_duplicates(subset={\"UserId\",\"ProfileName\",\"Time\",\"Text\"}, keep='first', inplace=False)\n",
    "final.shape"
   ]
  },
  {
   "cell_type": "code",
   "execution_count": 10,
   "metadata": {},
   "outputs": [
    {
     "data": {
      "text/plain": [
       "92.52267712674676"
      ]
     },
     "execution_count": 10,
     "metadata": {},
     "output_type": "execute_result"
    }
   ],
   "source": [
    "#Checking to see how much % of data still remains\n",
    "(final['Id'].size*1.0)/(filtered_data['Id'].size*1.0)*100"
   ]
  },
  {
   "cell_type": "code",
   "execution_count": 11,
   "metadata": {},
   "outputs": [],
   "source": [
    "final=final[final.HelpfulnessNumerator<=final.HelpfulnessDenominator]"
   ]
  },
  {
   "cell_type": "code",
   "execution_count": 12,
   "metadata": {},
   "outputs": [
    {
     "name": "stdout",
     "output_type": "stream",
     "text": [
      "(18870, 10)\n"
     ]
    },
    {
     "data": {
      "text/plain": [
       "0    10263\n",
       "1     8607\n",
       "Name: Score, dtype: int64"
      ]
     },
     "execution_count": 12,
     "metadata": {},
     "output_type": "execute_result"
    }
   ],
   "source": [
    "#Before starting the next phase of preprocessing lets see the number of entries left\n",
    "print(final.shape)\n",
    "\n",
    "#How many positive and negative reviews are present in our dataset?\n",
    "final['Score'].value_counts()"
   ]
  },
  {
   "cell_type": "code",
   "execution_count": 13,
   "metadata": {},
   "outputs": [
    {
     "data": {
      "text/plain": [
       "pandas.core.series.Series"
      ]
     },
     "execution_count": 13,
     "metadata": {},
     "output_type": "execute_result"
    }
   ],
   "source": [
    "final_score = final['Score']\n",
    "type(final_score)"
   ]
  },
  {
   "cell_type": "code",
   "execution_count": 14,
   "metadata": {},
   "outputs": [],
   "source": [
    "# https://stackoverflow.com/a/47091490/4084039\n",
    "import re\n",
    "\n",
    "def decontracted(phrase):\n",
    "    # specific\n",
    "    phrase = re.sub(r\"won't\", \"will not\", phrase)\n",
    "    phrase = re.sub(r\"can\\'t\", \"can not\", phrase)\n",
    "\n",
    "    # general\n",
    "    phrase = re.sub(r\"n\\'t\", \" not\", phrase)\n",
    "    phrase = re.sub(r\"\\'re\", \" are\", phrase)\n",
    "    phrase = re.sub(r\"\\'s\", \" is\", phrase)\n",
    "    phrase = re.sub(r\"\\'d\", \" would\", phrase)\n",
    "    phrase = re.sub(r\"\\'ll\", \" will\", phrase)\n",
    "    phrase = re.sub(r\"\\'t\", \" not\", phrase)\n",
    "    phrase = re.sub(r\"\\'ve\", \" have\", phrase)\n",
    "    phrase = re.sub(r\"\\'m\", \" am\", phrase)\n",
    "    return phrase"
   ]
  },
  {
   "cell_type": "code",
   "execution_count": 15,
   "metadata": {},
   "outputs": [],
   "source": [
    "# https://gist.github.com/sebleier/554280\n",
    "# we are removing the words from the stop words list: 'no', 'nor', 'not'\n",
    "# <br /><br /> ==> after the above steps, we are getting \"br br\"\n",
    "# we are including them into stop words list\n",
    "# instead of <br /> if we have <br/> these tags would have revmoved in the 1st step\n",
    "\n",
    "stopwords= set(['br', 'the', 'i', 'me', 'my', 'myself', 'we', 'our', 'ours', 'ourselves', 'you', \"you're\", \"you've\",\\\n",
    "            \"you'll\", \"you'd\", 'your', 'yours', 'yourself', 'yourselves', 'he', 'him', 'his', 'himself', \\\n",
    "            'she', \"she's\", 'her', 'hers', 'herself', 'it', \"it's\", 'its', 'itself', 'they', 'them', 'their',\\\n",
    "            'theirs', 'themselves', 'what', 'which', 'who', 'whom', 'this', 'that', \"that'll\", 'these', 'those', \\\n",
    "            'am', 'is', 'are', 'was', 'were', 'be', 'been', 'being', 'have', 'has', 'had', 'having', 'do', 'does', \\\n",
    "            'did', 'doing', 'a', 'an', 'the', 'and', 'but', 'if', 'or', 'because', 'as', 'until', 'while', 'of', \\\n",
    "            'at', 'by', 'for', 'with', 'about', 'against', 'between', 'into', 'through', 'during', 'before', 'after',\\\n",
    "            'above', 'below', 'to', 'from', 'up', 'down', 'in', 'out', 'on', 'off', 'over', 'under', 'again', 'further',\\\n",
    "            'then', 'once', 'here', 'there', 'when', 'where', 'why', 'how', 'all', 'any', 'both', 'each', 'few', 'more',\\\n",
    "            'most', 'other', 'some', 'such', 'only', 'own', 'same', 'so', 'than', 'too', 'very', \\\n",
    "            's', 't', 'can', 'will', 'just', 'don', \"don't\", 'should', \"should've\", 'now', 'd', 'll', 'm', 'o', 're', \\\n",
    "            've', 'y', 'ain', 'aren', \"aren't\", 'couldn', \"couldn't\", 'didn', \"didn't\", 'doesn', \"doesn't\", 'hadn',\\\n",
    "            \"hadn't\", 'hasn', \"hasn't\", 'haven', \"haven't\", 'isn', \"isn't\", 'ma', 'mightn', \"mightn't\", 'mustn',\\\n",
    "            \"mustn't\", 'needn', \"needn't\", 'shan', \"shan't\", 'shouldn', \"shouldn't\", 'wasn', \"wasn't\", 'weren', \"weren't\", \\\n",
    "            'won', \"won't\", 'wouldn', \"wouldn't\"])"
   ]
  },
  {
   "cell_type": "code",
   "execution_count": 16,
   "metadata": {},
   "outputs": [
    {
     "name": "stderr",
     "output_type": "stream",
     "text": [
      "100%|██████████████████████████████████████████████████████████████████████████| 18870/18870 [00:12<00:00, 1452.57it/s]\n"
     ]
    }
   ],
   "source": [
    "# Combining all the above stundents \n",
    "from tqdm import tqdm\n",
    "from bs4 import BeautifulSoup\n",
    "\n",
    "preprocessed_reviews = []\n",
    "# tqdm is for printing the status bar\n",
    "for sentance in tqdm(final['Text'].values):\n",
    "    sentance = re.sub(r\"http\\S+\", \"\", sentance)\n",
    "    sentance = BeautifulSoup(sentance, 'lxml').get_text()\n",
    "    sentance = decontracted(sentance)\n",
    "    sentance = re.sub(\"\\S*\\d\\S*\", \"\", sentance).strip()\n",
    "    sentance = re.sub('[^A-Za-z]+', ' ', sentance)\n",
    "    # https://gist.github.com/sebleier/554280\n",
    "    sentance = ' '.join(e.lower() for e in sentance.split() if e.lower() not in stopwords)\n",
    "    preprocessed_reviews.append(sentance.strip())"
   ]
  },
  {
   "cell_type": "code",
   "execution_count": 17,
   "metadata": {},
   "outputs": [
    {
     "data": {
      "text/plain": [
       "'dressing became instant favorite mine fat free without losing flavor alot dresings lose alot flavor fat free versions makes use twice much wish bone choice ranch dressing husband not usually go fat free diet anything put salads didnt even know'"
      ]
     },
     "execution_count": 17,
     "metadata": {},
     "output_type": "execute_result"
    }
   ],
   "source": [
    "preprocessed_reviews[1500]"
   ]
  },
  {
   "cell_type": "markdown",
   "metadata": {},
   "source": [
    "## 2) Applying KNN Kd-Tree"
   ]
  },
  {
   "cell_type": "markdown",
   "metadata": {},
   "source": [
    "## 2.1) Applying KNN kd_tree on BOW, SET 5"
   ]
  },
  {
   "cell_type": "code",
   "execution_count": 18,
   "metadata": {},
   "outputs": [],
   "source": [
    "# Getting all the imports done\n",
    "\n",
    "from sklearn.neighbors import KNeighborsClassifier\n",
    "from sklearn.metrics import accuracy_score\n",
    "#from sklearn.cross_validation import cross_val_score\n",
    "from collections import Counter\n",
    "from sklearn.metrics import accuracy_score\n",
    "#from sklearn import cross_validation\n",
    "from sklearn.metrics import roc_auc_score\n",
    "from sklearn import preprocessing\n",
    "from sklearn.model_selection import train_test_split\n",
    "from sklearn.metrics import auc,roc_curve\n",
    "from sklearn.metrics import confusion_matrix\n",
    "from sklearn.feature_extraction.text import TfidfVectorizer\n",
    "from sklearn.preprocessing import StandardScaler\n",
    "from plotly.plotly import plotly as py\n",
    "from imblearn.over_sampling import SMOTE\n",
    "from imblearn.over_sampling import RandomOverSampler\n",
    "from sklearn.utils import resample\n",
    "from scipy.sparse import hstack"
   ]
  },
  {
   "cell_type": "code",
   "execution_count": 19,
   "metadata": {},
   "outputs": [],
   "source": [
    "final['Cleaned_Text']=preprocessed_reviews\n",
    "final['Word Count'] = final['Cleaned_Text'].apply(lambda x:len(x.split()))\n",
    "final_review = final[['Cleaned_Text','Score','Word Count']]\n",
    "X = final_review.drop(['Score'],axis=1)\n",
    "Y = final_review['Score']"
   ]
  },
  {
   "cell_type": "code",
   "execution_count": 20,
   "metadata": {},
   "outputs": [],
   "source": [
    "# Please write all the code with proper documentation\n",
    "# TIME BASED SPILTTING\n",
    "# SIMPLE CROSS VALIDATION\n",
    "\n",
    "X_1, X_test, Y_1, Y_test = train_test_split(X,Y,test_size=0.2,shuffle = False )\n",
    "X_1_train, X_1_cv, Y_1_train, Y_1_cv = train_test_split( X_1, Y_1, test_size=0.2,shuffle = False)\n"
   ]
  },
  {
   "cell_type": "code",
   "execution_count": 21,
   "metadata": {},
   "outputs": [
    {
     "name": "stdout",
     "output_type": "stream",
     "text": [
      "(12076, 2) (12076,)\n"
     ]
    }
   ],
   "source": [
    "print(X_1_train.shape,Y_1_train.shape)"
   ]
  },
  {
   "cell_type": "code",
   "execution_count": 22,
   "metadata": {},
   "outputs": [],
   "source": [
    "df_post_split = pd.concat([X_1_train,Y_1_train],axis=1)\n",
    "x_positive = df_post_split[df_post_split['Score']==1]\n",
    "x_negetive = df_post_split[df_post_split['Score']==0]"
   ]
  },
  {
   "cell_type": "code",
   "execution_count": 23,
   "metadata": {},
   "outputs": [
    {
     "data": {
      "text/plain": [
       "0    6310\n",
       "1    5766\n",
       "Name: Score, dtype: int64"
      ]
     },
     "execution_count": 23,
     "metadata": {},
     "output_type": "execute_result"
    }
   ],
   "source": [
    "df_post_split['Score'].value_counts()"
   ]
  },
  {
   "cell_type": "code",
   "execution_count": 24,
   "metadata": {},
   "outputs": [],
   "source": [
    "# Indicies of each class' observations\n",
    "i_class0 = np.where(df_post_split['Score'] == 0)[0]\n",
    "i_class1 = np.where(df_post_split['Score'] == 1)[0]"
   ]
  },
  {
   "cell_type": "code",
   "execution_count": 25,
   "metadata": {},
   "outputs": [],
   "source": [
    "# For every observation of class 1, randomly sample from class 0 without replacement\n",
    "#x_negetive_upsample = resample(x_negetive, replace = True, n_samples=17000)\n",
    "x_negetive_downsample = resample(x_negetive,replace=False,n_samples=4000,random_state=123) "
   ]
  },
  {
   "cell_type": "code",
   "execution_count": 26,
   "metadata": {},
   "outputs": [
    {
     "name": "stdout",
     "output_type": "stream",
     "text": [
      "(4000, 3) <class 'pandas.core.frame.DataFrame'>\n"
     ]
    }
   ],
   "source": [
    "print(x_negetive_downsample.shape, type(x_positive))"
   ]
  },
  {
   "cell_type": "code",
   "execution_count": 27,
   "metadata": {},
   "outputs": [
    {
     "data": {
      "text/plain": [
       "pandas.core.frame.DataFrame"
      ]
     },
     "execution_count": 27,
     "metadata": {},
     "output_type": "execute_result"
    }
   ],
   "source": [
    "#df_upsample = pd.concat([x_positive,x_negetive_upsample])\n",
    "df_upsample = pd.concat([x_positive,x_negetive_downsample])\n",
    "type(df_upsample)"
   ]
  },
  {
   "cell_type": "code",
   "execution_count": 28,
   "metadata": {},
   "outputs": [
    {
     "data": {
      "text/html": [
       "<div>\n",
       "<style scoped>\n",
       "    .dataframe tbody tr th:only-of-type {\n",
       "        vertical-align: middle;\n",
       "    }\n",
       "\n",
       "    .dataframe tbody tr th {\n",
       "        vertical-align: top;\n",
       "    }\n",
       "\n",
       "    .dataframe thead th {\n",
       "        text-align: right;\n",
       "    }\n",
       "</style>\n",
       "<table border=\"1\" class=\"dataframe\">\n",
       "  <thead>\n",
       "    <tr style=\"text-align: right;\">\n",
       "      <th></th>\n",
       "      <th>Cleaned_Text</th>\n",
       "      <th>Word Count</th>\n",
       "      <th>Score</th>\n",
       "    </tr>\n",
       "  </thead>\n",
       "  <tbody>\n",
       "    <tr>\n",
       "      <th>0</th>\n",
       "      <td>really good idea final product outstanding use...</td>\n",
       "      <td>17</td>\n",
       "      <td>1</td>\n",
       "    </tr>\n",
       "    <tr>\n",
       "      <th>1</th>\n",
       "      <td>received shipment could hardly wait try produc...</td>\n",
       "      <td>39</td>\n",
       "      <td>1</td>\n",
       "    </tr>\n",
       "    <tr>\n",
       "      <th>2</th>\n",
       "      <td>winter fresh blueberries exceed food budget dr...</td>\n",
       "      <td>27</td>\n",
       "      <td>1</td>\n",
       "    </tr>\n",
       "    <tr>\n",
       "      <th>3</th>\n",
       "      <td>like strong smooth flavorful coffee tried othe...</td>\n",
       "      <td>17</td>\n",
       "      <td>1</td>\n",
       "    </tr>\n",
       "    <tr>\n",
       "      <th>4</th>\n",
       "      <td>mae ploy sweet chili sauce becoming standard c...</td>\n",
       "      <td>29</td>\n",
       "      <td>1</td>\n",
       "    </tr>\n",
       "  </tbody>\n",
       "</table>\n",
       "</div>"
      ],
      "text/plain": [
       "                                        Cleaned_Text  Word Count Score\n",
       "0  really good idea final product outstanding use...          17     1\n",
       "1  received shipment could hardly wait try produc...          39     1\n",
       "2  winter fresh blueberries exceed food budget dr...          27     1\n",
       "3  like strong smooth flavorful coffee tried othe...          17     1\n",
       "4  mae ploy sweet chili sauce becoming standard c...          29     1"
      ]
     },
     "execution_count": 28,
     "metadata": {},
     "output_type": "execute_result"
    }
   ],
   "source": [
    "df_upsample.head()"
   ]
  },
  {
   "cell_type": "code",
   "execution_count": 29,
   "metadata": {},
   "outputs": [
    {
     "data": {
      "text/plain": [
       "1    5766\n",
       "0    4000\n",
       "Name: Score, dtype: int64"
      ]
     },
     "execution_count": 29,
     "metadata": {},
     "output_type": "execute_result"
    }
   ],
   "source": [
    "df_upsample['Score'].value_counts()"
   ]
  },
  {
   "cell_type": "code",
   "execution_count": 39,
   "metadata": {},
   "outputs": [
    {
     "name": "stdout",
     "output_type": "stream",
     "text": [
      "(9766, 2) (9766,)\n"
     ]
    }
   ],
   "source": [
    "X_Train = df_upsample.drop(['Score'],axis=1)\n",
    "Y_Train = df_upsample['Score']\n",
    "print(X_Train.shape, Y_Train.shape)"
   ]
  },
  {
   "cell_type": "code",
   "execution_count": 103,
   "metadata": {},
   "outputs": [
    {
     "name": "stdout",
     "output_type": "stream",
     "text": [
      " some feature names  ['able', 'absolutely', 'acid', 'actually', 'add', 'added', 'aftertaste', 'ago', 'almost', 'also']\n",
      "==================================================\n",
      "the type of count vectorizer  <class 'scipy.sparse.csr.csr_matrix'>\n",
      "the shape of BOW vectorizer  (9766, 500)\n",
      "the number of unique words  500\n"
     ]
    }
   ],
   "source": [
    "# Applying BOW for Vectorization\n",
    "# BoW -- fit_transform on D_Train\n",
    "count_vect = CountVectorizer(max_features=500,min_df=10) #in scikit-learn\n",
    "D_Train = count_vect.fit_transform(X_Train['Cleaned_Text'])\n",
    "print(\" some feature names \", count_vect.get_feature_names()[:10])\n",
    "print('='*50)\n",
    "\n",
    "print(\"the type of count vectorizer \",type(D_Train))\n",
    "print(\"the shape of BOW vectorizer \",D_Train.get_shape())\n",
    "print(\"the number of unique words \", D_Train.get_shape()[1])"
   ]
  },
  {
   "cell_type": "code",
   "execution_count": 104,
   "metadata": {},
   "outputs": [
    {
     "name": "stdout",
     "output_type": "stream",
     "text": [
      "0    2196\n",
      "1    1578\n",
      "Name: Score, dtype: int64\n"
     ]
    }
   ],
   "source": [
    "print(Y_test.value_counts())"
   ]
  },
  {
   "cell_type": "code",
   "execution_count": 105,
   "metadata": {},
   "outputs": [
    {
     "name": "stdout",
     "output_type": "stream",
     "text": [
      "the type of count vectorizer  <class 'scipy.sparse.csr.csr_matrix'>\n",
      "the shape of BOW vectorizer  (3020, 500)\n",
      "the number of unique words  500\n"
     ]
    }
   ],
   "source": [
    "# BoW -- transform on D_CV\n",
    "\n",
    "D_Cv = count_vect.transform(X_1_cv['Cleaned_Text'])\n",
    "print(\"the type of count vectorizer \",type(D_Cv))\n",
    "print(\"the shape of BOW vectorizer \",D_Cv.get_shape())\n",
    "print(\"the number of unique words \", D_Cv.get_shape()[1])"
   ]
  },
  {
   "cell_type": "code",
   "execution_count": 106,
   "metadata": {},
   "outputs": [
    {
     "name": "stdout",
     "output_type": "stream",
     "text": [
      "the type of count vectorizer  <class 'scipy.sparse.csr.csr_matrix'>\n",
      "the shape of BOW vectorizer  (3774, 500)\n",
      "the number of unique words  500\n"
     ]
    }
   ],
   "source": [
    "# BoW -- transform on D_Test\n",
    "\n",
    "D_Test = count_vect.transform(X_test['Cleaned_Text'])\n",
    "print(\"the type of count vectorizer \",type(D_Test))\n",
    "print(\"the shape of BOW vectorizer \",D_Test.get_shape())\n",
    "print(\"the number of unique words \", D_Test.get_shape()[1])"
   ]
  },
  {
   "cell_type": "code",
   "execution_count": 85,
   "metadata": {},
   "outputs": [],
   "source": [
    "'''X_Train_count  =  X_Train['Word Count'].values.reshape(-1,1)\n",
    "X_Test_count = X_test['Word Count'].values.reshape(-1,1)'''"
   ]
  },
  {
   "cell_type": "code",
   "execution_count": 86,
   "metadata": {},
   "outputs": [],
   "source": [
    "'''X_Cv_count  =  X_1_cv['Word Count'].values.reshape(-1,1)'''"
   ]
  },
  {
   "cell_type": "code",
   "execution_count": 87,
   "metadata": {},
   "outputs": [],
   "source": [
    "'''#standardising word count feature\n",
    "import warnings\n",
    "warnings.filterwarnings('ignore')\n",
    "word_scalar = StandardScaler()\n",
    "word_scalar.fit(X_Train_count) \n",
    "X_Train_count = word_scalar.transform(X_Train_count)\n",
    "X_Cv_count = word_scalar.transform(X_Cv_count)\n",
    "X_Test_count = word_scalar.transform(X_Test_count)'''"
   ]
  },
  {
   "cell_type": "code",
   "execution_count": 88,
   "metadata": {},
   "outputs": [],
   "source": [
    "'''D_Train = hstack((D_Train,X_Train_count))\n",
    "D_Cv = hstack((D_Cv,X_Cv_count))\n",
    "D_Test = hstack((D_Test,X_Test_count))'''"
   ]
  },
  {
   "cell_type": "code",
   "execution_count": 107,
   "metadata": {},
   "outputs": [
    {
     "name": "stdout",
     "output_type": "stream",
     "text": [
      "9766\n",
      "3020\n",
      "3774\n"
     ]
    }
   ],
   "source": [
    "\n",
    "n_cv = D_Cv.get_shape()[0]\n",
    "n_train = D_Train.get_shape()[0]\n",
    "n_test = D_Test.get_shape()[0]\n",
    "print(n_train)\n",
    "print(n_cv)\n",
    "print(n_test)\n"
   ]
  },
  {
   "cell_type": "code",
   "execution_count": 108,
   "metadata": {},
   "outputs": [
    {
     "name": "stdout",
     "output_type": "stream",
     "text": [
      "(9766, 500)\n",
      "(3020, 500)\n",
      "(3774, 500)\n"
     ]
    }
   ],
   "source": [
    "# Standardization Process\n",
    "# Changes done as suggested\n",
    "\n",
    "scaler = StandardScaler(with_mean=False)\n",
    "scaler.fit(D_Train)\n",
    "D_Train = scaler.transform(D_Train)\n",
    "D_Cv = scaler.transform(D_Cv)\n",
    "D_Test = scaler.transform(D_Test)\n",
    "\n",
    "print(D_Train.shape)\n",
    "print(D_Cv.shape)\n",
    "print(D_Test.shape)\n"
   ]
  },
  {
   "cell_type": "code",
   "execution_count": 90,
   "metadata": {},
   "outputs": [
    {
     "name": "stdout",
     "output_type": "stream",
     "text": [
      "(9766, 501)\n",
      "(3774, 501)\n",
      "(3020, 501)\n"
     ]
    }
   ],
   "source": [
    "# Standardization Process  when we are doing Feature Engineering\n",
    "\n",
    "from sklearn.preprocessing import MaxAbsScaler\n",
    "scaler = MaxAbsScaler()\n",
    "scaler.fit(D_Train)\n",
    "D_Train = scaler.transform(D_Train)\n",
    "D_Test = scaler.transform(D_Test)\n",
    "D_Cv = scaler.transform(D_Cv)\n",
    "print(D_Train.shape)\n",
    "print(D_Test.shape)\n",
    "print(D_Cv.shape)"
   ]
  },
  {
   "cell_type": "code",
   "execution_count": 109,
   "metadata": {},
   "outputs": [
    {
     "name": "stdout",
     "output_type": "stream",
     "text": [
      "<class 'numpy.ndarray'>\n"
     ]
    }
   ],
   "source": [
    "D_Train = D_Train.toarray()\n",
    "D_Cv = D_Cv.toarray()\n",
    "D_Test = D_Test.toarray()\n",
    "print(type(D_Train))"
   ]
  },
  {
   "cell_type": "code",
   "execution_count": 110,
   "metadata": {},
   "outputs": [],
   "source": [
    "D_Train=D_Train.astype('int')\n",
    "D_Cv=D_Cv.astype('int')\n",
    "D_Test=D_Test.astype('int')\n",
    "Y_Train=Y_Train.astype('int')\n",
    "Y_1_cv=Y_1_cv.astype('int')\n",
    "Y_test=Y_test.astype('int')"
   ]
  },
  {
   "cell_type": "code",
   "execution_count": 111,
   "metadata": {},
   "outputs": [
    {
     "name": "stderr",
     "output_type": "stream",
     "text": [
      "\n",
      "  0%|                                                                                           | 0/25 [00:00<?, ?it/s]"
     ]
    },
    {
     "name": "stdout",
     "output_type": "stream",
     "text": [
      "3020\n",
      "3020\n",
      "\n",
      "CV Accuracy for k = 1 is 61%\n",
      "\n",
      "CV AUC for k = 1 is 0.630204%\n",
      "\n",
      "Train Accuracy for k = 1 is 99%\n",
      "\n",
      "Train AUC for k = 1 is 0.999125%\n"
     ]
    },
    {
     "name": "stderr",
     "output_type": "stream",
     "text": [
      "\n",
      "  4%|███▏                                                                            | 1/25 [02:48<1:07:26, 168.60s/it]"
     ]
    },
    {
     "name": "stdout",
     "output_type": "stream",
     "text": [
      "3020\n",
      "3020\n",
      "\n",
      "CV Accuracy for k = 3 is 61%\n",
      "\n",
      "CV AUC for k = 3 is 0.687365%\n",
      "\n",
      "Train Accuracy for k = 3 is 83%\n",
      "\n",
      "Train AUC for k = 3 is 0.910565%\n"
     ]
    },
    {
     "name": "stderr",
     "output_type": "stream",
     "text": [
      "\n",
      "  8%|██████▍                                                                         | 2/25 [07:10<1:15:20, 196.56s/it]"
     ]
    },
    {
     "name": "stdout",
     "output_type": "stream",
     "text": [
      "3020\n",
      "3020\n",
      "\n",
      "CV Accuracy for k = 5 is 61%\n",
      "\n",
      "CV AUC for k = 5 is 0.710955%\n",
      "\n",
      "Train Accuracy for k = 5 is 79%\n",
      "\n",
      "Train AUC for k = 5 is 0.878127%\n"
     ]
    },
    {
     "name": "stderr",
     "output_type": "stream",
     "text": [
      "\n",
      " 12%|█████████▌                                                                      | 3/25 [11:33<1:19:25, 216.62s/it]"
     ]
    },
    {
     "name": "stdout",
     "output_type": "stream",
     "text": [
      "3020\n",
      "3020\n",
      "\n",
      "CV Accuracy for k = 7 is 59%\n",
      "\n",
      "CV AUC for k = 7 is 0.721925%\n",
      "\n",
      "Train Accuracy for k = 7 is 76%\n",
      "\n",
      "Train AUC for k = 7 is 0.860858%\n"
     ]
    },
    {
     "name": "stderr",
     "output_type": "stream",
     "text": [
      "\n",
      " 16%|████████████▊                                                                   | 4/25 [15:57<1:20:45, 230.75s/it]"
     ]
    },
    {
     "name": "stdout",
     "output_type": "stream",
     "text": [
      "3020\n",
      "3020\n",
      "\n",
      "CV Accuracy for k = 9 is 60%\n",
      "\n",
      "CV AUC for k = 9 is 0.733018%\n",
      "\n",
      "Train Accuracy for k = 9 is 75%\n",
      "\n",
      "Train AUC for k = 9 is 0.847333%\n"
     ]
    },
    {
     "name": "stderr",
     "output_type": "stream",
     "text": [
      "\n",
      " 20%|████████████████                                                                | 5/25 [20:22<1:20:21, 241.06s/it]"
     ]
    },
    {
     "name": "stdout",
     "output_type": "stream",
     "text": [
      "3020\n",
      "3020\n",
      "\n",
      "CV Accuracy for k = 11 is 59%\n",
      "\n",
      "CV AUC for k = 11 is 0.735551%\n",
      "\n",
      "Train Accuracy for k = 11 is 74%\n",
      "\n",
      "Train AUC for k = 11 is 0.831828%\n"
     ]
    },
    {
     "name": "stderr",
     "output_type": "stream",
     "text": [
      "\n",
      " 24%|███████████████████▏                                                            | 6/25 [24:46<1:18:32, 248.00s/it]"
     ]
    },
    {
     "name": "stdout",
     "output_type": "stream",
     "text": [
      "3020\n",
      "3020\n",
      "\n",
      "CV Accuracy for k = 13 is 58%\n",
      "\n",
      "CV AUC for k = 13 is 0.733646%\n",
      "\n",
      "Train Accuracy for k = 13 is 72%\n",
      "\n",
      "Train AUC for k = 13 is 0.818481%\n"
     ]
    },
    {
     "name": "stderr",
     "output_type": "stream",
     "text": [
      "\n",
      " 28%|██████████████████████▍                                                         | 7/25 [29:10<1:15:46, 252.59s/it]"
     ]
    },
    {
     "name": "stdout",
     "output_type": "stream",
     "text": [
      "3020\n",
      "3020\n",
      "\n",
      "CV Accuracy for k = 15 is 58%\n",
      "\n",
      "CV AUC for k = 15 is 0.732888%\n",
      "\n",
      "Train Accuracy for k = 15 is 71%\n",
      "\n",
      "Train AUC for k = 15 is 0.804405%\n"
     ]
    },
    {
     "name": "stderr",
     "output_type": "stream",
     "text": [
      "\n",
      " 32%|█████████████████████████▌                                                      | 8/25 [33:34<1:12:32, 256.00s/it]"
     ]
    },
    {
     "name": "stdout",
     "output_type": "stream",
     "text": [
      "3020\n",
      "3020\n",
      "\n",
      "CV Accuracy for k = 17 is 57%\n",
      "\n",
      "CV AUC for k = 17 is 0.732565%\n",
      "\n",
      "Train Accuracy for k = 17 is 70%\n",
      "\n",
      "Train AUC for k = 17 is 0.793003%\n"
     ]
    },
    {
     "name": "stderr",
     "output_type": "stream",
     "text": [
      "\n",
      " 36%|████████████████████████████▊                                                   | 9/25 [38:03<1:09:18, 259.89s/it]"
     ]
    },
    {
     "name": "stdout",
     "output_type": "stream",
     "text": [
      "3020\n",
      "3020\n",
      "\n",
      "CV Accuracy for k = 19 is 56%\n",
      "\n",
      "CV AUC for k = 19 is 0.732010%\n",
      "\n",
      "Train Accuracy for k = 19 is 69%\n",
      "\n",
      "Train AUC for k = 19 is 0.782350%\n"
     ]
    },
    {
     "name": "stderr",
     "output_type": "stream",
     "text": [
      "\n",
      " 40%|███████████████████████████████▌                                               | 10/25 [42:57<1:07:32, 270.17s/it]"
     ]
    },
    {
     "name": "stdout",
     "output_type": "stream",
     "text": [
      "3020\n",
      "3020\n",
      "\n",
      "CV Accuracy for k = 21 is 55%\n",
      "\n",
      "CV AUC for k = 21 is 0.729292%\n",
      "\n",
      "Train Accuracy for k = 21 is 69%\n",
      "\n",
      "Train AUC for k = 21 is 0.774030%\n"
     ]
    },
    {
     "name": "stderr",
     "output_type": "stream",
     "text": [
      "\n",
      " 44%|██████████████████████████████████▊                                            | 11/25 [47:31<1:03:19, 271.38s/it]"
     ]
    },
    {
     "name": "stdout",
     "output_type": "stream",
     "text": [
      "3020\n",
      "3020\n",
      "\n",
      "CV Accuracy for k = 23 is 54%\n",
      "\n",
      "CV AUC for k = 23 is 0.726545%\n",
      "\n",
      "Train Accuracy for k = 23 is 68%\n",
      "\n",
      "Train AUC for k = 23 is 0.766619%\n"
     ]
    },
    {
     "name": "stderr",
     "output_type": "stream",
     "text": [
      "\n",
      " 48%|██████████████████████████████████████▉                                          | 12/25 [51:58<58:31, 270.13s/it]"
     ]
    },
    {
     "name": "stdout",
     "output_type": "stream",
     "text": [
      "3020\n",
      "3020\n",
      "\n",
      "CV Accuracy for k = 25 is 54%\n",
      "\n",
      "CV AUC for k = 25 is 0.731459%\n",
      "\n",
      "Train Accuracy for k = 25 is 67%\n",
      "\n",
      "Train AUC for k = 25 is 0.764803%\n"
     ]
    },
    {
     "name": "stderr",
     "output_type": "stream",
     "text": [
      "\n",
      " 52%|██████████████████████████████████████████                                       | 13/25 [56:30<54:06, 270.53s/it]"
     ]
    },
    {
     "name": "stdout",
     "output_type": "stream",
     "text": [
      "3020\n",
      "3020\n",
      "\n",
      "CV Accuracy for k = 27 is 53%\n",
      "\n",
      "CV AUC for k = 27 is 0.739366%\n",
      "\n",
      "Train Accuracy for k = 27 is 67%\n",
      "\n",
      "Train AUC for k = 27 is 0.770047%\n"
     ]
    },
    {
     "name": "stderr",
     "output_type": "stream",
     "text": [
      "\n",
      " 56%|████████████████████████████████████████████▏                                  | 14/25 [1:01:01<49:39, 270.84s/it]"
     ]
    },
    {
     "name": "stdout",
     "output_type": "stream",
     "text": [
      "3020\n",
      "3020\n",
      "\n",
      "CV Accuracy for k = 29 is 53%\n",
      "\n",
      "CV AUC for k = 29 is 0.746090%\n",
      "\n",
      "Train Accuracy for k = 29 is 67%\n",
      "\n",
      "Train AUC for k = 29 is 0.777213%\n"
     ]
    },
    {
     "name": "stderr",
     "output_type": "stream",
     "text": [
      "\n",
      " 60%|███████████████████████████████████████████████▍                               | 15/25 [1:05:29<44:59, 269.95s/it]"
     ]
    },
    {
     "name": "stdout",
     "output_type": "stream",
     "text": [
      "3020\n",
      "3020\n",
      "\n",
      "CV Accuracy for k = 31 is 52%\n",
      "\n",
      "CV AUC for k = 31 is 0.753648%\n",
      "\n",
      "Train Accuracy for k = 31 is 66%\n",
      "\n",
      "Train AUC for k = 31 is 0.786749%\n"
     ]
    },
    {
     "name": "stderr",
     "output_type": "stream",
     "text": [
      "\n",
      " 64%|██████████████████████████████████████████████████▌                            | 16/25 [1:10:00<40:32, 270.26s/it]"
     ]
    },
    {
     "name": "stdout",
     "output_type": "stream",
     "text": [
      "3020\n",
      "3020\n",
      "\n",
      "CV Accuracy for k = 33 is 51%\n",
      "\n",
      "CV AUC for k = 33 is 0.759348%\n",
      "\n",
      "Train Accuracy for k = 33 is 65%\n",
      "\n",
      "Train AUC for k = 33 is 0.793622%\n"
     ]
    },
    {
     "name": "stderr",
     "output_type": "stream",
     "text": [
      "\n",
      " 68%|█████████████████████████████████████████████████████▋                         | 17/25 [1:14:27<35:54, 269.35s/it]"
     ]
    },
    {
     "name": "stdout",
     "output_type": "stream",
     "text": [
      "3020\n",
      "3020\n",
      "\n",
      "CV Accuracy for k = 35 is 51%\n",
      "\n",
      "CV AUC for k = 35 is 0.761969%\n",
      "\n",
      "Train Accuracy for k = 35 is 65%\n",
      "\n",
      "Train AUC for k = 35 is 0.801274%\n"
     ]
    },
    {
     "name": "stderr",
     "output_type": "stream",
     "text": [
      "\n",
      " 72%|████████████████████████████████████████████████████████▉                      | 18/25 [1:18:53<31:18, 268.30s/it]"
     ]
    },
    {
     "name": "stdout",
     "output_type": "stream",
     "text": [
      "3020\n",
      "3020\n",
      "\n",
      "CV Accuracy for k = 37 is 50%\n",
      "\n",
      "CV AUC for k = 37 is 0.767588%\n",
      "\n",
      "Train Accuracy for k = 37 is 65%\n",
      "\n",
      "Train AUC for k = 37 is 0.807037%\n"
     ]
    },
    {
     "name": "stderr",
     "output_type": "stream",
     "text": [
      "\n",
      " 76%|████████████████████████████████████████████████████████████                   | 19/25 [1:23:22<26:51, 268.61s/it]"
     ]
    },
    {
     "name": "stdout",
     "output_type": "stream",
     "text": [
      "3020\n",
      "3020\n",
      "\n",
      "CV Accuracy for k = 39 is 50%\n",
      "\n",
      "CV AUC for k = 39 is 0.770712%\n",
      "\n",
      "Train Accuracy for k = 39 is 65%\n",
      "\n",
      "Train AUC for k = 39 is 0.810693%\n"
     ]
    },
    {
     "name": "stderr",
     "output_type": "stream",
     "text": [
      "\n",
      " 80%|███████████████████████████████████████████████████████████████▏               | 20/25 [1:27:52<22:24, 268.92s/it]"
     ]
    },
    {
     "name": "stdout",
     "output_type": "stream",
     "text": [
      "3020\n",
      "3020\n",
      "\n",
      "CV Accuracy for k = 41 is 50%\n",
      "\n",
      "CV AUC for k = 41 is 0.770700%\n",
      "\n",
      "Train Accuracy for k = 41 is 64%\n",
      "\n",
      "Train AUC for k = 41 is 0.814098%\n"
     ]
    },
    {
     "name": "stderr",
     "output_type": "stream",
     "text": [
      "\n",
      " 84%|██████████████████████████████████████████████████████████████████▎            | 21/25 [1:32:20<17:54, 268.75s/it]"
     ]
    },
    {
     "name": "stdout",
     "output_type": "stream",
     "text": [
      "3020\n",
      "3020\n",
      "\n",
      "CV Accuracy for k = 43 is 50%\n",
      "\n",
      "CV AUC for k = 43 is 0.773356%\n",
      "\n",
      "Train Accuracy for k = 43 is 64%\n",
      "\n",
      "Train AUC for k = 43 is 0.815392%\n"
     ]
    },
    {
     "name": "stderr",
     "output_type": "stream",
     "text": [
      "\n",
      " 88%|█████████████████████████████████████████████████████████████████████▌         | 22/25 [1:36:51<13:27, 269.17s/it]"
     ]
    },
    {
     "name": "stdout",
     "output_type": "stream",
     "text": [
      "3020\n",
      "3020\n",
      "\n",
      "CV Accuracy for k = 45 is 49%\n",
      "\n",
      "CV AUC for k = 45 is 0.774265%\n",
      "\n",
      "Train Accuracy for k = 45 is 64%\n",
      "\n",
      "Train AUC for k = 45 is 0.818173%\n"
     ]
    },
    {
     "name": "stderr",
     "output_type": "stream",
     "text": [
      "\n",
      " 92%|████████████████████████████████████████████████████████████████████████▋      | 23/25 [1:41:20<08:58, 269.24s/it]"
     ]
    },
    {
     "name": "stdout",
     "output_type": "stream",
     "text": [
      "3020\n",
      "3020\n",
      "\n",
      "CV Accuracy for k = 47 is 49%\n",
      "\n",
      "CV AUC for k = 47 is 0.771367%\n",
      "\n",
      "Train Accuracy for k = 47 is 64%\n",
      "\n",
      "Train AUC for k = 47 is 0.820746%\n"
     ]
    },
    {
     "name": "stderr",
     "output_type": "stream",
     "text": [
      "\n",
      " 96%|███████████████████████████████████████████████████████████████████████████▊   | 24/25 [1:45:46<04:28, 268.38s/it]"
     ]
    },
    {
     "name": "stdout",
     "output_type": "stream",
     "text": [
      "3020\n",
      "3020\n",
      "\n",
      "CV Accuracy for k = 49 is 49%\n",
      "\n",
      "CV AUC for k = 49 is 0.773985%\n",
      "\n",
      "Train Accuracy for k = 49 is 63%\n",
      "\n",
      "Train AUC for k = 49 is 0.822863%\n"
     ]
    },
    {
     "name": "stderr",
     "output_type": "stream",
     "text": [
      "\n",
      "100%|███████████████████████████████████████████████████████████████████████████████| 25/25 [1:50:16<00:00, 268.89s/it]\n"
     ]
    },
    {
     "name": "stdout",
     "output_type": "stream",
     "text": [
      "[0.6302035382956355, 0.6873650066626379, 0.7109552965606187, 0.7219251035671813, 0.7330181592372733, 0.7355507277529402, 0.7336456684291, 0.732888151049236, 0.7325645951427859, 0.7320098634981621, 0.7292923093284592, 0.726544562615954, 0.7314594128857266, 0.73936580338526, 0.74609040368331, 0.7536484533531973, 0.7593478591008661, 0.761968977387588, 0.7675883954285786, 0.7707124223386964, 0.7706995792421311, 0.7733562976912619, 0.774265453737589, 0.7713667443110716, 0.7739849334705066]\n",
      "[0.9991249999999999, 0.9105653832813042, 0.8781274280263613, 0.8608582856399585, 0.8473327480055499, 0.8318282171349289, 0.8184807492195629, 0.8044049384321887, 0.793002579778009, 0.7823503078390567, 0.7740299817898022, 0.7666192551161984, 0.7648029396462019, 0.7700471730835935, 0.7772130809920222, 0.786748807665626, 0.7936218782518211, 0.8012741718695803, 0.8070368973291709, 0.8106934399930628, 0.8140981616371835, 0.8153915842872008, 0.8181728668054111, 0.8207461628511967, 0.8228630766562609]\n"
     ]
    }
   ],
   "source": [
    "# Applying Brute Force KNN\n",
    "\n",
    "cv_score = []\n",
    "train_score = []\n",
    "\n",
    "# creating odd list of K for KNN\n",
    "myList = list(range(0,50))\n",
    "neighbours = list(filter(lambda x: x % 2 != 0, myList))\n",
    "\n",
    "\n",
    "cv_auc = []\n",
    "train_auc = []\n",
    "cv_score = []\n",
    "train_score = []\n",
    "for i in tqdm(neighbours):\n",
    "    knn = KNeighborsClassifier(n_neighbors = i,algorithm = 'kd_tree')\n",
    "    \n",
    "    predicted_labels_cv = []\n",
    "    predicted_labels_train = []\n",
    "    predict_cv_prob = []\n",
    "    predict_train_prob = []\n",
    "    accuracy_cv = []\n",
    "    auc_score_cv = []\n",
    "    auc_score_train = []\n",
    "    accuracy_train = []\n",
    "    \n",
    "    # Fitting the model in Train - CrossValidation\n",
    "    knn.fit(D_Train,Y_Train)\n",
    "    \n",
    "    # Predicting the model with CrossValidation and Train Data\n",
    "    for j in range(0,n_cv,1000):\n",
    "        predicted_labels_cv.extend(knn.predict(D_Cv[j:j+1000]))\n",
    "        predict_cv_prob.extend(knn.predict_proba(D_Cv[j:j+1000])[:,1])\n",
    "    \n",
    "    for k in range(0,n_train,1000):\n",
    "        predicted_labels_train.extend(knn.predict(D_Train[k:k+1000]))\n",
    "        predict_train_prob.extend(knn.predict_proba(D_Train[k:k+1000])[:,1])\n",
    "    \n",
    "    print(len(predict_cv_prob))\n",
    "    print(len(Y_1_cv))\n",
    "    \n",
    "    # Getting the Cross-Validation Accuracy and AUC Score\n",
    "    auc_score_cv = roc_auc_score(Y_1_cv,predict_cv_prob)\n",
    "    accuracy_cv = accuracy_score(Y_1_cv,predicted_labels_cv,normalize=True)* float(100)\n",
    "    print('\\nCV Accuracy for k = %d is %d%%' % (i,accuracy_cv))\n",
    "    print('\\nCV AUC for k = %d is %f%%' % (i,auc_score_cv))\n",
    "    cv_score.append(accuracy_cv)\n",
    "    cv_auc.append(auc_score_cv)\n",
    "    \n",
    "    # Getting the Training Accuracy and AUC Score\n",
    "    auc_score_train = roc_auc_score(Y_Train,predict_train_prob)\n",
    "    accuracy_train = accuracy_score(Y_Train,predicted_labels_train, normalize=True)* float(100)\n",
    "    print('\\nTrain Accuracy for k = %d is %d%%' % (i,accuracy_train))\n",
    "    print('\\nTrain AUC for k = %d is %f%%' % (i,auc_score_train))\n",
    "    train_score.append(accuracy_train)\n",
    "    train_auc.append(auc_score_train)\n",
    "\n",
    "print(cv_auc)\n",
    "print(train_auc)"
   ]
  },
  {
   "cell_type": "code",
   "execution_count": 112,
   "metadata": {},
   "outputs": [
    {
     "data": {
      "image/png": "[encoded data removed]",
      "text/plain": [
       "<Figure size 432x288 with 1 Axes>"
      ]
     },
     "metadata": {},
     "output_type": "display_data"
    }
   ],
   "source": [
    "# Plotting Train_AUC and CV_AUC against K\n",
    "plt.plot(neighbours,train_auc)\n",
    "plt.plot(neighbours,cv_auc)\n",
    "plt.legend(['Train AUC', 'CV AUC'], loc='upper right')\n",
    "plt.title(\"ERROR PLOTS for BOW Vectorizer\")\n",
    "plt.xlabel('Hyper-parameter k')\n",
    "plt.ylabel('AUC Value')\n",
    "plt.show()"
   ]
  },
  {
   "cell_type": "code",
   "execution_count": 113,
   "metadata": {},
   "outputs": [
    {
     "name": "stdout",
     "output_type": "stream",
     "text": [
      "AUC Metric Best K = 45\n",
      "0.774\n"
     ]
    }
   ],
   "source": [
    "# Getting the optimal K Based to CV AUC\n",
    "optimal_k_auc = neighbours[cv_auc.index(max(cv_auc))]\n",
    "best_cv_auc = max([ '%.3f' % elem for elem in cv_auc ])\n",
    "print('AUC Metric Best K = %d' % optimal_k_auc)\n",
    "print(best_cv_auc)"
   ]
  },
  {
   "cell_type": "code",
   "execution_count": 120,
   "metadata": {},
   "outputs": [
    {
     "name": "stdout",
     "output_type": "stream",
     "text": [
      "3774\n",
      "3774\n",
      "Algo Run Successfully on D_Test\n",
      "====================================================================================================\n"
     ]
    }
   ],
   "source": [
    "# Applying Best K on D_Test\n",
    "\n",
    "test_neigh = KNeighborsClassifier(n_neighbors = 10 ,algorithm = 'kd_tree')\n",
    "test_neigh.fit(D_Train,Y_Train)\n",
    "\n",
    "predicted_labels_test = []\n",
    "predicted_labels_train = []\n",
    "predict_test_prob = []\n",
    "predict_train_prob = []\n",
    "\n",
    "# Predicting the model with CrossValidation and Train Data\n",
    "for j in range(0,n_test,1000):\n",
    "    predicted_labels_test.extend(test_neigh.predict(D_Test[j:j+1000]))\n",
    "    predict_test_prob.extend(test_neigh.predict_proba(D_Test[j:j+1000])[:,1])\n",
    "    \n",
    "for k in range(0,n_train,1000):\n",
    "    predicted_labels_train.extend(test_neigh.predict(D_Train[k:k+1000]))\n",
    "    predict_train_prob.extend(test_neigh.predict_proba(D_Train[k:k+1000])[:,1])\n",
    "    \n",
    "print(len(predict_test_prob))\n",
    "print(len(Y_test))\n",
    "    \n",
    "train_fpr, train_tpr, thresholds = roc_curve(Y_Train, predict_train_prob)\n",
    "test_fpr, test_tpr, thresholds = roc_curve(Y_test, predict_test_prob)\n",
    "\n",
    "print('Algo Run Successfully on D_Test')\n",
    "print(\"=\"*100)\n"
   ]
  },
  {
   "cell_type": "code",
   "execution_count": 121,
   "metadata": {},
   "outputs": [
    {
     "data": {
      "image/png": "[encoded data removed]",
      "text/plain": [
       "<Figure size 432x288 with 1 Axes>"
      ]
     },
     "metadata": {},
     "output_type": "display_data"
    },
    {
     "name": "stdout",
     "output_type": "stream",
     "text": [
      "====================================================================================================\n"
     ]
    }
   ],
   "source": [
    "# Plotting the AUC curve on Test and Train Data\n",
    "\n",
    "plt.plot(train_fpr, train_tpr, label=\"Train AUC =\"+str(auc(train_fpr, train_tpr)))\n",
    "plt.plot(test_fpr, test_tpr, label=\"Test AUC =\"+str(auc(test_fpr, test_tpr)))\n",
    "plt.legend()\n",
    "plt.xlabel(\"Hyper-parameter k\")\n",
    "plt.ylabel(\"AUC\")\n",
    "plt.title(\"ERROR PLOTS\")\n",
    "plt.show()\n",
    "\n",
    "print(\"=\"*100)"
   ]
  },
  {
   "cell_type": "code",
   "execution_count": 122,
   "metadata": {},
   "outputs": [
    {
     "name": "stdout",
     "output_type": "stream",
     "text": [
      "Train Confusion Matrix\n",
      "2255 1745 528 5238\n",
      "[[2255 1745]\n",
      " [ 528 5238]]\n",
      "========================================================================================================================\n",
      "Test Confusion Matrix\n",
      "983 1213 227 1351\n",
      "[[ 983 1213]\n",
      " [ 227 1351]]\n",
      "========================================================================================================================\n"
     ]
    }
   ],
   "source": [
    "# Getting the confusion metrics\n",
    "\n",
    "print('Train Confusion Matrix')\n",
    "tr_true_negetive,tr_false_positive, tr_false_negetive, tr_true_positive = confusion_matrix(Y_Train,predicted_labels_train).ravel()\n",
    "print(tr_true_negetive, tr_false_positive, tr_false_negetive, tr_true_positive)\n",
    "print(confusion_matrix(Y_Train,predicted_labels_train))\n",
    "print(\"=\"*120)\n",
    "\n",
    "print('Test Confusion Matrix')\n",
    "true_negetive,false_positive, false_negetive, true_positive = confusion_matrix(Y_test,predicted_labels_test).ravel()\n",
    "print(true_negetive, false_positive, false_negetive, true_positive)\n",
    "print(confusion_matrix(Y_test,predicted_labels_test))\n",
    "print(\"=\"*120)"
   ]
  },
  {
   "cell_type": "code",
   "execution_count": 123,
   "metadata": {},
   "outputs": [
    {
     "data": {
      "text/plain": [
       "<matplotlib.axes._subplots.AxesSubplot at 0x214c2c7e588>"
      ]
     },
     "execution_count": 123,
     "metadata": {},
     "output_type": "execute_result"
    },
    {
     "data": {
      "image/png": "[encoded data removed]",
      "text/plain": [
       "<Figure size 432x288 with 2 Axes>"
      ]
     },
     "metadata": {},
     "output_type": "display_data"
    }
   ],
   "source": [
    "import seaborn as sns\n",
    "conMatrix= [[tr_true_negetive,tr_false_positive],[tr_false_negetive,tr_true_positive]]\n",
    "data = conMatrix\n",
    "sns.heatmap(data, cmap=\"YlGnBu\", annot=True, fmt=\"d\")"
   ]
  },
  {
   "cell_type": "code",
   "execution_count": 124,
   "metadata": {},
   "outputs": [
    {
     "data": {
      "text/plain": [
       "<matplotlib.axes._subplots.AxesSubplot at 0x214c2b4ff28>"
      ]
     },
     "execution_count": 124,
     "metadata": {},
     "output_type": "execute_result"
    },
    {
     "data": {
      "image/png": "[encoded data removed]",
      "text/plain": [
       "<Figure size 432x288 with 2 Axes>"
      ]
     },
     "metadata": {},
     "output_type": "display_data"
    }
   ],
   "source": [
    "conMatrix= [[true_negetive,false_positive],[false_negetive,true_positive]]\n",
    "data = conMatrix\n",
    "sns.heatmap(data, cmap=\"YlGnBu\", annot=True, fmt=\"d\")"
   ]
  },
  {
   "cell_type": "markdown",
   "metadata": {},
   "source": [
    "## 2.2) Applying KNN kd-tree on TFIDF, SET 5"
   ]
  },
  {
   "cell_type": "code",
   "execution_count": 40,
   "metadata": {},
   "outputs": [
    {
     "name": "stdout",
     "output_type": "stream",
     "text": [
      " some feature names  ['able', 'absolutely', 'acid', 'actually', 'add', 'added', 'aftertaste', 'ago', 'almost', 'also']\n",
      "==================================================\n",
      "the type of count vectorizer  <class 'scipy.sparse.csr.csr_matrix'>\n",
      "the shape of BOW vectorizer  (9766, 500)\n"
     ]
    }
   ],
   "source": [
    "# Applying BOW for Vectorization\n",
    "# BoW -- fit_transform on D2_Train\n",
    "\n",
    "tfidf_vect = TfidfVectorizer(max_features=500,min_df=10) #in scikit-learn\n",
    "D2_Train = tfidf_vect.fit_transform(X_Train['Cleaned_Text'])\n",
    "print(\" some feature names \", tfidf_vect.get_feature_names()[:10])\n",
    "print('='*50)\n",
    "\n",
    "print(\"the type of count vectorizer \",type(D2_Train))\n",
    "print(\"the shape of BOW vectorizer \",D2_Train.get_shape())"
   ]
  },
  {
   "cell_type": "code",
   "execution_count": 41,
   "metadata": {},
   "outputs": [
    {
     "name": "stdout",
     "output_type": "stream",
     "text": [
      "the type of count vectorizer  <class 'scipy.sparse.csr.csr_matrix'>\n",
      "the shape of BOW vectorizer  (3020, 500)\n"
     ]
    }
   ],
   "source": [
    "# BoW -- transform on D2_CV\n",
    "\n",
    "D2_Cv = tfidf_vect.transform(X_1_cv['Cleaned_Text'])\n",
    "print(\"the type of count vectorizer \",type(D2_Cv))\n",
    "print(\"the shape of BOW vectorizer \",D2_Cv.get_shape())"
   ]
  },
  {
   "cell_type": "code",
   "execution_count": 42,
   "metadata": {},
   "outputs": [
    {
     "name": "stdout",
     "output_type": "stream",
     "text": [
      "the type of count vectorizer  <class 'scipy.sparse.csr.csr_matrix'>\n",
      "the shape of BOW vectorizer  (3774, 500)\n"
     ]
    }
   ],
   "source": [
    "# BoW -- transform on D2_Test\n",
    "\n",
    "D2_Test = tfidf_vect.transform(X_test['Cleaned_Text'])\n",
    "print(\"the type of count vectorizer \",type(D2_Test))\n",
    "print(\"the shape of BOW vectorizer \",D2_Test.get_shape())"
   ]
  },
  {
   "cell_type": "code",
   "execution_count": 43,
   "metadata": {},
   "outputs": [
    {
     "name": "stdout",
     "output_type": "stream",
     "text": [
      "9766\n",
      "3020\n",
      "3774\n"
     ]
    }
   ],
   "source": [
    "n_cv = D2_Cv.get_shape()[0]\n",
    "n_train = D2_Train.get_shape()[0]\n",
    "n_test = D2_Test.get_shape()[0]\n",
    "print(n_train)\n",
    "print(n_cv)\n",
    "print(n_test)"
   ]
  },
  {
   "cell_type": "code",
   "execution_count": 44,
   "metadata": {},
   "outputs": [
    {
     "name": "stdout",
     "output_type": "stream",
     "text": [
      "(9766, 500)\n",
      "(3020, 500)\n",
      "(3774, 500)\n"
     ]
    }
   ],
   "source": [
    "# Standardization Process\n",
    "# Changes done as suggested\n",
    "\n",
    "scaler = StandardScaler(with_mean=False)\n",
    "scaler.fit(D2_Train)\n",
    "D2_Train = scaler.transform(D2_Train)\n",
    "D2_Cv = scaler.transform(D2_Cv)\n",
    "D2_Test = scaler.transform(D2_Test)\n",
    "\n",
    "print(D2_Train.shape)\n",
    "print(D2_Cv.shape)\n",
    "print(D2_Test.shape)"
   ]
  },
  {
   "cell_type": "code",
   "execution_count": 45,
   "metadata": {},
   "outputs": [
    {
     "name": "stdout",
     "output_type": "stream",
     "text": [
      "<class 'numpy.ndarray'>\n"
     ]
    }
   ],
   "source": [
    "D2_Train = D2_Train.toarray()\n",
    "D2_Cv = D2_Cv.toarray()\n",
    "D2_Test = D2_Test.toarray()\n",
    "print(type(D2_Train))"
   ]
  },
  {
   "cell_type": "code",
   "execution_count": 46,
   "metadata": {},
   "outputs": [],
   "source": [
    "D2_Train=D2_Train.astype('int')\n",
    "D2_Cv=D2_Cv.astype('int')\n",
    "D2_Test=D2_Test.astype('int')\n",
    "Y_Train=Y_Train.astype('int')\n",
    "Y_1_cv=Y_1_cv.astype('int')\n",
    "Y_test=Y_test.astype('int')"
   ]
  },
  {
   "cell_type": "code",
   "execution_count": 47,
   "metadata": {},
   "outputs": [
    {
     "name": "stderr",
     "output_type": "stream",
     "text": [
      "\r",
      "  0%|                                                                                           | 0/10 [00:00<?, ?it/s]"
     ]
    },
    {
     "name": "stdout",
     "output_type": "stream",
     "text": [
      "3020\n",
      "3020\n",
      "\n",
      "CV Accuracy for k = 1 is 52%\n",
      "\n",
      "CV AUC for k = 1 is 0.567825%\n",
      "\n",
      "Train Accuracy for k = 1 is 99%\n",
      "\n",
      "Train AUC for k = 1 is 0.999000%\n"
     ]
    },
    {
     "name": "stderr",
     "output_type": "stream",
     "text": [
      "\r",
      " 10%|████████▏                                                                         | 1/10 [02:22<21:19, 142.18s/it]"
     ]
    },
    {
     "name": "stdout",
     "output_type": "stream",
     "text": [
      "3020\n",
      "3020\n",
      "\n",
      "CV Accuracy for k = 3 is 51%\n",
      "\n",
      "CV AUC for k = 3 is 0.588324%\n",
      "\n",
      "Train Accuracy for k = 3 is 73%\n",
      "\n",
      "Train AUC for k = 3 is 0.922719%\n"
     ]
    },
    {
     "name": "stderr",
     "output_type": "stream",
     "text": [
      "\r",
      " 20%|████████████████▍                                                                 | 2/10 [06:43<23:44, 178.02s/it]"
     ]
    },
    {
     "name": "stdout",
     "output_type": "stream",
     "text": [
      "3020\n",
      "3020\n",
      "\n",
      "CV Accuracy for k = 5 is 49%\n",
      "\n",
      "CV AUC for k = 5 is 0.583431%\n",
      "\n",
      "Train Accuracy for k = 5 is 68%\n",
      "\n",
      "Train AUC for k = 5 is 0.889098%\n"
     ]
    },
    {
     "name": "stderr",
     "output_type": "stream",
     "text": [
      "\r",
      " 30%|████████████████████████▌                                                         | 3/10 [11:06<23:44, 203.46s/it]"
     ]
    },
    {
     "name": "stdout",
     "output_type": "stream",
     "text": [
      "3020\n",
      "3020\n",
      "\n",
      "CV Accuracy for k = 7 is 49%\n",
      "\n",
      "CV AUC for k = 7 is 0.582882%\n",
      "\n",
      "Train Accuracy for k = 7 is 66%\n",
      "\n",
      "Train AUC for k = 7 is 0.872173%\n"
     ]
    },
    {
     "name": "stderr",
     "output_type": "stream",
     "text": [
      "\r",
      " 40%|████████████████████████████████▊                                                 | 4/10 [15:30<22:10, 221.68s/it]"
     ]
    },
    {
     "name": "stdout",
     "output_type": "stream",
     "text": [
      "3020\n",
      "3020\n",
      "\n",
      "CV Accuracy for k = 9 is 48%\n",
      "\n",
      "CV AUC for k = 9 is 0.579850%\n",
      "\n",
      "Train Accuracy for k = 9 is 65%\n",
      "\n",
      "Train AUC for k = 9 is 0.862930%\n"
     ]
    },
    {
     "name": "stderr",
     "output_type": "stream",
     "text": [
      "\r",
      " 50%|█████████████████████████████████████████                                         | 5/10 [19:54<19:32, 234.41s/it]"
     ]
    },
    {
     "name": "stdout",
     "output_type": "stream",
     "text": [
      "3020\n",
      "3020\n",
      "\n",
      "CV Accuracy for k = 11 is 48%\n",
      "\n",
      "CV AUC for k = 11 is 0.578701%\n",
      "\n",
      "Train Accuracy for k = 11 is 65%\n",
      "\n",
      "Train AUC for k = 11 is 0.858045%\n"
     ]
    },
    {
     "name": "stderr",
     "output_type": "stream",
     "text": [
      "\r",
      " 60%|█████████████████████████████████████████████████▏                                | 6/10 [24:19<16:13, 243.32s/it]"
     ]
    },
    {
     "name": "stdout",
     "output_type": "stream",
     "text": [
      "3020\n",
      "3020\n",
      "\n",
      "CV Accuracy for k = 13 is 46%\n",
      "\n",
      "CV AUC for k = 13 is 0.577538%\n",
      "\n",
      "Train Accuracy for k = 13 is 65%\n",
      "\n",
      "Train AUC for k = 13 is 0.854589%\n"
     ]
    },
    {
     "name": "stderr",
     "output_type": "stream",
     "text": [
      "\r",
      " 70%|█████████████████████████████████████████████████████████▍                        | 7/10 [28:46<12:32, 250.68s/it]"
     ]
    },
    {
     "name": "stdout",
     "output_type": "stream",
     "text": [
      "3020\n",
      "3020\n",
      "\n",
      "CV Accuracy for k = 15 is 45%\n",
      "\n",
      "CV AUC for k = 15 is 0.577102%\n",
      "\n",
      "Train Accuracy for k = 15 is 63%\n",
      "\n",
      "Train AUC for k = 15 is 0.852463%\n"
     ]
    },
    {
     "name": "stderr",
     "output_type": "stream",
     "text": [
      "\r",
      " 80%|█████████████████████████████████████████████████████████████████▌                | 8/10 [33:12<08:30, 255.02s/it]"
     ]
    },
    {
     "name": "stdout",
     "output_type": "stream",
     "text": [
      "3020\n",
      "3020\n",
      "\n",
      "CV Accuracy for k = 17 is 44%\n",
      "\n",
      "CV AUC for k = 17 is 0.575997%\n",
      "\n",
      "Train Accuracy for k = 17 is 62%\n",
      "\n",
      "Train AUC for k = 17 is 0.851110%\n"
     ]
    },
    {
     "name": "stderr",
     "output_type": "stream",
     "text": [
      "\r",
      " 90%|█████████████████████████████████████████████████████████████████████████▊        | 9/10 [37:37<04:18, 258.25s/it]"
     ]
    },
    {
     "name": "stdout",
     "output_type": "stream",
     "text": [
      "3020\n",
      "3020\n",
      "\n",
      "CV Accuracy for k = 19 is 44%\n",
      "\n",
      "CV AUC for k = 19 is 0.575672%\n",
      "\n",
      "Train Accuracy for k = 19 is 61%\n",
      "\n",
      "Train AUC for k = 19 is 0.849915%\n"
     ]
    },
    {
     "name": "stderr",
     "output_type": "stream",
     "text": [
      "100%|█████████████████████████████████████████████████████████████████████████████████| 10/10 [42:04<00:00, 260.77s/it]\n"
     ]
    },
    {
     "name": "stdout",
     "output_type": "stream",
     "text": [
      "[0.5678252942308359, 0.5883240029363375, 0.5834314590974412, 0.5828819097549403, 0.579850037695615, 0.5787006932117701, 0.5775380549963927, 0.5771022909831098, 0.575997334043534, 0.5756717502797316]\n",
      "[0.999, 0.9227187825182102, 0.8890979882067293, 0.8721731919875131, 0.8629295005202915, 0.8580454171002428, 0.8545886229621922, 0.8524632327436698, 0.8511103884842179, 0.84991501907735]\n"
     ]
    }
   ],
   "source": [
    "# Applying Brute Force KNN\n",
    "\n",
    "cv_score = []\n",
    "train_score = []\n",
    "\n",
    "# creating odd list of K for KNN\n",
    "myList = list(range(0,20))\n",
    "neighbours = list(filter(lambda x: x % 2 != 0, myList))\n",
    "\n",
    "\n",
    "cv_auc = []\n",
    "train_auc = []\n",
    "cv_score = []\n",
    "train_score = []\n",
    "for i in tqdm(neighbours):\n",
    "    knn = KNeighborsClassifier(n_neighbors = i,algorithm = 'kd_tree')\n",
    "    \n",
    "    predicted_labels_cv = []\n",
    "    predicted_labels_train = []\n",
    "    predict_cv_prob = []\n",
    "    predict_train_prob = []\n",
    "    accuracy_cv = []\n",
    "    auc_score_cv = []\n",
    "    auc_score_train = []\n",
    "    accuracy_train = []\n",
    "    \n",
    "    # Fitting the model in Train - CrossValidation\n",
    "    knn.fit(D2_Train,Y_Train)\n",
    "    \n",
    "    # Predicting the model with CrossValidation and Train Data\n",
    "    for j in range(0,n_cv,1000):\n",
    "        predicted_labels_cv.extend(knn.predict(D2_Cv[j:j+1000]))\n",
    "        predict_cv_prob.extend(knn.predict_proba(D2_Cv[j:j+1000])[:,1])\n",
    "    \n",
    "    for k in range(0,n_train,1000):\n",
    "        predicted_labels_train.extend(knn.predict(D2_Train[k:k+1000]))\n",
    "        predict_train_prob.extend(knn.predict_proba(D2_Train[k:k+1000])[:,1])\n",
    "    \n",
    "    print(len(predict_cv_prob))\n",
    "    print(len(Y_1_cv))\n",
    "    \n",
    "    # Getting the Cross-Validation Accuracy and AUC Score\n",
    "    auc_score_cv = roc_auc_score(Y_1_cv,predict_cv_prob)\n",
    "    accuracy_cv = accuracy_score(Y_1_cv,predicted_labels_cv,normalize=True)* float(100)\n",
    "    print('\\nCV Accuracy for k = %d is %d%%' % (i,accuracy_cv))\n",
    "    print('\\nCV AUC for k = %d is %f%%' % (i,auc_score_cv))\n",
    "    cv_score.append(accuracy_cv)\n",
    "    cv_auc.append(auc_score_cv)\n",
    "    \n",
    "    # Getting the Training Accuracy and AUC Score\n",
    "    auc_score_train = roc_auc_score(Y_Train,predict_train_prob)\n",
    "    accuracy_train = accuracy_score(Y_Train,predicted_labels_train, normalize=True)* float(100)\n",
    "    print('\\nTrain Accuracy for k = %d is %d%%' % (i,accuracy_train))\n",
    "    print('\\nTrain AUC for k = %d is %f%%' % (i,auc_score_train))\n",
    "    train_score.append(accuracy_train)\n",
    "    train_auc.append(auc_score_train)\n",
    "\n",
    "print(cv_auc)\n",
    "print(train_auc)"
   ]
  },
  {
   "cell_type": "code",
   "execution_count": 48,
   "metadata": {},
   "outputs": [
    {
     "data": {
      "image/png": "[encoded data removed]",
      "text/plain": [
       "<Figure size 432x288 with 1 Axes>"
      ]
     },
     "metadata": {},
     "output_type": "display_data"
    }
   ],
   "source": [
    "# Plotting Train_AUC and CV_AUC against K\n",
    "plt.plot(neighbours,train_auc)\n",
    "plt.plot(neighbours,cv_auc)\n",
    "plt.legend(['Train AUC', 'CV AUC'], loc='upper right')\n",
    "plt.title(\"ERROR PLOTS for Tf-Idf Vectorizer\")\n",
    "plt.xlabel('Hyper-parameter k')\n",
    "plt.ylabel('AUC Value')\n",
    "plt.show()"
   ]
  },
  {
   "cell_type": "code",
   "execution_count": 50,
   "metadata": {},
   "outputs": [
    {
     "name": "stdout",
     "output_type": "stream",
     "text": [
      "AUC Metric Best K = 3\n",
      "0.588\n"
     ]
    }
   ],
   "source": [
    "# Getting the optimal K Based to CV AUC\n",
    "optimal_k_auc = neighbours[cv_auc.index(max(cv_auc))]\n",
    "best_cv_auc = max([ '%.3f' % elem for elem in cv_auc ])\n",
    "print('AUC Metric Best K = %d' % optimal_k_auc)\n",
    "print(best_cv_auc)"
   ]
  },
  {
   "cell_type": "code",
   "execution_count": 57,
   "metadata": {},
   "outputs": [
    {
     "name": "stdout",
     "output_type": "stream",
     "text": [
      "3774\n",
      "3774\n",
      "Algo Run Successfully on D2_Test\n",
      "====================================================================================================\n"
     ]
    }
   ],
   "source": [
    "# Applying Best K on D_Test\n",
    "\n",
    "test_neigh = KNeighborsClassifier(n_neighbors = 10,algorithm = 'kd_tree')\n",
    "test_neigh.fit(D2_Train,Y_Train)\n",
    "\n",
    "predicted_labels_test = []\n",
    "predicted_labels_train = []\n",
    "predict_test_prob = []\n",
    "predict_train_prob = []\n",
    "\n",
    "# Predicting the model with CrossValidation and Train Data\n",
    "for j in range(0,n_test,1000):\n",
    "    predicted_labels_test.extend(test_neigh.predict(D2_Test[j:j+1000]))\n",
    "    predict_test_prob.extend(test_neigh.predict_proba(D2_Test[j:j+1000])[:,1])\n",
    "    \n",
    "for k in range(0,n_train,1000):\n",
    "    predicted_labels_train.extend(test_neigh.predict(D2_Train[k:k+1000]))\n",
    "    predict_train_prob.extend(test_neigh.predict_proba(D2_Train[k:k+1000])[:,1])\n",
    "    \n",
    "print(len(predict_test_prob))\n",
    "print(len(Y_test))\n",
    "    \n",
    "train_fpr, train_tpr, thresholds = roc_curve(Y_Train, predict_train_prob)\n",
    "test_fpr, test_tpr, thresholds = roc_curve(Y_test, predict_test_prob)\n",
    "\n",
    "print('Algo Run Successfully on D2_Test')\n",
    "print(\"=\"*100)\n"
   ]
  },
  {
   "cell_type": "code",
   "execution_count": 58,
   "metadata": {},
   "outputs": [
    {
     "data": {
      "image/png": "[encoded data removed]",
      "text/plain": [
       "<Figure size 432x288 with 1 Axes>"
      ]
     },
     "metadata": {},
     "output_type": "display_data"
    },
    {
     "name": "stdout",
     "output_type": "stream",
     "text": [
      "====================================================================================================\n"
     ]
    }
   ],
   "source": [
    "# Plotting the AUC curve on Test and Train Data\n",
    "\n",
    "plt.plot(train_fpr, train_tpr, label=\"Train AUC =\"+str(auc(train_fpr, train_tpr)))\n",
    "plt.plot(test_fpr, test_tpr, label=\"Test AUC =\"+str(auc(test_fpr, test_tpr)))\n",
    "plt.legend()\n",
    "plt.xlabel(\"Hyper-parameter k\")\n",
    "plt.ylabel(\"AUC\")\n",
    "plt.title(\"ERROR PLOTS\")\n",
    "plt.show()\n",
    "\n",
    "print(\"=\"*100)"
   ]
  },
  {
   "cell_type": "code",
   "execution_count": 59,
   "metadata": {},
   "outputs": [
    {
     "name": "stdout",
     "output_type": "stream",
     "text": [
      "Train Confusion Matrix\n",
      "883 3117 203 5563\n",
      "[[ 883 3117]\n",
      " [ 203 5563]]\n",
      "========================================================================================================================\n",
      "Test Confusion Matrix\n",
      "417 1779 118 1460\n",
      "[[ 417 1779]\n",
      " [ 118 1460]]\n",
      "========================================================================================================================\n"
     ]
    }
   ],
   "source": [
    "# Getting the confusion metrics\n",
    "\n",
    "print('Train Confusion Matrix')\n",
    "tr_true_negetive,tr_false_positive, tr_false_negetive, tr_true_positive = confusion_matrix(Y_Train,predicted_labels_train).ravel()\n",
    "print(tr_true_negetive, tr_false_positive, tr_false_negetive, tr_true_positive)\n",
    "print(confusion_matrix(Y_Train,predicted_labels_train))\n",
    "print(\"=\"*120)\n",
    "\n",
    "print('Test Confusion Matrix')\n",
    "true_negetive,false_positive, false_negetive, true_positive = confusion_matrix(Y_test,predicted_labels_test).ravel()\n",
    "print(true_negetive, false_positive, false_negetive, true_positive)\n",
    "print(confusion_matrix(Y_test,predicted_labels_test))\n",
    "print(\"=\"*120)"
   ]
  },
  {
   "cell_type": "code",
   "execution_count": 107,
   "metadata": {},
   "outputs": [
    {
     "data": {
      "text/plain": [
       "<matplotlib.axes._subplots.AxesSubplot at 0x273367b27b8>"
      ]
     },
     "execution_count": 107,
     "metadata": {},
     "output_type": "execute_result"
    },
    {
     "data": {
      "image/png": "[encoded data removed]",
      "text/plain": [
       "<Figure size 432x288 with 2 Axes>"
      ]
     },
     "metadata": {},
     "output_type": "display_data"
    }
   ],
   "source": [
    "conMatrix= [[tr_true_negetive,tr_false_positive],[tr_false_negetive,tr_true_positive]]\n",
    "data = conMatrix\n",
    "sns.heatmap(data, cmap=\"YlGnBu\", annot=True, fmt=\"d\")"
   ]
  },
  {
   "cell_type": "code",
   "execution_count": 109,
   "metadata": {},
   "outputs": [
    {
     "data": {
      "text/plain": [
       "<matplotlib.axes._subplots.AxesSubplot at 0x273328830b8>"
      ]
     },
     "execution_count": 109,
     "metadata": {},
     "output_type": "execute_result"
    },
    {
     "data": {
      "image/png": "[encoded data removed]",
      "text/plain": [
       "<Figure size 432x288 with 2 Axes>"
      ]
     },
     "metadata": {},
     "output_type": "display_data"
    }
   ],
   "source": [
    "conMatrix= [[true_negetive,false_positive],[false_negetive,true_positive]]\n",
    "data = conMatrix\n",
    "sns.heatmap(data, cmap=\"YlGnBu\", annot=True, fmt=\"d\")"
   ]
  },
  {
   "cell_type": "markdown",
   "metadata": {},
   "source": [
    "## 2.3) Applying KNN kd-tree on Avg W2V, SET 7"
   ]
  },
  {
   "cell_type": "code",
   "execution_count": 60,
   "metadata": {},
   "outputs": [
    {
     "name": "stdout",
     "output_type": "stream",
     "text": [
      "9766\n",
      "[('bad', 0.8960937261581421), ('pretty', 0.8885632753372192), ('great', 0.8831590414047241), ('buds', 0.8581732511520386), ('terrible', 0.8581616878509521), ('enjoy', 0.8565393090248108), ('quite', 0.8488548994064331), ('though', 0.848454475402832), ('expecting', 0.8472972512245178), ('expect', 0.8460354804992676)]\n",
      "====================================================================================================\n",
      "Total Words Present  6052\n",
      "Sample Words :  ['really', 'good', 'idea', 'final', 'product', 'outstanding', 'use', 'car', 'everybody', 'asks', 'bought', 'made', 'two', 'thumbs', 'received', 'shipment', 'could', 'hardly', 'wait', 'try', 'love', 'call', 'instead', 'stickers', 'removed', 'easily', 'daughter', 'designed', 'signs', 'printed', 'windows', 'beautifully', 'print', 'shop', 'program', 'going', 'lot', 'fun', 'everywhere', 'like', 'tv', 'computer', 'winter', 'fresh', 'blueberries', 'food', 'budget', 'dried', 'blue', 'berries', 'fine', 'muffins', 'breads', 'also', 'enjoy', 'fruit', 'cereal', 'often', 'oatmeal', 'sprinkle', 'bowl', 'wonderful', 'cold', 'morning', 'strong', 'smooth', 'flavorful', 'coffee', 'tried', 'others', 'keep', 'coming', 'back', 'one', 'second', 'would', 'starbucks', 'italian', 'blend', 'mae', 'ploy', 'sweet', 'chili', 'sauce', 'becoming', 'standard', 'condiment', 'dinner', 'table', 'right', 'heat', 'enhances', 'taste', 'meat', 'fish', 'foods', 'almost', 'past', 'salsa', 'answers']\n",
      "====================================================================================================\n"
     ]
    }
   ],
   "source": [
    "# Applying Word2Vec for Vectorization of X_3_train\n",
    "# Creating Word2Vec Model\n",
    "\n",
    "list_of_sentence = []\n",
    "for sentence in X_Train['Cleaned_Text']:\n",
    "    list_of_sentence.append(sentence.split())\n",
    "print(len(list_of_sentence))\n",
    "\n",
    "# Creating Word2Vec model with 50 dimension and min_count=5, it will consider the word only if it appeared more than 5 times\n",
    "\n",
    "w2v_model = Word2Vec(list_of_sentence, min_count=5, size=50, workers=4)\n",
    "print(w2v_model.wv.most_similar(\"good\"))\n",
    "print(\"=\"*100)\n",
    "\n",
    "w2v_words = list(w2v_model.wv.vocab)\n",
    "print(\"Total Words Present \", len(w2v_words))\n",
    "print(\"Sample Words : \", w2v_words[0:100])\n",
    "print(\"=\"*100)"
   ]
  },
  {
   "cell_type": "code",
   "execution_count": null,
   "metadata": {},
   "outputs": [],
   "source": []
  },
  {
   "cell_type": "code",
   "execution_count": 61,
   "metadata": {},
   "outputs": [
    {
     "name": "stderr",
     "output_type": "stream",
     "text": [
      "100%|█████████████████████████████████████████████████████████████████████████████| 9766/9766 [00:20<00:00, 468.08it/s]\n"
     ]
    },
    {
     "name": "stdout",
     "output_type": "stream",
     "text": [
      "9766\n",
      "[-0.18980466  0.24759159  0.26317158 -0.09751008 -0.08907756  0.2612138\n",
      "  0.0916395  -0.30364079 -0.60144179  0.5810043   0.03802499 -0.39164155\n",
      " -0.06488616  0.02575865 -0.27491921  0.36913325  0.00678451  0.09669539\n",
      " -0.51318604  0.2372777  -0.3850475  -0.08097776  0.20927252  0.05805941\n",
      "  0.68231439  0.44254473  0.2157993  -0.33328086 -0.05923016  0.0925621\n",
      "  0.3196539   0.13372497  0.14509976  0.03159371 -0.2338632  -0.12638391\n",
      " -0.05035271 -0.5767967  -0.41533071  0.52177755  0.3491946   0.04256844\n",
      " -0.04984072  0.32300956 -0.08134938 -0.2822628  -0.5364605   0.53264595\n",
      "  0.05511893 -0.03812477]\n"
     ]
    }
   ],
   "source": [
    "# Creating Average Word2Vec Vector for Train Data\n",
    "\n",
    "sent_vect_train = []\n",
    "for sent in tqdm(list_of_sentence):\n",
    "    sentence_vec = np.zeros(50)\n",
    "    count_words = 0\n",
    "    for word in sent:\n",
    "        if word in w2v_words:\n",
    "            vec = w2v_model.wv[word]\n",
    "            count_words += 1\n",
    "            sentence_vec += vec\n",
    "    if count_words != 0:\n",
    "        sentence_vec /= count_words\n",
    "    sent_vect_train.append(sentence_vec)\n",
    "print(len(sent_vect_train))\n",
    "print(sent_vect_train[0])"
   ]
  },
  {
   "cell_type": "code",
   "execution_count": 62,
   "metadata": {},
   "outputs": [
    {
     "name": "stdout",
     "output_type": "stream",
     "text": [
      "3020\n"
     ]
    }
   ],
   "source": [
    "# Applying Word2Vec for Vectorization of X_3_cv\n",
    "# Creating Word2Vec Model\n",
    "\n",
    "list_of_sentence = []\n",
    "for sentence in X_1_cv['Cleaned_Text']:\n",
    "    list_of_sentence.append(sentence.split())\n",
    "print(len(list_of_sentence))"
   ]
  },
  {
   "cell_type": "code",
   "execution_count": 63,
   "metadata": {},
   "outputs": [
    {
     "name": "stderr",
     "output_type": "stream",
     "text": [
      "100%|█████████████████████████████████████████████████████████████████████████████| 3020/3020 [00:07<00:00, 421.67it/s]\n"
     ]
    },
    {
     "name": "stdout",
     "output_type": "stream",
     "text": [
      "3020\n",
      "[-0.32808646  0.45199506  0.60207293 -0.09405019 -0.03349983  0.21065933\n",
      "  0.20280278 -0.45866056 -0.5701365   0.67545386  0.02023472 -0.47396933\n",
      " -0.01252754 -0.00436707 -0.3789183   0.64639208  0.07214022 -0.00224362\n",
      " -0.66680512  0.19925537 -0.41926658  0.02550766  0.36232227  0.26115357\n",
      "  0.93877593  0.31429466  0.42113408 -0.24809775 -0.12840714 -0.00660371\n",
      "  0.24007963  0.06643914  0.11474299 -0.01534066 -0.21182747 -0.21151725\n",
      " -0.0778203  -0.50247778 -0.55385395  0.8040967   0.57741005  0.19063094\n",
      "  0.05228695  0.42835545  0.02163351 -0.31957279 -0.6863559   0.69611846\n",
      " -0.02795565 -0.13177685]\n"
     ]
    }
   ],
   "source": [
    "# Creating Average Word2Vec Model for Cross-Validation Data\n",
    "\n",
    "sent_vect_cv = []\n",
    "for sent in tqdm(list_of_sentence):\n",
    "    sentence_vec = np.zeros(50)\n",
    "    count_words = 0\n",
    "    for word in sent:\n",
    "        if word in w2v_words:\n",
    "            vec = w2v_model.wv[word]\n",
    "            count_words += 1\n",
    "            sentence_vec += vec\n",
    "    if count_words != 0:\n",
    "        sentence_vec /= count_words\n",
    "    sent_vect_cv.append(sentence_vec)\n",
    "print(len(sent_vect_cv))\n",
    "print(sent_vect_cv[0])"
   ]
  },
  {
   "cell_type": "code",
   "execution_count": 64,
   "metadata": {},
   "outputs": [
    {
     "name": "stdout",
     "output_type": "stream",
     "text": [
      "3774\n"
     ]
    }
   ],
   "source": [
    "# Applying Word2Vec for Vectorization of X3_test\n",
    "# Creating Word2Vec Model\n",
    "\n",
    "list_of_sentence = []\n",
    "for sentence in X_test['Cleaned_Text']:\n",
    "    list_of_sentence.append(sentence.split())\n",
    "print(len(list_of_sentence))"
   ]
  },
  {
   "cell_type": "code",
   "execution_count": 65,
   "metadata": {},
   "outputs": [
    {
     "name": "stderr",
     "output_type": "stream",
     "text": [
      "100%|█████████████████████████████████████████████████████████████████████████████| 3774/3774 [00:08<00:00, 443.67it/s]\n"
     ]
    },
    {
     "name": "stdout",
     "output_type": "stream",
     "text": [
      "3774\n",
      "[-0.26568009  0.28756032  0.47932307  0.13545598 -0.17569504  0.25563438\n",
      " -0.13039685 -0.46757922 -0.69579768  0.55314274 -0.07370989 -0.43050561\n",
      "  0.08853899 -0.11014491 -0.3152842   0.40995799  0.01780464  0.05823347\n",
      " -0.5239293   0.3567474  -0.38367433 -0.06542805  0.22325936  0.40791474\n",
      "  0.40334683  0.73606301  0.02363223 -0.40862216 -0.13717105 -0.05456789\n",
      "  0.12610679  0.00610712  0.22944186  0.13475018 -0.28952888 -0.08235817\n",
      " -0.07682139 -0.64351284 -0.10371735  0.73341245  0.39251888  0.19038355\n",
      "  0.18761057  0.34853042 -0.01441942 -0.45105978 -0.69878183  0.53834783\n",
      "  0.03509503 -0.08708783]\n"
     ]
    }
   ],
   "source": [
    "# Creating Average Word2Vec Model for Test Data\n",
    "\n",
    "sent_vect_test = []\n",
    "for sent in tqdm(list_of_sentence):\n",
    "    sentence_vec = np.zeros(50)\n",
    "    count_words = 0\n",
    "    for word in sent:\n",
    "        if word in w2v_words:\n",
    "            vec = w2v_model.wv[word]\n",
    "            count_words += 1\n",
    "            sentence_vec += vec\n",
    "    if count_words != 0:\n",
    "        sentence_vec /= count_words\n",
    "    sent_vect_test.append(sentence_vec)\n",
    "print(len(sent_vect_test))\n",
    "print(sent_vect_test[0])"
   ]
  },
  {
   "cell_type": "code",
   "execution_count": 66,
   "metadata": {},
   "outputs": [
    {
     "name": "stdout",
     "output_type": "stream",
     "text": [
      "9766\n",
      "3020\n",
      "3774\n"
     ]
    }
   ],
   "source": [
    "n_cv = len(sent_vect_cv)\n",
    "n_train = len(sent_vect_train)\n",
    "n_test = len(sent_vect_test)\n",
    "print(n_train)\n",
    "print(n_cv)\n",
    "print(n_test)"
   ]
  },
  {
   "cell_type": "code",
   "execution_count": 67,
   "metadata": {},
   "outputs": [
    {
     "name": "stdout",
     "output_type": "stream",
     "text": [
      "(9766, 50)\n",
      "(3020, 50)\n",
      "(3774, 50)\n"
     ]
    }
   ],
   "source": [
    "# Standardization Process\n",
    "\n",
    "scaler = StandardScaler()\n",
    "scaler.fit(sent_vect_train)\n",
    "D3_Train = scaler.transform(sent_vect_train)\n",
    "D3_Cv = scaler.transform(sent_vect_cv)\n",
    "D3_Test = scaler.transform(sent_vect_test)\n",
    "\n",
    "print(D3_Train.shape)\n",
    "print(D3_Cv.shape)\n",
    "print(D3_Test.shape)"
   ]
  },
  {
   "cell_type": "code",
   "execution_count": 68,
   "metadata": {},
   "outputs": [],
   "source": [
    "D3_Train=D3_Train.astype('int')\n",
    "D3_Cv=D3_Cv.astype('int')\n",
    "D3_Test=D3_Test.astype('int')\n",
    "Y_Train=Y_Train.astype('int')\n",
    "Y_1_cv=Y_1_cv.astype('int')\n",
    "Y_test=Y_test.astype('int')"
   ]
  },
  {
   "cell_type": "code",
   "execution_count": 69,
   "metadata": {},
   "outputs": [
    {
     "name": "stderr",
     "output_type": "stream",
     "text": [
      "\r",
      "  0%|                                                                                           | 0/15 [00:00<?, ?it/s]"
     ]
    },
    {
     "name": "stdout",
     "output_type": "stream",
     "text": [
      "3020\n",
      "3020\n",
      "\n",
      "CV Accuracy for k = 1 is 53%\n",
      "\n",
      "CV AUC for k = 1 is 0.561546%\n",
      "\n",
      "Train Accuracy for k = 1 is 94%\n",
      "\n",
      "Train AUC for k = 1 is 0.934480%\n"
     ]
    },
    {
     "name": "stderr",
     "output_type": "stream",
     "text": [
      "\r",
      "  7%|█████▌                                                                             | 1/15 [00:20<04:51, 20.83s/it]"
     ]
    },
    {
     "name": "stdout",
     "output_type": "stream",
     "text": [
      "3020\n",
      "3020\n",
      "\n",
      "CV Accuracy for k = 3 is 54%\n",
      "\n",
      "CV AUC for k = 3 is 0.605208%\n",
      "\n",
      "Train Accuracy for k = 3 is 76%\n",
      "\n",
      "Train AUC for k = 3 is 0.829654%\n"
     ]
    },
    {
     "name": "stderr",
     "output_type": "stream",
     "text": [
      "\r",
      " 13%|███████████                                                                        | 2/15 [00:51<05:10, 23.90s/it]"
     ]
    },
    {
     "name": "stdout",
     "output_type": "stream",
     "text": [
      "3020\n",
      "3020\n",
      "\n",
      "CV Accuracy for k = 5 is 54%\n",
      "\n",
      "CV AUC for k = 5 is 0.614033%\n",
      "\n",
      "Train Accuracy for k = 5 is 73%\n",
      "\n",
      "Train AUC for k = 5 is 0.779337%\n"
     ]
    },
    {
     "name": "stderr",
     "output_type": "stream",
     "text": [
      "\r",
      " 20%|████████████████▌                                                                  | 3/15 [01:23<05:14, 26.19s/it]"
     ]
    },
    {
     "name": "stdout",
     "output_type": "stream",
     "text": [
      "3020\n",
      "3020\n",
      "\n",
      "CV Accuracy for k = 7 is 55%\n",
      "\n",
      "CV AUC for k = 7 is 0.625583%\n",
      "\n",
      "Train Accuracy for k = 7 is 70%\n",
      "\n",
      "Train AUC for k = 7 is 0.754368%\n"
     ]
    },
    {
     "name": "stderr",
     "output_type": "stream",
     "text": [
      "\r",
      " 27%|██████████████████████▏                                                            | 4/15 [01:56<05:10, 28.27s/it]"
     ]
    },
    {
     "name": "stdout",
     "output_type": "stream",
     "text": [
      "3020\n",
      "3020\n",
      "\n",
      "CV Accuracy for k = 9 is 55%\n",
      "\n",
      "CV AUC for k = 9 is 0.635787%\n",
      "\n",
      "Train Accuracy for k = 9 is 69%\n",
      "\n",
      "Train AUC for k = 9 is 0.733174%\n"
     ]
    },
    {
     "name": "stderr",
     "output_type": "stream",
     "text": [
      "\r",
      " 33%|███████████████████████████▋                                                       | 5/15 [02:29<04:57, 29.78s/it]"
     ]
    },
    {
     "name": "stdout",
     "output_type": "stream",
     "text": [
      "3020\n",
      "3020\n",
      "\n",
      "CV Accuracy for k = 11 is 55%\n",
      "\n",
      "CV AUC for k = 11 is 0.645218%\n",
      "\n",
      "Train Accuracy for k = 11 is 69%\n",
      "\n",
      "Train AUC for k = 11 is 0.720200%\n"
     ]
    },
    {
     "name": "stderr",
     "output_type": "stream",
     "text": [
      "\r",
      " 40%|█████████████████████████████████▏                                                 | 6/15 [03:02<04:36, 30.74s/it]"
     ]
    },
    {
     "name": "stdout",
     "output_type": "stream",
     "text": [
      "3020\n",
      "3020\n",
      "\n",
      "CV Accuracy for k = 13 is 55%\n",
      "\n",
      "CV AUC for k = 13 is 0.646294%\n",
      "\n",
      "Train Accuracy for k = 13 is 68%\n",
      "\n",
      "Train AUC for k = 13 is 0.712379%\n"
     ]
    },
    {
     "name": "stderr",
     "output_type": "stream",
     "text": [
      "\r",
      " 47%|██████████████████████████████████████▋                                            | 7/15 [03:39<04:20, 32.57s/it]"
     ]
    },
    {
     "name": "stdout",
     "output_type": "stream",
     "text": [
      "3020\n",
      "3020\n",
      "\n",
      "CV Accuracy for k = 15 is 56%\n",
      "\n",
      "CV AUC for k = 15 is 0.646057%\n",
      "\n",
      "Train Accuracy for k = 15 is 68%\n",
      "\n",
      "Train AUC for k = 15 is 0.706421%\n"
     ]
    },
    {
     "name": "stderr",
     "output_type": "stream",
     "text": [
      "\r",
      " 53%|████████████████████████████████████████████▎                                      | 8/15 [04:15<03:54, 33.45s/it]"
     ]
    },
    {
     "name": "stdout",
     "output_type": "stream",
     "text": [
      "3020\n",
      "3020\n",
      "\n",
      "CV Accuracy for k = 17 is 56%\n",
      "\n",
      "CV AUC for k = 17 is 0.644602%\n",
      "\n",
      "Train Accuracy for k = 17 is 68%\n",
      "\n",
      "Train AUC for k = 17 is 0.701152%\n"
     ]
    },
    {
     "name": "stderr",
     "output_type": "stream",
     "text": [
      "\r",
      " 60%|█████████████████████████████████████████████████▊                                 | 9/15 [04:50<03:23, 33.97s/it]"
     ]
    },
    {
     "name": "stdout",
     "output_type": "stream",
     "text": [
      "3020\n",
      "3020\n",
      "\n",
      "CV Accuracy for k = 19 is 56%\n",
      "\n",
      "CV AUC for k = 19 is 0.644532%\n",
      "\n",
      "Train Accuracy for k = 19 is 68%\n",
      "\n",
      "Train AUC for k = 19 is 0.697218%\n"
     ]
    },
    {
     "name": "stderr",
     "output_type": "stream",
     "text": [
      "\r",
      " 67%|██████████████████████████████████████████████████████▋                           | 10/15 [05:26<02:52, 34.59s/it]"
     ]
    },
    {
     "name": "stdout",
     "output_type": "stream",
     "text": [
      "3020\n",
      "3020\n",
      "\n",
      "CV Accuracy for k = 21 is 56%\n",
      "\n",
      "CV AUC for k = 21 is 0.645450%\n",
      "\n",
      "Train Accuracy for k = 21 is 67%\n",
      "\n",
      "Train AUC for k = 21 is 0.692839%\n"
     ]
    },
    {
     "name": "stderr",
     "output_type": "stream",
     "text": [
      "\r",
      " 73%|████████████████████████████████████████████████████████████▏                     | 11/15 [06:00<02:17, 34.49s/it]"
     ]
    },
    {
     "name": "stdout",
     "output_type": "stream",
     "text": [
      "3020\n",
      "3020\n",
      "\n",
      "CV Accuracy for k = 23 is 56%\n",
      "\n",
      "CV AUC for k = 23 is 0.643931%\n",
      "\n",
      "Train Accuracy for k = 23 is 67%\n",
      "\n",
      "Train AUC for k = 23 is 0.689085%\n"
     ]
    },
    {
     "name": "stderr",
     "output_type": "stream",
     "text": [
      "\r",
      " 80%|█████████████████████████████████████████████████████████████████▌                | 12/15 [06:35<01:43, 34.46s/it]"
     ]
    },
    {
     "name": "stdout",
     "output_type": "stream",
     "text": [
      "3020\n",
      "3020\n",
      "\n",
      "CV Accuracy for k = 25 is 56%\n",
      "\n",
      "CV AUC for k = 25 is 0.645492%\n",
      "\n",
      "Train Accuracy for k = 25 is 67%\n",
      "\n",
      "Train AUC for k = 25 is 0.685258%\n"
     ]
    },
    {
     "name": "stderr",
     "output_type": "stream",
     "text": [
      "\r",
      " 87%|███████████████████████████████████████████████████████████████████████           | 13/15 [07:09<01:08, 34.46s/it]"
     ]
    },
    {
     "name": "stdout",
     "output_type": "stream",
     "text": [
      "3020\n",
      "3020\n",
      "\n",
      "CV Accuracy for k = 27 is 55%\n",
      "\n",
      "CV AUC for k = 27 is 0.643030%\n",
      "\n",
      "Train Accuracy for k = 27 is 67%\n",
      "\n",
      "Train AUC for k = 27 is 0.681757%\n"
     ]
    },
    {
     "name": "stderr",
     "output_type": "stream",
     "text": [
      "\r",
      " 93%|████████████████████████████████████████████████████████████████████████████▌     | 14/15 [07:44<00:34, 34.66s/it]"
     ]
    },
    {
     "name": "stdout",
     "output_type": "stream",
     "text": [
      "3020\n",
      "3020\n",
      "\n",
      "CV Accuracy for k = 29 is 55%\n",
      "\n",
      "CV AUC for k = 29 is 0.642144%\n",
      "\n",
      "Train Accuracy for k = 29 is 67%\n",
      "\n",
      "Train AUC for k = 29 is 0.679943%\n"
     ]
    },
    {
     "name": "stderr",
     "output_type": "stream",
     "text": [
      "100%|██████████████████████████████████████████████████████████████████████████████████| 15/15 [08:19<00:00, 34.87s/it]\n"
     ]
    },
    {
     "name": "stdout",
     "output_type": "stream",
     "text": [
      "[0.5615461465978637, 0.6052077179349562, 0.6140334037675786, 0.6255829526594447, 0.6357866802217664, 0.6452177941328229, 0.6462943610694649, 0.6460573270767173, 0.6446020014501432, 0.64453170239526, 0.6454496458234475, 0.6439314566189489, 0.6454924561453316, 0.6430299613670643, 0.6421442383390316]\n",
      "[0.9344797086368365, 0.8296544181408254, 0.7793370620881027, 0.7543675208116546, 0.7331741892126257, 0.7202001170655568, 0.712378772112383, 0.706421457682969, 0.701151664932362, 0.6972178720083246, 0.6928390348595214, 0.6890854361775928, 0.6852575442247659, 0.6817566337148803, 0.679943418314256]\n"
     ]
    }
   ],
   "source": [
    "# Applying Brute Force KNN on Word2Vec Train Model\n",
    "\n",
    "cv_score = []\n",
    "train_score = []\n",
    "\n",
    "# creating odd list of K for KNN\n",
    "myList = list(range(0,30))\n",
    "neighbours = list(filter(lambda x: x % 2 != 0, myList))\n",
    "\n",
    "\n",
    "cv_auc = []\n",
    "train_auc = []\n",
    "cv_score = []\n",
    "train_score = []\n",
    "for i in tqdm(neighbours):\n",
    "    knn = KNeighborsClassifier(n_neighbors = i, algorithm = 'kd_tree')\n",
    "    \n",
    "    predicted_labels_cv = []\n",
    "    predicted_labels_train = []\n",
    "    predict_cv_prob = []\n",
    "    predict_train_prob = []\n",
    "    accuracy_cv = []\n",
    "    auc_score_cv = []\n",
    "    auc_score_train = []\n",
    "    accuracy_train = []\n",
    "    \n",
    "    # Fitting the model in Train - CrossValidation\n",
    "    knn.fit(D3_Train,Y_Train)\n",
    "    \n",
    "    # Predicting the model with CrossValidation and Train Data\n",
    "    for j in range(0,n_cv,1000):\n",
    "        predicted_labels_cv.extend(knn.predict(D3_Cv[j:j+1000]))\n",
    "        predict_cv_prob.extend(knn.predict_proba(D3_Cv[j:j+1000])[:,1])\n",
    "    \n",
    "    for k in range(0,n_train,1000):\n",
    "        predicted_labels_train.extend(knn.predict(D3_Train[k:k+1000]))\n",
    "        predict_train_prob.extend(knn.predict_proba(D3_Train[k:k+1000])[:,1])\n",
    "    \n",
    "    print(len(predict_cv_prob))\n",
    "    print(len(Y_1_cv))\n",
    "    \n",
    "    # Getting the Cross-Validation Accuracy and AUC Score\n",
    "    auc_score_cv = roc_auc_score(Y_1_cv,predict_cv_prob)\n",
    "    accuracy_cv = accuracy_score(Y_1_cv,predicted_labels_cv,normalize=True)* float(100)\n",
    "    print('\\nCV Accuracy for k = %d is %d%%' % (i,accuracy_cv))\n",
    "    print('\\nCV AUC for k = %d is %f%%' % (i,auc_score_cv))\n",
    "    cv_score.append(accuracy_cv)\n",
    "    cv_auc.append(auc_score_cv)\n",
    "    \n",
    "    # Getting the Training Accuracy and AUC Score\n",
    "    auc_score_train = roc_auc_score(Y_Train,predict_train_prob)\n",
    "    accuracy_train = accuracy_score(Y_Train,predicted_labels_train, normalize=True)* float(100)\n",
    "    print('\\nTrain Accuracy for k = %d is %d%%' % (i,accuracy_train))\n",
    "    print('\\nTrain AUC for k = %d is %f%%' % (i,auc_score_train))\n",
    "    train_score.append(accuracy_train)\n",
    "    train_auc.append(auc_score_train)\n",
    "\n",
    "# Misclassification Error ( Cross-Validation Error )\n",
    "#cv_error = [1 - x for x in cv_score]\n",
    "\n",
    "# Misclassification Error ( Training Error )\n",
    "#train_error = [1 - x for x in train_score]  \n",
    "\n",
    "print(cv_auc)\n",
    "print(train_auc)"
   ]
  },
  {
   "cell_type": "code",
   "execution_count": 70,
   "metadata": {},
   "outputs": [
    {
     "data": {
      "image/png": "[encoded data removed]",
      "text/plain": [
       "<Figure size 432x288 with 1 Axes>"
      ]
     },
     "metadata": {},
     "output_type": "display_data"
    }
   ],
   "source": [
    "# Plotting Train_AUC and CV_AUC against K\n",
    "plt.plot(neighbours,train_auc)\n",
    "plt.plot(neighbours,cv_auc)\n",
    "plt.legend(['Train AUC', 'CV AUC'], loc='upper right')\n",
    "plt.title(\"ERROR PLOTS for Avg Word2Vec Vectorizer\")\n",
    "plt.xlabel('Hyper-parameter k')\n",
    "plt.ylabel('AUC Value')\n",
    "plt.show()"
   ]
  },
  {
   "cell_type": "code",
   "execution_count": 72,
   "metadata": {},
   "outputs": [
    {
     "name": "stdout",
     "output_type": "stream",
     "text": [
      "AUC Metric Best K = 13\n",
      "0.646\n"
     ]
    }
   ],
   "source": [
    "# Getting the optimal K Based to CV AUC\n",
    "optimal_k_auc = neighbours[cv_auc.index(max(cv_auc))]\n",
    "best_cv_auc = max([ '%.3f' % elem for elem in cv_auc ])\n",
    "print('AUC Metric Best K = %d' % optimal_k_auc)\n",
    "print(best_cv_auc)"
   ]
  },
  {
   "cell_type": "code",
   "execution_count": 76,
   "metadata": {},
   "outputs": [
    {
     "name": "stdout",
     "output_type": "stream",
     "text": [
      "3774\n",
      "3774\n",
      "Algo Run Successfully on D3_Test\n",
      "====================================================================================================\n"
     ]
    }
   ],
   "source": [
    "# Applying Best K on D_Test\n",
    "\n",
    "test_neigh = KNeighborsClassifier(n_neighbors =7,algorithm = 'kd_tree')\n",
    "test_neigh.fit(D3_Train,Y_Train)\n",
    "\n",
    "predicted_labels_test = []\n",
    "predicted_labels_train = []\n",
    "predict_test_prob = []\n",
    "predict_train_prob = []\n",
    "\n",
    "# Predicting the model with CrossValidation and Train Data\n",
    "for j in range(0,n_test,1000):\n",
    "    predicted_labels_test.extend(test_neigh.predict(D3_Test[j:j+1000]))\n",
    "    predict_test_prob.extend(test_neigh.predict_proba(D3_Test[j:j+1000])[:,1])\n",
    "    \n",
    "for k in range(0,n_train,1000):\n",
    "    predicted_labels_train.extend(test_neigh.predict(D3_Train[k:k+1000]))\n",
    "    predict_train_prob.extend(test_neigh.predict_proba(D3_Train[k:k+1000])[:,1])\n",
    "    \n",
    "print(len(predict_test_prob))\n",
    "print(len(Y_test))\n",
    "    \n",
    "train_fpr, train_tpr, thresholds = roc_curve(Y_Train, predict_train_prob)\n",
    "test_fpr, test_tpr, thresholds = roc_curve(Y_test, predict_test_prob)\n",
    "\n",
    "print('Algo Run Successfully on D3_Test')\n",
    "print(\"=\"*100)"
   ]
  },
  {
   "cell_type": "code",
   "execution_count": 77,
   "metadata": {},
   "outputs": [
    {
     "data": {
      "image/png": "[encoded data removed]",
      "text/plain": [
       "<Figure size 432x288 with 1 Axes>"
      ]
     },
     "metadata": {},
     "output_type": "display_data"
    },
    {
     "name": "stdout",
     "output_type": "stream",
     "text": [
      "====================================================================================================\n"
     ]
    }
   ],
   "source": [
    "# Plotting the AUC curve on Test and Train Data\n",
    "\n",
    "plt.plot(train_fpr, train_tpr, label=\"Train AUC =\"+str(auc(train_fpr, train_tpr)))\n",
    "plt.plot(test_fpr, test_tpr, label=\"Test AUC =\"+str(auc(test_fpr, test_tpr)))\n",
    "plt.legend()\n",
    "plt.xlabel(\"Hyper-parameter k\")\n",
    "plt.ylabel(\"AUC\")\n",
    "plt.title(\"ERROR PLOTS\")\n",
    "plt.show()\n",
    "\n",
    "print(\"=\"*100)"
   ]
  },
  {
   "cell_type": "code",
   "execution_count": 78,
   "metadata": {},
   "outputs": [
    {
     "name": "stdout",
     "output_type": "stream",
     "text": [
      "Train Confusion Matrix\n",
      "1810 2190 655 5111\n",
      "[[1810 2190]\n",
      " [ 655 5111]]\n",
      "========================================================================================================================\n",
      "Test Confusion Matrix\n",
      "784 1412 254 1324\n",
      "[[ 784 1412]\n",
      " [ 254 1324]]\n",
      "========================================================================================================================\n"
     ]
    }
   ],
   "source": [
    "# Getting the confusion metrics\n",
    "\n",
    "print('Train Confusion Matrix')\n",
    "tr_true_negetive,tr_false_positive, tr_false_negetive, tr_true_positive = confusion_matrix(Y_Train,predicted_labels_train).ravel()\n",
    "print(tr_true_negetive, tr_false_positive, tr_false_negetive, tr_true_positive)\n",
    "print(confusion_matrix(Y_Train,predicted_labels_train))\n",
    "print(\"=\"*120)\n",
    "\n",
    "print('Test Confusion Matrix')\n",
    "true_negetive,false_positive, false_negetive, true_positive = confusion_matrix(Y_test,predicted_labels_test).ravel()\n",
    "print(true_negetive, false_positive, false_negetive, true_positive)\n",
    "print(confusion_matrix(Y_test,predicted_labels_test))\n",
    "print(\"=\"*120)"
   ]
  },
  {
   "cell_type": "code",
   "execution_count": 49,
   "metadata": {},
   "outputs": [
    {
     "data": {
      "text/plain": [
       "<matplotlib.axes._subplots.AxesSubplot at 0x251ea586fd0>"
      ]
     },
     "execution_count": 49,
     "metadata": {},
     "output_type": "execute_result"
    },
    {
     "data": {
      "image/png": "[encoded data removed]",
      "text/plain": [
       "<Figure size 432x288 with 2 Axes>"
      ]
     },
     "metadata": {},
     "output_type": "display_data"
    }
   ],
   "source": [
    "import seaborn as sns\n",
    "conMatrix= [[tr_true_negetive,tr_false_positive],[tr_false_negetive,tr_true_positive]]\n",
    "data = conMatrix\n",
    "sns.heatmap(data, cmap=\"YlGnBu\", annot=True, fmt=\"d\")"
   ]
  },
  {
   "cell_type": "code",
   "execution_count": 50,
   "metadata": {},
   "outputs": [
    {
     "data": {
      "text/plain": [
       "<matplotlib.axes._subplots.AxesSubplot at 0x251ea2f79b0>"
      ]
     },
     "execution_count": 50,
     "metadata": {},
     "output_type": "execute_result"
    },
    {
     "data": {
      "image/png": "[encoded data removed]",
      "text/plain": [
       "<Figure size 432x288 with 2 Axes>"
      ]
     },
     "metadata": {},
     "output_type": "display_data"
    }
   ],
   "source": [
    "conMatrix= [[true_negetive,false_positive],[false_negetive,true_positive]]\n",
    "data = conMatrix\n",
    "sns.heatmap(data, cmap=\"YlGnBu\", annot=True, fmt=\"d\")"
   ]
  },
  {
   "cell_type": "markdown",
   "metadata": {},
   "source": [
    " ## 2.4) Applying KNN kd-tree on Tf-Idf Weighted Avg W2V, SET 8"
   ]
  },
  {
   "cell_type": "markdown",
   "metadata": {},
   "source": [
    "We are using the previous splitting and the Word2Vec Model here. We are not training the Word2Vec Model again here."
   ]
  },
  {
   "cell_type": "code",
   "execution_count": 80,
   "metadata": {},
   "outputs": [
    {
     "name": "stdout",
     "output_type": "stream",
     "text": [
      "9766\n"
     ]
    }
   ],
   "source": [
    "# Splitting the Training Data into sentences\n",
    "list_of_sentence = []\n",
    "for sentence in X_Train['Cleaned_Text']:\n",
    "    list_of_sentence.append(sentence.split())\n",
    "print(len(list_of_sentence))"
   ]
  },
  {
   "cell_type": "code",
   "execution_count": 81,
   "metadata": {},
   "outputs": [
    {
     "name": "stderr",
     "output_type": "stream",
     "text": [
      "100%|█████████████████████████████████████████████████████████████████████████████| 9766/9766 [00:24<00:00, 404.75it/s]\n"
     ]
    },
    {
     "name": "stdout",
     "output_type": "stream",
     "text": [
      "9766\n"
     ]
    }
   ],
   "source": [
    "# Tf-Idf Weighted Word2Vec for Training Data\n",
    "\n",
    "tf_idf_features = tfidf_vect.get_feature_names()\n",
    "\n",
    "tfidf_w2v_train = []\n",
    "for sent in tqdm(list_of_sentence):\n",
    "    sent_vec = np.zeros(50)\n",
    "    weighted_sum = 0\n",
    "    for word in sent:\n",
    "        if word in w2v_words and word in tf_idf_features:\n",
    "            vec = w2v_model.wv[word]\n",
    "            tfidf = dictionary[word]*(sent.count(word)/len(sent))\n",
    "            sent_vec += vec * tfidf\n",
    "            weighted_sum += tfidf\n",
    "    if weighted_sum != 0:\n",
    "        sent_vec /= weighted_sum\n",
    "    tfidf_w2v_train.append(sent_vec)\n",
    "print(len(tfidf_w2v_train))"
   ]
  },
  {
   "cell_type": "code",
   "execution_count": 86,
   "metadata": {},
   "outputs": [
    {
     "name": "stdout",
     "output_type": "stream",
     "text": [
      "3020\n"
     ]
    }
   ],
   "source": [
    "# Splitting the Cross-Validation Data into sentences\n",
    "\n",
    "list_of_sentence = []\n",
    "for sentence in X_1_cv['Cleaned_Text']:\n",
    "    list_of_sentence.append(sentence.split())\n",
    "print(len(list_of_sentence))"
   ]
  },
  {
   "cell_type": "code",
   "execution_count": 87,
   "metadata": {},
   "outputs": [
    {
     "name": "stderr",
     "output_type": "stream",
     "text": [
      "100%|█████████████████████████████████████████████████████████████████████████████| 3020/3020 [00:08<00:00, 361.09it/s]\n"
     ]
    },
    {
     "name": "stdout",
     "output_type": "stream",
     "text": [
      "3020\n"
     ]
    }
   ],
   "source": [
    "# Tf-Idf Weighted Word2Vec for Cross-Validation Data\n",
    "\n",
    "tf_idf_features = tfidf_vect.get_feature_names()\n",
    "\n",
    "tfidf_w2v_cv = []\n",
    "for sent in tqdm(list_of_sentence):\n",
    "    sent_vec = np.zeros(50)\n",
    "    weighted_sum = 0\n",
    "    for word in sent:\n",
    "        if word in w2v_words and word in tf_idf_features:\n",
    "            vec = w2v_model.wv[word]\n",
    "            tfidf = dictionary[word]*(sent.count(word)/len(sent))\n",
    "            sent_vec += vec * tfidf\n",
    "            weighted_sum += tfidf\n",
    "    if weighted_sum != 0:\n",
    "        sent_vec /= weighted_sum\n",
    "    tfidf_w2v_cv.append(sent_vec)\n",
    "print(len(tfidf_w2v_cv))"
   ]
  },
  {
   "cell_type": "code",
   "execution_count": 88,
   "metadata": {},
   "outputs": [
    {
     "name": "stdout",
     "output_type": "stream",
     "text": [
      "3774\n"
     ]
    }
   ],
   "source": [
    "# Splitting the Test Data into sentences\n",
    "\n",
    "list_of_sentence = []\n",
    "for sentence in X_test['Cleaned_Text']:\n",
    "    list_of_sentence.append(sentence.split())\n",
    "print(len(list_of_sentence))"
   ]
  },
  {
   "cell_type": "code",
   "execution_count": 89,
   "metadata": {},
   "outputs": [
    {
     "name": "stderr",
     "output_type": "stream",
     "text": [
      "100%|█████████████████████████████████████████████████████████████████████████████| 3774/3774 [00:10<00:00, 365.31it/s]\n"
     ]
    },
    {
     "name": "stdout",
     "output_type": "stream",
     "text": [
      "3774\n"
     ]
    }
   ],
   "source": [
    "# Tf-Idf Weighted Word2Vec for Test Data\n",
    "\n",
    "tf_idf_features = tfidf_vect.get_feature_names()\n",
    "\n",
    "tfidf_w2v_test = []\n",
    "for sent in tqdm(list_of_sentence):\n",
    "    sent_vec = np.zeros(50)\n",
    "    weighted_sum = 0\n",
    "    for word in sent:\n",
    "        if word in w2v_words and word in tf_idf_features:\n",
    "            vec = w2v_model.wv[word]\n",
    "            tfidf = dictionary[word]*(sent.count(word)/len(sent))\n",
    "            sent_vec += vec * tfidf\n",
    "            weighted_sum += tfidf\n",
    "    if weighted_sum != 0:\n",
    "        sent_vec /= weighted_sum\n",
    "    tfidf_w2v_test.append(sent_vec)\n",
    "print(len(tfidf_w2v_test))"
   ]
  },
  {
   "cell_type": "code",
   "execution_count": 90,
   "metadata": {},
   "outputs": [
    {
     "name": "stdout",
     "output_type": "stream",
     "text": [
      "9766\n",
      "3020\n",
      "3774\n"
     ]
    }
   ],
   "source": [
    "n_cv = len(tfidf_w2v_cv)\n",
    "n_train = len(tfidf_w2v_train)\n",
    "n_test = len(tfidf_w2v_test)\n",
    "print(n_train)\n",
    "print(n_cv)\n",
    "print(n_test)"
   ]
  },
  {
   "cell_type": "code",
   "execution_count": 91,
   "metadata": {},
   "outputs": [
    {
     "name": "stdout",
     "output_type": "stream",
     "text": [
      "(9766, 50)\n",
      "(3020, 50)\n",
      "(3774, 50)\n"
     ]
    }
   ],
   "source": [
    "# Standardization Process\n",
    "\n",
    "scaler = StandardScaler()\n",
    "scaler.fit(tfidf_w2v_train)\n",
    "D3_Train = scaler.transform(tfidf_w2v_train)\n",
    "D3_Cv = scaler.transform(tfidf_w2v_cv)\n",
    "D3_Test = scaler.transform(tfidf_w2v_test)\n",
    "\n",
    "print(D3_Train.shape)\n",
    "print(D3_Cv.shape)\n",
    "print(D3_Test.shape)"
   ]
  },
  {
   "cell_type": "code",
   "execution_count": 92,
   "metadata": {},
   "outputs": [],
   "source": [
    "D3_Train=D3_Train.astype('int')\n",
    "D3_Cv=D3_Cv.astype('int')\n",
    "D3_Test=D3_Test.astype('int')\n",
    "Y_Train=Y_Train.astype('int')\n",
    "Y_1_cv=Y_1_cv.astype('int')\n",
    "Y_test=Y_test.astype('int')"
   ]
  },
  {
   "cell_type": "code",
   "execution_count": 93,
   "metadata": {},
   "outputs": [
    {
     "name": "stderr",
     "output_type": "stream",
     "text": [
      "\r",
      "  0%|                                                                                           | 0/15 [00:00<?, ?it/s]"
     ]
    },
    {
     "name": "stdout",
     "output_type": "stream",
     "text": [
      "3020\n",
      "3020\n",
      "\n",
      "CV Accuracy for k = 1 is 51%\n",
      "\n",
      "CV AUC for k = 1 is 0.549234%\n",
      "\n",
      "Train Accuracy for k = 1 is 92%\n",
      "\n",
      "Train AUC for k = 1 is 0.912258%\n"
     ]
    },
    {
     "name": "stderr",
     "output_type": "stream",
     "text": [
      "\r",
      "  7%|█████▌                                                                             | 1/15 [00:18<04:13, 18.11s/it]"
     ]
    },
    {
     "name": "stdout",
     "output_type": "stream",
     "text": [
      "3020\n",
      "3020\n",
      "\n",
      "CV Accuracy for k = 3 is 52%\n",
      "\n",
      "CV AUC for k = 3 is 0.576732%\n",
      "\n",
      "Train Accuracy for k = 3 is 75%\n",
      "\n",
      "Train AUC for k = 3 is 0.808184%\n"
     ]
    },
    {
     "name": "stderr",
     "output_type": "stream",
     "text": [
      "\r",
      " 13%|███████████                                                                        | 2/15 [00:44<04:28, 20.65s/it]"
     ]
    },
    {
     "name": "stdout",
     "output_type": "stream",
     "text": [
      "3020\n",
      "3020\n",
      "\n",
      "CV Accuracy for k = 5 is 52%\n",
      "\n",
      "CV AUC for k = 5 is 0.596314%\n",
      "\n",
      "Train Accuracy for k = 5 is 71%\n",
      "\n",
      "Train AUC for k = 5 is 0.781987%\n"
     ]
    },
    {
     "name": "stderr",
     "output_type": "stream",
     "text": [
      "\r",
      " 20%|████████████████▌                                                                  | 3/15 [01:11<04:30, 22.58s/it]"
     ]
    },
    {
     "name": "stdout",
     "output_type": "stream",
     "text": [
      "3020\n",
      "3020\n",
      "\n",
      "CV Accuracy for k = 7 is 52%\n",
      "\n",
      "CV AUC for k = 7 is 0.602188%\n",
      "\n",
      "Train Accuracy for k = 7 is 69%\n",
      "\n",
      "Train AUC for k = 7 is 0.751271%\n"
     ]
    },
    {
     "name": "stderr",
     "output_type": "stream",
     "text": [
      "\r",
      " 27%|██████████████████████▏                                                            | 4/15 [01:40<04:28, 24.45s/it]"
     ]
    },
    {
     "name": "stdout",
     "output_type": "stream",
     "text": [
      "3020\n",
      "3020\n",
      "\n",
      "CV Accuracy for k = 9 is 52%\n",
      "\n",
      "CV AUC for k = 9 is 0.603170%\n",
      "\n",
      "Train Accuracy for k = 9 is 69%\n",
      "\n",
      "Train AUC for k = 9 is 0.729857%\n"
     ]
    },
    {
     "name": "stderr",
     "output_type": "stream",
     "text": [
      "\r",
      " 33%|███████████████████████████▋                                                       | 5/15 [02:11<04:24, 26.47s/it]"
     ]
    },
    {
     "name": "stdout",
     "output_type": "stream",
     "text": [
      "3020\n",
      "3020\n",
      "\n",
      "CV Accuracy for k = 11 is 52%\n",
      "\n",
      "CV AUC for k = 11 is 0.608930%\n",
      "\n",
      "Train Accuracy for k = 11 is 68%\n",
      "\n",
      "Train AUC for k = 11 is 0.713458%\n"
     ]
    },
    {
     "name": "stderr",
     "output_type": "stream",
     "text": [
      "\r",
      " 40%|█████████████████████████████████▏                                                 | 6/15 [02:41<04:07, 27.54s/it]"
     ]
    },
    {
     "name": "stdout",
     "output_type": "stream",
     "text": [
      "3020\n",
      "3020\n",
      "\n",
      "CV Accuracy for k = 13 is 52%\n",
      "\n",
      "CV AUC for k = 13 is 0.611123%\n",
      "\n",
      "Train Accuracy for k = 13 is 68%\n",
      "\n",
      "Train AUC for k = 13 is 0.701521%\n"
     ]
    },
    {
     "name": "stderr",
     "output_type": "stream",
     "text": [
      "\r",
      " 47%|██████████████████████████████████████▋                                            | 7/15 [03:12<03:48, 28.54s/it]"
     ]
    },
    {
     "name": "stdout",
     "output_type": "stream",
     "text": [
      "3020\n",
      "3020\n",
      "\n",
      "CV Accuracy for k = 15 is 53%\n",
      "\n",
      "CV AUC for k = 15 is 0.613850%\n",
      "\n",
      "Train Accuracy for k = 15 is 67%\n",
      "\n",
      "Train AUC for k = 15 is 0.693655%\n"
     ]
    },
    {
     "name": "stderr",
     "output_type": "stream",
     "text": [
      "\r",
      " 53%|████████████████████████████████████████████▎                                      | 8/15 [03:44<03:26, 29.51s/it]"
     ]
    },
    {
     "name": "stdout",
     "output_type": "stream",
     "text": [
      "3020\n",
      "3020\n",
      "\n",
      "CV Accuracy for k = 17 is 52%\n",
      "\n",
      "CV AUC for k = 17 is 0.614181%\n",
      "\n",
      "Train Accuracy for k = 17 is 67%\n",
      "\n",
      "Train AUC for k = 17 is 0.686752%\n"
     ]
    },
    {
     "name": "stderr",
     "output_type": "stream",
     "text": [
      "\r",
      " 60%|█████████████████████████████████████████████████▊                                 | 9/15 [04:16<03:00, 30.12s/it]"
     ]
    },
    {
     "name": "stdout",
     "output_type": "stream",
     "text": [
      "3020\n",
      "3020\n",
      "\n",
      "CV Accuracy for k = 19 is 52%\n",
      "\n",
      "CV AUC for k = 19 is 0.613274%\n",
      "\n",
      "Train Accuracy for k = 19 is 66%\n",
      "\n",
      "Train AUC for k = 19 is 0.680715%\n"
     ]
    },
    {
     "name": "stderr",
     "output_type": "stream",
     "text": [
      "\r",
      " 67%|██████████████████████████████████████████████████████▋                           | 10/15 [04:45<02:29, 29.96s/it]"
     ]
    },
    {
     "name": "stdout",
     "output_type": "stream",
     "text": [
      "3020\n",
      "3020\n",
      "\n",
      "CV Accuracy for k = 21 is 52%\n",
      "\n",
      "CV AUC for k = 21 is 0.612791%\n",
      "\n",
      "Train Accuracy for k = 21 is 66%\n",
      "\n",
      "Train AUC for k = 21 is 0.677495%\n"
     ]
    },
    {
     "name": "stderr",
     "output_type": "stream",
     "text": [
      "\r",
      " 73%|████████████████████████████████████████████████████████████▏                     | 11/15 [05:16<02:00, 30.23s/it]"
     ]
    },
    {
     "name": "stdout",
     "output_type": "stream",
     "text": [
      "3020\n",
      "3020\n",
      "\n",
      "CV Accuracy for k = 23 is 52%\n",
      "\n",
      "CV AUC for k = 23 is 0.611268%\n",
      "\n",
      "Train Accuracy for k = 23 is 66%\n",
      "\n",
      "Train AUC for k = 23 is 0.673383%\n"
     ]
    },
    {
     "name": "stderr",
     "output_type": "stream",
     "text": [
      "\r",
      " 80%|█████████████████████████████████████████████████████████████████▌                | 12/15 [05:48<01:32, 30.71s/it]"
     ]
    },
    {
     "name": "stdout",
     "output_type": "stream",
     "text": [
      "3020\n",
      "3020\n",
      "\n",
      "CV Accuracy for k = 25 is 52%\n",
      "\n",
      "CV AUC for k = 25 is 0.611112%\n",
      "\n",
      "Train Accuracy for k = 25 is 66%\n",
      "\n",
      "Train AUC for k = 25 is 0.672020%\n"
     ]
    },
    {
     "name": "stderr",
     "output_type": "stream",
     "text": [
      "\r",
      " 87%|███████████████████████████████████████████████████████████████████████           | 13/15 [06:20<01:02, 31.24s/it]"
     ]
    },
    {
     "name": "stdout",
     "output_type": "stream",
     "text": [
      "3020\n",
      "3020\n",
      "\n",
      "CV Accuracy for k = 27 is 52%\n",
      "\n",
      "CV AUC for k = 27 is 0.614051%\n",
      "\n",
      "Train Accuracy for k = 27 is 66%\n",
      "\n",
      "Train AUC for k = 27 is 0.670389%\n"
     ]
    },
    {
     "name": "stderr",
     "output_type": "stream",
     "text": [
      "\r",
      " 93%|████████████████████████████████████████████████████████████████████████████▌     | 14/15 [06:55<00:32, 32.41s/it]"
     ]
    },
    {
     "name": "stdout",
     "output_type": "stream",
     "text": [
      "3020\n",
      "3020\n",
      "\n",
      "CV Accuracy for k = 29 is 52%\n",
      "\n",
      "CV AUC for k = 29 is 0.614487%\n",
      "\n",
      "Train Accuracy for k = 29 is 66%\n",
      "\n",
      "Train AUC for k = 29 is 0.668284%\n"
     ]
    },
    {
     "name": "stderr",
     "output_type": "stream",
     "text": [
      "100%|██████████████████████████████████████████████████████████████████████████████████| 15/15 [07:28<00:00, 32.34s/it]\n"
     ]
    },
    {
     "name": "stdout",
     "output_type": "stream",
     "text": [
      "[0.5492336727065271, 0.5767316437225873, 0.5963144368572537, 0.6021880130197454, 0.6031701719307591, 0.608929737446549, 0.611122977831914, 0.6138497700184444, 0.614181437354304, 0.6132738585303622, 0.6127912284804904, 0.6112676316563854, 0.6111123879101849, 0.6140512038487832, 0.6144865172270988]\n",
      "[0.912257847728061, 0.8081843999306279, 0.7819868626430801, 0.7512708766909469, 0.7298570716267776, 0.7134581599028789, 0.7015210718002081, 0.6936546782865072, 0.6867522762747139, 0.6807152271938952, 0.6774950789108568, 0.6733825875823793, 0.6720200095386749, 0.670389308012487, 0.6682839923690599]\n"
     ]
    }
   ],
   "source": [
    "# Applying Brute Force KNN on Tf_Idf Weighted Word2Vec Train Model\n",
    "\n",
    "cv_score = []\n",
    "train_score = []\n",
    "\n",
    "# creating odd list of K for KNN\n",
    "myList = list(range(0,30))\n",
    "neighbours = list(filter(lambda x: x % 2 != 0, myList))\n",
    "\n",
    "\n",
    "cv_auc = []\n",
    "train_auc = []\n",
    "cv_score = []\n",
    "train_score = []\n",
    "for i in tqdm(neighbours):\n",
    "    knn = KNeighborsClassifier(n_neighbors = i, algorithm = 'kd_tree')\n",
    "    \n",
    "    predicted_labels_cv = []\n",
    "    predicted_labels_train = []\n",
    "    predict_cv_prob = []\n",
    "    predict_train_prob = []\n",
    "    accuracy_cv = []\n",
    "    auc_score_cv = []\n",
    "    auc_score_train = []\n",
    "    accuracy_train = []\n",
    "    \n",
    "    # Fitting the model in Train - CrossValidation\n",
    "    knn.fit(D3_Train,Y_Train)\n",
    "    \n",
    "    # Predicting the model with CrossValidation and Train Data\n",
    "    for j in range(0,n_cv,1000):\n",
    "        predicted_labels_cv.extend(knn.predict(D3_Cv[j:j+1000]))\n",
    "        predict_cv_prob.extend(knn.predict_proba(D3_Cv[j:j+1000])[:,1])\n",
    "    \n",
    "    for k in range(0,n_train,1000):\n",
    "        predicted_labels_train.extend(knn.predict(D3_Train[k:k+1000]))\n",
    "        predict_train_prob.extend(knn.predict_proba(D3_Train[k:k+1000])[:,1])\n",
    "    \n",
    "    print(len(predict_cv_prob))\n",
    "    print(len(Y_1_cv))\n",
    "    \n",
    "    # Getting the Cross-Validation Accuracy and AUC Score\n",
    "    auc_score_cv = roc_auc_score(Y_1_cv,predict_cv_prob)\n",
    "    accuracy_cv = accuracy_score(Y_1_cv,predicted_labels_cv,normalize=True)* float(100)\n",
    "    print('\\nCV Accuracy for k = %d is %d%%' % (i,accuracy_cv))\n",
    "    print('\\nCV AUC for k = %d is %f%%' % (i,auc_score_cv))\n",
    "    cv_score.append(accuracy_cv)\n",
    "    cv_auc.append(auc_score_cv)\n",
    "    \n",
    "    # Getting the Training Accuracy and AUC Score\n",
    "    auc_score_train = roc_auc_score(Y_Train,predict_train_prob)\n",
    "    accuracy_train = accuracy_score(Y_Train,predicted_labels_train, normalize=True)* float(100)\n",
    "    print('\\nTrain Accuracy for k = %d is %d%%' % (i,accuracy_train))\n",
    "    print('\\nTrain AUC for k = %d is %f%%' % (i,auc_score_train))\n",
    "    train_score.append(accuracy_train)\n",
    "    train_auc.append(auc_score_train)\n",
    "\n",
    "print(cv_auc)\n",
    "print(train_auc)"
   ]
  },
  {
   "cell_type": "code",
   "execution_count": 94,
   "metadata": {},
   "outputs": [
    {
     "data": {
      "image/png": "[encoded data removed]",
      "text/plain": [
       "<Figure size 432x288 with 1 Axes>"
      ]
     },
     "metadata": {},
     "output_type": "display_data"
    }
   ],
   "source": [
    "# Plotting Train_AUC and CV_AUC against K\n",
    "plt.plot(neighbours,train_auc)\n",
    "plt.plot(neighbours,cv_auc)\n",
    "plt.legend(['Train AUC', 'CV AUC'], loc='upper right')\n",
    "plt.title(\"ERROR PLOTS for Avg Word2Vec Vectorizer\")\n",
    "plt.xlabel('Hyper-parameter k')\n",
    "plt.ylabel('AUC Value')\n",
    "plt.show()"
   ]
  },
  {
   "cell_type": "code",
   "execution_count": 95,
   "metadata": {},
   "outputs": [
    {
     "name": "stdout",
     "output_type": "stream",
     "text": [
      "AUC Metric Best K = 29\n",
      "0.614\n"
     ]
    }
   ],
   "source": [
    "# Getting the optimal K Based to CV AUC\n",
    "optimal_k_auc = neighbours[cv_auc.index(max(cv_auc))]\n",
    "best_cv_auc = max([ '%.3f' % elem for elem in cv_auc ])\n",
    "print('AUC Metric Best K = %d' % optimal_k_auc)\n",
    "print(best_cv_auc)"
   ]
  },
  {
   "cell_type": "code",
   "execution_count": 99,
   "metadata": {},
   "outputs": [
    {
     "name": "stdout",
     "output_type": "stream",
     "text": [
      "3774\n",
      "3774\n",
      "Algo Run Successfully on D3_Test\n",
      "====================================================================================================\n"
     ]
    }
   ],
   "source": [
    "# Applying Best K on D_Test\n",
    "\n",
    "test_neigh = KNeighborsClassifier(n_neighbors = 10 ,algorithm = 'kd_tree')\n",
    "test_neigh.fit(D3_Train,Y_Train)\n",
    "\n",
    "predicted_labels_test = []\n",
    "predicted_labels_train = []\n",
    "predict_test_prob = []\n",
    "predict_train_prob = []\n",
    "\n",
    "# Predicting the model with CrossValidation and Train Data\n",
    "for j in range(0,n_test,1000):\n",
    "    predicted_labels_test.extend(test_neigh.predict(D3_Test[j:j+1000]))\n",
    "    predict_test_prob.extend(test_neigh.predict_proba(D3_Test[j:j+1000])[:,1])\n",
    "    \n",
    "for k in range(0,n_train,1000):\n",
    "    predicted_labels_train.extend(test_neigh.predict(D3_Train[k:k+1000]))\n",
    "    predict_train_prob.extend(test_neigh.predict_proba(D3_Train[k:k+1000])[:,1])\n",
    "    \n",
    "print(len(predict_test_prob))\n",
    "print(len(Y_test))\n",
    "    \n",
    "train_fpr, train_tpr, thresholds = roc_curve(Y_Train, predict_train_prob)\n",
    "test_fpr, test_tpr, thresholds = roc_curve(Y_test, predict_test_prob)\n",
    "\n",
    "print('Algo Run Successfully on D3_Test')\n",
    "print(\"=\"*100)"
   ]
  },
  {
   "cell_type": "code",
   "execution_count": 100,
   "metadata": {},
   "outputs": [
    {
     "data": {
      "image/png": "[encoded data removed]",
      "text/plain": [
       "<Figure size 432x288 with 1 Axes>"
      ]
     },
     "metadata": {},
     "output_type": "display_data"
    },
    {
     "name": "stdout",
     "output_type": "stream",
     "text": [
      "====================================================================================================\n"
     ]
    }
   ],
   "source": [
    "# Plotting the AUC curve on Test and Train Data\n",
    "\n",
    "plt.plot(train_fpr, train_tpr, label=\"Train AUC =\"+str(auc(train_fpr, train_tpr)))\n",
    "plt.plot(test_fpr, test_tpr, label=\"Test AUC =\"+str(auc(test_fpr, test_tpr)))\n",
    "plt.legend()\n",
    "plt.xlabel(\"Hyper-parameter k\")\n",
    "plt.ylabel(\"AUC\")\n",
    "plt.title(\"ERROR PLOTS\")\n",
    "plt.show()\n",
    "\n",
    "print(\"=\"*100)"
   ]
  },
  {
   "cell_type": "code",
   "execution_count": 101,
   "metadata": {},
   "outputs": [
    {
     "name": "stdout",
     "output_type": "stream",
     "text": [
      "Train Confusion Matrix\n",
      "1850 2150 858 4908\n",
      "[[1850 2150]\n",
      " [ 858 4908]]\n",
      "========================================================================================================================\n",
      "Test Confusion Matrix\n",
      "845 1351 319 1259\n",
      "[[ 845 1351]\n",
      " [ 319 1259]]\n",
      "========================================================================================================================\n"
     ]
    }
   ],
   "source": [
    "# Getting the confusion metrics\n",
    "\n",
    "print('Train Confusion Matrix')\n",
    "tr_true_negetive,tr_false_positive, tr_false_negetive, tr_true_positive = confusion_matrix(Y_Train,predicted_labels_train).ravel()\n",
    "print(tr_true_negetive, tr_false_positive, tr_false_negetive, tr_true_positive)\n",
    "print(confusion_matrix(Y_Train,predicted_labels_train))\n",
    "print(\"=\"*120)\n",
    "\n",
    "print('Test Confusion Matrix')\n",
    "true_negetive,false_positive, false_negetive, true_positive = confusion_matrix(Y_test,predicted_labels_test).ravel()\n",
    "print(true_negetive, false_positive, false_negetive, true_positive)\n",
    "print(confusion_matrix(Y_test,predicted_labels_test))\n",
    "print(\"=\"*120)"
   ]
  },
  {
   "cell_type": "code",
   "execution_count": 82,
   "metadata": {},
   "outputs": [
    {
     "data": {
      "text/plain": [
       "<matplotlib.axes._subplots.AxesSubplot at 0x251ea939a20>"
      ]
     },
     "execution_count": 82,
     "metadata": {},
     "output_type": "execute_result"
    },
    {
     "data": {
      "image/png": "[encoded data removed]",
      "text/plain": [
       "<Figure size 432x288 with 2 Axes>"
      ]
     },
     "metadata": {},
     "output_type": "display_data"
    }
   ],
   "source": [
    "conMatrix= [[tr_true_negetive,tr_false_positive],[tr_false_negetive,tr_true_positive]]\n",
    "data = conMatrix\n",
    "sns.heatmap(data, cmap=\"YlGnBu\", annot=True, fmt=\"d\")"
   ]
  },
  {
   "cell_type": "code",
   "execution_count": 83,
   "metadata": {},
   "outputs": [
    {
     "data": {
      "text/plain": [
       "<matplotlib.axes._subplots.AxesSubplot at 0x251eaa6e438>"
      ]
     },
     "execution_count": 83,
     "metadata": {},
     "output_type": "execute_result"
    },
    {
     "data": {
      "image/png": "[encoded data removed]",
      "text/plain": [
       "<Figure size 432x288 with 2 Axes>"
      ]
     },
     "metadata": {},
     "output_type": "display_data"
    }
   ],
   "source": [
    "conMatrix= [[true_negetive,false_positive],[false_negetive,true_positive]]\n",
    "data = conMatrix\n",
    "sns.heatmap(data, cmap=\"YlGnBu\", annot=True, fmt=\"d\")"
   ]
  },
  {
   "cell_type": "markdown",
   "metadata": {},
   "source": [
    "## Conclusion for Brute Force"
   ]
  },
  {
   "cell_type": "code",
   "execution_count": 102,
   "metadata": {},
   "outputs": [],
   "source": [
    "# Importing Pretty Table\n",
    "from prettytable import PrettyTable"
   ]
  },
  {
   "cell_type": "code",
   "execution_count": 105,
   "metadata": {},
   "outputs": [
    {
     "name": "stdout",
     "output_type": "stream",
     "text": [
      "+------------------------------+-----------------------+------+\n",
      "|          Vectorizer          | Hyper-Parameter Value | AUC  |\n",
      "+------------------------------+-----------------------+------+\n",
      "|             BOW              |         K = 10        | 0.74 |\n",
      "|            Tf-Idf            |         K = 10        | 0.63 |\n",
      "|         Avg Word2Vec         |         K = 7         | 0.63 |\n",
      "| Tf-Idf Weighted Avg Word2Vec |         K = 10        | 0.63 |\n",
      "+------------------------------+-----------------------+------+\n"
     ]
    }
   ],
   "source": [
    "x = PrettyTable()\n",
    "x.field_names = ['Vectorizer', 'Hyper-Parameter Value','AUC']\n",
    "x.add_row(['BOW','K = 10','0.74'])\n",
    "x.add_row(['Tf-Idf','K = 10','0.63'])\n",
    "x.add_row(['Avg Word2Vec','K = 7','0.63'])\n",
    "x.add_row(['Tf-Idf Weighted Avg Word2Vec','K = 10','0.63'])\n",
    "\n",
    "print(x)"
   ]
  },
  {
   "cell_type": "markdown",
   "metadata": {},
   "source": [
    "##### From the above table we see that for Amazon Fine Food Review Dataset with 20k datapoints as sample , KNN runs best for BOW Vectorizer  at K = 10 giving AUC value of 0.74 (approx). \n",
    "\n",
    "##### We have used Time Based Splitting and Simple Cross-Validation to break the data in Train , CV and Test part. These findings are from KD-Tree KNN Method. \n",
    "\n",
    "##### We have tried Feature Engineering on BOW vectorizer but the AUC and confusion matrix is deteorating a lot. So we didnt use it in final version. Same for other vectorizer."
   ]
  }
 ],
 "metadata": {
  "kernelspec": {
   "display_name": "Python 3",
   "language": "python",
   "name": "python3"
  },
  "language_info": {
   "codemirror_mode": {
    "name": "ipython",
    "version": 3
   },
   "file_extension": ".py",
   "mimetype": "text/x-python",
   "name": "python",
   "nbconvert_exporter": "python",
   "pygments_lexer": "ipython3",
   "version": "3.6.5"
  }
 },
 "nbformat": 4,
 "nbformat_minor": 2
}
