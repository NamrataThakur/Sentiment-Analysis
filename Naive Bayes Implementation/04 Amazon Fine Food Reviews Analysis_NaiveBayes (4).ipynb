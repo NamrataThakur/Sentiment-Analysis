{
 "cells": [
  {
   "cell_type": "markdown",
   "metadata": {},
   "source": [
    "## Amazon Fine Food Review - Naive Bayes Algorithm"
   ]
  },
  {
   "cell_type": "code",
   "execution_count": 1,
   "metadata": {},
   "outputs": [
    {
     "name": "stderr",
     "output_type": "stream",
     "text": [
      "C:\\Users\\NamrataT\\Anaconda3\\lib\\site-packages\\gensim\\utils.py:1197: UserWarning: detected Windows; aliasing chunkize to chunkize_serial\n",
      "  warnings.warn(\"detected Windows; aliasing chunkize to chunkize_serial\")\n"
     ]
    }
   ],
   "source": [
    "# Getting all the imports done\n",
    "\n",
    "%matplotlib inline\n",
    "import warnings\n",
    "warnings.filterwarnings(\"ignore\")\n",
    "\n",
    "import sqlite3\n",
    "import pandas as pd\n",
    "import numpy as np\n",
    "import nltk\n",
    "import string\n",
    "import matplotlib.pyplot as plt\n",
    "import seaborn as sns\n",
    "from sklearn.feature_extraction.text import TfidfTransformer\n",
    "from sklearn.feature_extraction.text import TfidfVectorizer\n",
    "\n",
    "from sklearn.feature_extraction.text import CountVectorizer\n",
    "from sklearn.metrics import confusion_matrix\n",
    "from sklearn import metrics\n",
    "from sklearn.metrics import roc_curve, auc\n",
    "from nltk.stem.porter import PorterStemmer\n",
    "\n",
    "import re\n",
    "# Tutorial about Python regular expressions: https://pymotw.com/2/re/\n",
    "import string\n",
    "from nltk.corpus import stopwords\n",
    "from nltk.stem import PorterStemmer\n",
    "from nltk.stem.wordnet import WordNetLemmatizer\n",
    "\n",
    "from gensim.models import Word2Vec\n",
    "from gensim.models import KeyedVectors\n",
    "import pickle\n",
    "\n",
    "from tqdm import tqdm\n",
    "import os"
   ]
  },
  {
   "cell_type": "code",
   "execution_count": 2,
   "metadata": {},
   "outputs": [
    {
     "name": "stdout",
     "output_type": "stream",
     "text": [
      "Number of data points in our data (100000, 10)\n"
     ]
    },
    {
     "data": {
      "text/html": [
       "<div>\n",
       "<style scoped>\n",
       "    .dataframe tbody tr th:only-of-type {\n",
       "        vertical-align: middle;\n",
       "    }\n",
       "\n",
       "    .dataframe tbody tr th {\n",
       "        vertical-align: top;\n",
       "    }\n",
       "\n",
       "    .dataframe thead th {\n",
       "        text-align: right;\n",
       "    }\n",
       "</style>\n",
       "<table border=\"1\" class=\"dataframe\">\n",
       "  <thead>\n",
       "    <tr style=\"text-align: right;\">\n",
       "      <th></th>\n",
       "      <th>Id</th>\n",
       "      <th>ProductId</th>\n",
       "      <th>UserId</th>\n",
       "      <th>ProfileName</th>\n",
       "      <th>HelpfulnessNumerator</th>\n",
       "      <th>HelpfulnessDenominator</th>\n",
       "      <th>Score</th>\n",
       "      <th>Time</th>\n",
       "      <th>Summary</th>\n",
       "      <th>Text</th>\n",
       "    </tr>\n",
       "  </thead>\n",
       "  <tbody>\n",
       "    <tr>\n",
       "      <th>0</th>\n",
       "      <td>1</td>\n",
       "      <td>B001E4KFG0</td>\n",
       "      <td>A3SGXH7AUHU8GW</td>\n",
       "      <td>delmartian</td>\n",
       "      <td>1</td>\n",
       "      <td>1</td>\n",
       "      <td>1</td>\n",
       "      <td>1303862400</td>\n",
       "      <td>Good Quality Dog Food</td>\n",
       "      <td>I have bought several of the Vitality canned d...</td>\n",
       "    </tr>\n",
       "    <tr>\n",
       "      <th>1</th>\n",
       "      <td>2</td>\n",
       "      <td>B00813GRG4</td>\n",
       "      <td>A1D87F6ZCVE5NK</td>\n",
       "      <td>dll pa</td>\n",
       "      <td>0</td>\n",
       "      <td>0</td>\n",
       "      <td>0</td>\n",
       "      <td>1346976000</td>\n",
       "      <td>Not as Advertised</td>\n",
       "      <td>Product arrived labeled as Jumbo Salted Peanut...</td>\n",
       "    </tr>\n",
       "    <tr>\n",
       "      <th>2</th>\n",
       "      <td>3</td>\n",
       "      <td>B000LQOCH0</td>\n",
       "      <td>ABXLMWJIXXAIN</td>\n",
       "      <td>Natalia Corres \"Natalia Corres\"</td>\n",
       "      <td>1</td>\n",
       "      <td>1</td>\n",
       "      <td>1</td>\n",
       "      <td>1219017600</td>\n",
       "      <td>\"Delight\" says it all</td>\n",
       "      <td>This is a confection that has been around a fe...</td>\n",
       "    </tr>\n",
       "  </tbody>\n",
       "</table>\n",
       "</div>"
      ],
      "text/plain": [
       "   Id   ProductId          UserId                      ProfileName  \\\n",
       "0   1  B001E4KFG0  A3SGXH7AUHU8GW                       delmartian   \n",
       "1   2  B00813GRG4  A1D87F6ZCVE5NK                           dll pa   \n",
       "2   3  B000LQOCH0   ABXLMWJIXXAIN  Natalia Corres \"Natalia Corres\"   \n",
       "\n",
       "   HelpfulnessNumerator  HelpfulnessDenominator  Score        Time  \\\n",
       "0                     1                       1      1  1303862400   \n",
       "1                     0                       0      0  1346976000   \n",
       "2                     1                       1      1  1219017600   \n",
       "\n",
       "                 Summary                                               Text  \n",
       "0  Good Quality Dog Food  I have bought several of the Vitality canned d...  \n",
       "1      Not as Advertised  Product arrived labeled as Jumbo Salted Peanut...  \n",
       "2  \"Delight\" says it all  This is a confection that has been around a fe...  "
      ]
     },
     "execution_count": 2,
     "metadata": {},
     "output_type": "execute_result"
    }
   ],
   "source": [
    "# using SQLite Table to read data.\n",
    "con = sqlite3.connect(r'C:\\Users\\NamrataT\\Desktop\\EXAM\\PYTHON\\Amazon Fine Food Reviews\\database.sqlite') \n",
    "\n",
    "# filtering only positive and negative reviews i.e. \n",
    "# not taking into consideration those reviews with Score=3\n",
    "# SELECT * FROM Reviews WHERE Score != 3 LIMIT 500000, will give top 500000 data points\n",
    "\n",
    "filtered_data = pd.read_sql_query(\"\"\" SELECT * FROM Reviews WHERE Score != 3 LIMIT 100000\"\"\", con) \n",
    "\n",
    "# Give reviews with Score>3 a positive rating(1), and reviews with a score<3 a negative rating(0).\n",
    "def partition(x):\n",
    "    if x < 3:\n",
    "        return 0\n",
    "    return 1\n",
    "\n",
    "#changing reviews with score less than 3 to be positive and vice-versa\n",
    "actualScore = filtered_data['Score']\n",
    "positiveNegative = actualScore.map(partition) \n",
    "filtered_data['Score'] = positiveNegative\n",
    "print(\"Number of data points in our data\", filtered_data.shape)\n",
    "filtered_data.head(3)"
   ]
  },
  {
   "cell_type": "code",
   "execution_count": 3,
   "metadata": {},
   "outputs": [
    {
     "data": {
      "text/plain": [
       "1    83876\n",
       "0    16124\n",
       "Name: Score, dtype: int64"
      ]
     },
     "execution_count": 3,
     "metadata": {},
     "output_type": "execute_result"
    }
   ],
   "source": [
    "filtered_data['Score'].value_counts()"
   ]
  },
  {
   "cell_type": "code",
   "execution_count": 4,
   "metadata": {},
   "outputs": [
    {
     "data": {
      "text/plain": [
       "'demo_negative = filtered_data[filtered_data.Score == 0]\\ndemo_positive = filtered_data[filtered_data.Score == 1]\\ndemo_positive = demo_positive[0:50000]\\ndemo_negative = demo_negative[0:60000]\\nprint(demo_negative.shape,demo_positive.shape)'"
      ]
     },
     "execution_count": 4,
     "metadata": {},
     "output_type": "execute_result"
    }
   ],
   "source": [
    "'''demo_negative = filtered_data[filtered_data.Score == 0]\n",
    "demo_positive = filtered_data[filtered_data.Score == 1]\n",
    "demo_positive = demo_positive[0:50000]\n",
    "demo_negative = demo_negative[0:60000]\n",
    "print(demo_negative.shape,demo_positive.shape)'''"
   ]
  },
  {
   "cell_type": "code",
   "execution_count": 5,
   "metadata": {},
   "outputs": [
    {
     "data": {
      "text/plain": [
       "\"filtered_data = pd.DataFrame(np.vstack((demo_positive,demo_negative)),columns=['Id', 'ProductId', 'UserId', 'ProfileName', 'HelpfulnessNumerator',\\n       'HelpfulnessDenominator', 'Score', 'Time', 'Summary', 'Text'])\\nprint(filtered_data.shape)\\nprint(type(filtered_data))\""
      ]
     },
     "execution_count": 5,
     "metadata": {},
     "output_type": "execute_result"
    }
   ],
   "source": [
    "'''filtered_data = pd.DataFrame(np.vstack((demo_positive,demo_negative)),columns=['Id', 'ProductId', 'UserId', 'ProfileName', 'HelpfulnessNumerator',\n",
    "       'HelpfulnessDenominator', 'Score', 'Time', 'Summary', 'Text'])\n",
    "print(filtered_data.shape)\n",
    "print(type(filtered_data))'''"
   ]
  },
  {
   "cell_type": "code",
   "execution_count": 6,
   "metadata": {},
   "outputs": [],
   "source": [
    "#Sorting data according to Time in ascending order\n",
    "sorted_data=filtered_data.sort_values('Time', axis=0, ascending=True, inplace=False, kind='quicksort', na_position='last')\n",
    "sorted_data.reset_index(drop=True, inplace=True)"
   ]
  },
  {
   "cell_type": "code",
   "execution_count": 7,
   "metadata": {},
   "outputs": [
    {
     "data": {
      "text/plain": [
       "(87775, 10)"
      ]
     },
     "execution_count": 7,
     "metadata": {},
     "output_type": "execute_result"
    }
   ],
   "source": [
    "#Deduplication of entries\n",
    "final=sorted_data.drop_duplicates(subset={\"UserId\",\"ProfileName\",\"Time\",\"Text\"}, keep='first', inplace=False)\n",
    "final.shape"
   ]
  },
  {
   "cell_type": "code",
   "execution_count": 8,
   "metadata": {},
   "outputs": [
    {
     "data": {
      "text/plain": [
       "87.775"
      ]
     },
     "execution_count": 8,
     "metadata": {},
     "output_type": "execute_result"
    }
   ],
   "source": [
    "#Checking to see how much % of data still remains\n",
    "(final['Id'].size*1.0)/(filtered_data['Id'].size*1.0)*100"
   ]
  },
  {
   "cell_type": "code",
   "execution_count": 9,
   "metadata": {},
   "outputs": [],
   "source": [
    "final=final[final.HelpfulnessNumerator<=final.HelpfulnessDenominator]"
   ]
  },
  {
   "cell_type": "code",
   "execution_count": 10,
   "metadata": {},
   "outputs": [
    {
     "name": "stdout",
     "output_type": "stream",
     "text": [
      "(87773, 10)\n"
     ]
    },
    {
     "data": {
      "text/plain": [
       "1    73592\n",
       "0    14181\n",
       "Name: Score, dtype: int64"
      ]
     },
     "execution_count": 10,
     "metadata": {},
     "output_type": "execute_result"
    }
   ],
   "source": [
    "#Before starting the next phase of preprocessing lets see the number of entries left\n",
    "print(final.shape)\n",
    "\n",
    "#How many positive and negative reviews are present in our dataset?\n",
    "final['Score'].value_counts()"
   ]
  },
  {
   "cell_type": "code",
   "execution_count": 11,
   "metadata": {},
   "outputs": [
    {
     "data": {
      "text/plain": [
       "(87773,)"
      ]
     },
     "execution_count": 11,
     "metadata": {},
     "output_type": "execute_result"
    }
   ],
   "source": [
    "final_score = final['Score']\n",
    "final_score.shape"
   ]
  },
  {
   "cell_type": "code",
   "execution_count": 12,
   "metadata": {},
   "outputs": [],
   "source": [
    "# https://stackoverflow.com/a/47091490/4084039\n",
    "import re\n",
    "\n",
    "def decontracted(phrase):\n",
    "    # specific\n",
    "    phrase = re.sub(r\"won't\", \"will not\", phrase)\n",
    "    phrase = re.sub(r\"can\\'t\", \"can not\", phrase)\n",
    "\n",
    "    # general\n",
    "    phrase = re.sub(r\"n\\'t\", \" not\", phrase)\n",
    "    phrase = re.sub(r\"\\'re\", \" are\", phrase)\n",
    "    phrase = re.sub(r\"\\'s\", \" is\", phrase)\n",
    "    phrase = re.sub(r\"\\'d\", \" would\", phrase)\n",
    "    phrase = re.sub(r\"\\'ll\", \" will\", phrase)\n",
    "    phrase = re.sub(r\"\\'t\", \" not\", phrase)\n",
    "    phrase = re.sub(r\"\\'ve\", \" have\", phrase)\n",
    "    phrase = re.sub(r\"\\'m\", \" am\", phrase)\n",
    "    return phrase"
   ]
  },
  {
   "cell_type": "code",
   "execution_count": 213,
   "metadata": {},
   "outputs": [],
   "source": [
    "# https://gist.github.com/sebleier/554280\n",
    "# we are removing the words from the stop words list: 'no', 'nor', 'not'\n",
    "# <br /><br /> ==> after the above steps, we are getting \"br br\"\n",
    "# we are including them into stop words list\n",
    "# instead of <br /> if we have <br/> these tags would have revmoved in the 1st step\n",
    "\n",
    "stopwords= set(['br', 'the', 'i', 'me', 'my', 'myself', 'we', 'our', 'ours', 'ourselves', 'you', \"you're\", \"you've\",\\\n",
    "            \"you'll\", \"you'd\", 'your', 'yours', 'yourself', 'yourselves', 'he', 'him', 'his', 'himself', \\\n",
    "            'she', \"she's\", 'her', 'hers', 'herself', 'it', \"it's\", 'its', 'itself', 'they', 'them', 'their',\\\n",
    "            'theirs', 'themselves', 'what', 'which', 'who', 'whom', 'this', 'that', \"that'll\", 'these', 'those', \\\n",
    "            'am', 'is', 'are', 'was', 'were', 'be', 'been', 'being', 'have', 'has', 'had', 'having', 'do', 'does', \\\n",
    "            'did', 'doing', 'a', 'an', 'the', 'and', 'but', 'if', 'or', 'because', 'as', 'until', 'while', 'of', \\\n",
    "            'at', 'by', 'for', 'with', 'about', 'against', 'between', 'into', 'through', 'during', 'before', 'after',\\\n",
    "            'above', 'below','not','no', 'to', 'from', 'up', 'down', 'in', 'out', 'on', 'off', 'over', 'under', 'again', 'further',\\\n",
    "            'then', 'once', 'here', 'there', 'when', 'where', 'why', 'how', 'all', 'any', 'both', 'each', 'few', 'more',\\\n",
    "            'most', 'other', 'some', 'such', 'only', 'own', 'same', 'so', 'than', 'too', 'very', \\\n",
    "            's', 't', 'can', 'will', 'just', 'don', \"don't\", 'should', \"should've\", 'now', 'd', 'll', 'm', 'o', 're', \\\n",
    "            've', 'y', 'ain', 'aren', \"aren't\", 'couldn', \"couldn't\", 'didn', \"didn't\", 'doesn', \"doesn't\", 'hadn',\\\n",
    "            \"hadn't\", 'hasn', \"hasn't\", 'haven', \"haven't\", 'isn', \"isn't\", 'ma', 'mightn', \"mightn't\", 'mustn',\\\n",
    "            \"mustn't\", 'needn', \"needn't\", 'shan', \"shan't\", 'shouldn', \"shouldn't\", 'wasn', \"wasn't\", 'weren', \"weren't\", \\\n",
    "            'won', \"won't\", 'wouldn', \"wouldn't\"])"
   ]
  },
  {
   "cell_type": "code",
   "execution_count": 214,
   "metadata": {},
   "outputs": [
    {
     "name": "stderr",
     "output_type": "stream",
     "text": [
      "100%|██████████████████████████████████████████████████████████████████████████| 87773/87773 [01:17<00:00, 1135.36it/s]\n"
     ]
    }
   ],
   "source": [
    "# Combining all the above stundents \n",
    "from tqdm import tqdm\n",
    "from bs4 import BeautifulSoup\n",
    "\n",
    "preprocessed_reviews = []\n",
    "# tqdm is for printing the status bar\n",
    "for sentance in tqdm(final['Text'].values):\n",
    "    sentance = re.sub(r\"http\\S+\", \"\", sentance)\n",
    "    sentance = BeautifulSoup(sentance, 'lxml').get_text()\n",
    "    sentance = decontracted(sentance)\n",
    "    sentance = re.sub(\"\\S*\\d\\S*\", \"\", sentance).strip()\n",
    "    sentance = re.sub('[^A-Za-z]+', ' ', sentance)\n",
    "    # https://gist.github.com/sebleier/554280\n",
    "    sentance = ' '.join(e.lower() for e in sentance.split() if e.lower() not in stopwords)\n",
    "    preprocessed_reviews.append(sentance.strip())"
   ]
  },
  {
   "cell_type": "code",
   "execution_count": 215,
   "metadata": {},
   "outputs": [
    {
     "name": "stderr",
     "output_type": "stream",
     "text": [
      "100%|██████████████████████████████████████████████████████████████████████████| 87773/87773 [00:37<00:00, 2372.20it/s]\n"
     ]
    }
   ],
   "source": [
    "# Processing the Summary column\n",
    "\n",
    "preprocessed_summary = []\n",
    "# tqdm is for printing the status bar\n",
    "for sentance in tqdm(final['Summary'].values):\n",
    "    sentance = re.sub(r\"http\\S+\", \"\", sentance)\n",
    "    sentance = BeautifulSoup(sentance, 'lxml').get_text()\n",
    "    sentance = decontracted(sentance)\n",
    "    sentance = re.sub(\"\\S*\\d\\S*\", \"\", sentance).strip()\n",
    "    sentance = re.sub('[^A-Za-z]+', ' ', sentance)\n",
    "    # https://gist.github.com/sebleier/554280\n",
    "    sentance = ' '.join(e.lower() for e in sentance.split() if e.lower() not in stopwords)\n",
    "    preprocessed_summary.append(sentance.strip())"
   ]
  },
  {
   "cell_type": "code",
   "execution_count": 216,
   "metadata": {},
   "outputs": [
    {
     "data": {
      "text/plain": [
       "'best crushed tomatoes'"
      ]
     },
     "execution_count": 216,
     "metadata": {},
     "output_type": "execute_result"
    }
   ],
   "source": [
    "preprocessed_summary[75000]"
   ]
  },
  {
   "cell_type": "markdown",
   "metadata": {},
   "source": [
    "## 1) Applying Naive Bayes"
   ]
  },
  {
   "cell_type": "markdown",
   "metadata": {},
   "source": [
    "## 1.1) Applying Naive Bayes on BOW, SET 1"
   ]
  },
  {
   "cell_type": "code",
   "execution_count": 16,
   "metadata": {},
   "outputs": [],
   "source": [
    "# Getting all the imports done\n",
    "\n",
    "from sklearn.neighbors import KNeighborsClassifier\n",
    "from sklearn.metrics import accuracy_score\n",
    "#from sklearn.cross_validation import cross_val_score\n",
    "from collections import Counter\n",
    "from sklearn.metrics import accuracy_score\n",
    "#from sklearn import cross_validation\n",
    "from sklearn.metrics import roc_auc_score\n",
    "from sklearn import preprocessing\n",
    "from sklearn.model_selection import train_test_split\n",
    "from sklearn.metrics import auc,roc_curve\n",
    "from sklearn.metrics import confusion_matrix\n",
    "from sklearn.feature_extraction.text import TfidfVectorizer\n",
    "from sklearn.preprocessing import StandardScaler\n",
    "from plotly.plotly import plotly as py\n",
    "from imblearn.over_sampling import SMOTE\n",
    "from imblearn.over_sampling import RandomOverSampler\n",
    "from sklearn.utils import resample\n",
    "from sklearn.naive_bayes import MultinomialNB\n",
    "from scipy.sparse import hstack"
   ]
  },
  {
   "cell_type": "code",
   "execution_count": 217,
   "metadata": {},
   "outputs": [],
   "source": [
    "final['Cleaned_Text']=preprocessed_reviews\n",
    "final['Cleaned_Summary'] = preprocessed_summary\n",
    "final['Word Count'] = final['Cleaned_Text'].apply(lambda x:len(x.split()))\n",
    "final['Summary Word Count'] = final['Cleaned_Summary'].apply(lambda x:len(x.split()))\n",
    "final.head()\n",
    "word_count = final['Word Count']"
   ]
  },
  {
   "cell_type": "code",
   "execution_count": 218,
   "metadata": {},
   "outputs": [],
   "source": [
    "\n",
    "final_review = final[['Cleaned_Text','Word Count','Summary Word Count','Score']]\n",
    "X = final_review.drop(['Score'],axis=1)\n",
    "Y = final_review['Score']"
   ]
  },
  {
   "cell_type": "code",
   "execution_count": 219,
   "metadata": {},
   "outputs": [
    {
     "name": "stdout",
     "output_type": "stream",
     "text": [
      "(56174, 3) (56174,)\n"
     ]
    }
   ],
   "source": [
    "# Please write all the code with proper documentation\n",
    "# TIME BASED SPILTTING\n",
    "# SIMPLE CROSS VALIDATION\n",
    "\n",
    "X_1, X_test, Y_1, Y_test = train_test_split(X,Y,test_size=0.2,shuffle = False)\n",
    "X_1_train, X_1_cv, Y_1_train, Y_1_cv = train_test_split( X_1, Y_1, test_size=0.2,shuffle = False)\n",
    "print(X_1_train.shape,Y_1_train.shape)"
   ]
  },
  {
   "cell_type": "code",
   "execution_count": 220,
   "metadata": {},
   "outputs": [],
   "source": [
    "df_post_split = pd.concat([X_1_train,Y_1_train],axis=1)\n",
    "x_positive = df_post_split[df_post_split['Score']==1]\n",
    "x_negetive = df_post_split[df_post_split['Score']==0]"
   ]
  },
  {
   "cell_type": "code",
   "execution_count": 221,
   "metadata": {},
   "outputs": [
    {
     "data": {
      "text/plain": [
       "1    47504\n",
       "0     8670\n",
       "Name: Score, dtype: int64"
      ]
     },
     "execution_count": 221,
     "metadata": {},
     "output_type": "execute_result"
    }
   ],
   "source": [
    "df_post_split['Score'].value_counts()"
   ]
  },
  {
   "cell_type": "code",
   "execution_count": 222,
   "metadata": {},
   "outputs": [],
   "source": [
    "# Indicies of each class' observations\n",
    "i_class0 = np.where(df_post_split['Score'] == 0)[0]\n",
    "i_class1 = np.where(df_post_split['Score'] == 1)[0]"
   ]
  },
  {
   "cell_type": "code",
   "execution_count": 223,
   "metadata": {},
   "outputs": [],
   "source": [
    "# For every observation of class 1, randomly sample from class 0 without replacement\n",
    "#x_negetive_upsample = resample(x_negetive, replace = True, n_samples=17000)\n",
    "x_negative_downsample = resample(x_negetive,replace=True,n_samples=30000,random_state=123) "
   ]
  },
  {
   "cell_type": "code",
   "execution_count": 224,
   "metadata": {},
   "outputs": [
    {
     "name": "stdout",
     "output_type": "stream",
     "text": [
      "(30000, 4) <class 'pandas.core.frame.DataFrame'>\n"
     ]
    }
   ],
   "source": [
    "print(x_negative_downsample.shape, type(x_positive))"
   ]
  },
  {
   "cell_type": "code",
   "execution_count": 225,
   "metadata": {},
   "outputs": [
    {
     "data": {
      "text/html": [
       "<div>\n",
       "<style scoped>\n",
       "    .dataframe tbody tr th:only-of-type {\n",
       "        vertical-align: middle;\n",
       "    }\n",
       "\n",
       "    .dataframe tbody tr th {\n",
       "        vertical-align: top;\n",
       "    }\n",
       "\n",
       "    .dataframe thead th {\n",
       "        text-align: right;\n",
       "    }\n",
       "</style>\n",
       "<table border=\"1\" class=\"dataframe\">\n",
       "  <thead>\n",
       "    <tr style=\"text-align: right;\">\n",
       "      <th></th>\n",
       "      <th>Cleaned_Text</th>\n",
       "      <th>Word Count</th>\n",
       "      <th>Summary Word Count</th>\n",
       "      <th>Score</th>\n",
       "    </tr>\n",
       "  </thead>\n",
       "  <tbody>\n",
       "    <tr>\n",
       "      <th>0</th>\n",
       "      <td>bought apartment infested fruit flies hours tr...</td>\n",
       "      <td>30</td>\n",
       "      <td>3</td>\n",
       "      <td>1</td>\n",
       "    </tr>\n",
       "    <tr>\n",
       "      <th>1</th>\n",
       "      <td>really good idea final product outstanding use...</td>\n",
       "      <td>17</td>\n",
       "      <td>2</td>\n",
       "      <td>1</td>\n",
       "    </tr>\n",
       "    <tr>\n",
       "      <th>2</th>\n",
       "      <td>received shipment could hardly wait try produc...</td>\n",
       "      <td>39</td>\n",
       "      <td>3</td>\n",
       "      <td>1</td>\n",
       "    </tr>\n",
       "    <tr>\n",
       "      <th>3</th>\n",
       "      <td>nothing product bother link top page buy used ...</td>\n",
       "      <td>16</td>\n",
       "      <td>5</td>\n",
       "      <td>1</td>\n",
       "    </tr>\n",
       "    <tr>\n",
       "      <th>4</th>\n",
       "      <td>love stuff sugar free rot gums tastes good goi...</td>\n",
       "      <td>12</td>\n",
       "      <td>4</td>\n",
       "      <td>1</td>\n",
       "    </tr>\n",
       "  </tbody>\n",
       "</table>\n",
       "</div>"
      ],
      "text/plain": [
       "                                        Cleaned_Text  Word Count  \\\n",
       "0  bought apartment infested fruit flies hours tr...          30   \n",
       "1  really good idea final product outstanding use...          17   \n",
       "2  received shipment could hardly wait try produc...          39   \n",
       "3  nothing product bother link top page buy used ...          16   \n",
       "4  love stuff sugar free rot gums tastes good goi...          12   \n",
       "\n",
       "   Summary Word Count  Score  \n",
       "0                   3      1  \n",
       "1                   2      1  \n",
       "2                   3      1  \n",
       "3                   5      1  \n",
       "4                   4      1  "
      ]
     },
     "execution_count": 225,
     "metadata": {},
     "output_type": "execute_result"
    }
   ],
   "source": [
    "#df_upsample = pd.concat([x_positive,x_negetive_upsample])\n",
    "df_upsample = pd.concat([x_positive,x_negative_downsample])\n",
    "type(df_upsample)\n",
    "df_upsample.head()"
   ]
  },
  {
   "cell_type": "code",
   "execution_count": 226,
   "metadata": {},
   "outputs": [
    {
     "data": {
      "text/plain": [
       "1    47504\n",
       "0    30000\n",
       "Name: Score, dtype: int64"
      ]
     },
     "execution_count": 226,
     "metadata": {},
     "output_type": "execute_result"
    }
   ],
   "source": [
    "df_upsample['Score'].value_counts()"
   ]
  },
  {
   "cell_type": "code",
   "execution_count": 227,
   "metadata": {},
   "outputs": [
    {
     "name": "stdout",
     "output_type": "stream",
     "text": [
      "(77504, 3) (77504,)\n"
     ]
    }
   ],
   "source": [
    "X_Train = df_upsample.drop(['Score'],axis=1)\n",
    "Y_1_train = df_upsample['Score']\n",
    "print(X_Train.shape, Y_1_train.shape)"
   ]
  },
  {
   "cell_type": "code",
   "execution_count": 228,
   "metadata": {},
   "outputs": [
    {
     "name": "stdout",
     "output_type": "stream",
     "text": [
      "(77504, 51513) (14044, 51513) (17555, 51513)\n"
     ]
    }
   ],
   "source": [
    "# BoW -- transform with unigram and bigram\n",
    "\n",
    "ngram_vect = CountVectorizer(ngram_range=(1,2), min_df=10)\n",
    "D1_Train = ngram_vect.fit_transform(X_Train['Cleaned_Text'])\n",
    "D1_Cv = ngram_vect.transform(X_1_cv['Cleaned_Text'])\n",
    "D1_Test = ngram_vect.transform(X_test['Cleaned_Text'])\n",
    "print(D1_Train.shape,D1_Cv.shape,D1_Test.shape)"
   ]
  },
  {
   "cell_type": "code",
   "execution_count": 229,
   "metadata": {},
   "outputs": [],
   "source": [
    "X_Train_count  =  X_Train['Word Count'].values.reshape(-1,1)\n",
    "X_Cv_count = X_1_cv['Word Count'].values.reshape(-1,1)\n",
    "X_Test_count = X_test['Word Count'].values.reshape(-1,1)\n",
    "\n",
    "X_Train_summary_count  =  X_Train['Summary Word Count'].values.reshape(-1,1)\n",
    "X_Cv_summary_count = X_1_cv['Summary Word Count'].values.reshape(-1,1)\n",
    "X_Test_summary_count = X_test['Summary Word Count'].values.reshape(-1,1)"
   ]
  },
  {
   "cell_type": "code",
   "execution_count": 230,
   "metadata": {},
   "outputs": [],
   "source": [
    "#standardising word count feature\n",
    "import warnings\n",
    "warnings.filterwarnings('ignore')\n",
    "word_scalar = StandardScaler()\n",
    "word_scalar.fit(X_Train_count) \n",
    "X_Train_count = word_scalar.transform(X_Train_count)\n",
    "X_Cv_count = word_scalar.transform(X_Cv_count)\n",
    "X_Test_count = word_scalar.transform(X_Test_count)\n",
    "\n",
    "summary_scalar = StandardScaler()\n",
    "summary_scalar.fit(X_Train_summary_count) \n",
    "X_Train_summary_count = summary_scalar.transform(X_Train_summary_count)\n",
    "X_Cv_summary_count = summary_scalar.transform(X_Cv_summary_count)\n",
    "X_Test_summary_count = summary_scalar.transform(X_Test_summary_count)"
   ]
  },
  {
   "cell_type": "code",
   "execution_count": 231,
   "metadata": {},
   "outputs": [
    {
     "data": {
      "text/plain": [
       "(77504, 51513)"
      ]
     },
     "execution_count": 231,
     "metadata": {},
     "output_type": "execute_result"
    }
   ],
   "source": [
    "D1_Train.shape"
   ]
  },
  {
   "cell_type": "code",
   "execution_count": 232,
   "metadata": {},
   "outputs": [],
   "source": [
    "D1_Train = hstack((D1_Train,X_Train_summary_count,X_Train_count))"
   ]
  },
  {
   "cell_type": "code",
   "execution_count": 233,
   "metadata": {},
   "outputs": [],
   "source": [
    "D1_Cv = hstack((D1_Cv,X_Cv_summary_count,X_Cv_count))"
   ]
  },
  {
   "cell_type": "code",
   "execution_count": 234,
   "metadata": {},
   "outputs": [],
   "source": [
    "D1_Test = hstack((D1_Test,X_Test_summary_count,X_Test_count))"
   ]
  },
  {
   "cell_type": "code",
   "execution_count": 235,
   "metadata": {},
   "outputs": [
    {
     "name": "stdout",
     "output_type": "stream",
     "text": [
      "(77504, 51515)\n"
     ]
    }
   ],
   "source": [
    "print(D1_Train.shape)"
   ]
  },
  {
   "cell_type": "code",
   "execution_count": 236,
   "metadata": {},
   "outputs": [
    {
     "name": "stdout",
     "output_type": "stream",
     "text": [
      "77504\n",
      "14044\n",
      "17555\n"
     ]
    }
   ],
   "source": [
    "n_cv = D1_Cv.get_shape()[0]\n",
    "n_train = D1_Train.get_shape()[0]\n",
    "n_test = D1_Test.get_shape()[0]\n",
    "print(n_train)\n",
    "print(n_cv)\n",
    "print(n_test)"
   ]
  },
  {
   "cell_type": "code",
   "execution_count": 237,
   "metadata": {},
   "outputs": [
    {
     "name": "stdout",
     "output_type": "stream",
     "text": [
      "(77504, 51515)\n",
      "(14044, 51515)\n",
      "(17555, 51515)\n"
     ]
    }
   ],
   "source": [
    "# Standardization Process\n",
    "# Changes done as suggested\n",
    "\n",
    "from sklearn.preprocessing import MaxAbsScaler\n",
    "scaler = MaxAbsScaler()\n",
    "scaler.fit(D1_Train)\n",
    "D1_Train = scaler.transform(D1_Train)\n",
    "D1_Cv = scaler.transform(D1_Cv)\n",
    "D1_Test = scaler.transform(D1_Test)\n",
    "\n",
    "print(D1_Train.shape)\n",
    "print(D1_Cv.shape)\n",
    "print(D1_Test.shape)"
   ]
  },
  {
   "cell_type": "code",
   "execution_count": 238,
   "metadata": {},
   "outputs": [],
   "source": [
    "D1_Train=D1_Train.astype('int')\n",
    "D1_Cv=D1_Cv.astype('int')\n",
    "D1_Test=D1_Test.astype('int')\n",
    "Y_1_train=Y_1_train.astype('int')\n",
    "Y_1_cv=Y_1_cv.astype('int')\n",
    "Y_test=Y_test.astype('int')"
   ]
  },
  {
   "cell_type": "code",
   "execution_count": 239,
   "metadata": {},
   "outputs": [
    {
     "name": "stderr",
     "output_type": "stream",
     "text": [
      "\r",
      "  0%|                                                                                           | 0/11 [00:00<?, ?it/s]"
     ]
    },
    {
     "name": "stdout",
     "output_type": "stream",
     "text": [
      "77504\n",
      "14044\n",
      "\n",
      "CV Accuracy for Alpha = 0.000010 is 85.531188%\n",
      "\n",
      "CV AUC for Alpha = 0.000010 is 0.790185%\n",
      "\n",
      "Train Accuracy for Alpha = 0.000010 is 94.009341%\n",
      "\n",
      "Train AUC for Alpha = 0.000010 is 0.986390%\n"
     ]
    },
    {
     "name": "stderr",
     "output_type": "stream",
     "text": [
      "\r",
      "  9%|███████▌                                                                           | 1/11 [00:00<00:05,  1.79it/s]"
     ]
    },
    {
     "name": "stdout",
     "output_type": "stream",
     "text": [
      "77504\n",
      "14044\n",
      "\n",
      "CV Accuracy for Alpha = 0.000100 is 85.637995%\n",
      "\n",
      "CV AUC for Alpha = 0.000100 is 0.796342%\n",
      "\n",
      "Train Accuracy for Alpha = 0.000100 is 94.004180%\n",
      "\n",
      "Train AUC for Alpha = 0.000100 is 0.986322%\n"
     ]
    },
    {
     "name": "stderr",
     "output_type": "stream",
     "text": [
      "\r",
      " 18%|███████████████                                                                    | 2/11 [00:01<00:05,  1.80it/s]"
     ]
    },
    {
     "name": "stdout",
     "output_type": "stream",
     "text": [
      "77504\n",
      "14044\n",
      "\n",
      "CV Accuracy for Alpha = 0.001000 is 85.801766%\n",
      "\n",
      "CV AUC for Alpha = 0.001000 is 0.806238%\n",
      "\n",
      "Train Accuracy for Alpha = 0.001000 is 93.974505%\n",
      "\n",
      "Train AUC for Alpha = 0.001000 is 0.986131%\n"
     ]
    },
    {
     "name": "stderr",
     "output_type": "stream",
     "text": [
      "\r",
      " 27%|██████████████████████▋                                                            | 3/11 [00:01<00:04,  1.80it/s]"
     ]
    },
    {
     "name": "stdout",
     "output_type": "stream",
     "text": [
      "77504\n",
      "14044\n",
      "\n",
      "CV Accuracy for Alpha = 0.010000 is 86.029621%\n",
      "\n",
      "CV AUC for Alpha = 0.010000 is 0.820648%\n",
      "\n",
      "Train Accuracy for Alpha = 0.010000 is 93.925475%\n",
      "\n",
      "Train AUC for Alpha = 0.010000 is 0.985687%\n"
     ]
    },
    {
     "name": "stderr",
     "output_type": "stream",
     "text": [
      "\r",
      " 36%|██████████████████████████████▏                                                    | 4/11 [00:02<00:03,  1.80it/s]"
     ]
    },
    {
     "name": "stdout",
     "output_type": "stream",
     "text": [
      "77504\n",
      "14044\n",
      "\n",
      "CV Accuracy for Alpha = 0.100000 is 86.442609%\n",
      "\n",
      "CV AUC for Alpha = 0.100000 is 0.841055%\n",
      "\n",
      "Train Accuracy for Alpha = 0.100000 is 93.784837%\n",
      "\n",
      "Train AUC for Alpha = 0.100000 is 0.984468%\n"
     ]
    },
    {
     "name": "stderr",
     "output_type": "stream",
     "text": [
      "\r",
      " 45%|█████████████████████████████████████▋                                             | 5/11 [00:02<00:03,  1.82it/s]"
     ]
    },
    {
     "name": "stdout",
     "output_type": "stream",
     "text": [
      "77504\n",
      "14044\n",
      "\n",
      "CV Accuracy for Alpha = 1.000000 is 87.047850%\n",
      "\n",
      "CV AUC for Alpha = 1.000000 is 0.863115%\n",
      "\n",
      "Train Accuracy for Alpha = 1.000000 is 93.307442%\n",
      "\n",
      "Train AUC for Alpha = 1.000000 is 0.981120%\n"
     ]
    },
    {
     "name": "stderr",
     "output_type": "stream",
     "text": [
      "\r",
      " 55%|█████████████████████████████████████████████▎                                     | 6/11 [00:03<00:02,  1.84it/s]"
     ]
    },
    {
     "name": "stdout",
     "output_type": "stream",
     "text": [
      "77504\n",
      "14044\n",
      "\n",
      "CV Accuracy for Alpha = 10.000000 is 87.681572%\n",
      "\n",
      "CV AUC for Alpha = 10.000000 is 0.874486%\n",
      "\n",
      "Train Accuracy for Alpha = 10.000000 is 91.844292%\n",
      "\n",
      "Train AUC for Alpha = 10.000000 is 0.973183%\n"
     ]
    },
    {
     "name": "stderr",
     "output_type": "stream",
     "text": [
      "\r",
      " 64%|████████████████████████████████████████████████████▊                              | 7/11 [00:03<00:02,  1.84it/s]"
     ]
    },
    {
     "name": "stdout",
     "output_type": "stream",
     "text": [
      "77504\n",
      "14044\n",
      "\n",
      "CV Accuracy for Alpha = 100.000000 is 86.179151%\n",
      "\n",
      "CV AUC for Alpha = 100.000000 is 0.864632%\n",
      "\n",
      "Train Accuracy for Alpha = 100.000000 is 82.679604%\n",
      "\n",
      "Train AUC for Alpha = 100.000000 is 0.954409%\n"
     ]
    },
    {
     "name": "stderr",
     "output_type": "stream",
     "text": [
      "\r",
      " 73%|████████████████████████████████████████████████████████████▎                      | 8/11 [00:04<00:01,  1.85it/s]"
     ]
    },
    {
     "name": "stdout",
     "output_type": "stream",
     "text": [
      "77504\n",
      "14044\n",
      "\n",
      "CV Accuracy for Alpha = 1000.000000 is 81.579322%\n",
      "\n",
      "CV AUC for Alpha = 1000.000000 is 0.852487%\n",
      "\n",
      "Train Accuracy for Alpha = 1000.000000 is 62.147760%\n",
      "\n",
      "Train AUC for Alpha = 1000.000000 is 0.939832%\n"
     ]
    },
    {
     "name": "stderr",
     "output_type": "stream",
     "text": [
      "\r",
      " 82%|███████████████████████████████████████████████████████████████████▉               | 9/11 [00:04<00:01,  1.84it/s]"
     ]
    },
    {
     "name": "stdout",
     "output_type": "stream",
     "text": [
      "77504\n",
      "14044\n",
      "\n",
      "CV Accuracy for Alpha = 10000.000000 is 81.508117%\n",
      "\n",
      "CV AUC for Alpha = 10000.000000 is 0.850316%\n",
      "\n",
      "Train Accuracy for Alpha = 10000.000000 is 61.292320%\n",
      "\n",
      "Train AUC for Alpha = 10000.000000 is 0.936926%\n"
     ]
    },
    {
     "name": "stderr",
     "output_type": "stream",
     "text": [
      "\r",
      " 91%|██████████████████████████████████████████████████████████████████████████▌       | 10/11 [00:05<00:00,  1.82it/s]"
     ]
    },
    {
     "name": "stdout",
     "output_type": "stream",
     "text": [
      "77504\n",
      "14044\n",
      "\n",
      "CV Accuracy for Alpha = 100000.000000 is 81.508117%\n",
      "\n",
      "CV AUC for Alpha = 100000.000000 is 0.850099%\n",
      "\n",
      "Train Accuracy for Alpha = 100000.000000 is 61.292320%\n",
      "\n",
      "Train AUC for Alpha = 100000.000000 is 0.936608%\n"
     ]
    },
    {
     "name": "stderr",
     "output_type": "stream",
     "text": [
      "100%|██████████████████████████████████████████████████████████████████████████████████| 11/11 [00:06<00:00,  1.80it/s]\n"
     ]
    },
    {
     "name": "stdout",
     "output_type": "stream",
     "text": [
      "[0.7901854452417848, 0.7963418085372377, 0.80623804761722, 0.820647881167628, 0.8410550857362449, 0.8631145956390603, 0.8744862521044654, 0.8646316406438823, 0.8524873587431911, 0.850315893922936, 0.8500989425440965]\n",
      "[0.9863901573200853, 0.9863215637981363, 0.986131495242506, 0.9856867870775794, 0.9844682781099134, 0.9811204393314248, 0.9731827779415066, 0.9544088725861681, 0.9398319053834063, 0.9369256311749187, 0.9366081505417088]\n"
     ]
    }
   ],
   "source": [
    "# Applying Naive Bayes \n",
    "\n",
    "cv_score = []\n",
    "train_score = []\n",
    "\n",
    "# creating list of alpha for NB\n",
    "neighbours = list((0.00001,0.0001,0.001,0.01,0.1,1,10,100,1000,10000,100000))\n",
    "\n",
    "\n",
    "cv_auc = []\n",
    "train_auc = []\n",
    "cv_score = []\n",
    "train_score = []\n",
    "for i in tqdm(neighbours):\n",
    "    nb = MultinomialNB(alpha = i)\n",
    "    \n",
    "    predicted_labels_cv = []\n",
    "    predicted_labels_train = []\n",
    "    predict_cv_prob = []\n",
    "    predict_train_prob = []\n",
    "    accuracy_cv = []\n",
    "    auc_score_cv = []\n",
    "    auc_score_train = []\n",
    "    accuracy_train = []\n",
    "    \n",
    "    # Fitting the model in Train - CrossValidation\n",
    "    nb.fit(D1_Train,Y_1_train)\n",
    "    \n",
    "    # Predicting the model with CrossValidation and Train Data\n",
    "    for j in range(0,n_cv,1000):\n",
    "        predicted_labels_cv.extend(nb.predict(D1_Cv[j:j+1000]))\n",
    "        predict_cv_prob.extend(nb.predict_log_proba(D1_Cv[j:j+1000])[:,1])\n",
    "    \n",
    "    for k in range(0,n_train,1000):\n",
    "        predicted_labels_train.extend(nb.predict(D1_Train[k:k+1000]))\n",
    "        predict_train_prob.extend(nb.predict_log_proba(D1_Train[k:k+1000])[:,1])\n",
    "    \n",
    "    print(len(predict_train_prob))\n",
    "    print(len(Y_1_cv))\n",
    "    \n",
    "    # Getting the Cross-Validation Accuracy and AUC Score\n",
    "    auc_score_cv = roc_auc_score(Y_1_cv,predict_cv_prob)\n",
    "    accuracy_cv = accuracy_score(Y_1_cv,predicted_labels_cv,normalize=True)* float(100)\n",
    "    print('\\nCV Accuracy for Alpha = %f is %f%%' % (i,accuracy_cv))\n",
    "    print('\\nCV AUC for Alpha = %f is %f%%' % (i,auc_score_cv))\n",
    "    cv_score.append(accuracy_cv)\n",
    "    cv_auc.append(auc_score_cv)\n",
    "    \n",
    "    # Getting the Training Accuracy and AUC Score\n",
    "    auc_score_train = roc_auc_score(Y_1_train,predict_train_prob)\n",
    "    accuracy_train = accuracy_score(Y_1_train,predicted_labels_train, normalize=True)* float(100)\n",
    "    print('\\nTrain Accuracy for Alpha = %f is %f%%' % (i,accuracy_train))\n",
    "    print('\\nTrain AUC for Alpha = %f is %f%%' % (i,auc_score_train))\n",
    "    train_score.append(accuracy_train)\n",
    "    train_auc.append(auc_score_train)\n",
    "\n",
    "# Misclassification Error ( Cross-Validation Error )\n",
    "cv_error = [1 - x for x in cv_score]\n",
    "\n",
    "# Misclassification Error ( Training Error )\n",
    "train_error = [1 - x for x in train_score]  \n",
    "\n",
    "print(cv_auc)\n",
    "print(train_auc)"
   ]
  },
  {
   "cell_type": "code",
   "execution_count": 240,
   "metadata": {},
   "outputs": [
    {
     "name": "stdout",
     "output_type": "stream",
     "text": [
      "1e-05 -11.512925464970229\n",
      "0.0001 -9.210340371976182\n",
      "0.001 -6.907755278982137\n",
      "0.01 -4.605170185988091\n",
      "0.1 -2.3025850929940455\n",
      "1 0.0\n",
      "10 2.302585092994046\n",
      "100 4.605170185988092\n",
      "1000 6.907755278982137\n",
      "10000 9.210340371976184\n",
      "100000 11.512925464970229\n"
     ]
    }
   ],
   "source": [
    "import math\n",
    "alpha = []\n",
    "for n in range(len(neighbours)):\n",
    "    alpha1 = neighbours[n]\n",
    "    x = math.log(alpha1)\n",
    "    print(alpha1,x)\n",
    "    alpha.append(x)"
   ]
  },
  {
   "cell_type": "code",
   "execution_count": 241,
   "metadata": {},
   "outputs": [
    {
     "data": {
      "image/png": "[encoded data removed]",
      "text/plain": [
       "<Figure size 432x288 with 1 Axes>"
      ]
     },
     "metadata": {},
     "output_type": "display_data"
    }
   ],
   "source": [
    "# Plotting Train_AUC and CV_AUC against K\n",
    "plt.plot(alpha,train_auc)\n",
    "plt.plot(alpha,cv_auc)\n",
    "plt.legend(['Train AUC', 'CV AUC'], loc='upper right')\n",
    "plt.title(\"ERROR PLOTS for BOW Vectorizer\")\n",
    "plt.xlabel('Hyper-parameter Alpha')\n",
    "plt.ylabel('AUC Value')\n",
    "plt.show()"
   ]
  },
  {
   "cell_type": "code",
   "execution_count": 242,
   "metadata": {},
   "outputs": [
    {
     "name": "stdout",
     "output_type": "stream",
     "text": [
      "AUC Metric Best Alpha = 10\n",
      "0.874\n"
     ]
    }
   ],
   "source": [
    "# Getting the optimal Alpha Based to CV AUC\n",
    "optimal_alpha_auc = neighbours[cv_auc.index(max(cv_auc))]\n",
    "best_cv_auc = max([ '%.3f' % elem for elem in cv_auc ])\n",
    "print('AUC Metric Best Alpha = %d' % optimal_alpha_auc)\n",
    "print(best_cv_auc)"
   ]
  },
  {
   "cell_type": "code",
   "execution_count": 243,
   "metadata": {},
   "outputs": [
    {
     "name": "stdout",
     "output_type": "stream",
     "text": [
      "17555\n",
      "17555\n",
      "Algo Run Successfully on D_Test\n",
      "====================================================================================================\n"
     ]
    }
   ],
   "source": [
    "# Applying Best K on D_Test\n",
    "\n",
    "test_neigh = MultinomialNB(alpha = optimal_alpha_auc)\n",
    "test_neigh.fit(D1_Train,Y_1_train)\n",
    "\n",
    "predicted_labels_test = []\n",
    "predicted_labels_train = []\n",
    "predict_test_prob = []\n",
    "predict_train_prob = []\n",
    "predict_test_logprob = []\n",
    "predict_train_logprob = []\n",
    "\n",
    "# Predicting the model with CrossValidation and Train Data\n",
    "for j in range(0,n_test,1000):\n",
    "    predicted_labels_test.extend(test_neigh.predict(D1_Test[j:j+1000]))\n",
    "    predict_test_prob.extend(test_neigh.predict_proba(D1_Test[j:j+1000])[:,1])\n",
    "    \n",
    "for k in range(0,n_train,1000):\n",
    "    predicted_labels_train.extend(test_neigh.predict(D1_Train[k:k+1000]))\n",
    "    predict_train_prob.extend(test_neigh.predict_proba(D1_Train[k:k+1000])[:,1])\n",
    "    \n",
    "print(len(predict_test_prob))\n",
    "print(len(Y_test))\n",
    "    \n",
    "train_fpr, train_tpr, thresholds = roc_curve(Y_1_train, predict_train_prob)\n",
    "test_fpr, test_tpr, thresholds = roc_curve(Y_test, predict_test_prob)\n",
    "\n",
    "print('Algo Run Successfully on D_Test')\n",
    "print(\"=\"*100)\n"
   ]
  },
  {
   "cell_type": "code",
   "execution_count": 244,
   "metadata": {},
   "outputs": [
    {
     "data": {
      "image/png": "[encoded data removed]",
      "text/plain": [
       "<Figure size 432x288 with 1 Axes>"
      ]
     },
     "metadata": {},
     "output_type": "display_data"
    },
    {
     "name": "stdout",
     "output_type": "stream",
     "text": [
      "====================================================================================================\n"
     ]
    }
   ],
   "source": [
    "# Plotting the AUC curve on Test and Train Data\n",
    "\n",
    "plt.plot(train_fpr, train_tpr, label=\"Train AUC =\"+str(auc(train_fpr, train_tpr)))\n",
    "plt.plot(test_fpr, test_tpr, label=\"Test AUC =\"+str(auc(test_fpr, test_tpr)))\n",
    "plt.legend()\n",
    "plt.xlabel(\"FPR\")\n",
    "plt.ylabel(\"TPR\")\n",
    "plt.title(\"ERROR PLOTS\")\n",
    "plt.show()\n",
    "\n",
    "print(\"=\"*100)"
   ]
  },
  {
   "cell_type": "code",
   "execution_count": 245,
   "metadata": {},
   "outputs": [
    {
     "name": "stdout",
     "output_type": "stream",
     "text": [
      "Train Confusion Matrix\n",
      "25254 4746 1575 45929\n",
      "[[25254  4746]\n",
      " [ 1575 45929]]\n",
      "========================================================================================================================\n",
      "Test Confusion Matrix\n",
      "1622 1292 684 13957\n",
      "[[ 1622  1292]\n",
      " [  684 13957]]\n",
      "========================================================================================================================\n"
     ]
    }
   ],
   "source": [
    "# Getting the confusion metrics\n",
    "\n",
    "print('Train Confusion Matrix')\n",
    "tr_true_negetive,tr_false_positive, tr_false_negetive, tr_true_positive = confusion_matrix(Y_1_train,predicted_labels_train).ravel()\n",
    "print(tr_true_negetive, tr_false_positive, tr_false_negetive, tr_true_positive)\n",
    "print(confusion_matrix(Y_1_train,predicted_labels_train))\n",
    "print(\"=\"*120)\n",
    "\n",
    "print('Test Confusion Matrix')\n",
    "true_negetive,false_positive, false_negetive, true_positive = confusion_matrix(Y_test,predicted_labels_test).ravel()\n",
    "print(true_negetive, false_positive, false_negetive, true_positive)\n",
    "print(confusion_matrix(Y_test,predicted_labels_test))\n",
    "print(\"=\"*120)"
   ]
  },
  {
   "cell_type": "code",
   "execution_count": 246,
   "metadata": {},
   "outputs": [
    {
     "data": {
      "text/plain": [
       "<matplotlib.axes._subplots.AxesSubplot at 0x1aba1703a20>"
      ]
     },
     "execution_count": 246,
     "metadata": {},
     "output_type": "execute_result"
    },
    {
     "data": {
      "image/png": "[encoded data removed]",
      "text/plain": [
       "<Figure size 432x288 with 2 Axes>"
      ]
     },
     "metadata": {},
     "output_type": "display_data"
    }
   ],
   "source": [
    "import seaborn as sns\n",
    "conMatrix= [[tr_true_negetive,tr_false_positive],[tr_false_negetive,tr_true_positive]]\n",
    "data = conMatrix\n",
    "sns.heatmap(data, cmap=\"YlGnBu\", annot=True, fmt=\"d\")"
   ]
  },
  {
   "cell_type": "code",
   "execution_count": 247,
   "metadata": {},
   "outputs": [
    {
     "data": {
      "text/plain": [
       "<matplotlib.axes._subplots.AxesSubplot at 0x1aba340afd0>"
      ]
     },
     "execution_count": 247,
     "metadata": {},
     "output_type": "execute_result"
    },
    {
     "data": {
      "image/png": "[encoded data removed]",
      "text/plain": [
       "<Figure size 432x288 with 2 Axes>"
      ]
     },
     "metadata": {},
     "output_type": "display_data"
    }
   ],
   "source": [
    "conMatrix= [[true_negetive,false_positive],[false_negetive,true_positive]]\n",
    "data = conMatrix\n",
    "sns.heatmap(data, cmap=\"YlGnBu\", annot=True, fmt=\"d\")"
   ]
  },
  {
   "cell_type": "code",
   "execution_count": 248,
   "metadata": {},
   "outputs": [
    {
     "name": "stdout",
     "output_type": "stream",
     "text": [
      "[50994 42045 21206 10049 51068 49334 36758 49241 50348  6234] [19892 15997 36981 17737 16144  1031 16083 16648 34607 18372]\n",
      "==============================================================================================================\n",
      "  Positive Feature Name  Probability\n",
      "0            good price    -7.635232\n",
      "1           find amazon    -7.985578\n",
      "2      recommend anyone    -8.027452\n",
      "3          found amazon    -8.054120\n",
      "4           find stores    -8.284894\n",
      "5            also great    -8.359984\n",
      "6            find local    -8.387893\n",
      "7          flavor great    -8.402145\n",
      "8           price great    -8.426360\n",
      "9           full flavor    -8.431274\n",
      "================================================== Positive ==================================================\n",
      "  Negative Feature Name  Probability\n",
      "0          would rather    -7.828436\n",
      "1             stay away    -8.070350\n",
      "2                hardly    -8.162158\n",
      "3            could even    -8.242200\n",
      "4             would try    -8.271801\n",
      "5                wasted    -8.329212\n",
      "6         really wanted    -8.394963\n",
      "7           wanted like    -8.399829\n",
      "8            wish could    -8.409633\n",
      "9          buyer beware    -8.444725\n",
      "================================================== Negetive ==================================================\n"
     ]
    }
   ],
   "source": [
    "# Feature Importance :\n",
    "\n",
    "neg_feature_prob = test_neigh.feature_log_prob_ [0,:]\n",
    "pos_feature_prob = test_neigh.feature_log_prob_ [1,:]\n",
    "indices_positive = np.argsort((test_neigh.feature_log_prob_)[1])[::-1][0:10]\n",
    "indices_negetive = np.argsort((test_neigh.feature_log_prob_)[0])[::-1][0:10]\n",
    "#indices_negetive = np.argsort(test_neigh.feature_log_prob_ [0,:])[-10:]\n",
    "#indices_positive = np.argsort(test_neigh.feature_log_prob_ [1,:])[-10:]\n",
    "print(indices_negetive,indices_positive)\n",
    "feature_names = ngram_vect.get_feature_names()\n",
    "print(\"=\"*110)\n",
    "\n",
    "feature_name = []\n",
    "prob = []\n",
    "\n",
    "for i in indices_positive:\n",
    "    feature_name.append(feature_names[i])\n",
    "    prob.append(pos_feature_prob[i])\n",
    "\n",
    "feature_df = pd.DataFrame(data = feature_name, columns = ['Positive Feature Name'])\n",
    "prob_df = pd.DataFrame(data = prob, columns = ['Probability'])\n",
    "pos_feature_prob_df = pd.concat([feature_df,prob_df],axis=1)\n",
    "\n",
    "print(pos_feature_prob_df)\n",
    "print(\"=\"*50, 'Positive',\"=\"*50)\n",
    "\n",
    "neg_feature_name = []\n",
    "neg_prob = []\n",
    "\n",
    "for i in indices_negetive:\n",
    "    neg_feature_name.append(feature_names[i])\n",
    "    neg_prob.append(neg_feature_prob[i])\n",
    "\n",
    "neg_feature_df = pd.DataFrame(data = neg_feature_name, columns = ['Negative Feature Name'])\n",
    "neg_prob_df = pd.DataFrame(data = neg_prob, columns = ['Probability'])\n",
    "neg_feature_prob_df = pd.concat([neg_feature_df,neg_prob_df],axis=1)\n",
    "\n",
    "print(neg_feature_prob_df)\n",
    "print(\"=\"*50, 'Negetive', \"=\"*50)"
   ]
  },
  {
   "cell_type": "markdown",
   "metadata": {},
   "source": [
    "## 1.2) Applying Naive Bayes on TfIdf, SET 2"
   ]
  },
  {
   "cell_type": "code",
   "execution_count": 268,
   "metadata": {},
   "outputs": [
    {
     "name": "stdout",
     "output_type": "stream",
     "text": [
      " some feature names  ['able add', 'able buy', 'able chew', 'able drink', 'able eat', 'able enjoy', 'able feed', 'able figure', 'able find', 'able find amazon']\n",
      "==================================================\n",
      "the type of count vectorizer  <class 'scipy.sparse.csr.csr_matrix'>\n",
      "the shape of BOW vectorizer  (77504, 46918)\n",
      "the number of unique words  46918\n"
     ]
    }
   ],
   "source": [
    "# Applying Tfidf for Vectorization\n",
    "# fit_transform on D_Train\n",
    "count_vect = TfidfVectorizer(ngram_range=(2,3),min_df=10) #in scikit-learn # changes done as suggested\n",
    "D2_Train = count_vect.fit_transform(X_Train['Cleaned_Text'])\n",
    "print(\" some feature names \", count_vect.get_feature_names()[:10])\n",
    "print('='*50)\n",
    "\n",
    "print(\"the type of count vectorizer \",type(D2_Train))\n",
    "print(\"the shape of BOW vectorizer \",D2_Train.get_shape())\n",
    "print(\"the number of unique words \", D2_Train.get_shape()[1])"
   ]
  },
  {
   "cell_type": "code",
   "execution_count": 269,
   "metadata": {},
   "outputs": [
    {
     "name": "stdout",
     "output_type": "stream",
     "text": [
      "the type of count vectorizer  <class 'scipy.sparse.csr.csr_matrix'>\n",
      "the shape of BOW vectorizer  (14044, 46918)\n",
      "the number of unique words  46918\n"
     ]
    }
   ],
   "source": [
    "# BoW -- transform on D_CV\n",
    "\n",
    "D2_Cv = count_vect.transform(X_1_cv['Cleaned_Text'])\n",
    "print(\"the type of count vectorizer \",type(D2_Cv))\n",
    "print(\"the shape of BOW vectorizer \",D2_Cv.get_shape())\n",
    "print(\"the number of unique words \", D2_Cv.get_shape()[1])"
   ]
  },
  {
   "cell_type": "code",
   "execution_count": 270,
   "metadata": {},
   "outputs": [
    {
     "name": "stdout",
     "output_type": "stream",
     "text": [
      "the type of count vectorizer  <class 'scipy.sparse.csr.csr_matrix'>\n",
      "the shape of BOW vectorizer  (17555, 46918)\n",
      "the number of unique words  46918\n"
     ]
    }
   ],
   "source": [
    "# BoW -- transform on D_Test\n",
    "\n",
    "D2_Test = count_vect.transform(X_test['Cleaned_Text'])\n",
    "print(\"the type of count vectorizer \",type(D2_Test))\n",
    "print(\"the shape of BOW vectorizer \",D2_Test.get_shape())\n",
    "print(\"the number of unique words \", D2_Test.get_shape()[1])"
   ]
  },
  {
   "cell_type": "markdown",
   "metadata": {},
   "source": [
    "#### Without Feature Engineering we are getting a decent enough Confusion Matrix and AUC value. So commenting out the feature engineering code below."
   ]
  },
  {
   "cell_type": "code",
   "execution_count": 91,
   "metadata": {},
   "outputs": [],
   "source": [
    "'''D2_Train = hstack((D2_Train,X_Train_count))\n",
    "D2_Cv = hstack((D2_Cv,X_Cv_count))\n",
    "D2_Test = hstack((D2_Test,X_Test_count))'''"
   ]
  },
  {
   "cell_type": "code",
   "execution_count": 252,
   "metadata": {},
   "outputs": [],
   "source": [
    "'''D2_Train = hstack((D2_Train,X_Train_summary_count,X_Train_count))\n",
    "D2_Cv = hstack((D2_Cv,X_Cv_summary_count,X_Cv_count))\n",
    "D2_Test = hstack((D2_Test,X_Test_summary_count,X_Test_count))'''"
   ]
  },
  {
   "cell_type": "code",
   "execution_count": 271,
   "metadata": {},
   "outputs": [
    {
     "name": "stdout",
     "output_type": "stream",
     "text": [
      "77504\n",
      "14044\n",
      "17555\n"
     ]
    }
   ],
   "source": [
    "\n",
    "n_cv = D2_Cv.get_shape()[0]\n",
    "n_train = D2_Train.get_shape()[0]\n",
    "n_test = D2_Test.get_shape()[0]\n",
    "print(n_train)\n",
    "print(n_cv)\n",
    "print(n_test)"
   ]
  },
  {
   "cell_type": "code",
   "execution_count": 272,
   "metadata": {},
   "outputs": [
    {
     "name": "stdout",
     "output_type": "stream",
     "text": [
      "(77504, 46918)\n",
      "(14044, 46918)\n",
      "(17555, 46918)\n"
     ]
    }
   ],
   "source": [
    "# Standardization Process\n",
    "# Changes done as suggested\n",
    "\n",
    "from sklearn.preprocessing import StandardScaler\n",
    "scaler = StandardScaler(with_mean=False)\n",
    "scaler.fit(D2_Train)\n",
    "D2_Train = scaler.transform(D2_Train)\n",
    "D2_Cv = scaler.transform(D2_Cv)\n",
    "D2_Test = scaler.transform(D2_Test)\n",
    "\n",
    "print(D2_Train.shape)\n",
    "print(D2_Cv.shape)\n",
    "print(D2_Test.shape)"
   ]
  },
  {
   "cell_type": "code",
   "execution_count": 1,
   "metadata": {},
   "outputs": [
    {
     "data": {
      "text/plain": [
       "'from sklearn.preprocessing import MaxAbsScaler\\nscaler = MaxAbsScaler()\\nscaler.fit(D2_Train)\\nD2_Train = scaler.transform(D2_Train)\\nD2_Cv = scaler.transform(D2_Cv)\\nD2_Test = scaler.transform(D2_Test)\\n\\nprint(D2_Train.shape)\\nprint(D2_Cv.shape)\\nprint(D2_Test.shape)'"
      ]
     },
     "execution_count": 1,
     "metadata": {},
     "output_type": "execute_result"
    }
   ],
   "source": [
    "# Standardization Process for Feature Engineering \n",
    "# Using MaxAbsScaler because otherwise we are getting negative values and Naive Bayes doesnt work with negative values.\n",
    "\n",
    "'''from sklearn.preprocessing import MaxAbsScaler\n",
    "scaler = MaxAbsScaler()\n",
    "scaler.fit(D2_Train)\n",
    "D2_Train = scaler.transform(D2_Train)\n",
    "D2_Cv = scaler.transform(D2_Cv)\n",
    "D2_Test = scaler.transform(D2_Test)\n",
    "\n",
    "print(D2_Train.shape)\n",
    "print(D2_Cv.shape)\n",
    "print(D2_Test.shape)'''"
   ]
  },
  {
   "cell_type": "code",
   "execution_count": 273,
   "metadata": {},
   "outputs": [],
   "source": [
    "D2_Train=D2_Train.astype('int')\n",
    "D2_Cv=D2_Cv.astype('int')\n",
    "D2_Test=D2_Test.astype('int')\n",
    "Y_1_train=Y_1_train.astype('int')\n",
    "Y_1_cv=Y_1_cv.astype('int')\n",
    "Y_test=Y_test.astype('int')"
   ]
  },
  {
   "cell_type": "code",
   "execution_count": 274,
   "metadata": {},
   "outputs": [
    {
     "name": "stderr",
     "output_type": "stream",
     "text": [
      "\r",
      "  0%|                                                                                           | 0/11 [00:00<?, ?it/s]"
     ]
    },
    {
     "name": "stdout",
     "output_type": "stream",
     "text": [
      "14044\n",
      "14044\n",
      "\n",
      "CV Accuracy for Alpha = 0.000010 is 85.367417%\n",
      "\n",
      "CV AUC for Alpha = 0.000010 is 0.748273%\n",
      "\n",
      "Train Accuracy for Alpha = 0.000010 is 95.398947%\n",
      "\n",
      "Train AUC for Alpha = 0.000010 is 0.970369%\n"
     ]
    },
    {
     "name": "stderr",
     "output_type": "stream",
     "text": [
      "\r",
      "  9%|███████▌                                                                           | 1/11 [00:00<00:05,  1.74it/s]"
     ]
    },
    {
     "name": "stdout",
     "output_type": "stream",
     "text": [
      "14044\n",
      "14044\n",
      "\n",
      "CV Accuracy for Alpha = 0.000100 is 85.388778%\n",
      "\n",
      "CV AUC for Alpha = 0.000100 is 0.748847%\n",
      "\n",
      "Train Accuracy for Alpha = 0.000100 is 95.395076%\n",
      "\n",
      "Train AUC for Alpha = 0.000100 is 0.970339%\n"
     ]
    },
    {
     "name": "stderr",
     "output_type": "stream",
     "text": [
      "\r",
      " 18%|███████████████                                                                    | 2/11 [00:01<00:05,  1.74it/s]"
     ]
    },
    {
     "name": "stdout",
     "output_type": "stream",
     "text": [
      "14044\n",
      "14044\n",
      "\n",
      "CV Accuracy for Alpha = 0.001000 is 85.452862%\n",
      "\n",
      "CV AUC for Alpha = 0.001000 is 0.750098%\n",
      "\n",
      "Train Accuracy for Alpha = 0.001000 is 95.391206%\n",
      "\n",
      "Train AUC for Alpha = 0.001000 is 0.970267%\n"
     ]
    },
    {
     "name": "stderr",
     "output_type": "stream",
     "text": [
      "\r",
      " 27%|██████████████████████▋                                                            | 3/11 [00:01<00:04,  1.74it/s]"
     ]
    },
    {
     "name": "stdout",
     "output_type": "stream",
     "text": [
      "14044\n",
      "14044\n",
      "\n",
      "CV Accuracy for Alpha = 0.010000 is 85.573911%\n",
      "\n",
      "CV AUC for Alpha = 0.010000 is 0.752910%\n",
      "\n",
      "Train Accuracy for Alpha = 0.010000 is 95.364110%\n",
      "\n",
      "Train AUC for Alpha = 0.010000 is 0.970129%\n"
     ]
    },
    {
     "name": "stderr",
     "output_type": "stream",
     "text": [
      "\r",
      " 36%|██████████████████████████████▏                                                    | 4/11 [00:02<00:03,  1.75it/s]"
     ]
    },
    {
     "name": "stdout",
     "output_type": "stream",
     "text": [
      "14044\n",
      "14044\n",
      "\n",
      "CV Accuracy for Alpha = 0.100000 is 85.702079%\n",
      "\n",
      "CV AUC for Alpha = 0.100000 is 0.756841%\n",
      "\n",
      "Train Accuracy for Alpha = 0.100000 is 95.338305%\n",
      "\n",
      "Train AUC for Alpha = 0.100000 is 0.969915%\n"
     ]
    },
    {
     "name": "stderr",
     "output_type": "stream",
     "text": [
      "\r",
      " 45%|█████████████████████████████████████▋                                             | 5/11 [00:02<00:03,  1.77it/s]"
     ]
    },
    {
     "name": "stdout",
     "output_type": "stream",
     "text": [
      "14044\n",
      "14044\n",
      "\n",
      "CV Accuracy for Alpha = 1.000000 is 85.851609%\n",
      "\n",
      "CV AUC for Alpha = 1.000000 is 0.761716%\n",
      "\n",
      "Train Accuracy for Alpha = 1.000000 is 95.263470%\n",
      "\n",
      "Train AUC for Alpha = 1.000000 is 0.969528%\n"
     ]
    },
    {
     "name": "stderr",
     "output_type": "stream",
     "text": [
      "\r",
      " 55%|█████████████████████████████████████████████▎                                     | 6/11 [00:03<00:02,  1.81it/s]"
     ]
    },
    {
     "name": "stdout",
     "output_type": "stream",
     "text": [
      "14044\n",
      "14044\n",
      "\n",
      "CV Accuracy for Alpha = 10.000000 is 86.008260%\n",
      "\n",
      "CV AUC for Alpha = 10.000000 is 0.770166%\n",
      "\n",
      "Train Accuracy for Alpha = 10.000000 is 95.130574%\n",
      "\n",
      "Train AUC for Alpha = 10.000000 is 0.968712%\n"
     ]
    },
    {
     "name": "stderr",
     "output_type": "stream",
     "text": [
      "\r",
      " 64%|████████████████████████████████████████████████████▊                              | 7/11 [00:03<00:02,  1.84it/s]"
     ]
    },
    {
     "name": "stdout",
     "output_type": "stream",
     "text": [
      "14044\n",
      "14044\n",
      "\n",
      "CV Accuracy for Alpha = 100.000000 is 86.293079%\n",
      "\n",
      "CV AUC for Alpha = 100.000000 is 0.783613%\n",
      "\n",
      "Train Accuracy for Alpha = 100.000000 is 94.846718%\n",
      "\n",
      "Train AUC for Alpha = 100.000000 is 0.967153%\n"
     ]
    },
    {
     "name": "stderr",
     "output_type": "stream",
     "text": [
      "\r",
      " 73%|████████████████████████████████████████████████████████████▎                      | 8/11 [00:04<00:01,  1.85it/s]"
     ]
    },
    {
     "name": "stdout",
     "output_type": "stream",
     "text": [
      "14044\n",
      "14044\n",
      "\n",
      "CV Accuracy for Alpha = 1000.000000 is 86.770151%\n",
      "\n",
      "CV AUC for Alpha = 1000.000000 is 0.807548%\n",
      "\n",
      "Train Accuracy for Alpha = 1000.000000 is 94.564152%\n",
      "\n",
      "Train AUC for Alpha = 1000.000000 is 0.968484%\n"
     ]
    },
    {
     "name": "stderr",
     "output_type": "stream",
     "text": [
      "\r",
      " 82%|███████████████████████████████████████████████████████████████████▉               | 9/11 [00:04<00:01,  1.84it/s]"
     ]
    },
    {
     "name": "stdout",
     "output_type": "stream",
     "text": [
      "14044\n",
      "14044\n",
      "\n",
      "CV Accuracy for Alpha = 10000.000000 is 87.389633%\n",
      "\n",
      "CV AUC for Alpha = 10000.000000 is 0.888322%\n",
      "\n",
      "Train Accuracy for Alpha = 10000.000000 is 94.117723%\n",
      "\n",
      "Train AUC for Alpha = 10000.000000 is 0.984415%\n"
     ]
    },
    {
     "name": "stderr",
     "output_type": "stream",
     "text": [
      "\r",
      " 91%|██████████████████████████████████████████████████████████████████████████▌       | 10/11 [00:05<00:00,  1.85it/s]"
     ]
    },
    {
     "name": "stdout",
     "output_type": "stream",
     "text": [
      "14044\n",
      "14044\n",
      "\n",
      "CV Accuracy for Alpha = 100000.000000 is 87.645970%\n",
      "\n",
      "CV AUC for Alpha = 100000.000000 is 0.893347%\n",
      "\n",
      "Train Accuracy for Alpha = 100000.000000 is 93.039069%\n",
      "\n",
      "Train AUC for Alpha = 100000.000000 is 0.984281%\n"
     ]
    },
    {
     "name": "stderr",
     "output_type": "stream",
     "text": [
      "100%|██████████████████████████████████████████████████████████████████████████████████| 11/11 [00:06<00:00,  1.88it/s]\n"
     ]
    },
    {
     "name": "stdout",
     "output_type": "stream",
     "text": [
      "[0.7482729920106255, 0.7488474027006116, 0.7500981318567207, 0.7529096696805512, 0.7568406288525521, 0.7617155510593615, 0.770165604593321, 0.7836133944257473, 0.8075483168834998, 0.888322482288415, 0.8933473480212619]\n",
      "[0.9703687622796676, 0.9703385869260133, 0.9702667659565509, 0.9701287484562703, 0.9699153446727293, 0.9695279295778602, 0.9687122358117211, 0.967152816955765, 0.9684836020826316, 0.9844152780116762, 0.9842810854524531]\n"
     ]
    }
   ],
   "source": [
    "# Applying Naive Bayes \n",
    "\n",
    "cv_score = []\n",
    "train_score = []\n",
    "\n",
    "# creating odd list of alpha for NB\n",
    "neighbours = list((0.00001,0.0001,0.001,0.01,0.1,1,10,100,1000,10000,100000))\n",
    "\n",
    "\n",
    "cv_auc = []\n",
    "train_auc = []\n",
    "cv_score = []\n",
    "train_score = []\n",
    "for i in tqdm(neighbours):\n",
    "    nb = MultinomialNB(alpha = i)\n",
    "    \n",
    "    predicted_labels_cv = []\n",
    "    predicted_labels_train = []\n",
    "    predict_cv_prob = []\n",
    "    predict_train_prob = []\n",
    "    accuracy_cv = []\n",
    "    auc_score_cv = []\n",
    "    auc_score_train = []\n",
    "    accuracy_train = []\n",
    "    \n",
    "    # Fitting the model in Train - CrossValidation\n",
    "    nb.fit(D2_Train,Y_1_train)\n",
    "    \n",
    "    # Predicting the model with CrossValidation and Train Data\n",
    "    for j in range(0,n_cv,1000):\n",
    "        predicted_labels_cv.extend(nb.predict(D2_Cv[j:j+1000]))\n",
    "        predict_cv_prob.extend(nb.predict_log_proba(D2_Cv[j:j+1000])[:,1])\n",
    "    \n",
    "    for k in range(0,n_train,1000):\n",
    "        predicted_labels_train.extend(nb.predict(D2_Train[k:k+1000]))\n",
    "        predict_train_prob.extend(nb.predict_log_proba(D2_Train[k:k+1000])[:,1])\n",
    "    \n",
    "    print(len(predict_cv_prob))\n",
    "    print(len(Y_1_cv))\n",
    "    \n",
    "    # Getting the Cross-Validation Accuracy and AUC Score\n",
    "    auc_score_cv = roc_auc_score(Y_1_cv,predict_cv_prob)\n",
    "    accuracy_cv = accuracy_score(Y_1_cv,predicted_labels_cv,normalize=True)* float(100)\n",
    "    print('\\nCV Accuracy for Alpha = %f is %f%%' % (i,accuracy_cv))\n",
    "    print('\\nCV AUC for Alpha = %f is %f%%' % (i,auc_score_cv))\n",
    "    cv_score.append(accuracy_cv)\n",
    "    cv_auc.append(auc_score_cv)\n",
    "    \n",
    "    # Getting the Training Accuracy and AUC Score\n",
    "    auc_score_train = roc_auc_score(Y_1_train,predict_train_prob)\n",
    "    accuracy_train = accuracy_score(Y_1_train,predicted_labels_train, normalize=True)* float(100)\n",
    "    print('\\nTrain Accuracy for Alpha = %f is %f%%' % (i,accuracy_train))\n",
    "    print('\\nTrain AUC for Alpha = %f is %f%%' % (i,auc_score_train))\n",
    "    train_score.append(accuracy_train)\n",
    "    train_auc.append(auc_score_train)\n",
    "\n",
    "# Misclassification Error ( Cross-Validation Error )\n",
    "cv_error = [1 - x for x in cv_score]\n",
    "\n",
    "# Misclassification Error ( Training Error )\n",
    "train_error = [1 - x for x in train_score]  \n",
    "\n",
    "print(cv_auc)\n",
    "print(train_auc)"
   ]
  },
  {
   "cell_type": "code",
   "execution_count": 275,
   "metadata": {},
   "outputs": [
    {
     "name": "stdout",
     "output_type": "stream",
     "text": [
      "[-11]\n",
      "[-11, -9]\n",
      "[-11, -9, -6]\n",
      "[-11, -9, -6, -4]\n",
      "[-11, -9, -6, -4, -2]\n",
      "[-11, -9, -6, -4, -2, 0]\n",
      "[-11, -9, -6, -4, -2, 0, 2]\n",
      "[-11, -9, -6, -4, -2, 0, 2, 4]\n",
      "[-11, -9, -6, -4, -2, 0, 2, 4, 6]\n",
      "[-11, -9, -6, -4, -2, 0, 2, 4, 6, 9]\n",
      "[-11, -9, -6, -4, -2, 0, 2, 4, 6, 9, 11]\n"
     ]
    }
   ],
   "source": [
    "import math\n",
    "alpha = []\n",
    "for n in range(len(neighbours)):\n",
    "    alpha1 = neighbours[n]\n",
    "    x = int(math.log(alpha1))\n",
    "    alpha.append(x)\n",
    "    print(alpha)"
   ]
  },
  {
   "cell_type": "code",
   "execution_count": 276,
   "metadata": {},
   "outputs": [
    {
     "data": {
      "image/png": "[encoded data removed]",
      "text/plain": [
       "<Figure size 432x288 with 1 Axes>"
      ]
     },
     "metadata": {},
     "output_type": "display_data"
    }
   ],
   "source": [
    "# Plotting Train_AUC and CV_AUC against K\n",
    "plt.plot(alpha,train_auc)\n",
    "plt.plot(alpha,cv_auc)\n",
    "plt.legend(['Train AUC', 'CV AUC'], loc='upper right')\n",
    "plt.title(\"ERROR PLOTS for BOW Vectorizer\")\n",
    "plt.xlabel('Hyper-parameter Alpha')\n",
    "plt.ylabel('AUC Value')\n",
    "plt.show()"
   ]
  },
  {
   "cell_type": "code",
   "execution_count": 277,
   "metadata": {},
   "outputs": [
    {
     "name": "stdout",
     "output_type": "stream",
     "text": [
      "AUC Metric Best Alpha = 100000\n",
      "0.893\n"
     ]
    }
   ],
   "source": [
    "# Getting the optimal Alpha Based to CV AUC\n",
    "optimal_alpha_auc = neighbours[cv_auc.index(max(cv_auc))]\n",
    "best_cv_auc = max([ '%.3f' % elem for elem in cv_auc ])\n",
    "print('AUC Metric Best Alpha = %d' % optimal_alpha_auc)\n",
    "print(best_cv_auc)"
   ]
  },
  {
   "cell_type": "code",
   "execution_count": 290,
   "metadata": {},
   "outputs": [
    {
     "name": "stdout",
     "output_type": "stream",
     "text": [
      "17555\n",
      "17555\n",
      "Algo Run Successfully on D_Test\n",
      "====================================================================================================\n"
     ]
    }
   ],
   "source": [
    "# Applying Best K on D_Test\n",
    "\n",
    "test_neigh = MultinomialNB(alpha = 1000)\n",
    "test_neigh.fit(D2_Train,Y_1_train)\n",
    "\n",
    "predicted_labels_test = []\n",
    "predicted_labels_train = []\n",
    "predict_test_prob = []\n",
    "predict_train_prob = []\n",
    "\n",
    "# Predicting the model with CrossValidation and Train Data\n",
    "for j in range(0,n_test,1000):\n",
    "    predicted_labels_test.extend(test_neigh.predict(D2_Test[j:j+1000]))\n",
    "    predict_test_prob.extend(test_neigh.predict_proba(D2_Test[j:j+1000])[:,1])\n",
    "    \n",
    "for k in range(0,n_train,1000):\n",
    "    predicted_labels_train.extend(test_neigh.predict(D2_Train[k:k+1000]))\n",
    "    predict_train_prob.extend(test_neigh.predict_proba(D2_Train[k:k+1000])[:,1])\n",
    "    \n",
    "print(len(predict_test_prob))\n",
    "print(len(Y_test))\n",
    "    \n",
    "train_fpr, train_tpr, thresholds = roc_curve(Y_1_train, predict_train_prob)\n",
    "test_fpr, test_tpr, thresholds = roc_curve(Y_test, predict_test_prob)\n",
    "\n",
    "print('Algo Run Successfully on D_Test')\n",
    "print(\"=\"*100)\n"
   ]
  },
  {
   "cell_type": "code",
   "execution_count": 291,
   "metadata": {},
   "outputs": [
    {
     "data": {
      "image/png": "[encoded data removed]",
      "text/plain": [
       "<Figure size 432x288 with 1 Axes>"
      ]
     },
     "metadata": {},
     "output_type": "display_data"
    },
    {
     "name": "stdout",
     "output_type": "stream",
     "text": [
      "====================================================================================================\n"
     ]
    }
   ],
   "source": [
    "# Plotting the AUC curve on Test and Train Data\n",
    "\n",
    "plt.plot(train_fpr, train_tpr, label=\"Train AUC =\"+str(auc(train_fpr, train_tpr)))\n",
    "plt.plot(test_fpr, test_tpr, label=\"Test AUC =\"+str(auc(test_fpr, test_tpr)))\n",
    "plt.legend()\n",
    "plt.xlabel(\"FPR\")\n",
    "plt.ylabel(\"TPR\")\n",
    "plt.title(\"ERROR PLOTS\")\n",
    "plt.show()\n",
    "\n",
    "print(\"=\"*100)"
   ]
  },
  {
   "cell_type": "code",
   "execution_count": 292,
   "metadata": {},
   "outputs": [
    {
     "name": "stdout",
     "output_type": "stream",
     "text": [
      "Train Confusion Matrix\n",
      "27475 2525 1688 45816\n",
      "[[27475  2525]\n",
      " [ 1688 45816]]\n",
      "========================================================================================================================\n",
      "Test Confusion Matrix\n",
      "1686 1228 931 13710\n",
      "[[ 1686  1228]\n",
      " [  931 13710]]\n",
      "========================================================================================================================\n"
     ]
    }
   ],
   "source": [
    "# Getting the confusion metrics\n",
    "\n",
    "print('Train Confusion Matrix')\n",
    "tr_true_negetive,tr_false_positive, tr_false_negetive, tr_true_positive = confusion_matrix(Y_1_train,predicted_labels_train).ravel()\n",
    "print(tr_true_negetive, tr_false_positive, tr_false_negetive, tr_true_positive)\n",
    "print(confusion_matrix(Y_1_train,predicted_labels_train))\n",
    "print(\"=\"*120)\n",
    "\n",
    "print('Test Confusion Matrix')\n",
    "true_negetive,false_positive, false_negetive, true_positive = confusion_matrix(Y_test,predicted_labels_test).ravel()\n",
    "print(true_negetive, false_positive, false_negetive, true_positive)\n",
    "print(confusion_matrix(Y_test,predicted_labels_test))\n",
    "print(\"=\"*120)"
   ]
  },
  {
   "cell_type": "code",
   "execution_count": 293,
   "metadata": {},
   "outputs": [
    {
     "data": {
      "text/plain": [
       "<matplotlib.axes._subplots.AxesSubplot at 0x1ab99ef1cf8>"
      ]
     },
     "execution_count": 293,
     "metadata": {},
     "output_type": "execute_result"
    },
    {
     "data": {
      "image/png": "[encoded data removed]",
      "text/plain": [
       "<Figure size 432x288 with 2 Axes>"
      ]
     },
     "metadata": {},
     "output_type": "display_data"
    }
   ],
   "source": [
    "import seaborn as sns\n",
    "conMatrix= [[tr_true_negetive,tr_false_positive],[tr_false_negetive,tr_true_positive]]\n",
    "data = conMatrix\n",
    "sns.heatmap(data, cmap=\"YlGnBu\", annot=True, fmt=\"d\")"
   ]
  },
  {
   "cell_type": "code",
   "execution_count": 294,
   "metadata": {},
   "outputs": [
    {
     "data": {
      "text/plain": [
       "<matplotlib.axes._subplots.AxesSubplot at 0x1ab9a0939e8>"
      ]
     },
     "execution_count": 294,
     "metadata": {},
     "output_type": "execute_result"
    },
    {
     "data": {
      "image/png": "[encoded data removed]",
      "text/plain": [
       "<Figure size 432x288 with 2 Axes>"
      ]
     },
     "metadata": {},
     "output_type": "display_data"
    }
   ],
   "source": [
    "conMatrix= [[true_negetive,false_positive],[false_negetive,true_positive]]\n",
    "data = conMatrix\n",
    "sns.heatmap(data, cmap=\"YlGnBu\", annot=True, fmt=\"d\")"
   ]
  },
  {
   "cell_type": "code",
   "execution_count": 295,
   "metadata": {},
   "outputs": [
    {
     "name": "stdout",
     "output_type": "stream",
     "text": [
      "[44668 39815 40240 40143 27223 41653  2541 27786 46392  9666] [19835 17398 18804 19043 33460 19367 40233 18796 33507 39757]\n",
      "==============================================================================================================\n",
      "  Positive Feature Name  Probability\n",
      "0      highly recommend    -8.951977\n",
      "1           gluten free    -9.156279\n",
      "2         great product    -9.185789\n",
      "3         grocery store    -9.204261\n",
      "4           really good    -9.210408\n",
      "5             hard find    -9.253156\n",
      "6          tastes great    -9.288267\n",
      "7           great price    -9.305430\n",
      "8           really like    -9.316600\n",
      "9           taste great    -9.331295\n",
      "================================================== Positive ==================================================\n",
      "  Negative Feature Name  Probability\n",
      "0           waste money    -9.145282\n",
      "1            taste like    -9.227605\n",
      "2           tastes like    -9.255280\n",
      "3           tasted like    -9.344793\n",
      "4             never buy    -9.361937\n",
      "5         thought would    -9.376126\n",
      "6             bad batch    -9.560919\n",
      "7          nothing like    -9.575084\n",
      "8          would rather    -9.577663\n",
      "9      customer service    -9.582242\n",
      "================================================== Negetive ==================================================\n"
     ]
    }
   ],
   "source": [
    "# Feature Importance :\n",
    "neg_feature_prob = test_neigh.feature_log_prob_ [0,:]\n",
    "pos_feature_prob = test_neigh.feature_log_prob_ [1,:]\n",
    "indices_positive = np.argsort((test_neigh.feature_log_prob_)[1])[::-1][0:10]\n",
    "indices_negetive = np.argsort((test_neigh.feature_log_prob_)[0])[::-1][0:10]\n",
    "print(indices_negetive,indices_positive)\n",
    "feature_names = count_vect.get_feature_names()\n",
    "\n",
    "print(\"=\"*110)\n",
    "\n",
    "feature_name = []\n",
    "prob = []\n",
    "\n",
    "for i in indices_positive:\n",
    "    feature_name.append(feature_names[i])\n",
    "    prob.append(pos_feature_prob[i])\n",
    "\n",
    "feature_df = pd.DataFrame(data = feature_name, columns = ['Positive Feature Name'])\n",
    "prob_df = pd.DataFrame(data = prob, columns = ['Probability'])\n",
    "pos_feature_prob_df = pd.concat([feature_df,prob_df],axis=1)\n",
    "\n",
    "print(pos_feature_prob_df)\n",
    "print(\"=\"*50, 'Positive',\"=\"*50)\n",
    "\n",
    "neg_feature_name = []\n",
    "neg_prob = []\n",
    "\n",
    "for i in indices_negetive:\n",
    "    neg_feature_name.append(feature_names[i])\n",
    "    neg_prob.append(neg_feature_prob[i])\n",
    "\n",
    "neg_feature_df = pd.DataFrame(data = neg_feature_name, columns = ['Negative Feature Name'])\n",
    "neg_prob_df = pd.DataFrame(data = neg_prob, columns = ['Probability'])\n",
    "neg_feature_prob_df = pd.concat([neg_feature_df,neg_prob_df],axis=1)\n",
    "\n",
    "print(neg_feature_prob_df)\n",
    "print(\"=\"*50, 'Negetive', \"=\"*50)"
   ]
  },
  {
   "cell_type": "markdown",
   "metadata": {},
   "source": [
    "## Conclusion for Brute Force"
   ]
  },
  {
   "cell_type": "code",
   "execution_count": 285,
   "metadata": {},
   "outputs": [],
   "source": [
    "# Importing Pretty Table\n",
    "from prettytable import PrettyTable"
   ]
  },
  {
   "cell_type": "code",
   "execution_count": 296,
   "metadata": {},
   "outputs": [
    {
     "name": "stdout",
     "output_type": "stream",
     "text": [
      "+------------+-----------------------+------+\n",
      "| Vectorizer | Hyper-Parameter Value | AUC  |\n",
      "+------------+-----------------------+------+\n",
      "|    BOW     |       Alpha = 10      | 0.87 |\n",
      "|   Tf-Idf   |      Alpha = 1000     | 0.80 |\n",
      "+------------+-----------------------+------+\n"
     ]
    }
   ],
   "source": [
    "x = PrettyTable()\n",
    "x.field_names = ['Vectorizer', 'Hyper-Parameter Value','AUC']\n",
    "x.add_row(['BOW','Alpha = 10','0.87'])\n",
    "x.add_row(['Tf-Idf','Alpha = 1000','0.80'])\n",
    "\n",
    "print(x)"
   ]
  },
  {
   "cell_type": "markdown",
   "metadata": {},
   "source": [
    "##### We have sampled top 100k datapoints that are highly imbalanced. We have thus balanced only the train datapoints with upsampling the negetive points. \n",
    "\n",
    "##### We are using MultinomialNB on Bag of Words and Tf-Idf Vectorizer. We have also done feature engineering by adding two new features that contains the word count of the reviews and word count of the summary text to see if the model performance is increasing or not. \n",
    "\n",
    "##### For Tf-Idf the model performance is getting very bad with feature engineering and we are getting a highly biased confusion matrix. So for Set 2, we have commented out the code for feature engineering and proceeded only with the features as got from Tf-Idf vectorizer.\n",
    "\n",
    "##### For Bag of Words the model AUC and confusion matrix is getting better with feature engineering along with unigrams and bigrams implementaion of the CountVectorizer.\n",
    "\n",
    "##### We have also performed a feature importance to check if the model is performing good. We have listed the top 10 features for each class along with their probabilities."
   ]
  },
  {
   "cell_type": "code",
   "execution_count": null,
   "metadata": {},
   "outputs": [],
   "source": []
  }
 ],
 "metadata": {
  "kernelspec": {
   "display_name": "Python 3",
   "language": "python",
   "name": "python3"
  },
  "language_info": {
   "codemirror_mode": {
    "name": "ipython",
    "version": 3
   },
   "file_extension": ".py",
   "mimetype": "text/x-python",
   "name": "python",
   "nbconvert_exporter": "python",
   "pygments_lexer": "ipython3",
   "version": "3.6.5"
  }
 },
 "nbformat": 4,
 "nbformat_minor": 2
}
