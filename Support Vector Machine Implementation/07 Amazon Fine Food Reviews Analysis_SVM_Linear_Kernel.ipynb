{
 "cells": [
  {
   "cell_type": "markdown",
   "metadata": {},
   "source": [
    "## Amazon Fine Food Review - Support Vector Machine - Linear Kernel Algorithm"
   ]
  },
  {
   "cell_type": "code",
   "execution_count": 1,
   "metadata": {},
   "outputs": [
    {
     "name": "stderr",
     "output_type": "stream",
     "text": [
      "C:\\Users\\NamrataT\\Anaconda3\\lib\\site-packages\\gensim\\utils.py:1197: UserWarning: detected Windows; aliasing chunkize to chunkize_serial\n",
      "  warnings.warn(\"detected Windows; aliasing chunkize to chunkize_serial\")\n"
     ]
    }
   ],
   "source": [
    "# Getting all the imports done\n",
    "\n",
    "%matplotlib inline\n",
    "import warnings\n",
    "warnings.filterwarnings(\"ignore\")\n",
    "\n",
    "import sqlite3\n",
    "import pandas as pd\n",
    "import numpy as np\n",
    "import nltk\n",
    "import string\n",
    "import matplotlib.pyplot as plt\n",
    "import seaborn as sns\n",
    "from sklearn.feature_extraction.text import TfidfTransformer\n",
    "from sklearn.feature_extraction.text import TfidfVectorizer\n",
    "\n",
    "from sklearn.feature_extraction.text import CountVectorizer\n",
    "from sklearn.metrics import confusion_matrix\n",
    "from sklearn import metrics\n",
    "from sklearn.metrics import roc_curve, auc\n",
    "from nltk.stem.porter import PorterStemmer\n",
    "\n",
    "import re\n",
    "# Tutorial about Python regular expressions: https://pymotw.com/2/re/\n",
    "import string\n",
    "from nltk.corpus import stopwords\n",
    "from nltk.stem import PorterStemmer\n",
    "from nltk.stem.wordnet import WordNetLemmatizer\n",
    "\n",
    "from gensim.models import Word2Vec\n",
    "from gensim.models import KeyedVectors\n",
    "import pickle\n",
    "\n",
    "from tqdm import tqdm\n",
    "import os\n",
    "import seaborn as sns"
   ]
  },
  {
   "cell_type": "code",
   "execution_count": 2,
   "metadata": {},
   "outputs": [
    {
     "name": "stdout",
     "output_type": "stream",
     "text": [
      "Number of data points in our data (100000, 10)\n"
     ]
    },
    {
     "data": {
      "text/html": [
       "<div>\n",
       "<style scoped>\n",
       "    .dataframe tbody tr th:only-of-type {\n",
       "        vertical-align: middle;\n",
       "    }\n",
       "\n",
       "    .dataframe tbody tr th {\n",
       "        vertical-align: top;\n",
       "    }\n",
       "\n",
       "    .dataframe thead th {\n",
       "        text-align: right;\n",
       "    }\n",
       "</style>\n",
       "<table border=\"1\" class=\"dataframe\">\n",
       "  <thead>\n",
       "    <tr style=\"text-align: right;\">\n",
       "      <th></th>\n",
       "      <th>Id</th>\n",
       "      <th>ProductId</th>\n",
       "      <th>UserId</th>\n",
       "      <th>ProfileName</th>\n",
       "      <th>HelpfulnessNumerator</th>\n",
       "      <th>HelpfulnessDenominator</th>\n",
       "      <th>Score</th>\n",
       "      <th>Time</th>\n",
       "      <th>Summary</th>\n",
       "      <th>Text</th>\n",
       "    </tr>\n",
       "  </thead>\n",
       "  <tbody>\n",
       "    <tr>\n",
       "      <th>0</th>\n",
       "      <td>1</td>\n",
       "      <td>B001E4KFG0</td>\n",
       "      <td>A3SGXH7AUHU8GW</td>\n",
       "      <td>delmartian</td>\n",
       "      <td>1</td>\n",
       "      <td>1</td>\n",
       "      <td>1</td>\n",
       "      <td>1303862400</td>\n",
       "      <td>Good Quality Dog Food</td>\n",
       "      <td>I have bought several of the Vitality canned d...</td>\n",
       "    </tr>\n",
       "    <tr>\n",
       "      <th>1</th>\n",
       "      <td>2</td>\n",
       "      <td>B00813GRG4</td>\n",
       "      <td>A1D87F6ZCVE5NK</td>\n",
       "      <td>dll pa</td>\n",
       "      <td>0</td>\n",
       "      <td>0</td>\n",
       "      <td>0</td>\n",
       "      <td>1346976000</td>\n",
       "      <td>Not as Advertised</td>\n",
       "      <td>Product arrived labeled as Jumbo Salted Peanut...</td>\n",
       "    </tr>\n",
       "    <tr>\n",
       "      <th>2</th>\n",
       "      <td>3</td>\n",
       "      <td>B000LQOCH0</td>\n",
       "      <td>ABXLMWJIXXAIN</td>\n",
       "      <td>Natalia Corres \"Natalia Corres\"</td>\n",
       "      <td>1</td>\n",
       "      <td>1</td>\n",
       "      <td>1</td>\n",
       "      <td>1219017600</td>\n",
       "      <td>\"Delight\" says it all</td>\n",
       "      <td>This is a confection that has been around a fe...</td>\n",
       "    </tr>\n",
       "  </tbody>\n",
       "</table>\n",
       "</div>"
      ],
      "text/plain": [
       "   Id   ProductId          UserId                      ProfileName  \\\n",
       "0   1  B001E4KFG0  A3SGXH7AUHU8GW                       delmartian   \n",
       "1   2  B00813GRG4  A1D87F6ZCVE5NK                           dll pa   \n",
       "2   3  B000LQOCH0   ABXLMWJIXXAIN  Natalia Corres \"Natalia Corres\"   \n",
       "\n",
       "   HelpfulnessNumerator  HelpfulnessDenominator  Score        Time  \\\n",
       "0                     1                       1      1  1303862400   \n",
       "1                     0                       0      0  1346976000   \n",
       "2                     1                       1      1  1219017600   \n",
       "\n",
       "                 Summary                                               Text  \n",
       "0  Good Quality Dog Food  I have bought several of the Vitality canned d...  \n",
       "1      Not as Advertised  Product arrived labeled as Jumbo Salted Peanut...  \n",
       "2  \"Delight\" says it all  This is a confection that has been around a fe...  "
      ]
     },
     "execution_count": 2,
     "metadata": {},
     "output_type": "execute_result"
    }
   ],
   "source": [
    "# using SQLite Table to read data.\n",
    "con = sqlite3.connect(r'C:\\Users\\NamrataT\\Desktop\\EXAM\\PYTHON\\Amazon Fine Food Reviews\\database.sqlite') \n",
    "\n",
    "# filtering only positive and negative reviews i.e. \n",
    "# not taking into consideration those reviews with Score=3\n",
    "# SELECT * FROM Reviews WHERE Score != 3 LIMIT 500000, will give top 500000 data points\n",
    "\n",
    "filtered_data = pd.read_sql_query(\"\"\" SELECT * FROM Reviews WHERE Score != 3 LIMIT 100000\"\"\", con) \n",
    "\n",
    "# Give reviews with Score>3 a positive rating(1), and reviews with a score<3 a negative rating(0).\n",
    "def partition(x):\n",
    "    if x < 3:\n",
    "        return 0\n",
    "    return 1\n",
    "\n",
    "#changing reviews with score less than 3 to be positive and vice-versa\n",
    "actualScore = filtered_data['Score']\n",
    "positiveNegative = actualScore.map(partition) \n",
    "filtered_data['Score'] = positiveNegative\n",
    "print(\"Number of data points in our data\", filtered_data.shape)\n",
    "filtered_data.head(3)"
   ]
  },
  {
   "cell_type": "code",
   "execution_count": 3,
   "metadata": {},
   "outputs": [
    {
     "data": {
      "text/plain": [
       "1    83876\n",
       "0    16124\n",
       "Name: Score, dtype: int64"
      ]
     },
     "execution_count": 3,
     "metadata": {},
     "output_type": "execute_result"
    }
   ],
   "source": [
    "filtered_data['Score'].value_counts()"
   ]
  },
  {
   "cell_type": "code",
   "execution_count": 4,
   "metadata": {},
   "outputs": [],
   "source": [
    "#Sorting data according to Time in ascending order\n",
    "sorted_data=filtered_data.sort_values('Time', axis=0, ascending=True, inplace=False, kind='quicksort', na_position='last')\n",
    "sorted_data.reset_index(drop=True, inplace=True)"
   ]
  },
  {
   "cell_type": "code",
   "execution_count": 5,
   "metadata": {},
   "outputs": [
    {
     "data": {
      "text/plain": [
       "(87775, 10)"
      ]
     },
     "execution_count": 5,
     "metadata": {},
     "output_type": "execute_result"
    }
   ],
   "source": [
    "#Deduplication of entries\n",
    "final=sorted_data.drop_duplicates(subset={\"UserId\",\"ProfileName\",\"Time\",\"Text\"}, keep='first', inplace=False)\n",
    "final.shape"
   ]
  },
  {
   "cell_type": "code",
   "execution_count": 6,
   "metadata": {},
   "outputs": [
    {
     "data": {
      "text/plain": [
       "87.775"
      ]
     },
     "execution_count": 6,
     "metadata": {},
     "output_type": "execute_result"
    }
   ],
   "source": [
    "#Checking to see how much % of data still remains\n",
    "(final['Id'].size*1.0)/(filtered_data['Id'].size*1.0)*100"
   ]
  },
  {
   "cell_type": "code",
   "execution_count": 7,
   "metadata": {},
   "outputs": [],
   "source": [
    "final=final[final.HelpfulnessNumerator<=final.HelpfulnessDenominator]"
   ]
  },
  {
   "cell_type": "code",
   "execution_count": 8,
   "metadata": {},
   "outputs": [
    {
     "name": "stdout",
     "output_type": "stream",
     "text": [
      "(87773, 10)\n"
     ]
    },
    {
     "data": {
      "text/plain": [
       "1    73592\n",
       "0    14181\n",
       "Name: Score, dtype: int64"
      ]
     },
     "execution_count": 8,
     "metadata": {},
     "output_type": "execute_result"
    }
   ],
   "source": [
    "#Before starting the next phase of preprocessing lets see the number of entries left\n",
    "print(final.shape)\n",
    "\n",
    "#How many positive and negative reviews are present in our dataset?\n",
    "final['Score'].value_counts()"
   ]
  },
  {
   "cell_type": "code",
   "execution_count": 9,
   "metadata": {},
   "outputs": [
    {
     "data": {
      "text/plain": [
       "(87773,)"
      ]
     },
     "execution_count": 9,
     "metadata": {},
     "output_type": "execute_result"
    }
   ],
   "source": [
    "final_score = final['Score']\n",
    "final_score.shape"
   ]
  },
  {
   "cell_type": "code",
   "execution_count": 10,
   "metadata": {},
   "outputs": [],
   "source": [
    "# https://stackoverflow.com/a/47091490/4084039\n",
    "import re\n",
    "\n",
    "def decontracted(phrase):\n",
    "    # specific\n",
    "    phrase = re.sub(r\"won't\", \"will not\", phrase)\n",
    "    phrase = re.sub(r\"can\\'t\", \"can not\", phrase)\n",
    "\n",
    "    # general\n",
    "    phrase = re.sub(r\"n\\'t\", \" not\", phrase)\n",
    "    phrase = re.sub(r\"\\'re\", \" are\", phrase)\n",
    "    phrase = re.sub(r\"\\'s\", \" is\", phrase)\n",
    "    phrase = re.sub(r\"\\'d\", \" would\", phrase)\n",
    "    phrase = re.sub(r\"\\'ll\", \" will\", phrase)\n",
    "    phrase = re.sub(r\"\\'t\", \" not\", phrase)\n",
    "    phrase = re.sub(r\"\\'ve\", \" have\", phrase)\n",
    "    phrase = re.sub(r\"\\'m\", \" am\", phrase)\n",
    "    return phrase"
   ]
  },
  {
   "cell_type": "code",
   "execution_count": 11,
   "metadata": {},
   "outputs": [],
   "source": [
    "# https://gist.github.com/sebleier/554280\n",
    "# we are removing the words from the stop words list: 'no', 'nor', 'not'\n",
    "# <br /><br /> ==> after the above steps, we are getting \"br br\"\n",
    "# we are including them into stop words list\n",
    "# instead of <br /> if we have <br/> these tags would have revmoved in the 1st step\n",
    "\n",
    "stopwords= set(['br', 'the', 'i', 'me', 'my', 'myself', 'we', 'our', 'ours', 'ourselves', 'you', \"you're\", \"you've\",\\\n",
    "            \"you'll\", \"you'd\", 'your', 'yours', 'yourself', 'yourselves', 'he', 'him', 'his', 'himself', \\\n",
    "            'she', \"she's\", 'her', 'hers', 'herself', 'it', \"it's\", 'its', 'itself', 'they', 'them', 'their',\\\n",
    "            'theirs', 'themselves', 'what', 'which', 'who', 'whom', 'this', 'that', \"that'll\", 'these', 'those', \\\n",
    "            'am', 'is', 'are', 'was', 'were', 'be', 'been', 'being', 'have', 'has', 'had', 'having', 'do', 'does', \\\n",
    "            'did', 'doing', 'a', 'an', 'the', 'and', 'but', 'if', 'or', 'because', 'as', 'until', 'while', 'of', \\\n",
    "            'at', 'by', 'for', 'with', 'about', 'against', 'between', 'into', 'through', 'during', 'before', 'after',\\\n",
    "            'above', 'below','not','no', 'to', 'from', 'up', 'down', 'in', 'out', 'on', 'off', 'over', 'under', 'again', 'further',\\\n",
    "            'then', 'once', 'here', 'there', 'when', 'where', 'why', 'how', 'all', 'any', 'both', 'each', 'few', 'more',\\\n",
    "            'most', 'other', 'some', 'such', 'only', 'own', 'same', 'so', 'than', 'too', 'very', \\\n",
    "            's', 't', 'can', 'will', 'just', 'don', \"don't\", 'should', \"should've\", 'now', 'd', 'll', 'm', 'o', 're', \\\n",
    "            've', 'y', 'ain', 'aren', \"aren't\", 'couldn', \"couldn't\", 'didn', \"didn't\", 'doesn', \"doesn't\", 'hadn',\\\n",
    "            \"hadn't\", 'hasn', \"hasn't\", 'haven', \"haven't\", 'isn', \"isn't\", 'ma', 'mightn', \"mightn't\", 'mustn',\\\n",
    "            \"mustn't\", 'needn', \"needn't\", 'shan', \"shan't\", 'shouldn', \"shouldn't\", 'wasn', \"wasn't\", 'weren', \"weren't\", \\\n",
    "            'won', \"won't\", 'wouldn', \"wouldn't\"])"
   ]
  },
  {
   "cell_type": "code",
   "execution_count": 12,
   "metadata": {},
   "outputs": [
    {
     "name": "stderr",
     "output_type": "stream",
     "text": [
      "100%|██████████████████████████████████████████████████████████████████████████| 87773/87773 [00:56<00:00, 1566.68it/s]\n"
     ]
    }
   ],
   "source": [
    "# Combining all the above stundents \n",
    "from tqdm import tqdm\n",
    "from bs4 import BeautifulSoup\n",
    "\n",
    "preprocessed_reviews = []\n",
    "# tqdm is for printing the status bar\n",
    "for sentance in tqdm(final['Text'].values):\n",
    "    sentance = re.sub(r\"http\\S+\", \"\", sentance)\n",
    "    sentance = BeautifulSoup(sentance, 'lxml').get_text()\n",
    "    sentance = decontracted(sentance)\n",
    "    sentance = re.sub(\"\\S*\\d\\S*\", \"\", sentance).strip()\n",
    "    sentance = re.sub('[^A-Za-z]+', ' ', sentance)\n",
    "    # https://gist.github.com/sebleier/554280\n",
    "    sentance = ' '.join(e.lower() for e in sentance.split() if e.lower() not in stopwords)\n",
    "    preprocessed_reviews.append(sentance.strip())"
   ]
  },
  {
   "cell_type": "markdown",
   "metadata": {},
   "source": [
    "## 1) Applying Support Vector Machine "
   ]
  },
  {
   "cell_type": "markdown",
   "metadata": {},
   "source": [
    "## 1.1) Applying Support Vector Machine on BOW, SET 1"
   ]
  },
  {
   "cell_type": "code",
   "execution_count": 13,
   "metadata": {},
   "outputs": [],
   "source": [
    "# Getting all the imports done\n",
    "\n",
    "from sklearn.metrics import accuracy_score\n",
    "#from sklearn.cross_validation import cross_val_score\n",
    "from collections import Counter\n",
    "from sklearn.metrics import accuracy_score\n",
    "#from sklearn import cross_validation\n",
    "from sklearn.metrics import roc_auc_score\n",
    "from sklearn import preprocessing\n",
    "from sklearn.model_selection import train_test_split\n",
    "from sklearn.metrics import auc,roc_curve\n",
    "from sklearn.metrics import confusion_matrix\n",
    "from sklearn.feature_extraction.text import TfidfVectorizer\n",
    "from sklearn.preprocessing import StandardScaler\n",
    "from sklearn.utils import resample\n",
    "from sklearn.linear_model import SGDClassifier\n",
    "from scipy.sparse import hstack\n",
    "from sklearn.model_selection import GridSearchCV\n",
    "from sklearn.calibration import CalibratedClassifierCV"
   ]
  },
  {
   "cell_type": "code",
   "execution_count": 14,
   "metadata": {},
   "outputs": [],
   "source": [
    "final['Cleaned_Text']=preprocessed_reviews\n",
    "final_review = final[['Cleaned_Text','Score']]\n",
    "X = final_review.drop(['Score'],axis=1)\n",
    "Y = final_review['Score']"
   ]
  },
  {
   "cell_type": "code",
   "execution_count": 15,
   "metadata": {},
   "outputs": [
    {
     "name": "stdout",
     "output_type": "stream",
     "text": [
      "(70218, 1) (70218,)\n"
     ]
    }
   ],
   "source": [
    "# Please write all the code with proper documentation\n",
    "# TIME BASED SPILTTING\n",
    "# SIMPLE CROSS VALIDATION\n",
    "\n",
    "X_1_train, X_test, Y_1_train, Y_test = train_test_split(X,Y,test_size=0.2,shuffle = False)\n",
    "#X_1_train, X_1_cv, Y_1_train, Y_1_cv = train_test_split( X_1, Y_1, test_size=0.2,shuffle = False)\n",
    "print(X_1_train.shape,Y_1_train.shape)"
   ]
  },
  {
   "cell_type": "code",
   "execution_count": 16,
   "metadata": {},
   "outputs": [],
   "source": [
    "df_post_split = pd.concat([X_1_train,Y_1_train],axis=1)\n",
    "x_positive = df_post_split[df_post_split['Score']==1]\n",
    "x_negetive = df_post_split[df_post_split['Score']==0]"
   ]
  },
  {
   "cell_type": "code",
   "execution_count": 17,
   "metadata": {},
   "outputs": [
    {
     "data": {
      "text/plain": [
       "1    58951\n",
       "0    11267\n",
       "Name: Score, dtype: int64"
      ]
     },
     "execution_count": 17,
     "metadata": {},
     "output_type": "execute_result"
    }
   ],
   "source": [
    "df_post_split['Score'].value_counts()"
   ]
  },
  {
   "cell_type": "code",
   "execution_count": 18,
   "metadata": {},
   "outputs": [],
   "source": [
    "# For every observation of class 1, randomly sample from class 0 without replacement\n",
    "#x_negetive_upsample = resample(x_negetive, replace = True, n_samples=17000)\n",
    "x_negative_downsample = resample(x_negetive,replace=True,n_samples=48000,random_state=123) "
   ]
  },
  {
   "cell_type": "code",
   "execution_count": 19,
   "metadata": {},
   "outputs": [
    {
     "name": "stdout",
     "output_type": "stream",
     "text": [
      "(48000, 2) <class 'pandas.core.frame.DataFrame'>\n"
     ]
    }
   ],
   "source": [
    "print(x_negative_downsample.shape, type(x_positive))"
   ]
  },
  {
   "cell_type": "code",
   "execution_count": 20,
   "metadata": {},
   "outputs": [
    {
     "data": {
      "text/html": [
       "<div>\n",
       "<style scoped>\n",
       "    .dataframe tbody tr th:only-of-type {\n",
       "        vertical-align: middle;\n",
       "    }\n",
       "\n",
       "    .dataframe tbody tr th {\n",
       "        vertical-align: top;\n",
       "    }\n",
       "\n",
       "    .dataframe thead th {\n",
       "        text-align: right;\n",
       "    }\n",
       "</style>\n",
       "<table border=\"1\" class=\"dataframe\">\n",
       "  <thead>\n",
       "    <tr style=\"text-align: right;\">\n",
       "      <th></th>\n",
       "      <th>Cleaned_Text</th>\n",
       "      <th>Score</th>\n",
       "    </tr>\n",
       "  </thead>\n",
       "  <tbody>\n",
       "    <tr>\n",
       "      <th>0</th>\n",
       "      <td>bought apartment infested fruit flies hours tr...</td>\n",
       "      <td>1</td>\n",
       "    </tr>\n",
       "    <tr>\n",
       "      <th>1</th>\n",
       "      <td>really good idea final product outstanding use...</td>\n",
       "      <td>1</td>\n",
       "    </tr>\n",
       "    <tr>\n",
       "      <th>2</th>\n",
       "      <td>received shipment could hardly wait try produc...</td>\n",
       "      <td>1</td>\n",
       "    </tr>\n",
       "    <tr>\n",
       "      <th>3</th>\n",
       "      <td>nothing product bother link top page buy used ...</td>\n",
       "      <td>1</td>\n",
       "    </tr>\n",
       "    <tr>\n",
       "      <th>4</th>\n",
       "      <td>love stuff sugar free rot gums tastes good goi...</td>\n",
       "      <td>1</td>\n",
       "    </tr>\n",
       "  </tbody>\n",
       "</table>\n",
       "</div>"
      ],
      "text/plain": [
       "                                        Cleaned_Text  Score\n",
       "0  bought apartment infested fruit flies hours tr...      1\n",
       "1  really good idea final product outstanding use...      1\n",
       "2  received shipment could hardly wait try produc...      1\n",
       "3  nothing product bother link top page buy used ...      1\n",
       "4  love stuff sugar free rot gums tastes good goi...      1"
      ]
     },
     "execution_count": 20,
     "metadata": {},
     "output_type": "execute_result"
    }
   ],
   "source": [
    "#df_upsample = pd.concat([x_positive,x_negetive_upsample])\n",
    "df_upsample = pd.concat([x_positive,x_negative_downsample])\n",
    "type(df_upsample)\n",
    "df_upsample.head()"
   ]
  },
  {
   "cell_type": "code",
   "execution_count": 21,
   "metadata": {},
   "outputs": [
    {
     "data": {
      "text/plain": [
       "1    58951\n",
       "0    48000\n",
       "Name: Score, dtype: int64"
      ]
     },
     "execution_count": 21,
     "metadata": {},
     "output_type": "execute_result"
    }
   ],
   "source": [
    "df_upsample['Score'].value_counts()"
   ]
  },
  {
   "cell_type": "code",
   "execution_count": 22,
   "metadata": {},
   "outputs": [
    {
     "name": "stdout",
     "output_type": "stream",
     "text": [
      "(106951, 1) (106951,)\n"
     ]
    }
   ],
   "source": [
    "X_Train = df_upsample.drop(['Score'],axis=1)\n",
    "Y_1_train = df_upsample['Score']\n",
    "print(X_Train.shape, Y_1_train.shape)"
   ]
  },
  {
   "cell_type": "code",
   "execution_count": 173,
   "metadata": {},
   "outputs": [
    {
     "name": "stdout",
     "output_type": "stream",
     "text": [
      "(70218, 2) (106951,)\n"
     ]
    }
   ],
   "source": [
    "print(X_Train.shape, Y_1_train.shape)"
   ]
  },
  {
   "cell_type": "code",
   "execution_count": 23,
   "metadata": {},
   "outputs": [
    {
     "name": "stdout",
     "output_type": "stream",
     "text": [
      "(106951, 13385) (17555, 13385)\n"
     ]
    }
   ],
   "source": [
    "# BoW -- transform with unigram and bigram\n",
    "\n",
    "ngram_vect = CountVectorizer(min_df=10)\n",
    "D1_Train = ngram_vect.fit_transform(X_Train['Cleaned_Text'])\n",
    "#D1_Cv = ngram_vect.transform(X_1_cv['Cleaned_Text'])\n",
    "D1_Test = ngram_vect.transform(X_test['Cleaned_Text'])\n",
    "print(D1_Train.shape,D1_Test.shape)"
   ]
  },
  {
   "cell_type": "code",
   "execution_count": 24,
   "metadata": {},
   "outputs": [
    {
     "name": "stdout",
     "output_type": "stream",
     "text": [
      "106951\n",
      "17555\n"
     ]
    }
   ],
   "source": [
    "#n_cv = D1_Cv.get_shape()[0]\n",
    "n_train = D1_Train.get_shape()[0]\n",
    "n_test = D1_Test.get_shape()[0]\n",
    "print(n_train)\n",
    "print(n_test)"
   ]
  },
  {
   "cell_type": "code",
   "execution_count": 25,
   "metadata": {},
   "outputs": [
    {
     "name": "stderr",
     "output_type": "stream",
     "text": [
      "C:\\Users\\NamrataT\\Anaconda3\\lib\\site-packages\\sklearn\\utils\\validation.py:595: DataConversionWarning: Data with input dtype int64 was converted to float64 by StandardScaler.\n",
      "  warnings.warn(msg, DataConversionWarning)\n",
      "C:\\Users\\NamrataT\\Anaconda3\\lib\\site-packages\\sklearn\\utils\\validation.py:595: DataConversionWarning: Data with input dtype int64 was converted to float64 by StandardScaler.\n",
      "  warnings.warn(msg, DataConversionWarning)\n",
      "C:\\Users\\NamrataT\\Anaconda3\\lib\\site-packages\\sklearn\\utils\\validation.py:595: DataConversionWarning: Data with input dtype int64 was converted to float64 by StandardScaler.\n",
      "  warnings.warn(msg, DataConversionWarning)\n"
     ]
    },
    {
     "name": "stdout",
     "output_type": "stream",
     "text": [
      "(106951, 13385)\n",
      "(17555, 13385)\n"
     ]
    }
   ],
   "source": [
    "# Standardization Process\n",
    "# Changes done as suggested\n",
    "\n",
    "from sklearn.preprocessing import StandardScaler\n",
    "scaler = StandardScaler(with_mean=False)\n",
    "scaler.fit(D1_Train)\n",
    "D1_Train = scaler.transform(D1_Train)\n",
    "#D1_Cv = scaler.transform(D1_Cv)\n",
    "D1_Test = scaler.transform(D1_Test)\n",
    "\n",
    "print(D1_Train.shape)\n",
    "#print(D1_Cv.shape)\n",
    "print(D1_Test.shape)"
   ]
  },
  {
   "cell_type": "code",
   "execution_count": 28,
   "metadata": {},
   "outputs": [],
   "source": [
    "tuned_param = [{'alpha':[0.00001,0.0001,0.001,0.01,0.1,1,10,100,1000,10000]}]"
   ]
  },
  {
   "cell_type": "code",
   "execution_count": 32,
   "metadata": {},
   "outputs": [
    {
     "name": "stdout",
     "output_type": "stream",
     "text": [
      "SGDClassifier(alpha=0.1, average=False, class_weight='balanced',\n",
      "       early_stopping=False, epsilon=0.1, eta0=0.0, fit_intercept=True,\n",
      "       l1_ratio=0.15, learning_rate='optimal', loss='hinge', max_iter=None,\n",
      "       n_iter=None, n_iter_no_change=5, n_jobs=None, penalty='l2',\n",
      "       power_t=0.5, random_state=None, shuffle=True, tol=None,\n",
      "       validation_fraction=0.1, verbose=0, warm_start=False)\n",
      "AUC Score :  0.9119537996010396\n"
     ]
    }
   ],
   "source": [
    "#Fitting the SGDClassifier Model to GridSearchCV to find the optimal hyper parameter for L2 Penalty\n",
    "\n",
    "svm_clf = GridSearchCV(SGDClassifier(loss='hinge', penalty='l2',class_weight = 'balanced'),tuned_param, cv = 3, scoring = 'roc_auc')\n",
    "svm_clf.fit(D1_Train,Y_1_train)\n",
    "\n",
    "print(svm_clf.best_estimator_)\n",
    "print(\"AUC Score : \",svm_clf.score(D1_Test,Y_test))"
   ]
  },
  {
   "cell_type": "code",
   "execution_count": 57,
   "metadata": {},
   "outputs": [
    {
     "name": "stdout",
     "output_type": "stream",
     "text": [
      "17555\n",
      "Algo Run Successfully on D_Test\n",
      "====================================================================================================\n"
     ]
    }
   ],
   "source": [
    "# Fitting the model on test data \n",
    "\n",
    "test_neigh = SGDClassifier(loss='hinge', penalty='l2',class_weight = 'balanced', alpha = 1)\n",
    "test_neigh.fit(D1_Train,Y_1_train)\n",
    "\n",
    "predicted_labels_test = []\n",
    "predicted_labels_train = []\n",
    "\n",
    "# Predicting the model with Train Data\n",
    "for j in range(0,n_test,1000):\n",
    "    predicted_labels_test.extend(test_neigh.predict(D1_Test[j:j+1000]))\n",
    "    #predict_test_prob.extend(test_neigh.predict_proba(D1_Test[j:j+1000])[:,1])\n",
    "    \n",
    "for k in range(0,n_train,1000):\n",
    "    predicted_labels_train.extend(test_neigh.predict(D1_Train[k:k+1000]))\n",
    "    #predict_train_prob.extend(test_neigh.predict_proba(D1_Train[k:k+1000])[:,1])\n",
    "    \n",
    "#print(len(predict_test_prob))\n",
    "print(len(Y_test))\n",
    "    \n",
    "#train_fpr, train_tpr, thresholds = roc_curve(Y_1_train, predict_train_prob)\n",
    "#test_fpr, test_tpr, thresholds = roc_curve(Y_test, predict_test_prob)\n",
    "\n",
    "print('Algo Run Successfully on D_Test')\n",
    "print(\"=\"*100)"
   ]
  },
  {
   "cell_type": "code",
   "execution_count": 58,
   "metadata": {},
   "outputs": [
    {
     "name": "stdout",
     "output_type": "stream",
     "text": [
      "Train Confusion Matrix\n",
      "44562 3438 4650 54301\n",
      "[[44562  3438]\n",
      " [ 4650 54301]]\n",
      "========================================================================================================================\n",
      "Test Confusion Matrix\n",
      "2418 496 1330 13311\n",
      "[[ 2418   496]\n",
      " [ 1330 13311]]\n",
      "========================================================================================================================\n"
     ]
    }
   ],
   "source": [
    "# Getting the confusion metrics\n",
    "\n",
    "print('Train Confusion Matrix')\n",
    "tr_true_negetive,tr_false_positive, tr_false_negetive, tr_true_positive = confusion_matrix(Y_1_train,predicted_labels_train).ravel()\n",
    "print(tr_true_negetive, tr_false_positive, tr_false_negetive, tr_true_positive)\n",
    "print(confusion_matrix(Y_1_train,predicted_labels_train))\n",
    "print(\"=\"*120)\n",
    "\n",
    "print('Test Confusion Matrix')\n",
    "true_negetive,false_positive, false_negetive, true_positive = confusion_matrix(Y_test,predicted_labels_test).ravel()\n",
    "print(true_negetive, false_positive, false_negetive, true_positive)\n",
    "print(confusion_matrix(Y_test,predicted_labels_test))\n",
    "print(\"=\"*120)"
   ]
  },
  {
   "cell_type": "code",
   "execution_count": 108,
   "metadata": {},
   "outputs": [
    {
     "name": "stdout",
     "output_type": "stream",
     "text": [
      "Best Parameters :  {'base_estimator__alpha': 1, 'base_estimator__average': False, 'base_estimator__class_weight': 'balanced', 'base_estimator__early_stopping': False, 'base_estimator__epsilon': 0.1, 'base_estimator__eta0': 0.0, 'base_estimator__fit_intercept': True, 'base_estimator__l1_ratio': 0.15, 'base_estimator__learning_rate': 'optimal', 'base_estimator__loss': 'hinge', 'base_estimator__max_iter': None, 'base_estimator__n_iter': None, 'base_estimator__n_iter_no_change': 5, 'base_estimator__n_jobs': None, 'base_estimator__penalty': 'l2', 'base_estimator__power_t': 0.5, 'base_estimator__random_state': None, 'base_estimator__shuffle': True, 'base_estimator__tol': None, 'base_estimator__validation_fraction': 0.1, 'base_estimator__verbose': 0, 'base_estimator__warm_start': False, 'base_estimator': SGDClassifier(alpha=1, average=False, class_weight='balanced',\n",
      "       early_stopping=False, epsilon=0.1, eta0=0.0, fit_intercept=True,\n",
      "       l1_ratio=0.15, learning_rate='optimal', loss='hinge', max_iter=None,\n",
      "       n_iter=None, n_iter_no_change=5, n_jobs=None, penalty='l2',\n",
      "       power_t=0.5, random_state=None, shuffle=True, tol=None,\n",
      "       validation_fraction=0.1, verbose=0, warm_start=False), 'cv': 'prefit', 'method': 'isotonic'}\n"
     ]
    }
   ],
   "source": [
    "#\n",
    "\n",
    "svm_bow_clf = SGDClassifier(loss='hinge', penalty='l2',class_weight = 'balanced', alpha = 1)\n",
    "svm_bow_clf.fit(D1_Train,Y_1_train)\n",
    "\n",
    "calibrated_bow_clf = CalibratedClassifierCV(base_estimator=svm_bow_clf, cv='prefit', method='isotonic')\n",
    "calibrated_bow_clf.fit(D1_Train,Y_1_train)\n",
    "\n",
    "print(\"Best Parameters : \", calibrated_bow_clf.get_params(calibrated_bow_clf))"
   ]
  },
  {
   "cell_type": "code",
   "execution_count": 109,
   "metadata": {},
   "outputs": [
    {
     "name": "stdout",
     "output_type": "stream",
     "text": [
      "17555\n",
      "17555\n",
      "Algo Run Successfully on D_Test\n",
      "====================================================================================================\n"
     ]
    }
   ],
   "source": [
    "# Predicting the model with Test Data\n",
    "predicted_labels_test = []\n",
    "predicted_labels_train = []\n",
    "predict_test_prob = []\n",
    "predict_train_prob = []\n",
    "\n",
    "for j in range(0,n_test,1000):\n",
    "    predicted_labels_test.extend(calibrated_bow_clf.predict(D1_Test[j:j+1000]))\n",
    "    predict_test_prob.extend(calibrated_bow_clf.predict_proba(D1_Test[j:j+1000])[:,1])\n",
    "    \n",
    "for k in range(0,n_train,1000):\n",
    "    predicted_labels_train.extend(calibrated_bow_clf.predict(D1_Train[k:k+1000]))\n",
    "    predict_train_prob.extend(calibrated_bow_clf.predict_proba(D1_Train[k:k+1000])[:,1])\n",
    "    \n",
    "print(len(predict_test_prob))\n",
    "print(len(Y_test))\n",
    "    \n",
    "train_fpr, train_tpr, thresholds = roc_curve(Y_1_train, predict_train_prob)\n",
    "test_fpr, test_tpr, thresholds = roc_curve(Y_test, predict_test_prob)\n",
    "\n",
    "print('Algo Run Successfully on D_Test')\n",
    "print(\"=\"*100)"
   ]
  },
  {
   "cell_type": "code",
   "execution_count": 110,
   "metadata": {},
   "outputs": [
    {
     "data": {
      "image/png": "[encoded data removed]",
      "text/plain": [
       "<Figure size 432x288 with 1 Axes>"
      ]
     },
     "metadata": {},
     "output_type": "display_data"
    },
    {
     "name": "stdout",
     "output_type": "stream",
     "text": [
      "====================================================================================================\n"
     ]
    }
   ],
   "source": [
    "# Plotting the AUC curve on Test and Train Data\n",
    "\n",
    "plt.plot(train_fpr, train_tpr, label=\"Train AUC =\"+str(auc(train_fpr, train_tpr)))\n",
    "plt.plot(test_fpr, test_tpr, label=\"Test AUC =\"+str(auc(test_fpr, test_tpr)))\n",
    "plt.legend()\n",
    "plt.xlabel(\"FPR\")\n",
    "plt.ylabel(\"TPR\")\n",
    "plt.title(\"ERROR PLOTS\")\n",
    "plt.show()\n",
    "\n",
    "print(\"=\"*100)"
   ]
  },
  {
   "cell_type": "code",
   "execution_count": 111,
   "metadata": {},
   "outputs": [
    {
     "name": "stdout",
     "output_type": "stream",
     "text": [
      "Train Confusion Matrix\n",
      "44489 3511 4485 54466\n",
      "[[44489  3511]\n",
      " [ 4485 54466]]\n",
      "========================================================================================================================\n",
      "Test Confusion Matrix\n",
      "2412 502 1298 13343\n",
      "[[ 2412   502]\n",
      " [ 1298 13343]]\n",
      "========================================================================================================================\n"
     ]
    }
   ],
   "source": [
    "# Getting the confusion metrics\n",
    "\n",
    "print('Train Confusion Matrix')\n",
    "tr_true_negetive,tr_false_positive, tr_false_negetive, tr_true_positive = confusion_matrix(Y_1_train,predicted_labels_train).ravel()\n",
    "print(tr_true_negetive, tr_false_positive, tr_false_negetive, tr_true_positive)\n",
    "print(confusion_matrix(Y_1_train,predicted_labels_train))\n",
    "print(\"=\"*120)\n",
    "\n",
    "print('Test Confusion Matrix')\n",
    "true_negetive,false_positive, false_negetive, true_positive = confusion_matrix(Y_test,predicted_labels_test).ravel()\n",
    "print(true_negetive, false_positive, false_negetive, true_positive)\n",
    "print(confusion_matrix(Y_test,predicted_labels_test))\n",
    "print(\"=\"*120)"
   ]
  },
  {
   "cell_type": "code",
   "execution_count": 112,
   "metadata": {},
   "outputs": [],
   "source": [
    "import seaborn as sns"
   ]
  },
  {
   "cell_type": "markdown",
   "metadata": {},
   "source": [
    "##### Heatmap of Confusion Matrix created on the model created with L2 Regularizer"
   ]
  },
  {
   "cell_type": "code",
   "execution_count": 113,
   "metadata": {},
   "outputs": [
    {
     "data": {
      "text/plain": [
       "Text(0.5,1,'Confusion Matrix of Train Data')"
      ]
     },
     "execution_count": 113,
     "metadata": {},
     "output_type": "execute_result"
    },
    {
     "data": {
      "image/png": "[encoded data removed]",
      "text/plain": [
       "<Figure size 432x288 with 2 Axes>"
      ]
     },
     "metadata": {},
     "output_type": "display_data"
    }
   ],
   "source": [
    "conMatrix= [[tr_true_negetive,tr_false_positive],[tr_false_negetive,tr_true_positive]]\n",
    "data = conMatrix\n",
    "sns.heatmap(data, cmap=\"YlGnBu\", annot=True, fmt=\"d\")\n",
    "plt.xlabel('Actual Values')\n",
    "plt.ylabel('Predicted Values')\n",
    "plt.title('Confusion Matrix of Train Data')"
   ]
  },
  {
   "cell_type": "code",
   "execution_count": 114,
   "metadata": {},
   "outputs": [
    {
     "data": {
      "text/plain": [
       "Text(0.5,1,'Confusion Matrix of Test Data')"
      ]
     },
     "execution_count": 114,
     "metadata": {},
     "output_type": "execute_result"
    },
    {
     "data": {
      "image/png": "[encoded data removed]",
      "text/plain": [
       "<Figure size 432x288 with 2 Axes>"
      ]
     },
     "metadata": {},
     "output_type": "display_data"
    }
   ],
   "source": [
    "conMatrix= [[true_negetive,false_positive],[false_negetive,true_positive]]\n",
    "data = conMatrix\n",
    "sns.heatmap(data, cmap=\"YlGnBu\", annot=True, fmt=\"d\")\n",
    "plt.xlabel('Actual Values')\n",
    "plt.ylabel('Predicted Values')\n",
    "plt.title('Confusion Matrix of Test Data')"
   ]
  },
  {
   "cell_type": "markdown",
   "metadata": {},
   "source": [
    "#### Feature Importance with L2 Penalty"
   ]
  },
  {
   "cell_type": "code",
   "execution_count": 115,
   "metadata": {},
   "outputs": [
    {
     "name": "stdout",
     "output_type": "stream",
     "text": [
      "\t-0.0641\tdisappointed   \t\t0.1055\tgreat          \n",
      "\t-0.0465\tbad            \t\t0.0692\tbest           \n",
      "\t-0.0457\tworst          \t\t0.0630\tdelicious      \n",
      "\t-0.0453\tdisappointing  \t\t0.0626\tlove           \n",
      "\t-0.0419\tthought        \t\t0.0566\tloves          \n",
      "\t-0.0419\tterrible       \t\t0.0519\tgood           \n",
      "\t-0.0416\tmoney          \t\t0.0500\tperfect        \n",
      "\t-0.0386\thorrible       \t\t0.0460\texcellent      \n",
      "\t-0.0379\tawful          \t\t0.0447\tfavorite       \n",
      "\t-0.0376\twaste          \t\t0.0435\tnice           \n"
     ]
    }
   ],
   "source": [
    "feature = ngram_vect.get_feature_names()\n",
    "coefs_with_fns = sorted(zip(svm_bow_clf.coef_[0], feature))\n",
    "top = zip(coefs_with_fns[:10], coefs_with_fns[:-11:-1])\n",
    "for (coef_1, fn_1), (coef_2, fn_2) in top:\n",
    "    print (\"\\t%.4f\\t%-15s\\t\\t%.4f\\t%-15s\" % (coef_1, fn_1, coef_2, fn_2))"
   ]
  },
  {
   "cell_type": "markdown",
   "metadata": {},
   "source": [
    "#### Trying out the SVM Model with L1 penalty"
   ]
  },
  {
   "cell_type": "code",
   "execution_count": 116,
   "metadata": {},
   "outputs": [
    {
     "name": "stdout",
     "output_type": "stream",
     "text": [
      "SGDClassifier(alpha=1e-05, average=False, class_weight='balanced',\n",
      "       early_stopping=False, epsilon=0.1, eta0=0.0, fit_intercept=True,\n",
      "       l1_ratio=0.15, learning_rate='optimal', loss='hinge', max_iter=None,\n",
      "       n_iter=None, n_iter_no_change=5, n_jobs=None, penalty='l1',\n",
      "       power_t=0.5, random_state=None, shuffle=True, tol=None,\n",
      "       validation_fraction=0.1, verbose=0, warm_start=False)\n",
      "AUC Score :  0.8630333710436142\n"
     ]
    }
   ],
   "source": [
    "#Fitting the SGDClassifier Model to GridSearchCV to find the optimal hyper parameter for L1 Penalty\n",
    "\n",
    "svm_clf = GridSearchCV(SGDClassifier(loss='hinge', penalty='l1',class_weight = 'balanced'),tuned_param, cv = 3, scoring = 'roc_auc')\n",
    "svm_clf.fit(D1_Train,Y_1_train)\n",
    "\n",
    "print(svm_clf.best_estimator_)\n",
    "print(\"AUC Score : \",svm_clf.score(D1_Test,Y_test))"
   ]
  },
  {
   "cell_type": "code",
   "execution_count": 117,
   "metadata": {},
   "outputs": [
    {
     "name": "stdout",
     "output_type": "stream",
     "text": [
      "17555\n",
      "Algo Run Successfully on D_Test\n",
      "====================================================================================================\n"
     ]
    }
   ],
   "source": [
    "# Fitting the model on test data \n",
    "\n",
    "test_neigh = SGDClassifier(loss='hinge', penalty='l1',class_weight = 'balanced', alpha = 0.0001)\n",
    "test_neigh.fit(D1_Train,Y_1_train)\n",
    "\n",
    "predicted_labels_test = []\n",
    "predicted_labels_train = []\n",
    "\n",
    "# Predicting the model with Train Data\n",
    "for j in range(0,n_test,1000):\n",
    "    predicted_labels_test.extend(test_neigh.predict(D1_Test[j:j+1000]))\n",
    "    \n",
    "for k in range(0,n_train,1000):\n",
    "    predicted_labels_train.extend(test_neigh.predict(D1_Train[k:k+1000]))\n",
    "    \n",
    "print(len(Y_test))\n",
    "\n",
    "print('Algo Run Successfully on D_Test')\n",
    "print(\"=\"*100)"
   ]
  },
  {
   "cell_type": "code",
   "execution_count": 118,
   "metadata": {},
   "outputs": [
    {
     "name": "stdout",
     "output_type": "stream",
     "text": [
      "Train Confusion Matrix\n",
      "43678 4322 4985 53966\n",
      "[[43678  4322]\n",
      " [ 4985 53966]]\n",
      "========================================================================================================================\n",
      "Test Confusion Matrix\n",
      "2073 841 1673 12968\n",
      "[[ 2073   841]\n",
      " [ 1673 12968]]\n",
      "========================================================================================================================\n"
     ]
    }
   ],
   "source": [
    "# Getting the confusion metrics\n",
    "\n",
    "print('Train Confusion Matrix')\n",
    "tr_true_negetive,tr_false_positive, tr_false_negetive, tr_true_positive = confusion_matrix(Y_1_train,predicted_labels_train).ravel()\n",
    "print(tr_true_negetive, tr_false_positive, tr_false_negetive, tr_true_positive)\n",
    "print(confusion_matrix(Y_1_train,predicted_labels_train))\n",
    "print(\"=\"*120)\n",
    "\n",
    "print('Test Confusion Matrix')\n",
    "true_negetive,false_positive, false_negetive, true_positive = confusion_matrix(Y_test,predicted_labels_test).ravel()\n",
    "print(true_negetive, false_positive, false_negetive, true_positive)\n",
    "print(confusion_matrix(Y_test,predicted_labels_test))\n",
    "print(\"=\"*120)"
   ]
  },
  {
   "cell_type": "code",
   "execution_count": 119,
   "metadata": {},
   "outputs": [
    {
     "name": "stdout",
     "output_type": "stream",
     "text": [
      "Best Parameters :  {'base_estimator__alpha': 0.0001, 'base_estimator__average': False, 'base_estimator__class_weight': 'balanced', 'base_estimator__early_stopping': False, 'base_estimator__epsilon': 0.1, 'base_estimator__eta0': 0.0, 'base_estimator__fit_intercept': True, 'base_estimator__l1_ratio': 0.15, 'base_estimator__learning_rate': 'optimal', 'base_estimator__loss': 'hinge', 'base_estimator__max_iter': None, 'base_estimator__n_iter': None, 'base_estimator__n_iter_no_change': 5, 'base_estimator__n_jobs': None, 'base_estimator__penalty': 'l1', 'base_estimator__power_t': 0.5, 'base_estimator__random_state': None, 'base_estimator__shuffle': True, 'base_estimator__tol': None, 'base_estimator__validation_fraction': 0.1, 'base_estimator__verbose': 0, 'base_estimator__warm_start': False, 'base_estimator': SGDClassifier(alpha=0.0001, average=False, class_weight='balanced',\n",
      "       early_stopping=False, epsilon=0.1, eta0=0.0, fit_intercept=True,\n",
      "       l1_ratio=0.15, learning_rate='optimal', loss='hinge', max_iter=None,\n",
      "       n_iter=None, n_iter_no_change=5, n_jobs=None, penalty='l1',\n",
      "       power_t=0.5, random_state=None, shuffle=True, tol=None,\n",
      "       validation_fraction=0.1, verbose=0, warm_start=False), 'cv': 'prefit', 'method': 'isotonic'}\n"
     ]
    }
   ],
   "source": [
    "#\n",
    "\n",
    "svm_bow_clf_l1 = SGDClassifier(loss='hinge', penalty='l1',class_weight = 'balanced', alpha = 0.0001)\n",
    "svm_bow_clf_l1.fit(D1_Train,Y_1_train)\n",
    "\n",
    "calibrated_bow_clf = CalibratedClassifierCV(base_estimator=svm_bow_clf_l1, cv='prefit', method='isotonic')\n",
    "calibrated_bow_clf.fit(D1_Train,Y_1_train)\n",
    "\n",
    "print(\"Best Parameters : \", calibrated_bow_clf.get_params(calibrated_bow_clf))"
   ]
  },
  {
   "cell_type": "code",
   "execution_count": 120,
   "metadata": {},
   "outputs": [
    {
     "name": "stdout",
     "output_type": "stream",
     "text": [
      "17555\n",
      "17555\n",
      "Algo Run Successfully on D_Test\n",
      "====================================================================================================\n"
     ]
    }
   ],
   "source": [
    "# Predicting the model with Test Data\n",
    "predicted_labels_test = []\n",
    "predicted_labels_train = []\n",
    "predict_test_prob = []\n",
    "predict_train_prob = []\n",
    "\n",
    "for j in range(0,n_test,1000):\n",
    "    predicted_labels_test.extend(calibrated_bow_clf.predict(D1_Test[j:j+1000]))\n",
    "    predict_test_prob.extend(calibrated_bow_clf.predict_proba(D1_Test[j:j+1000])[:,1])\n",
    "    \n",
    "for k in range(0,n_train,1000):\n",
    "    predicted_labels_train.extend(calibrated_bow_clf.predict(D1_Train[k:k+1000]))\n",
    "    predict_train_prob.extend(calibrated_bow_clf.predict_proba(D1_Train[k:k+1000])[:,1])\n",
    "    \n",
    "print(len(predict_test_prob))\n",
    "print(len(Y_test))\n",
    "    \n",
    "train_fpr, train_tpr, thresholds = roc_curve(Y_1_train, predict_train_prob)\n",
    "test_fpr, test_tpr, thresholds = roc_curve(Y_test, predict_test_prob)\n",
    "\n",
    "print('Algo Run Successfully on D_Test')\n",
    "print(\"=\"*100)"
   ]
  },
  {
   "cell_type": "code",
   "execution_count": 121,
   "metadata": {},
   "outputs": [
    {
     "data": {
      "image/png": "[encoded data removed]",
      "text/plain": [
       "<Figure size 432x288 with 1 Axes>"
      ]
     },
     "metadata": {},
     "output_type": "display_data"
    },
    {
     "name": "stdout",
     "output_type": "stream",
     "text": [
      "====================================================================================================\n"
     ]
    }
   ],
   "source": [
    "# Plotting the AUC curve on Test and Train Data\n",
    "\n",
    "plt.plot(train_fpr, train_tpr, label=\"Train AUC =\"+str(auc(train_fpr, train_tpr)))\n",
    "plt.plot(test_fpr, test_tpr, label=\"Test AUC =\"+str(auc(test_fpr, test_tpr)))\n",
    "plt.legend()\n",
    "plt.xlabel(\"FPR\")\n",
    "plt.ylabel(\"TPR\")\n",
    "plt.title(\"ERROR PLOTS\")\n",
    "plt.show()\n",
    "\n",
    "print(\"=\"*100)"
   ]
  },
  {
   "cell_type": "code",
   "execution_count": 122,
   "metadata": {},
   "outputs": [
    {
     "name": "stdout",
     "output_type": "stream",
     "text": [
      "Train Confusion Matrix\n",
      "44774 3226 5179 53772\n",
      "[[44774  3226]\n",
      " [ 5179 53772]]\n",
      "========================================================================================================================\n",
      "Test Confusion Matrix\n",
      "2091 823 1692 12949\n",
      "[[ 2091   823]\n",
      " [ 1692 12949]]\n",
      "========================================================================================================================\n"
     ]
    }
   ],
   "source": [
    "# Getting the confusion metrics\n",
    "\n",
    "print('Train Confusion Matrix')\n",
    "tr_true_negetive,tr_false_positive, tr_false_negetive, tr_true_positive = confusion_matrix(Y_1_train,predicted_labels_train).ravel()\n",
    "print(tr_true_negetive, tr_false_positive, tr_false_negetive, tr_true_positive)\n",
    "print(confusion_matrix(Y_1_train,predicted_labels_train))\n",
    "print(\"=\"*120)\n",
    "\n",
    "print('Test Confusion Matrix')\n",
    "true_negetive,false_positive, false_negetive, true_positive = confusion_matrix(Y_test,predicted_labels_test).ravel()\n",
    "print(true_negetive, false_positive, false_negetive, true_positive)\n",
    "print(confusion_matrix(Y_test,predicted_labels_test))\n",
    "print(\"=\"*120)"
   ]
  },
  {
   "cell_type": "markdown",
   "metadata": {},
   "source": [
    "##### Heatmap of Confusion Matrix created on the model created with L1 Regularizer"
   ]
  },
  {
   "cell_type": "code",
   "execution_count": 123,
   "metadata": {},
   "outputs": [
    {
     "data": {
      "text/plain": [
       "Text(0.5,1,'Confusion Matrix of Train Data')"
      ]
     },
     "execution_count": 123,
     "metadata": {},
     "output_type": "execute_result"
    },
    {
     "data": {
      "image/png": "[encoded data removed]",
      "text/plain": [
       "<Figure size 432x288 with 2 Axes>"
      ]
     },
     "metadata": {},
     "output_type": "display_data"
    }
   ],
   "source": [
    "conMatrix= [[tr_true_negetive,tr_false_positive],[tr_false_negetive,tr_true_positive]]\n",
    "data = conMatrix\n",
    "sns.heatmap(data, cmap=\"YlGnBu\", annot=True, fmt=\"d\")\n",
    "plt.xlabel('Actual Values')\n",
    "plt.ylabel('Predicted Values')\n",
    "plt.title('Confusion Matrix of Train Data')"
   ]
  },
  {
   "cell_type": "code",
   "execution_count": 124,
   "metadata": {},
   "outputs": [
    {
     "data": {
      "text/plain": [
       "Text(0.5,1,'Confusion Matrix of Test Data')"
      ]
     },
     "execution_count": 124,
     "metadata": {},
     "output_type": "execute_result"
    },
    {
     "data": {
      "image/png": "[encoded data removed]",
      "text/plain": [
       "<Figure size 432x288 with 2 Axes>"
      ]
     },
     "metadata": {},
     "output_type": "display_data"
    }
   ],
   "source": [
    "conMatrix= [[true_negetive,false_positive],[false_negetive,true_positive]]\n",
    "data = conMatrix\n",
    "sns.heatmap(data, cmap=\"YlGnBu\", annot=True, fmt=\"d\")\n",
    "plt.xlabel('Actual Values')\n",
    "plt.ylabel('Predicted Values')\n",
    "plt.title('Confusion Matrix of Test Data')"
   ]
  },
  {
   "cell_type": "markdown",
   "metadata": {},
   "source": [
    "#### Feature Importance on L1 Penalty"
   ]
  },
  {
   "cell_type": "code",
   "execution_count": 125,
   "metadata": {},
   "outputs": [
    {
     "name": "stdout",
     "output_type": "stream",
     "text": [
      "\t-1484.3538\tmgs            \t\t1664.8365\tjolokia        \n",
      "\t-1124.2052\tcombat         \t\t1320.8658\tgreat          \n",
      "\t-1055.5796\tjuan           \t\t971.2024\tincandescent   \n",
      "\t-1040.2845\tcontaminates   \t\t942.9329\tbest           \n",
      "\t-958.6814\tsyringe        \t\t899.6802\tdelicious      \n",
      "\t-938.4478\tpooped         \t\t899.0502\tpowerbar       \n",
      "\t-908.3218\ttroubling      \t\t871.5571\tperks          \n",
      "\t-902.4949\tworst          \t\t780.9561\tcuban          \n",
      "\t-853.0714\tneedles        \t\t775.9885\tfixtures       \n",
      "\t-850.9129\tdisappointed   \t\t764.6521\tgalileo        \n"
     ]
    }
   ],
   "source": [
    "feature = ngram_vect.get_feature_names()\n",
    "coefs_with_fns = sorted(zip(svm_bow_clf_l1.coef_[0], feature))\n",
    "top = zip(coefs_with_fns[:10], coefs_with_fns[:-11:-1])\n",
    "for (coef_1, fn_1), (coef_2, fn_2) in top:\n",
    "    print (\"\\t%.4f\\t%-15s\\t\\t%.4f\\t%-15s\" % (coef_1, fn_1, coef_2, fn_2))"
   ]
  },
  {
   "cell_type": "markdown",
   "metadata": {},
   "source": [
    "##### We can see from the above observations that L2 penalty is working better than the other with alpha = 1 as the best hyper-parameter."
   ]
  },
  {
   "cell_type": "markdown",
   "metadata": {},
   "source": [
    "## 1.2) Applying SVM - Linear Kernel on TF-IDF, SET 2"
   ]
  },
  {
   "cell_type": "code",
   "execution_count": 66,
   "metadata": {},
   "outputs": [],
   "source": [
    "from sklearn.model_selection import GridSearchCV"
   ]
  },
  {
   "cell_type": "code",
   "execution_count": 24,
   "metadata": {},
   "outputs": [
    {
     "name": "stdout",
     "output_type": "stream",
     "text": [
      "Some feature names :  ['aa', 'aa dark', 'aafco', 'aback', 'abandon', 'abandoned', 'abc', 'abdomen', 'abdominal', 'abdominal pain']\n",
      "(106951, 76619) (17555, 76619)\n"
     ]
    }
   ],
   "source": [
    "# Creating Tfidf Vectorizer\n",
    "\n",
    "tfidf_vect = TfidfVectorizer(ngram_range=(1,2) , min_df = 10)\n",
    "D2_Train = tfidf_vect.fit_transform(X_Train['Cleaned_Text'])\n",
    "D2_Test = tfidf_vect.transform(X_test['Cleaned_Text'])\n",
    "print(\"Some feature names : \", tfidf_vect.get_feature_names()[0:10])\n",
    "print(D2_Train.shape,D2_Test.shape)"
   ]
  },
  {
   "cell_type": "code",
   "execution_count": 25,
   "metadata": {},
   "outputs": [
    {
     "name": "stdout",
     "output_type": "stream",
     "text": [
      "(106951, 76619) (17555, 76619)\n"
     ]
    }
   ],
   "source": [
    "scaler_tfidf = StandardScaler(with_mean=False)\n",
    "scaler_tfidf.fit(D2_Train)\n",
    "D2_Train = scaler_tfidf.transform(D2_Train)\n",
    "D2_Test = scaler_tfidf.transform(D2_Test)\n",
    "print(D2_Train.shape,D2_Test.shape)"
   ]
  },
  {
   "cell_type": "code",
   "execution_count": 26,
   "metadata": {},
   "outputs": [
    {
     "name": "stdout",
     "output_type": "stream",
     "text": [
      "106951 17555\n"
     ]
    }
   ],
   "source": [
    "n_test = D2_Test.get_shape()[0]\n",
    "n_train = D2_Train.get_shape()[0]\n",
    "print(n_train,n_test)"
   ]
  },
  {
   "cell_type": "code",
   "execution_count": 29,
   "metadata": {},
   "outputs": [
    {
     "name": "stdout",
     "output_type": "stream",
     "text": [
      "SGDClassifier(alpha=1, average=False, class_weight='balanced',\n",
      "       early_stopping=False, epsilon=0.1, eta0=0.0, fit_intercept=True,\n",
      "       l1_ratio=0.15, learning_rate='optimal', loss='hinge', max_iter=None,\n",
      "       n_iter=None, n_iter_no_change=5, n_jobs=None, penalty='l2',\n",
      "       power_t=0.5, random_state=None, shuffle=True, tol=None,\n",
      "       validation_fraction=0.1, verbose=0, warm_start=False)\n",
      "AUC Score :  0.9380387022519332\n"
     ]
    }
   ],
   "source": [
    "#Fitting the SGDClassifier Model to GridSearchCV to find the optimal hyper parameter for L2 Penalty\n",
    "\n",
    "svm_clf_tfidf = GridSearchCV(SGDClassifier(loss='hinge', penalty='l2',class_weight = 'balanced'),tuned_param, cv = 3, scoring = 'roc_auc')\n",
    "svm_clf_tfidf.fit(D2_Train,Y_1_train)\n",
    "\n",
    "print(svm_clf_tfidf.best_estimator_)\n",
    "print(\"AUC Score : \",svm_clf_tfidf.score(D2_Test,Y_test))"
   ]
  },
  {
   "cell_type": "code",
   "execution_count": 30,
   "metadata": {},
   "outputs": [
    {
     "name": "stdout",
     "output_type": "stream",
     "text": [
      "17555\n",
      "Algo Run Successfully on D_Test\n",
      "====================================================================================================\n"
     ]
    }
   ],
   "source": [
    "# Fitting the model on test data \n",
    "\n",
    "test_neigh = SGDClassifier(loss='hinge', penalty='l2',class_weight = 'balanced', alpha = 1)\n",
    "test_neigh.fit(D2_Train,Y_1_train)\n",
    "\n",
    "predicted_labels_test = []\n",
    "predicted_labels_train = []\n",
    "\n",
    "# Predicting the model with Train Data\n",
    "for j in range(0,n_test,1000):\n",
    "    predicted_labels_test.extend(test_neigh.predict(D2_Test[j:j+1000]))\n",
    "    \n",
    "for k in range(0,n_train,1000):\n",
    "    predicted_labels_train.extend(test_neigh.predict(D2_Train[k:k+1000]))\n",
    "\n",
    "print(len(Y_test))\n",
    "\n",
    "print('Algo Run Successfully on D_Test')\n",
    "print(\"=\"*100)"
   ]
  },
  {
   "cell_type": "code",
   "execution_count": 31,
   "metadata": {},
   "outputs": [
    {
     "name": "stdout",
     "output_type": "stream",
     "text": [
      "Train Confusion Matrix\n",
      "47718 282 599 58352\n",
      "[[47718   282]\n",
      " [  599 58352]]\n",
      "========================================================================================================================\n",
      "Test Confusion Matrix\n",
      "1934 980 557 14084\n",
      "[[ 1934   980]\n",
      " [  557 14084]]\n",
      "========================================================================================================================\n"
     ]
    }
   ],
   "source": [
    "# Getting the confusion metrics\n",
    "\n",
    "print('Train Confusion Matrix')\n",
    "tr_true_negetive,tr_false_positive, tr_false_negetive, tr_true_positive = confusion_matrix(Y_1_train,predicted_labels_train).ravel()\n",
    "print(tr_true_negetive, tr_false_positive, tr_false_negetive, tr_true_positive)\n",
    "print(confusion_matrix(Y_1_train,predicted_labels_train))\n",
    "print(\"=\"*120)\n",
    "\n",
    "print('Test Confusion Matrix')\n",
    "true_negetive,false_positive, false_negetive, true_positive = confusion_matrix(Y_test,predicted_labels_test).ravel()\n",
    "print(true_negetive, false_positive, false_negetive, true_positive)\n",
    "print(confusion_matrix(Y_test,predicted_labels_test))\n",
    "print(\"=\"*120)"
   ]
  },
  {
   "cell_type": "code",
   "execution_count": 33,
   "metadata": {},
   "outputs": [
    {
     "name": "stdout",
     "output_type": "stream",
     "text": [
      "Best Parameters :  {'base_estimator__alpha': 1, 'base_estimator__average': False, 'base_estimator__class_weight': 'balanced', 'base_estimator__early_stopping': False, 'base_estimator__epsilon': 0.1, 'base_estimator__eta0': 0.0, 'base_estimator__fit_intercept': True, 'base_estimator__l1_ratio': 0.15, 'base_estimator__learning_rate': 'optimal', 'base_estimator__loss': 'hinge', 'base_estimator__max_iter': None, 'base_estimator__n_iter': None, 'base_estimator__n_iter_no_change': 5, 'base_estimator__n_jobs': None, 'base_estimator__penalty': 'l2', 'base_estimator__power_t': 0.5, 'base_estimator__random_state': None, 'base_estimator__shuffle': True, 'base_estimator__tol': None, 'base_estimator__validation_fraction': 0.1, 'base_estimator__verbose': 0, 'base_estimator__warm_start': False, 'base_estimator': SGDClassifier(alpha=1, average=False, class_weight='balanced',\n",
      "       early_stopping=False, epsilon=0.1, eta0=0.0, fit_intercept=True,\n",
      "       l1_ratio=0.15, learning_rate='optimal', loss='hinge', max_iter=None,\n",
      "       n_iter=None, n_iter_no_change=5, n_jobs=None, penalty='l2',\n",
      "       power_t=0.5, random_state=None, shuffle=True, tol=None,\n",
      "       validation_fraction=0.1, verbose=0, warm_start=False), 'cv': 'prefit', 'method': 'isotonic'}\n"
     ]
    }
   ],
   "source": [
    "#\n",
    "\n",
    "svm_tfidf_clf = SGDClassifier(loss='hinge', penalty='l2',class_weight = 'balanced', alpha = 1)\n",
    "svm_tfidf_clf.fit(D2_Train,Y_1_train)\n",
    "\n",
    "calibrated_tfidf_clf = CalibratedClassifierCV(base_estimator=svm_tfidf_clf, cv='prefit', method='isotonic')\n",
    "calibrated_tfidf_clf.fit(D2_Train,Y_1_train)\n",
    "\n",
    "print(\"Best Parameters : \", calibrated_tfidf_clf.get_params(calibrated_bow_clf))\n"
   ]
  },
  {
   "cell_type": "code",
   "execution_count": 34,
   "metadata": {},
   "outputs": [
    {
     "name": "stdout",
     "output_type": "stream",
     "text": [
      "17555\n",
      "17555\n",
      "Algo Run Successfully on D_Test\n",
      "====================================================================================================\n"
     ]
    }
   ],
   "source": [
    "# Predicting the model with Test Data\n",
    "predicted_labels_test = []\n",
    "predicted_labels_train = []\n",
    "predict_test_prob = []\n",
    "predict_train_prob = []\n",
    "\n",
    "for j in range(0,n_test,1000):\n",
    "    predicted_labels_test.extend(calibrated_tfidf_clf.predict(D2_Test[j:j+1000]))\n",
    "    predict_test_prob.extend(calibrated_tfidf_clf.predict_proba(D2_Test[j:j+1000])[:,1])\n",
    "    \n",
    "for k in range(0,n_train,1000):\n",
    "    predicted_labels_train.extend(calibrated_tfidf_clf.predict(D2_Train[k:k+1000]))\n",
    "    predict_train_prob.extend(calibrated_tfidf_clf.predict_proba(D2_Train[k:k+1000])[:,1])\n",
    "    \n",
    "print(len(predict_test_prob))\n",
    "print(len(Y_test))\n",
    "    \n",
    "train_fpr, train_tpr, thresholds = roc_curve(Y_1_train, predict_train_prob)\n",
    "test_fpr, test_tpr, thresholds = roc_curve(Y_test, predict_test_prob)\n",
    "\n",
    "print('Algo Run Successfully on D_Test')\n",
    "print(\"=\"*100)"
   ]
  },
  {
   "cell_type": "code",
   "execution_count": 35,
   "metadata": {},
   "outputs": [
    {
     "data": {
      "image/png": "[encoded data removed]",
      "text/plain": [
       "<Figure size 432x288 with 1 Axes>"
      ]
     },
     "metadata": {},
     "output_type": "display_data"
    },
    {
     "name": "stdout",
     "output_type": "stream",
     "text": [
      "====================================================================================================\n"
     ]
    }
   ],
   "source": [
    "# Plotting the AUC curve on Test and Train Data\n",
    "\n",
    "plt.plot(train_fpr, train_tpr, label=\"Train AUC =\"+str(auc(train_fpr, train_tpr)))\n",
    "plt.plot(test_fpr, test_tpr, label=\"Test AUC =\"+str(auc(test_fpr, test_tpr)))\n",
    "plt.legend()\n",
    "plt.xlabel(\"FPR\")\n",
    "plt.ylabel(\"TPR\")\n",
    "plt.title(\"ERROR PLOTS\")\n",
    "plt.show()\n",
    "\n",
    "print(\"=\"*100)"
   ]
  },
  {
   "cell_type": "code",
   "execution_count": 36,
   "metadata": {},
   "outputs": [
    {
     "name": "stdout",
     "output_type": "stream",
     "text": [
      "Train Confusion Matrix\n",
      "47544 456 337 58614\n",
      "[[47544   456]\n",
      " [  337 58614]]\n",
      "========================================================================================================================\n",
      "Test Confusion Matrix\n",
      "1658 1256 324 14317\n",
      "[[ 1658  1256]\n",
      " [  324 14317]]\n",
      "========================================================================================================================\n"
     ]
    }
   ],
   "source": [
    "# Getting the confusion metrics\n",
    "\n",
    "print('Train Confusion Matrix')\n",
    "tr_true_negetive,tr_false_positive, tr_false_negetive, tr_true_positive = confusion_matrix(Y_1_train,predicted_labels_train).ravel()\n",
    "print(tr_true_negetive, tr_false_positive, tr_false_negetive, tr_true_positive)\n",
    "print(confusion_matrix(Y_1_train,predicted_labels_train))\n",
    "print(\"=\"*120)\n",
    "\n",
    "print('Test Confusion Matrix')\n",
    "true_negetive,false_positive, false_negetive, true_positive = confusion_matrix(Y_test,predicted_labels_test).ravel()\n",
    "print(true_negetive, false_positive, false_negetive, true_positive)\n",
    "print(confusion_matrix(Y_test,predicted_labels_test))\n",
    "print(\"=\"*120)"
   ]
  },
  {
   "cell_type": "code",
   "execution_count": 37,
   "metadata": {},
   "outputs": [
    {
     "data": {
      "text/plain": [
       "Text(0.5,1,'Confusion Matrix of Train Data')"
      ]
     },
     "execution_count": 37,
     "metadata": {},
     "output_type": "execute_result"
    },
    {
     "data": {
      "image/png": "[encoded data removed]",
      "text/plain": [
       "<Figure size 432x288 with 2 Axes>"
      ]
     },
     "metadata": {},
     "output_type": "display_data"
    }
   ],
   "source": [
    "conMatrix= [[tr_true_negetive,tr_false_positive],[tr_false_negetive,tr_true_positive]]\n",
    "data = conMatrix\n",
    "sns.heatmap(data, cmap=\"YlGnBu\", annot=True, fmt=\"d\")\n",
    "plt.xlabel('Actual Values')\n",
    "plt.ylabel('Predicted Values')\n",
    "plt.title('Confusion Matrix of Train Data')"
   ]
  },
  {
   "cell_type": "code",
   "execution_count": 38,
   "metadata": {},
   "outputs": [
    {
     "data": {
      "text/plain": [
       "Text(0.5,1,'Confusion Matrix of Test Data')"
      ]
     },
     "execution_count": 38,
     "metadata": {},
     "output_type": "execute_result"
    },
    {
     "data": {
      "image/png": "[encoded data removed]",
      "text/plain": [
       "<Figure size 432x288 with 2 Axes>"
      ]
     },
     "metadata": {},
     "output_type": "display_data"
    }
   ],
   "source": [
    "conMatrix= [[true_negetive,false_positive],[false_negetive,true_positive]]\n",
    "data = conMatrix\n",
    "sns.heatmap(data, cmap=\"YlGnBu\", annot=True, fmt=\"d\")\n",
    "plt.xlabel('Actual Values')\n",
    "plt.ylabel('Predicted Values')\n",
    "plt.title('Confusion Matrix of Test Data')"
   ]
  },
  {
   "cell_type": "markdown",
   "metadata": {},
   "source": [
    "#### Feature Importance for L2 Penalty"
   ]
  },
  {
   "cell_type": "code",
   "execution_count": 49,
   "metadata": {},
   "outputs": [
    {
     "name": "stdout",
     "output_type": "stream",
     "text": [
      "\t-0.0261\tdisappointed   \t\t0.0437\tgreat          \n",
      "\t-0.0217\tworst          \t\t0.0322\tlove           \n",
      "\t-0.0208\tterrible       \t\t0.0316\tbest           \n",
      "\t-0.0188\tdisappointing  \t\t0.0294\tdelicious      \n",
      "\t-0.0183\thorrible       \t\t0.0276\tgood           \n",
      "\t-0.0176\tawful          \t\t0.0240\tperfect        \n",
      "\t-0.0171\tthrew          \t\t0.0240\tloves          \n",
      "\t-0.0166\tbad            \t\t0.0209\tfavorite       \n",
      "\t-0.0165\twaste          \t\t0.0207\texcellent      \n",
      "\t-0.0161\tunfortunately  \t\t0.0206\tnice           \n"
     ]
    }
   ],
   "source": [
    "feature = tfidf_vect.get_feature_names()\n",
    "coefs_with_fns = sorted(zip(svm_tfidf_clf.coef_[0], feature))\n",
    "top = zip(coefs_with_fns[:10], coefs_with_fns[:-11:-1])\n",
    "for (coef_1, fn_1), (coef_2, fn_2) in top:\n",
    "    print (\"\\t%.4f\\t%-15s\\t\\t%.4f\\t%-15s\" % (coef_1, fn_1, coef_2, fn_2))"
   ]
  },
  {
   "cell_type": "markdown",
   "metadata": {},
   "source": [
    "#### Trying the SVM Model with L1 Penalty"
   ]
  },
  {
   "cell_type": "code",
   "execution_count": 39,
   "metadata": {},
   "outputs": [
    {
     "name": "stdout",
     "output_type": "stream",
     "text": [
      "SGDClassifier(alpha=1e-05, average=False, class_weight='balanced',\n",
      "       early_stopping=False, epsilon=0.1, eta0=0.0, fit_intercept=True,\n",
      "       l1_ratio=0.15, learning_rate='optimal', loss='hinge', max_iter=None,\n",
      "       n_iter=None, n_iter_no_change=5, n_jobs=None, penalty='l1',\n",
      "       power_t=0.5, random_state=None, shuffle=True, tol=None,\n",
      "       validation_fraction=0.1, verbose=0, warm_start=False)\n",
      "AUC Score :  0.8694785663392873\n"
     ]
    }
   ],
   "source": [
    "#Fitting the SGDClassifier Model to GridSearchCV to find the optimal hyper parameter for L2 Penalty\n",
    "\n",
    "svm_clf_tfidf = GridSearchCV(SGDClassifier(loss='hinge', penalty='l1',class_weight = 'balanced'),tuned_param, cv = 3, scoring = 'roc_auc')\n",
    "svm_clf_tfidf.fit(D2_Train,Y_1_train)\n",
    "\n",
    "print(svm_clf_tfidf.best_estimator_)\n",
    "print(\"AUC Score : \",svm_clf_tfidf.score(D2_Test,Y_test))"
   ]
  },
  {
   "cell_type": "code",
   "execution_count": 40,
   "metadata": {},
   "outputs": [
    {
     "name": "stdout",
     "output_type": "stream",
     "text": [
      "17555\n",
      "Algo Run Successfully on D_Test\n",
      "====================================================================================================\n"
     ]
    }
   ],
   "source": [
    "# Fitting the model on test data \n",
    "\n",
    "test_neigh = SGDClassifier(loss='hinge', penalty='l1',class_weight = 'balanced', alpha = .00001)\n",
    "test_neigh.fit(D2_Train,Y_1_train)\n",
    "\n",
    "predicted_labels_test = []\n",
    "predicted_labels_train = []\n",
    "\n",
    "# Predicting the model with Train Data\n",
    "for j in range(0,n_test,1000):\n",
    "    predicted_labels_test.extend(test_neigh.predict(D2_Test[j:j+1000]))\n",
    "    \n",
    "for k in range(0,n_train,1000):\n",
    "    predicted_labels_train.extend(test_neigh.predict(D2_Train[k:k+1000]))\n",
    "\n",
    "print(len(Y_test))\n",
    "\n",
    "print('Algo Run Successfully on D_Test')\n",
    "print(\"=\"*100)"
   ]
  },
  {
   "cell_type": "code",
   "execution_count": 41,
   "metadata": {},
   "outputs": [
    {
     "name": "stdout",
     "output_type": "stream",
     "text": [
      "Train Confusion Matrix\n",
      "47789 211 314 58637\n",
      "[[47789   211]\n",
      " [  314 58637]]\n",
      "========================================================================================================================\n",
      "Test Confusion Matrix\n",
      "1663 1251 971 13670\n",
      "[[ 1663  1251]\n",
      " [  971 13670]]\n",
      "========================================================================================================================\n"
     ]
    }
   ],
   "source": [
    "# Getting the confusion metrics\n",
    "\n",
    "print('Train Confusion Matrix')\n",
    "tr_true_negetive,tr_false_positive, tr_false_negetive, tr_true_positive = confusion_matrix(Y_1_train,predicted_labels_train).ravel()\n",
    "print(tr_true_negetive, tr_false_positive, tr_false_negetive, tr_true_positive)\n",
    "print(confusion_matrix(Y_1_train,predicted_labels_train))\n",
    "print(\"=\"*120)\n",
    "\n",
    "print('Test Confusion Matrix')\n",
    "true_negetive,false_positive, false_negetive, true_positive = confusion_matrix(Y_test,predicted_labels_test).ravel()\n",
    "print(true_negetive, false_positive, false_negetive, true_positive)\n",
    "print(confusion_matrix(Y_test,predicted_labels_test))\n",
    "print(\"=\"*120)"
   ]
  },
  {
   "cell_type": "code",
   "execution_count": 43,
   "metadata": {},
   "outputs": [
    {
     "name": "stdout",
     "output_type": "stream",
     "text": [
      "Best Parameters :  {'base_estimator__alpha': 1, 'base_estimator__average': False, 'base_estimator__class_weight': 'balanced', 'base_estimator__early_stopping': False, 'base_estimator__epsilon': 0.1, 'base_estimator__eta0': 0.0, 'base_estimator__fit_intercept': True, 'base_estimator__l1_ratio': 0.15, 'base_estimator__learning_rate': 'optimal', 'base_estimator__loss': 'hinge', 'base_estimator__max_iter': None, 'base_estimator__n_iter': None, 'base_estimator__n_iter_no_change': 5, 'base_estimator__n_jobs': None, 'base_estimator__penalty': 'l2', 'base_estimator__power_t': 0.5, 'base_estimator__random_state': None, 'base_estimator__shuffle': True, 'base_estimator__tol': None, 'base_estimator__validation_fraction': 0.1, 'base_estimator__verbose': 0, 'base_estimator__warm_start': False, 'base_estimator': SGDClassifier(alpha=1, average=False, class_weight='balanced',\n",
      "       early_stopping=False, epsilon=0.1, eta0=0.0, fit_intercept=True,\n",
      "       l1_ratio=0.15, learning_rate='optimal', loss='hinge', max_iter=None,\n",
      "       n_iter=None, n_iter_no_change=5, n_jobs=None, penalty='l2',\n",
      "       power_t=0.5, random_state=None, shuffle=True, tol=None,\n",
      "       validation_fraction=0.1, verbose=0, warm_start=False), 'cv': 'prefit', 'method': 'isotonic'}\n"
     ]
    }
   ],
   "source": [
    "svm_tftidf_l1 = SGDClassifier(loss='hinge', penalty='l1',class_weight = 'balanced', alpha = .00001)\n",
    "svm_tftidf_l1.fit(D2_Train,Y_1_train)\n",
    "\n",
    "calibrated_tfidf_l1 = CalibratedClassifierCV(base_estimator=svm_tftidf_l1, cv='prefit', method='isotonic')\n",
    "calibrated_tfidf_l1.fit(D2_Train,Y_1_train)\n",
    "\n",
    "print(\"Best Parameters : \", calibrated_bow_clf.get_params(calibrated_tfidf_l1))"
   ]
  },
  {
   "cell_type": "code",
   "execution_count": 44,
   "metadata": {},
   "outputs": [
    {
     "name": "stdout",
     "output_type": "stream",
     "text": [
      "17555\n",
      "17555\n",
      "Algo Run Successfully on D_Test\n",
      "====================================================================================================\n"
     ]
    }
   ],
   "source": [
    "# Predicting the model with Test Data\n",
    "predicted_labels_test = []\n",
    "predicted_labels_train = []\n",
    "predict_test_prob = []\n",
    "predict_train_prob = []\n",
    "\n",
    "for j in range(0,n_test,1000):\n",
    "    predicted_labels_test.extend(calibrated_tfidf_l1.predict(D2_Test[j:j+1000]))\n",
    "    predict_test_prob.extend(calibrated_tfidf_l1.predict_proba(D2_Test[j:j+1000])[:,1])\n",
    "    \n",
    "for k in range(0,n_train,1000):\n",
    "    predicted_labels_train.extend(calibrated_tfidf_l1.predict(D2_Train[k:k+1000]))\n",
    "    predict_train_prob.extend(calibrated_tfidf_l1.predict_proba(D2_Train[k:k+1000])[:,1])\n",
    "    \n",
    "print(len(predict_test_prob))\n",
    "print(len(Y_test))\n",
    "    \n",
    "train_fpr, train_tpr, thresholds = roc_curve(Y_1_train, predict_train_prob)\n",
    "test_fpr, test_tpr, thresholds = roc_curve(Y_test, predict_test_prob)\n",
    "\n",
    "print('Algo Run Successfully on D_Test')\n",
    "print(\"=\"*100)"
   ]
  },
  {
   "cell_type": "code",
   "execution_count": 45,
   "metadata": {},
   "outputs": [
    {
     "data": {
      "image/png": "[encoded data removed]",
      "text/plain": [
       "<Figure size 432x288 with 1 Axes>"
      ]
     },
     "metadata": {},
     "output_type": "display_data"
    },
    {
     "name": "stdout",
     "output_type": "stream",
     "text": [
      "====================================================================================================\n"
     ]
    }
   ],
   "source": [
    "# Plotting the AUC curve on Test and Train Data\n",
    "\n",
    "plt.plot(train_fpr, train_tpr, label=\"Train AUC =\"+str(auc(train_fpr, train_tpr)))\n",
    "plt.plot(test_fpr, test_tpr, label=\"Test AUC =\"+str(auc(test_fpr, test_tpr)))\n",
    "plt.legend()\n",
    "plt.xlabel(\"FPR\")\n",
    "plt.ylabel(\"TPR\")\n",
    "plt.title(\"ERROR PLOTS\")\n",
    "plt.show()\n",
    "\n",
    "print(\"=\"*100)"
   ]
  },
  {
   "cell_type": "code",
   "execution_count": 46,
   "metadata": {},
   "outputs": [
    {
     "name": "stdout",
     "output_type": "stream",
     "text": [
      "Train Confusion Matrix\n",
      "47806 194 342 58609\n",
      "[[47806   194]\n",
      " [  342 58609]]\n",
      "========================================================================================================================\n",
      "Test Confusion Matrix\n",
      "1696 1218 1017 13624\n",
      "[[ 1696  1218]\n",
      " [ 1017 13624]]\n",
      "========================================================================================================================\n"
     ]
    }
   ],
   "source": [
    "# Getting the confusion metrics\n",
    "\n",
    "print('Train Confusion Matrix')\n",
    "tr_true_negetive,tr_false_positive, tr_false_negetive, tr_true_positive = confusion_matrix(Y_1_train,predicted_labels_train).ravel()\n",
    "print(tr_true_negetive, tr_false_positive, tr_false_negetive, tr_true_positive)\n",
    "print(confusion_matrix(Y_1_train,predicted_labels_train))\n",
    "print(\"=\"*120)\n",
    "\n",
    "print('Test Confusion Matrix')\n",
    "true_negetive,false_positive, false_negetive, true_positive = confusion_matrix(Y_test,predicted_labels_test).ravel()\n",
    "print(true_negetive, false_positive, false_negetive, true_positive)\n",
    "print(confusion_matrix(Y_test,predicted_labels_test))\n",
    "print(\"=\"*120)"
   ]
  },
  {
   "cell_type": "code",
   "execution_count": 47,
   "metadata": {},
   "outputs": [
    {
     "data": {
      "text/plain": [
       "Text(0.5,1,'Confusion Matrix of Train Data')"
      ]
     },
     "execution_count": 47,
     "metadata": {},
     "output_type": "execute_result"
    },
    {
     "data": {
      "image/png": "[encoded data removed]",
      "text/plain": [
       "<Figure size 432x288 with 2 Axes>"
      ]
     },
     "metadata": {},
     "output_type": "display_data"
    }
   ],
   "source": [
    "conMatrix= [[tr_true_negetive,tr_false_positive],[tr_false_negetive,tr_true_positive]]\n",
    "data = conMatrix\n",
    "sns.heatmap(data, cmap=\"YlGnBu\", annot=True, fmt=\"d\")\n",
    "plt.xlabel('Actual Values')\n",
    "plt.ylabel('Predicted Values')\n",
    "plt.title('Confusion Matrix of Train Data')"
   ]
  },
  {
   "cell_type": "code",
   "execution_count": 48,
   "metadata": {},
   "outputs": [
    {
     "data": {
      "text/plain": [
       "Text(0.5,1,'Confusion Matrix of Test Data')"
      ]
     },
     "execution_count": 48,
     "metadata": {},
     "output_type": "execute_result"
    },
    {
     "data": {
      "image/png": "[encoded data removed]",
      "text/plain": [
       "<Figure size 432x288 with 2 Axes>"
      ]
     },
     "metadata": {},
     "output_type": "display_data"
    }
   ],
   "source": [
    "conMatrix= [[true_negetive,false_positive],[false_negetive,true_positive]]\n",
    "data = conMatrix\n",
    "sns.heatmap(data, cmap=\"YlGnBu\", annot=True, fmt=\"d\")\n",
    "plt.xlabel('Actual Values')\n",
    "plt.ylabel('Predicted Values')\n",
    "plt.title('Confusion Matrix of Test Data')"
   ]
  },
  {
   "cell_type": "markdown",
   "metadata": {},
   "source": [
    "#### Feature Importance with L1 Penalty"
   ]
  },
  {
   "cell_type": "code",
   "execution_count": 51,
   "metadata": {},
   "outputs": [
    {
     "name": "stdout",
     "output_type": "stream",
     "text": [
      "\t-4689.9068\tdisappointed   \t\t7983.3748\tgreat          \n",
      "\t-3847.5780\tawful          \t\t5884.9505\tbest           \n",
      "\t-3603.4148\tterrible       \t\t5556.9382\tdelicious      \n",
      "\t-3593.3145\tdisappointing  \t\t5426.8576\tlove           \n",
      "\t-3562.6120\tworst          \t\t5043.3783\tperfect        \n",
      "\t-3478.3612\tdoubt try      \t\t4863.7501\tgood           \n",
      "\t-3462.3961\tdisappointed old\t\t4255.6599\tloves          \n",
      "\t-3378.8089\tdouble tea     \t\t4095.5152\twonderful      \n",
      "\t-3377.4967\tsorry product  \t\t4006.2960\tnice           \n",
      "\t-3250.5574\ttasteless      \t\t3767.3160\tfavorite       \n"
     ]
    }
   ],
   "source": [
    "feature = tfidf_vect.get_feature_names()\n",
    "coefs_with_fns = sorted(zip(svm_tftidf_l1.coef_[0], feature))\n",
    "top = zip(coefs_with_fns[:10], coefs_with_fns[:-11:-1])\n",
    "for (coef_1, fn_1), (coef_2, fn_2) in top:\n",
    "    print (\"\\t%.4f\\t%-15s\\t\\t%.4f\\t%-15s\" % (coef_1, fn_1, coef_2, fn_2))"
   ]
  },
  {
   "cell_type": "markdown",
   "metadata": {},
   "source": [
    "##### We can see from the above observations that L2 penalty is working better than the other with alpha = 1 as the best hyper-parameter."
   ]
  },
  {
   "cell_type": "markdown",
   "metadata": {},
   "source": [
    "## 1.3) Applying Logistic Regression on Average_Word2Vec, SET 3"
   ]
  },
  {
   "cell_type": "markdown",
   "metadata": {},
   "source": [
    "##### We performed Feature Engineering on the Average Word2Vec vectorizer by taking the count of the words in the review text as a extra feature. "
   ]
  },
  {
   "cell_type": "code",
   "execution_count": 111,
   "metadata": {},
   "outputs": [],
   "source": [
    "final['Cleaned_Text']=preprocessed_reviews\n",
    "#final['Cleaned_Summary'] = preprocessed_summary\n",
    "final['Word Count'] = final['Cleaned_Text'].apply(lambda x:len(x.split()))\n",
    "#final['Summary Word Count'] = final['Cleaned_Summary'].apply(lambda x:len(x.split()))\n",
    "final.head()\n",
    "word_count = final['Word Count']"
   ]
  },
  {
   "cell_type": "code",
   "execution_count": 112,
   "metadata": {},
   "outputs": [],
   "source": [
    "final_review = final[['Cleaned_Text','Word Count','Score']]\n",
    "X = final_review.drop(['Score'],axis=1)\n",
    "Y = final_review['Score']"
   ]
  },
  {
   "cell_type": "code",
   "execution_count": 113,
   "metadata": {},
   "outputs": [],
   "source": [
    "# Time Series Split\n",
    "\n",
    "X_Train, X_test, Y_1, Y_test = train_test_split(X,Y,test_size=0.2,shuffle = False)"
   ]
  },
  {
   "cell_type": "code",
   "execution_count": 114,
   "metadata": {},
   "outputs": [
    {
     "name": "stdout",
     "output_type": "stream",
     "text": [
      "70218\n",
      "[('great', 0.8339293599128723), ('decent', 0.8268852233886719), ('fantastic', 0.7957003116607666), ('awesome', 0.7651879787445068), ('terrific', 0.7610093355178833), ('amazing', 0.7494839429855347), ('excellent', 0.684064507484436), ('wise', 0.6662812232971191), ('yummy', 0.6552819013595581), ('delicious', 0.6410372257232666)]\n",
      "====================================================================================================\n",
      "Total Words Present  15758\n",
      "Sample Words :  ['bought', 'apartment', 'infested', 'fruit', 'flies', 'hours', 'trap', 'attracted', 'many', 'within']\n",
      "====================================================================================================\n"
     ]
    }
   ],
   "source": [
    "# Creating Word2Vec model on Training Data \n",
    "\n",
    "list_of_sentence_w2v = []\n",
    "for sentence in X_Train['Cleaned_Text']:\n",
    "    list_of_sentence_w2v.append(sentence.split())\n",
    "print(len(list_of_sentence_w2v))\n",
    "\n",
    "# Creating Word2Vec model with 50 dimension and min_count=5, it will consider the word only if it appeared more than 5 times\n",
    "\n",
    "w2v_model = Word2Vec(list_of_sentence_w2v, min_count=5, size=50, workers=4)\n",
    "print(w2v_model.wv.most_similar(\"good\"))\n",
    "print(\"=\"*100)\n",
    "\n",
    "w2v_words = list(w2v_model.wv.vocab)\n",
    "print(\"Total Words Present \", len(w2v_words))\n",
    "print(\"Sample Words : \", w2v_words[0:10])\n",
    "print(\"=\"*100)"
   ]
  },
  {
   "cell_type": "code",
   "execution_count": 102,
   "metadata": {},
   "outputs": [
    {
     "name": "stderr",
     "output_type": "stream",
     "text": [
      "100%|███████████████████████████████████████████████████████████████████████████| 70218/70218 [03:51<00:00, 303.34it/s]\n"
     ]
    },
    {
     "name": "stdout",
     "output_type": "stream",
     "text": [
      "70218\n",
      "[ 0.78510239  0.46028596  0.18726954 -0.534992    0.1893628  -0.01307698\n",
      "  0.04118509  0.24834976  0.10994821 -0.25847491  0.20246612 -0.45010346\n",
      " -0.24055546 -0.12971463  0.01471933  0.22038952  0.04957401  0.23939787\n",
      "  0.18839688  0.1602789   0.01023105 -0.09137386 -0.33701633 -0.14720492\n",
      "  0.68153777 -0.30403854  0.20728829 -0.19143874  0.11481143 -0.48473704\n",
      " -0.52161185 -0.39638362  0.50693225  0.18785276  0.70322266  0.26350725\n",
      "  0.20277223 -0.08745444  0.18638738  0.26163553 -0.08708611  0.26856458\n",
      " -0.20571031 -0.10874641  0.49136536  0.10083484 -0.10717678 -0.58421334\n",
      " -0.3157855   0.11273041]\n"
     ]
    }
   ],
   "source": [
    "# Fitting Average Word2Vec Model on Train Data\n",
    "\n",
    "sent_vect_train = []\n",
    "for sent in tqdm(list_of_sentence):\n",
    "    sentence_vec = np.zeros(50)\n",
    "    count_words = 0\n",
    "    for word in sent:\n",
    "        if word in w2v_words:\n",
    "            vec = w2v_model.wv[word]\n",
    "            count_words += 1\n",
    "            sentence_vec += vec\n",
    "    if count_words != 0:\n",
    "        sentence_vec /= count_words\n",
    "    sent_vect_train.append(sentence_vec)\n",
    "print(len(sent_vect_train))\n",
    "print(sent_vect_train[0])"
   ]
  },
  {
   "cell_type": "code",
   "execution_count": 103,
   "metadata": {},
   "outputs": [
    {
     "name": "stdout",
     "output_type": "stream",
     "text": [
      "17555\n"
     ]
    }
   ],
   "source": [
    "# Applying Word2Vec for Vectorization of X_test\n",
    "\n",
    "list_of_sentence = []\n",
    "for sentence in X_test['Cleaned_Text']:\n",
    "    list_of_sentence.append(sentence.split())\n",
    "print(len(list_of_sentence))"
   ]
  },
  {
   "cell_type": "code",
   "execution_count": 104,
   "metadata": {},
   "outputs": [
    {
     "name": "stderr",
     "output_type": "stream",
     "text": [
      "100%|███████████████████████████████████████████████████████████████████████████| 17555/17555 [01:00<00:00, 290.24it/s]\n"
     ]
    },
    {
     "name": "stdout",
     "output_type": "stream",
     "text": [
      "17555\n",
      "[ 1.18641997 -0.23663225  0.31533123  0.28622629  0.47371645  0.29983744\n",
      " -0.00614696  0.44198672 -0.22873224  0.08356283  0.50203381 -0.11423659\n",
      " -1.3503196  -0.13968529 -0.31914102  0.47510421 -0.43859928  0.56917461\n",
      " -0.46433411 -0.57597275 -0.72430543 -0.76501292  0.33322503 -0.02734192\n",
      " -0.43796567 -0.06572587  0.09075071 -0.08454015 -0.48993591 -0.33239101\n",
      "  0.11438757 -0.40921643  0.20579889  0.14623299  1.01885849  0.71265842\n",
      "  0.42409751 -0.04870407  0.10679971 -0.31986162 -0.20165918  0.06908001\n",
      " -0.08707324  0.27389266  1.03135626 -0.35555216 -0.92328596 -0.14678274\n",
      "  0.10584121 -0.45981849]\n"
     ]
    }
   ],
   "source": [
    "# Creating Average Word2Vec Vector for Test Data\n",
    "\n",
    "sent_vect_test = []\n",
    "for sent in tqdm(list_of_sentence):\n",
    "    sentence_vec = np.zeros(50)\n",
    "    count_words = 0\n",
    "    for word in sent:\n",
    "        if word in w2v_words:\n",
    "            vec = w2v_model.wv[word]\n",
    "            count_words += 1\n",
    "            sentence_vec += vec\n",
    "    if count_words != 0:\n",
    "        sentence_vec /= count_words\n",
    "    sent_vect_test.append(sentence_vec)\n",
    "print(len(sent_vect_test))\n",
    "print(sent_vect_test[0])"
   ]
  },
  {
   "cell_type": "code",
   "execution_count": 105,
   "metadata": {},
   "outputs": [],
   "source": [
    "X_Train_count  =  X_Train['Word Count'].values.reshape(-1,1)\n",
    "X_Test_count = X_test['Word Count'].values.reshape(-1,1)"
   ]
  },
  {
   "cell_type": "code",
   "execution_count": 106,
   "metadata": {},
   "outputs": [],
   "source": [
    "#standardising word count feature\n",
    "import warnings\n",
    "warnings.filterwarnings('ignore')\n",
    "word_scalar = StandardScaler()\n",
    "word_scalar.fit(X_Train_count) \n",
    "X_Train_count = word_scalar.transform(X_Train_count)\n",
    "X_Test_count = word_scalar.transform(X_Test_count)"
   ]
  },
  {
   "cell_type": "code",
   "execution_count": 107,
   "metadata": {},
   "outputs": [],
   "source": [
    "D3_Train = np.hstack((sent_vect_train,X_Train_count))\n",
    "D3_Test = np.hstack((sent_vect_test,X_Test_count))"
   ]
  },
  {
   "cell_type": "code",
   "execution_count": 108,
   "metadata": {},
   "outputs": [
    {
     "name": "stdout",
     "output_type": "stream",
     "text": [
      "70218\n",
      "17555\n"
     ]
    }
   ],
   "source": [
    "n_train = len(sent_vect_train)\n",
    "n_test = len(sent_vect_test)\n",
    "print(n_train)\n",
    "print(n_test)"
   ]
  },
  {
   "cell_type": "code",
   "execution_count": 109,
   "metadata": {},
   "outputs": [
    {
     "name": "stdout",
     "output_type": "stream",
     "text": [
      "(70218, 51)\n",
      "(17555, 51)\n"
     ]
    }
   ],
   "source": [
    "# Standardization Process  when we are doing Feature Engineering\n",
    "\n",
    "from sklearn.preprocessing import MaxAbsScaler\n",
    "scaler = MaxAbsScaler()\n",
    "scaler.fit(D3_Train)\n",
    "D3_Train = scaler.transform(D3_Train)\n",
    "D3_Test = scaler.transform(D3_Test)\n",
    "\n",
    "print(D3_Train.shape)\n",
    "print(D3_Test.shape)"
   ]
  },
  {
   "cell_type": "code",
   "execution_count": 58,
   "metadata": {},
   "outputs": [
    {
     "name": "stdout",
     "output_type": "stream",
     "text": [
      "(106951, 50)\n",
      "(17555, 50)\n"
     ]
    }
   ],
   "source": [
    "# Standardization Process when we are not doing Feature Engineering\n",
    "\n",
    "scaler = StandardScaler()\n",
    "scaler.fit(sent_vect_train)\n",
    "D3_Train = scaler.transform(sent_vect_train)\n",
    "D3_Test = scaler.transform(sent_vect_test)\n",
    "\n",
    "print(D3_Train.shape)\n",
    "print(D3_Test.shape)"
   ]
  },
  {
   "cell_type": "code",
   "execution_count": 150,
   "metadata": {},
   "outputs": [
    {
     "name": "stdout",
     "output_type": "stream",
     "text": [
      "SGDClassifier(alpha=0.0001, average=False, class_weight='balanced',\n",
      "       early_stopping=False, epsilon=0.1, eta0=0.0, fit_intercept=True,\n",
      "       l1_ratio=0.15, learning_rate='optimal', loss='hinge', max_iter=None,\n",
      "       n_iter=None, n_iter_no_change=5, n_jobs=None, penalty='l2',\n",
      "       power_t=0.5, random_state=None, shuffle=True, tol=None,\n",
      "       validation_fraction=0.1, verbose=0, warm_start=False)\n",
      "AUC Score :  0.9026772392961784\n"
     ]
    }
   ],
   "source": [
    "#Fitting the SGDClassifier Model to GridSearchCV to find the optimal hyper parameter for L2 Penalty\n",
    "\n",
    "svm_w2v_clf = GridSearchCV(SGDClassifier(loss='hinge', penalty='l2',class_weight = 'balanced'),tuned_param, cv = 5, scoring = 'roc_auc')\n",
    "svm_w2v_clf.fit(D3_Train,Y_1)\n",
    "\n",
    "print(svm_w2v_clf.best_estimator_)\n",
    "print(\"AUC Score : \",svm_w2v_clf.score(D3_Test,Y_test))"
   ]
  },
  {
   "cell_type": "code",
   "execution_count": 151,
   "metadata": {},
   "outputs": [
    {
     "name": "stdout",
     "output_type": "stream",
     "text": [
      "17555\n",
      "Algo Run Successfully on D_Test\n",
      "====================================================================================================\n"
     ]
    }
   ],
   "source": [
    "# Fitting the model on test data \n",
    "\n",
    "test_neigh = SGDClassifier(loss='hinge', penalty='l2',class_weight = 'balanced', alpha = .0001)\n",
    "test_neigh.fit(D3_Train,Y_1)\n",
    "\n",
    "predicted_labels_test = []\n",
    "predicted_labels_train = []\n",
    "\n",
    "# Predicting the model with Train Data\n",
    "for j in range(0,n_test,1000):\n",
    "    predicted_labels_test.extend(test_neigh.predict(D3_Test[j:j+1000]))\n",
    "    \n",
    "for k in range(0,n_train,1000):\n",
    "    predicted_labels_train.extend(test_neigh.predict(D3_Train[k:k+1000]))\n",
    "\n",
    "print(len(Y_test))\n",
    "\n",
    "print('Algo Run Successfully on D_Test')\n",
    "print(\"=\"*100)"
   ]
  },
  {
   "cell_type": "code",
   "execution_count": 152,
   "metadata": {},
   "outputs": [
    {
     "name": "stdout",
     "output_type": "stream",
     "text": [
      "Train Confusion Matrix\n",
      "9102 2165 9620 49331\n",
      "[[ 9102  2165]\n",
      " [ 9620 49331]]\n",
      "========================================================================================================================\n",
      "Test Confusion Matrix\n",
      "2384 530 2465 12176\n",
      "[[ 2384   530]\n",
      " [ 2465 12176]]\n",
      "========================================================================================================================\n"
     ]
    }
   ],
   "source": [
    "# Getting the confusion metrics\n",
    "\n",
    "print('Train Confusion Matrix')\n",
    "tr_true_negetive,tr_false_positive, tr_false_negetive, tr_true_positive = confusion_matrix(Y_1,predicted_labels_train).ravel()\n",
    "print(tr_true_negetive, tr_false_positive, tr_false_negetive, tr_true_positive)\n",
    "print(confusion_matrix(Y_1,predicted_labels_train))\n",
    "print(\"=\"*120)\n",
    "\n",
    "print('Test Confusion Matrix')\n",
    "true_negetive,false_positive, false_negetive, true_positive = confusion_matrix(Y_test,predicted_labels_test).ravel()\n",
    "print(true_negetive, false_positive, false_negetive, true_positive)\n",
    "print(confusion_matrix(Y_test,predicted_labels_test))\n",
    "print(\"=\"*120)"
   ]
  },
  {
   "cell_type": "code",
   "execution_count": 153,
   "metadata": {},
   "outputs": [
    {
     "name": "stdout",
     "output_type": "stream",
     "text": [
      "Best Parameters :  {'base_estimator__alpha': 0.0001, 'base_estimator__average': False, 'base_estimator__class_weight': 'balanced', 'base_estimator__early_stopping': False, 'base_estimator__epsilon': 0.1, 'base_estimator__eta0': 0.0, 'base_estimator__fit_intercept': True, 'base_estimator__l1_ratio': 0.15, 'base_estimator__learning_rate': 'optimal', 'base_estimator__loss': 'hinge', 'base_estimator__max_iter': None, 'base_estimator__n_iter': None, 'base_estimator__n_iter_no_change': 5, 'base_estimator__n_jobs': None, 'base_estimator__penalty': 'l2', 'base_estimator__power_t': 0.5, 'base_estimator__random_state': None, 'base_estimator__shuffle': True, 'base_estimator__tol': None, 'base_estimator__validation_fraction': 0.1, 'base_estimator__verbose': 0, 'base_estimator__warm_start': False, 'base_estimator': SGDClassifier(alpha=0.0001, average=False, class_weight='balanced',\n",
      "       early_stopping=False, epsilon=0.1, eta0=0.0, fit_intercept=True,\n",
      "       l1_ratio=0.15, learning_rate='optimal', loss='hinge', max_iter=None,\n",
      "       n_iter=None, n_iter_no_change=5, n_jobs=None, penalty='l2',\n",
      "       power_t=0.5, random_state=None, shuffle=True, tol=None,\n",
      "       validation_fraction=0.1, verbose=0, warm_start=False), 'cv': 'prefit', 'method': 'isotonic'}\n"
     ]
    }
   ],
   "source": [
    "#\n",
    "\n",
    "svm_w2v_clf = SGDClassifier(loss='hinge', penalty='l2',class_weight = 'balanced', alpha = 0.0001)\n",
    "svm_w2v_clf.fit(D3_Train,Y_1)\n",
    "\n",
    "calibrated_w2v_clf = CalibratedClassifierCV(base_estimator=svm_w2v_clf, cv='prefit', method='isotonic')\n",
    "calibrated_w2v_clf.fit(D3_Train,Y_1)\n",
    "\n",
    "print(\"Best Parameters : \", calibrated_w2v_clf.get_params(calibrated_w2v_clf))"
   ]
  },
  {
   "cell_type": "code",
   "execution_count": 154,
   "metadata": {},
   "outputs": [
    {
     "name": "stdout",
     "output_type": "stream",
     "text": [
      "17555\n",
      "17555\n",
      "Algo Run Successfully on D_Test\n",
      "====================================================================================================\n"
     ]
    }
   ],
   "source": [
    "# Predicting the model with Test Data\n",
    "predicted_labels_test = []\n",
    "predicted_labels_train = []\n",
    "predict_test_prob = []\n",
    "predict_train_prob = []\n",
    "\n",
    "for j in range(0,n_test,1000):\n",
    "    predicted_labels_test.extend(calibrated_w2v_clf.predict(D3_Test[j:j+1000]))\n",
    "    predict_test_prob.extend(calibrated_w2v_clf.predict_proba(D3_Test[j:j+1000])[:,1])\n",
    "    \n",
    "for k in range(0,n_train,1000):\n",
    "    predicted_labels_train.extend(calibrated_w2v_clf.predict(D3_Train[k:k+1000]))\n",
    "    predict_train_prob.extend(calibrated_w2v_clf.predict_proba(D3_Train[k:k+1000])[:,1])\n",
    "    \n",
    "print(len(predict_test_prob))\n",
    "print(len(Y_test))\n",
    "    \n",
    "train_fpr, train_tpr, thresholds = roc_curve(Y_1, predict_train_prob)\n",
    "test_fpr, test_tpr, thresholds = roc_curve(Y_test, predict_test_prob)\n",
    "\n",
    "print('Algo Run Successfully on D_Test')\n",
    "print(\"=\"*100)"
   ]
  },
  {
   "cell_type": "code",
   "execution_count": 155,
   "metadata": {},
   "outputs": [
    {
     "data": {
      "image/png": "[encoded data removed]",
      "text/plain": [
       "<Figure size 432x288 with 1 Axes>"
      ]
     },
     "metadata": {},
     "output_type": "display_data"
    },
    {
     "name": "stdout",
     "output_type": "stream",
     "text": [
      "====================================================================================================\n"
     ]
    }
   ],
   "source": [
    "# Plotting the AUC curve on Test and Train Data\n",
    "\n",
    "plt.plot(train_fpr, train_tpr, label=\"Train AUC =\"+str(auc(train_fpr, train_tpr)))\n",
    "plt.plot(test_fpr, test_tpr, label=\"Test AUC =\"+str(auc(test_fpr, test_tpr)))\n",
    "plt.legend()\n",
    "plt.xlabel(\"FPR\")\n",
    "plt.ylabel(\"TPR\")\n",
    "plt.title(\"ERROR PLOTS\")\n",
    "plt.show()\n",
    "\n",
    "print(\"=\"*100)"
   ]
  },
  {
   "cell_type": "code",
   "execution_count": 156,
   "metadata": {},
   "outputs": [
    {
     "name": "stdout",
     "output_type": "stream",
     "text": [
      "Train Confusion Matrix\n",
      "5707 5560 2587 56364\n",
      "[[ 5707  5560]\n",
      " [ 2587 56364]]\n",
      "========================================================================================================================\n",
      "Test Confusion Matrix\n",
      "1500 1414 623 14018\n",
      "[[ 1500  1414]\n",
      " [  623 14018]]\n",
      "========================================================================================================================\n"
     ]
    }
   ],
   "source": [
    "# Getting the confusion metrics\n",
    "\n",
    "print('Train Confusion Matrix')\n",
    "tr_true_negetive,tr_false_positive, tr_false_negetive, tr_true_positive = confusion_matrix(Y_1,predicted_labels_train).ravel()\n",
    "print(tr_true_negetive, tr_false_positive, tr_false_negetive, tr_true_positive)\n",
    "print(confusion_matrix(Y_1,predicted_labels_train))\n",
    "print(\"=\"*120)\n",
    "\n",
    "print('Test Confusion Matrix')\n",
    "true_negetive,false_positive, false_negetive, true_positive = confusion_matrix(Y_test,predicted_labels_test).ravel()\n",
    "print(true_negetive, false_positive, false_negetive, true_positive)\n",
    "print(confusion_matrix(Y_test,predicted_labels_test))\n",
    "print(\"=\"*120)"
   ]
  },
  {
   "cell_type": "code",
   "execution_count": 157,
   "metadata": {},
   "outputs": [
    {
     "data": {
      "text/plain": [
       "Text(0.5,1,'Confusion Matrix of Train Data')"
      ]
     },
     "execution_count": 157,
     "metadata": {},
     "output_type": "execute_result"
    },
    {
     "data": {
      "image/png": "[encoded data removed]",
      "text/plain": [
       "<Figure size 432x288 with 2 Axes>"
      ]
     },
     "metadata": {},
     "output_type": "display_data"
    }
   ],
   "source": [
    "conMatrix= [[tr_true_negetive,tr_false_positive],[tr_false_negetive,tr_true_positive]]\n",
    "data = conMatrix\n",
    "sns.heatmap(data, cmap=\"YlGnBu\", annot=True, fmt=\"d\")\n",
    "plt.xlabel('Actual Values')\n",
    "plt.ylabel('Predicted Values')\n",
    "plt.title('Confusion Matrix of Train Data')"
   ]
  },
  {
   "cell_type": "code",
   "execution_count": 158,
   "metadata": {},
   "outputs": [
    {
     "data": {
      "text/plain": [
       "Text(0.5,1,'Confusion Matrix of Test Data')"
      ]
     },
     "execution_count": 158,
     "metadata": {},
     "output_type": "execute_result"
    },
    {
     "data": {
      "image/png": "[encoded data removed]",
      "text/plain": [
       "<Figure size 432x288 with 2 Axes>"
      ]
     },
     "metadata": {},
     "output_type": "display_data"
    }
   ],
   "source": [
    "conMatrix= [[true_negetive,false_positive],[false_negetive,true_positive]]\n",
    "data = conMatrix\n",
    "sns.heatmap(data, cmap=\"YlGnBu\", annot=True, fmt=\"d\")\n",
    "plt.xlabel('Actual Values')\n",
    "plt.ylabel('Predicted Values')\n",
    "plt.title('Confusion Matrix of Test Data')"
   ]
  },
  {
   "cell_type": "markdown",
   "metadata": {},
   "source": [
    "#### Trying the SVM Model with L1 penalty"
   ]
  },
  {
   "cell_type": "code",
   "execution_count": 159,
   "metadata": {},
   "outputs": [
    {
     "name": "stdout",
     "output_type": "stream",
     "text": [
      "SGDClassifier(alpha=0.0001, average=False, class_weight='balanced',\n",
      "       early_stopping=False, epsilon=0.1, eta0=0.0, fit_intercept=True,\n",
      "       l1_ratio=0.15, learning_rate='optimal', loss='hinge', max_iter=None,\n",
      "       n_iter=None, n_iter_no_change=5, n_jobs=None, penalty='l1',\n",
      "       power_t=0.5, random_state=None, shuffle=True, tol=None,\n",
      "       validation_fraction=0.1, verbose=0, warm_start=False)\n",
      "AUC Score :  0.9030656475312111\n"
     ]
    }
   ],
   "source": [
    "#Fitting the SGDClassifier Model to GridSearchCV to find the optimal hyper parameter for L1 Penalty\n",
    "\n",
    "svm_w2v_l1_clf = GridSearchCV(SGDClassifier(loss='hinge', penalty='l1',class_weight = 'balanced'),tuned_param, cv = 5, scoring = 'roc_auc')\n",
    "svm_w2v_l1_clf.fit(D3_Train,Y_1)\n",
    "\n",
    "print(svm_w2v_l1_clf.best_estimator_)\n",
    "print(\"AUC Score : \",svm_w2v_l1_clf.score(D3_Test,Y_test))"
   ]
  },
  {
   "cell_type": "code",
   "execution_count": 160,
   "metadata": {},
   "outputs": [
    {
     "name": "stdout",
     "output_type": "stream",
     "text": [
      "17555\n",
      "Algo Run Successfully on D_Test\n",
      "====================================================================================================\n"
     ]
    }
   ],
   "source": [
    "# Fitting the model on test data \n",
    "\n",
    "test_neigh = SGDClassifier(loss='hinge', penalty='l1',class_weight = 'balanced', alpha = 0.0001)\n",
    "test_neigh.fit(D3_Train,Y_1)\n",
    "\n",
    "predicted_labels_test = []\n",
    "predicted_labels_train = []\n",
    "\n",
    "# Predicting the model with Train Data\n",
    "for j in range(0,n_test,1000):\n",
    "    predicted_labels_test.extend(test_neigh.predict(D3_Test[j:j+1000]))\n",
    "    \n",
    "for k in range(0,n_train,1000):\n",
    "    predicted_labels_train.extend(test_neigh.predict(D3_Train[k:k+1000]))\n",
    "\n",
    "print(len(Y_test))\n",
    "\n",
    "print('Algo Run Successfully on D_Test')\n",
    "print(\"=\"*100)"
   ]
  },
  {
   "cell_type": "code",
   "execution_count": 161,
   "metadata": {},
   "outputs": [
    {
     "name": "stdout",
     "output_type": "stream",
     "text": [
      "Train Confusion Matrix\n",
      "9540 1727 11754 47197\n",
      "[[ 9540  1727]\n",
      " [11754 47197]]\n",
      "========================================================================================================================\n",
      "Test Confusion Matrix\n",
      "2495 419 3016 11625\n",
      "[[ 2495   419]\n",
      " [ 3016 11625]]\n",
      "========================================================================================================================\n"
     ]
    }
   ],
   "source": [
    "# Getting the confusion metrics\n",
    "\n",
    "print('Train Confusion Matrix')\n",
    "tr_true_negetive,tr_false_positive, tr_false_negetive, tr_true_positive = confusion_matrix(Y_1,predicted_labels_train).ravel()\n",
    "print(tr_true_negetive, tr_false_positive, tr_false_negetive, tr_true_positive)\n",
    "print(confusion_matrix(Y_1,predicted_labels_train))\n",
    "print(\"=\"*120)\n",
    "\n",
    "print('Test Confusion Matrix')\n",
    "true_negetive,false_positive, false_negetive, true_positive = confusion_matrix(Y_test,predicted_labels_test).ravel()\n",
    "print(true_negetive, false_positive, false_negetive, true_positive)\n",
    "print(confusion_matrix(Y_test,predicted_labels_test))\n",
    "print(\"=\"*120)"
   ]
  },
  {
   "cell_type": "code",
   "execution_count": 162,
   "metadata": {},
   "outputs": [
    {
     "name": "stdout",
     "output_type": "stream",
     "text": [
      "Best Parameters :  {'base_estimator__alpha': 0.0001, 'base_estimator__average': False, 'base_estimator__class_weight': 'balanced', 'base_estimator__early_stopping': False, 'base_estimator__epsilon': 0.1, 'base_estimator__eta0': 0.0, 'base_estimator__fit_intercept': True, 'base_estimator__l1_ratio': 0.15, 'base_estimator__learning_rate': 'optimal', 'base_estimator__loss': 'hinge', 'base_estimator__max_iter': None, 'base_estimator__n_iter': None, 'base_estimator__n_iter_no_change': 5, 'base_estimator__n_jobs': None, 'base_estimator__penalty': 'l1', 'base_estimator__power_t': 0.5, 'base_estimator__random_state': None, 'base_estimator__shuffle': True, 'base_estimator__tol': None, 'base_estimator__validation_fraction': 0.1, 'base_estimator__verbose': 0, 'base_estimator__warm_start': False, 'base_estimator': SGDClassifier(alpha=0.0001, average=False, class_weight='balanced',\n",
      "       early_stopping=False, epsilon=0.1, eta0=0.0, fit_intercept=True,\n",
      "       l1_ratio=0.15, learning_rate='optimal', loss='hinge', max_iter=None,\n",
      "       n_iter=None, n_iter_no_change=5, n_jobs=None, penalty='l1',\n",
      "       power_t=0.5, random_state=None, shuffle=True, tol=None,\n",
      "       validation_fraction=0.1, verbose=0, warm_start=False), 'cv': 'prefit', 'method': 'isotonic'}\n"
     ]
    }
   ],
   "source": [
    "\n",
    "svm_w2v_l1_clf = SGDClassifier(loss='hinge', penalty='l1',class_weight = 'balanced', alpha = 0.0001)\n",
    "svm_w2v_l1_clf.fit(D3_Train,Y_1)\n",
    "\n",
    "calibrated_w2v_l1_clf = CalibratedClassifierCV(base_estimator=svm_w2v_l1_clf, cv='prefit', method='isotonic')\n",
    "calibrated_w2v_l1_clf.fit(D3_Train,Y_1)\n",
    "\n",
    "print(\"Best Parameters : \", calibrated_w2v_l1_clf.get_params(calibrated_w2v_l1_clf))"
   ]
  },
  {
   "cell_type": "code",
   "execution_count": 163,
   "metadata": {},
   "outputs": [
    {
     "name": "stdout",
     "output_type": "stream",
     "text": [
      "17555\n",
      "17555\n",
      "Algo Run Successfully on D_Test\n",
      "====================================================================================================\n"
     ]
    }
   ],
   "source": [
    "# Predicting the model with Test Data\n",
    "predicted_labels_test = []\n",
    "predicted_labels_train = []\n",
    "predict_test_prob = []\n",
    "predict_train_prob = []\n",
    "\n",
    "for j in range(0,n_test,1000):\n",
    "    predicted_labels_test.extend(calibrated_w2v_l1_clf.predict(D3_Test[j:j+1000]))\n",
    "    predict_test_prob.extend(calibrated_w2v_l1_clf.predict_proba(D3_Test[j:j+1000])[:,1])\n",
    "    \n",
    "for k in range(0,n_train,1000):\n",
    "    predicted_labels_train.extend(calibrated_w2v_l1_clf.predict(D3_Train[k:k+1000]))\n",
    "    predict_train_prob.extend(calibrated_w2v_l1_clf.predict_proba(D3_Train[k:k+1000])[:,1])\n",
    "    \n",
    "print(len(predict_test_prob))\n",
    "print(len(Y_test))\n",
    "    \n",
    "train_fpr, train_tpr, thresholds = roc_curve(Y_1, predict_train_prob)\n",
    "test_fpr, test_tpr, thresholds = roc_curve(Y_test, predict_test_prob)\n",
    "\n",
    "print('Algo Run Successfully on D_Test')\n",
    "print(\"=\"*100)"
   ]
  },
  {
   "cell_type": "code",
   "execution_count": 164,
   "metadata": {},
   "outputs": [
    {
     "data": {
      "image/png": "[encoded data removed]",
      "text/plain": [
       "<Figure size 432x288 with 1 Axes>"
      ]
     },
     "metadata": {},
     "output_type": "display_data"
    }
   ],
   "source": [
    "# Plotting the AUC curve on Test and Train Data\n",
    "\n",
    "plt.plot(train_fpr, train_tpr, label=\"Train AUC =\"+str(auc(train_fpr, train_tpr)))\n",
    "plt.plot(test_fpr, test_tpr, label=\"Test AUC =\"+str(auc(test_fpr, test_tpr)))\n",
    "plt.legend()\n",
    "plt.xlabel(\"FPR\")\n",
    "plt.ylabel(\"TPR\")\n",
    "plt.title(\"ERROR PLOTS\")\n",
    "plt.show()"
   ]
  },
  {
   "cell_type": "code",
   "execution_count": 165,
   "metadata": {},
   "outputs": [
    {
     "name": "stdout",
     "output_type": "stream",
     "text": [
      "Train Confusion Matrix\n",
      "5837 5430 2725 56226\n",
      "[[ 5837  5430]\n",
      " [ 2725 56226]]\n",
      "========================================================================================================================\n",
      "Test Confusion Matrix\n",
      "1556 1358 677 13964\n",
      "[[ 1556  1358]\n",
      " [  677 13964]]\n",
      "========================================================================================================================\n"
     ]
    }
   ],
   "source": [
    "# Getting the confusion metrics\n",
    "\n",
    "print('Train Confusion Matrix')\n",
    "tr_true_negetive,tr_false_positive, tr_false_negetive, tr_true_positive = confusion_matrix(Y_1,predicted_labels_train).ravel()\n",
    "print(tr_true_negetive, tr_false_positive, tr_false_negetive, tr_true_positive)\n",
    "print(confusion_matrix(Y_1,predicted_labels_train))\n",
    "print(\"=\"*120)\n",
    "\n",
    "print('Test Confusion Matrix')\n",
    "true_negetive,false_positive, false_negetive, true_positive = confusion_matrix(Y_test,predicted_labels_test).ravel()\n",
    "print(true_negetive, false_positive, false_negetive, true_positive)\n",
    "print(confusion_matrix(Y_test,predicted_labels_test))\n",
    "print(\"=\"*120)"
   ]
  },
  {
   "cell_type": "code",
   "execution_count": 166,
   "metadata": {},
   "outputs": [
    {
     "data": {
      "text/plain": [
       "Text(0.5,1,'Confusion Matrix of Train Data')"
      ]
     },
     "execution_count": 166,
     "metadata": {},
     "output_type": "execute_result"
    },
    {
     "data": {
      "image/png": "[encoded data removed]",
      "text/plain": [
       "<Figure size 432x288 with 2 Axes>"
      ]
     },
     "metadata": {},
     "output_type": "display_data"
    }
   ],
   "source": [
    "conMatrix= [[tr_true_negetive,tr_false_positive],[tr_false_negetive,tr_true_positive]]\n",
    "data = conMatrix\n",
    "sns.heatmap(data, cmap=\"YlGnBu\", annot=True, fmt=\"d\")\n",
    "plt.xlabel('Actual Values')\n",
    "plt.ylabel('Predicted Values')\n",
    "plt.title('Confusion Matrix of Train Data')"
   ]
  },
  {
   "cell_type": "code",
   "execution_count": 167,
   "metadata": {},
   "outputs": [
    {
     "data": {
      "text/plain": [
       "Text(0.5,1,'Confusion Matrix of Test Data')"
      ]
     },
     "execution_count": 167,
     "metadata": {},
     "output_type": "execute_result"
    },
    {
     "data": {
      "image/png": "[encoded data removed]",
      "text/plain": [
       "<Figure size 432x288 with 2 Axes>"
      ]
     },
     "metadata": {},
     "output_type": "display_data"
    }
   ],
   "source": [
    "conMatrix= [[true_negetive,false_positive],[false_negetive,true_positive]]\n",
    "data = conMatrix\n",
    "sns.heatmap(data, cmap=\"YlGnBu\", annot=True, fmt=\"d\")\n",
    "plt.xlabel('Actual Values')\n",
    "plt.ylabel('Predicted Values')\n",
    "plt.title('Confusion Matrix of Test Data')"
   ]
  },
  {
   "cell_type": "markdown",
   "metadata": {},
   "source": [
    "##### We can see from the above observations that L2 penalty is working better than the other with alpha = 0.0001 as the best hyper-parameter."
   ]
  },
  {
   "cell_type": "markdown",
   "metadata": {},
   "source": [
    "## 1.4) Applying Logistic Regression on Tf-Idf_Weighted-Average_Word2Vec, SET 4"
   ]
  },
  {
   "cell_type": "markdown",
   "metadata": {},
   "source": [
    "##### We are using the previously created Tf-Idf and Word2Vec vectorizer ."
   ]
  },
  {
   "cell_type": "code",
   "execution_count": 78,
   "metadata": {},
   "outputs": [
    {
     "name": "stdout",
     "output_type": "stream",
     "text": [
      "106951\n"
     ]
    }
   ],
   "source": [
    "# Splitting the Training Data into sentences\n",
    "list_of_sentence = []\n",
    "for sentence in X_Train['Cleaned_Text']:\n",
    "    list_of_sentence.append(sentence.split())\n",
    "print(len(list_of_sentence))"
   ]
  },
  {
   "cell_type": "code",
   "execution_count": 79,
   "metadata": {},
   "outputs": [
    {
     "name": "stderr",
     "output_type": "stream",
     "text": [
      "100%|████████████████████████████████████████████████████████████████████████| 106951/106951 [3:23:28<00:00, 14.05it/s]\n"
     ]
    },
    {
     "name": "stdout",
     "output_type": "stream",
     "text": [
      "106951\n"
     ]
    }
   ],
   "source": [
    "# Tf-Idf Weighted Word2Vec for Training Data\n",
    "\n",
    "tf_idf_features = tfidf_vect.get_feature_names()\n",
    "dictionary = dict(zip(tfidf_vect.get_feature_names(), list(tfidf_vect.idf_)))\n",
    "\n",
    "tfidf_w2v_train = []\n",
    "for sent in tqdm(list_of_sentence):\n",
    "    sent_vec = np.zeros(50)\n",
    "    weighted_sum = 0\n",
    "    for word in sent:\n",
    "        if word in w2v_words and word in tf_idf_features:\n",
    "            vec = w2v_model.wv[word]\n",
    "            tfidf = dictionary[word]*(sent.count(word)/len(sent))\n",
    "            sent_vec += vec * tfidf\n",
    "            weighted_sum += tfidf\n",
    "    if weighted_sum != 0:\n",
    "        sent_vec /= weighted_sum\n",
    "    tfidf_w2v_train.append(sent_vec)\n",
    "print(len(tfidf_w2v_train))"
   ]
  },
  {
   "cell_type": "code",
   "execution_count": 81,
   "metadata": {},
   "outputs": [
    {
     "name": "stdout",
     "output_type": "stream",
     "text": [
      "17555\n"
     ]
    }
   ],
   "source": [
    "# Splitting the Test Data into sentences\n",
    "\n",
    "list_of_sentence = []\n",
    "for sentence in X_test['Cleaned_Text']:\n",
    "    list_of_sentence.append(sentence.split())\n",
    "print(len(list_of_sentence))"
   ]
  },
  {
   "cell_type": "code",
   "execution_count": 82,
   "metadata": {},
   "outputs": [
    {
     "name": "stderr",
     "output_type": "stream",
     "text": [
      "100%|████████████████████████████████████████████████████████████████████████████| 17555/17555 [40:40<00:00,  7.04it/s]\n"
     ]
    },
    {
     "name": "stdout",
     "output_type": "stream",
     "text": [
      "17555\n"
     ]
    }
   ],
   "source": [
    "# Tf-Idf Weighted Word2Vec for Test Data\n",
    "\n",
    "tf_idf_features = tfidf_vect.get_feature_names()\n",
    "\n",
    "tfidf_w2v_test = []\n",
    "for sent in tqdm(list_of_sentence):\n",
    "    sent_vec = np.zeros(50)\n",
    "    weighted_sum = 0\n",
    "    for word in sent:\n",
    "        if word in w2v_words and word in tf_idf_features:\n",
    "            vec = w2v_model.wv[word]\n",
    "            tfidf = dictionary[word]*(sent.count(word)/len(sent))\n",
    "            sent_vec += vec * tfidf\n",
    "            weighted_sum += tfidf\n",
    "    if weighted_sum != 0:\n",
    "        sent_vec /= weighted_sum\n",
    "    tfidf_w2v_test.append(sent_vec)\n",
    "print(len(tfidf_w2v_test))"
   ]
  },
  {
   "cell_type": "code",
   "execution_count": 180,
   "metadata": {},
   "outputs": [
    {
     "name": "stdout",
     "output_type": "stream",
     "text": [
      "106951\n",
      "17555\n"
     ]
    }
   ],
   "source": [
    "n_train = len(tfidf_w2v_train)\n",
    "n_test = len(tfidf_w2v_test)\n",
    "print(n_train)\n",
    "print(n_test)"
   ]
  },
  {
   "cell_type": "code",
   "execution_count": 84,
   "metadata": {},
   "outputs": [
    {
     "name": "stdout",
     "output_type": "stream",
     "text": [
      "(106951, 50)\n",
      "(17555, 50)\n"
     ]
    }
   ],
   "source": [
    "# Standardization Process\n",
    "\n",
    "scaler = StandardScaler()\n",
    "scaler.fit(tfidf_w2v_train)\n",
    "D4_Train = scaler.transform(tfidf_w2v_train)\n",
    "D4_Test = scaler.transform(tfidf_w2v_test)\n",
    "\n",
    "print(D4_Train.shape)\n",
    "print(D4_Test.shape)"
   ]
  },
  {
   "cell_type": "code",
   "execution_count": 193,
   "metadata": {},
   "outputs": [
    {
     "name": "stdout",
     "output_type": "stream",
     "text": [
      "SGDClassifier(alpha=0.01, average=False, class_weight='balanced',\n",
      "       early_stopping=False, epsilon=0.1, eta0=0.0, fit_intercept=True,\n",
      "       l1_ratio=0.15, learning_rate='optimal', loss='hinge', max_iter=None,\n",
      "       n_iter=None, n_iter_no_change=5, n_jobs=None, penalty='l2',\n",
      "       power_t=0.5, random_state=None, shuffle=True, tol=None,\n",
      "       validation_fraction=0.1, verbose=0, warm_start=False)\n",
      "AUC Score :  0.8651610024912412\n"
     ]
    }
   ],
   "source": [
    "#Fitting the SGDClassifier Model to GridSearchCV to find the optimal hyper parameter for L2 Penalty\n",
    "\n",
    "svm_clf = GridSearchCV(SGDClassifier(loss='hinge', penalty='l2',class_weight = 'balanced'),tuned_param, cv = 3, scoring = 'roc_auc')\n",
    "svm_clf.fit(D4_Train,Y_1_train)\n",
    "\n",
    "print(svm_clf.best_estimator_)\n",
    "print(\"AUC Score : \",svm_clf.score(D4_Test,Y_test))"
   ]
  },
  {
   "cell_type": "code",
   "execution_count": 194,
   "metadata": {},
   "outputs": [
    {
     "name": "stdout",
     "output_type": "stream",
     "text": [
      "17555\n",
      "Algo Run Successfully on D_Test\n",
      "====================================================================================================\n"
     ]
    }
   ],
   "source": [
    "# Fitting the model on test data \n",
    "\n",
    "test_neigh = SGDClassifier(loss='hinge', penalty='l2',class_weight = 'balanced', alpha = 0.01)\n",
    "test_neigh.fit(D4_Train,Y_1_train)\n",
    "\n",
    "predicted_labels_test = []\n",
    "predicted_labels_train = []\n",
    "\n",
    "# Predicting the model with Train Data\n",
    "for j in range(0,n_test,1000):\n",
    "    predicted_labels_test.extend(test_neigh.predict(D4_Test[j:j+1000]))\n",
    "    \n",
    "for k in range(0,n_train,1000):\n",
    "    predicted_labels_train.extend(test_neigh.predict(D4_Train[k:k+1000]))\n",
    "\n",
    "print(len(Y_test))\n",
    "    \n",
    "print('Algo Run Successfully on D_Test')\n",
    "print(\"=\"*100)\n"
   ]
  },
  {
   "cell_type": "code",
   "execution_count": 195,
   "metadata": {},
   "outputs": [
    {
     "name": "stdout",
     "output_type": "stream",
     "text": [
      "Train Confusion Matrix\n",
      "37693 10307 13030 45921\n",
      "[[37693 10307]\n",
      " [13030 45921]]\n",
      "========================================================================================================================\n",
      "Test Confusion Matrix\n",
      "2294 620 3253 11388\n",
      "[[ 2294   620]\n",
      " [ 3253 11388]]\n",
      "========================================================================================================================\n"
     ]
    }
   ],
   "source": [
    "# Getting the confusion metrics\n",
    "\n",
    "print('Train Confusion Matrix')\n",
    "tr_true_negetive,tr_false_positive, tr_false_negetive, tr_true_positive = confusion_matrix(Y_1_train,predicted_labels_train).ravel()\n",
    "print(tr_true_negetive, tr_false_positive, tr_false_negetive, tr_true_positive)\n",
    "print(confusion_matrix(Y_1_train,predicted_labels_train))\n",
    "print(\"=\"*120)\n",
    "\n",
    "print('Test Confusion Matrix')\n",
    "true_negetive,false_positive, false_negetive, true_positive = confusion_matrix(Y_test,predicted_labels_test).ravel()\n",
    "print(true_negetive, false_positive, false_negetive, true_positive)\n",
    "print(confusion_matrix(Y_test,predicted_labels_test))\n",
    "print(\"=\"*120)"
   ]
  },
  {
   "cell_type": "code",
   "execution_count": 197,
   "metadata": {},
   "outputs": [
    {
     "name": "stdout",
     "output_type": "stream",
     "text": [
      "Best Parameters :  {'base_estimator__alpha': 0.01, 'base_estimator__average': False, 'base_estimator__class_weight': 'balanced', 'base_estimator__early_stopping': False, 'base_estimator__epsilon': 0.1, 'base_estimator__eta0': 0.0, 'base_estimator__fit_intercept': True, 'base_estimator__l1_ratio': 0.15, 'base_estimator__learning_rate': 'optimal', 'base_estimator__loss': 'hinge', 'base_estimator__max_iter': None, 'base_estimator__n_iter': None, 'base_estimator__n_iter_no_change': 5, 'base_estimator__n_jobs': None, 'base_estimator__penalty': 'l2', 'base_estimator__power_t': 0.5, 'base_estimator__random_state': None, 'base_estimator__shuffle': True, 'base_estimator__tol': None, 'base_estimator__validation_fraction': 0.1, 'base_estimator__verbose': 0, 'base_estimator__warm_start': False, 'base_estimator': SGDClassifier(alpha=0.01, average=False, class_weight='balanced',\n",
      "       early_stopping=False, epsilon=0.1, eta0=0.0, fit_intercept=True,\n",
      "       l1_ratio=0.15, learning_rate='optimal', loss='hinge', max_iter=None,\n",
      "       n_iter=None, n_iter_no_change=5, n_jobs=None, penalty='l2',\n",
      "       power_t=0.5, random_state=None, shuffle=True, tol=None,\n",
      "       validation_fraction=0.1, verbose=0, warm_start=False), 'cv': 'prefit', 'method': 'isotonic'}\n"
     ]
    }
   ],
   "source": [
    "#\n",
    "\n",
    "svm_w2v_tfidf_clf = SGDClassifier(loss='hinge', penalty='l2',class_weight = 'balanced', alpha = 0.01)\n",
    "svm_w2v_tfidf_clf.fit(D4_Train,Y_1_train)\n",
    "\n",
    "calibrated_w2v_tfidf_clf = CalibratedClassifierCV(base_estimator=svm_w2v_tfidf_clf, cv='prefit', method='isotonic')\n",
    "calibrated_w2v_tfidf_clf.fit(D4_Train,Y_1_train)\n",
    "\n",
    "print(\"Best Parameters : \", calibrated_w2v_tfidf_clf.get_params(calibrated_w2v_tfidf_clf))"
   ]
  },
  {
   "cell_type": "code",
   "execution_count": 198,
   "metadata": {},
   "outputs": [
    {
     "name": "stdout",
     "output_type": "stream",
     "text": [
      "106951\n",
      "17555\n",
      "Algo Run Successfully on D_Test\n",
      "====================================================================================================\n"
     ]
    }
   ],
   "source": [
    "# Predicting the model with Test Data\n",
    "predicted_labels_test = []\n",
    "predicted_labels_train = []\n",
    "predict_test_prob = []\n",
    "predict_train_prob = []\n",
    "\n",
    "for j in range(0,n_test,1000):\n",
    "    predicted_labels_test.extend(calibrated_w2v_tfidf_clf.predict(D4_Test[j:j+1000]))\n",
    "    predict_test_prob.extend(calibrated_w2v_tfidf_clf.predict_proba(D4_Test[j:j+1000])[:,1])\n",
    "    \n",
    "for k in range(0,n_train,1000):\n",
    "    predicted_labels_train.extend(calibrated_w2v_tfidf_clf.predict(D4_Train[k:k+1000]))\n",
    "    predict_train_prob.extend(calibrated_w2v_tfidf_clf.predict_proba(D4_Train[k:k+1000])[:,1])\n",
    "\n",
    "print(len(predict_train_prob))\n",
    "print(len(Y_test))\n",
    "    \n",
    "train_fpr, train_tpr, thresholds = roc_curve(Y_1_train, predict_train_prob)\n",
    "test_fpr, test_tpr, thresholds = roc_curve(Y_test, predict_test_prob)\n",
    "\n",
    "print('Algo Run Successfully on D_Test')\n",
    "print(\"=\"*100)"
   ]
  },
  {
   "cell_type": "code",
   "execution_count": 199,
   "metadata": {},
   "outputs": [
    {
     "data": {
      "image/png": "[encoded data removed]",
      "text/plain": [
       "<Figure size 432x288 with 1 Axes>"
      ]
     },
     "metadata": {},
     "output_type": "display_data"
    },
    {
     "name": "stdout",
     "output_type": "stream",
     "text": [
      "====================================================================================================\n"
     ]
    }
   ],
   "source": [
    "# Plotting the AUC curve on Test and Train Data\n",
    "\n",
    "plt.plot(train_fpr, train_tpr, label=\"Train AUC =\"+str(auc(train_fpr, train_tpr)))\n",
    "plt.plot(test_fpr, test_tpr, label=\"Test AUC =\"+str(auc(test_fpr, test_tpr)))\n",
    "plt.legend()\n",
    "plt.xlabel(\"FPR\")\n",
    "plt.ylabel(\"TPR\")\n",
    "plt.title(\"ERROR PLOTS\")\n",
    "plt.show()\n",
    "\n",
    "print(\"=\"*100)"
   ]
  },
  {
   "cell_type": "code",
   "execution_count": 200,
   "metadata": {},
   "outputs": [
    {
     "name": "stdout",
     "output_type": "stream",
     "text": [
      "Train Confusion Matrix\n",
      "36234 11766 11222 47729\n",
      "[[36234 11766]\n",
      " [11222 47729]]\n",
      "========================================================================================================================\n",
      "Test Confusion Matrix\n",
      "2203 711 2773 11868\n",
      "[[ 2203   711]\n",
      " [ 2773 11868]]\n",
      "========================================================================================================================\n"
     ]
    }
   ],
   "source": [
    "# Getting the confusion metrics\n",
    "\n",
    "print('Train Confusion Matrix')\n",
    "tr_true_negetive,tr_false_positive, tr_false_negetive, tr_true_positive = confusion_matrix(Y_1_train,predicted_labels_train).ravel()\n",
    "print(tr_true_negetive, tr_false_positive, tr_false_negetive, tr_true_positive)\n",
    "print(confusion_matrix(Y_1_train,predicted_labels_train))\n",
    "print(\"=\"*120)\n",
    "\n",
    "print('Test Confusion Matrix')\n",
    "true_negetive,false_positive, false_negetive, true_positive = confusion_matrix(Y_test,predicted_labels_test).ravel()\n",
    "print(true_negetive, false_positive, false_negetive, true_positive)\n",
    "print(confusion_matrix(Y_test,predicted_labels_test))\n",
    "print(\"=\"*120)"
   ]
  },
  {
   "cell_type": "code",
   "execution_count": 201,
   "metadata": {},
   "outputs": [
    {
     "data": {
      "text/plain": [
       "Text(0.5,1,'Confusion Matrix of Train Data')"
      ]
     },
     "execution_count": 201,
     "metadata": {},
     "output_type": "execute_result"
    },
    {
     "data": {
      "image/png": "[encoded data removed]",
      "text/plain": [
       "<Figure size 432x288 with 2 Axes>"
      ]
     },
     "metadata": {},
     "output_type": "display_data"
    }
   ],
   "source": [
    "conMatrix= [[tr_true_negetive,tr_false_positive],[tr_false_negetive,tr_true_positive]]\n",
    "data = conMatrix\n",
    "sns.heatmap(data, cmap=\"YlGnBu\", annot=True, fmt=\"d\")\n",
    "plt.xlabel('Actual Values')\n",
    "plt.ylabel('Predicted Values')\n",
    "plt.title('Confusion Matrix of Train Data')"
   ]
  },
  {
   "cell_type": "code",
   "execution_count": 202,
   "metadata": {},
   "outputs": [
    {
     "data": {
      "text/plain": [
       "Text(0.5,1,'Confusion Matrix of Test Data')"
      ]
     },
     "execution_count": 202,
     "metadata": {},
     "output_type": "execute_result"
    },
    {
     "data": {
      "image/png": "[encoded data removed]",
      "text/plain": [
       "<Figure size 432x288 with 2 Axes>"
      ]
     },
     "metadata": {},
     "output_type": "display_data"
    }
   ],
   "source": [
    "conMatrix= [[true_negetive,false_positive],[false_negetive,true_positive]]\n",
    "data = conMatrix\n",
    "sns.heatmap(data, cmap=\"YlGnBu\", annot=True, fmt=\"d\")\n",
    "plt.xlabel('Actual Values')\n",
    "plt.ylabel('Predicted Values')\n",
    "plt.title('Confusion Matrix of Test Data')"
   ]
  },
  {
   "cell_type": "markdown",
   "metadata": {},
   "source": [
    "### Conclusion "
   ]
  },
  {
   "cell_type": "code",
   "execution_count": 203,
   "metadata": {},
   "outputs": [],
   "source": [
    "# Importing Pretty Table\n",
    "from prettytable import PrettyTable"
   ]
  },
  {
   "cell_type": "code",
   "execution_count": 211,
   "metadata": {},
   "outputs": [
    {
     "name": "stdout",
     "output_type": "stream",
     "text": [
      "+-------------------------+-----------------------+------+\n",
      "|        Vectorizer       | Hyper-Parameter Alpha | AUC  |\n",
      "+-------------------------+-----------------------+------+\n",
      "|           BOW           |           1           | 0.93 |\n",
      "|          Tf-Idf         |           1           | 0.93 |\n",
      "|     Average Word2Vec    |         0.0001        | 0.90 |\n",
      "| Tf-Idf_Average_Word2Vec |          0.01         | 0.86 |\n",
      "+-------------------------+-----------------------+------+\n"
     ]
    }
   ],
   "source": [
    "x = PrettyTable()\n",
    "x.field_names = ['Vectorizer', 'Hyper-Parameter Alpha','AUC']\n",
    "x.add_row(['BOW','1','0.93'])\n",
    "x.add_row(['Tf-Idf','1','0.93'])\n",
    "x.add_row(['Average Word2Vec','0.0001','0.90'])\n",
    "x.add_row(['Tf-Idf_Average_Word2Vec','0.01','0.86'])\n",
    "\n",
    "print(x)"
   ]
  },
  {
   "cell_type": "markdown",
   "metadata": {},
   "source": [
    "#### We have sampled top 100k datapoints that are highly imbalanced. We have thus balanced only the train datapoints with upsampling the negetive points.\n",
    "#### We have also done feature engineering on the Average Word2Vec vectorizer by adding a new feature that contains the word count of the reviews to see if the model performance is increasing or not."
   ]
  },
  {
   "cell_type": "markdown",
   "metadata": {},
   "source": [
    "##### We have also performed a feature importance to check if the model is performing good. We have listed the top 10 features for each class along with their weight vector values."
   ]
  }
 ],
 "metadata": {
  "kernelspec": {
   "display_name": "Python 3",
   "language": "python",
   "name": "python3"
  },
  "language_info": {
   "codemirror_mode": {
    "name": "ipython",
    "version": 3
   },
   "file_extension": ".py",
   "mimetype": "text/x-python",
   "name": "python",
   "nbconvert_exporter": "python",
   "pygments_lexer": "ipython3",
   "version": "3.6.5"
  }
 },
 "nbformat": 4,
 "nbformat_minor": 2
}
