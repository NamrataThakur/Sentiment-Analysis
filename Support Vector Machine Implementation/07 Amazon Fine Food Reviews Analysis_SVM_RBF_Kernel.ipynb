{
 "cells": [
  {
   "cell_type": "markdown",
   "metadata": {},
   "source": [
    "## Amazon Fine Food Review - Support Vector Machine - RBF Algorithm"
   ]
  },
  {
   "cell_type": "code",
   "execution_count": 1,
   "metadata": {},
   "outputs": [
    {
     "name": "stderr",
     "output_type": "stream",
     "text": [
      "C:\\Users\\NamrataT\\Anaconda3\\lib\\site-packages\\gensim\\utils.py:1197: UserWarning: detected Windows; aliasing chunkize to chunkize_serial\n",
      "  warnings.warn(\"detected Windows; aliasing chunkize to chunkize_serial\")\n"
     ]
    }
   ],
   "source": [
    "# Getting all the imports done\n",
    "\n",
    "%matplotlib inline\n",
    "import warnings\n",
    "warnings.filterwarnings(\"ignore\")\n",
    "\n",
    "import sqlite3\n",
    "import pandas as pd\n",
    "import numpy as np\n",
    "import nltk\n",
    "import string\n",
    "import matplotlib.pyplot as plt\n",
    "import seaborn as sns\n",
    "from sklearn.feature_extraction.text import TfidfTransformer\n",
    "from sklearn.feature_extraction.text import TfidfVectorizer\n",
    "\n",
    "from sklearn.feature_extraction.text import CountVectorizer\n",
    "from sklearn.metrics import confusion_matrix\n",
    "from sklearn import metrics\n",
    "from sklearn.metrics import roc_curve, auc\n",
    "from nltk.stem.porter import PorterStemmer\n",
    "\n",
    "import re\n",
    "# Tutorial about Python regular expressions: https://pymotw.com/2/re/\n",
    "import string\n",
    "from nltk.corpus import stopwords\n",
    "from nltk.stem import PorterStemmer\n",
    "from nltk.stem.wordnet import WordNetLemmatizer\n",
    "\n",
    "from gensim.models import Word2Vec\n",
    "from gensim.models import KeyedVectors\n",
    "import pickle\n",
    "\n",
    "from tqdm import tqdm\n",
    "import os\n",
    "import seaborn as sns"
   ]
  },
  {
   "cell_type": "code",
   "execution_count": 2,
   "metadata": {},
   "outputs": [
    {
     "name": "stdout",
     "output_type": "stream",
     "text": [
      "Number of data points in our data (40000, 10)\n"
     ]
    },
    {
     "data": {
      "text/html": [
       "<div>\n",
       "<style scoped>\n",
       "    .dataframe tbody tr th:only-of-type {\n",
       "        vertical-align: middle;\n",
       "    }\n",
       "\n",
       "    .dataframe tbody tr th {\n",
       "        vertical-align: top;\n",
       "    }\n",
       "\n",
       "    .dataframe thead th {\n",
       "        text-align: right;\n",
       "    }\n",
       "</style>\n",
       "<table border=\"1\" class=\"dataframe\">\n",
       "  <thead>\n",
       "    <tr style=\"text-align: right;\">\n",
       "      <th></th>\n",
       "      <th>Id</th>\n",
       "      <th>ProductId</th>\n",
       "      <th>UserId</th>\n",
       "      <th>ProfileName</th>\n",
       "      <th>HelpfulnessNumerator</th>\n",
       "      <th>HelpfulnessDenominator</th>\n",
       "      <th>Score</th>\n",
       "      <th>Time</th>\n",
       "      <th>Summary</th>\n",
       "      <th>Text</th>\n",
       "    </tr>\n",
       "  </thead>\n",
       "  <tbody>\n",
       "    <tr>\n",
       "      <th>0</th>\n",
       "      <td>1</td>\n",
       "      <td>B001E4KFG0</td>\n",
       "      <td>A3SGXH7AUHU8GW</td>\n",
       "      <td>delmartian</td>\n",
       "      <td>1</td>\n",
       "      <td>1</td>\n",
       "      <td>1</td>\n",
       "      <td>1303862400</td>\n",
       "      <td>Good Quality Dog Food</td>\n",
       "      <td>I have bought several of the Vitality canned d...</td>\n",
       "    </tr>\n",
       "    <tr>\n",
       "      <th>1</th>\n",
       "      <td>2</td>\n",
       "      <td>B00813GRG4</td>\n",
       "      <td>A1D87F6ZCVE5NK</td>\n",
       "      <td>dll pa</td>\n",
       "      <td>0</td>\n",
       "      <td>0</td>\n",
       "      <td>0</td>\n",
       "      <td>1346976000</td>\n",
       "      <td>Not as Advertised</td>\n",
       "      <td>Product arrived labeled as Jumbo Salted Peanut...</td>\n",
       "    </tr>\n",
       "    <tr>\n",
       "      <th>2</th>\n",
       "      <td>3</td>\n",
       "      <td>B000LQOCH0</td>\n",
       "      <td>ABXLMWJIXXAIN</td>\n",
       "      <td>Natalia Corres \"Natalia Corres\"</td>\n",
       "      <td>1</td>\n",
       "      <td>1</td>\n",
       "      <td>1</td>\n",
       "      <td>1219017600</td>\n",
       "      <td>\"Delight\" says it all</td>\n",
       "      <td>This is a confection that has been around a fe...</td>\n",
       "    </tr>\n",
       "  </tbody>\n",
       "</table>\n",
       "</div>"
      ],
      "text/plain": [
       "   Id   ProductId          UserId                      ProfileName  \\\n",
       "0   1  B001E4KFG0  A3SGXH7AUHU8GW                       delmartian   \n",
       "1   2  B00813GRG4  A1D87F6ZCVE5NK                           dll pa   \n",
       "2   3  B000LQOCH0   ABXLMWJIXXAIN  Natalia Corres \"Natalia Corres\"   \n",
       "\n",
       "   HelpfulnessNumerator  HelpfulnessDenominator  Score        Time  \\\n",
       "0                     1                       1      1  1303862400   \n",
       "1                     0                       0      0  1346976000   \n",
       "2                     1                       1      1  1219017600   \n",
       "\n",
       "                 Summary                                               Text  \n",
       "0  Good Quality Dog Food  I have bought several of the Vitality canned d...  \n",
       "1      Not as Advertised  Product arrived labeled as Jumbo Salted Peanut...  \n",
       "2  \"Delight\" says it all  This is a confection that has been around a fe...  "
      ]
     },
     "execution_count": 2,
     "metadata": {},
     "output_type": "execute_result"
    }
   ],
   "source": [
    "# using SQLite Table to read data.\n",
    "con = sqlite3.connect(r'C:\\Users\\NamrataT\\Desktop\\EXAM\\PYTHON\\Amazon Fine Food Reviews\\database.sqlite') \n",
    "\n",
    "# filtering only positive and negative reviews i.e. \n",
    "# not taking into consideration those reviews with Score=3\n",
    "# SELECT * FROM Reviews WHERE Score != 3 LIMIT 500000, will give top 500000 data points\n",
    "\n",
    "filtered_data = pd.read_sql_query(\"\"\" SELECT * FROM Reviews WHERE Score != 3 LIMIT 40000\"\"\", con) \n",
    "\n",
    "# Give reviews with Score>3 a positive rating(1), and reviews with a score<3 a negative rating(0).\n",
    "def partition(x):\n",
    "    if x < 3:\n",
    "        return 0\n",
    "    return 1\n",
    "\n",
    "#changing reviews with score less than 3 to be positive and vice-versa\n",
    "actualScore = filtered_data['Score']\n",
    "positiveNegative = actualScore.map(partition) \n",
    "filtered_data['Score'] = positiveNegative\n",
    "print(\"Number of data points in our data\", filtered_data.shape)\n",
    "filtered_data.head(3)"
   ]
  },
  {
   "cell_type": "code",
   "execution_count": 3,
   "metadata": {},
   "outputs": [
    {
     "data": {
      "text/plain": [
       "1    33439\n",
       "0     6561\n",
       "Name: Score, dtype: int64"
      ]
     },
     "execution_count": 3,
     "metadata": {},
     "output_type": "execute_result"
    }
   ],
   "source": [
    "filtered_data['Score'].value_counts()"
   ]
  },
  {
   "cell_type": "code",
   "execution_count": 4,
   "metadata": {},
   "outputs": [],
   "source": [
    "#Sorting data according to Time in ascending order\n",
    "sorted_data=filtered_data.sort_values('Time', axis=0, ascending=True, inplace=False, kind='quicksort', na_position='last')\n",
    "sorted_data.reset_index(drop=True, inplace=True)"
   ]
  },
  {
   "cell_type": "code",
   "execution_count": 5,
   "metadata": {},
   "outputs": [
    {
     "data": {
      "text/plain": [
       "(37415, 10)"
      ]
     },
     "execution_count": 5,
     "metadata": {},
     "output_type": "execute_result"
    }
   ],
   "source": [
    "#Deduplication of entries\n",
    "final=sorted_data.drop_duplicates(subset={\"UserId\",\"ProfileName\",\"Time\",\"Text\"}, keep='first', inplace=False)\n",
    "final.shape"
   ]
  },
  {
   "cell_type": "code",
   "execution_count": 6,
   "metadata": {},
   "outputs": [
    {
     "data": {
      "text/plain": [
       "93.5375"
      ]
     },
     "execution_count": 6,
     "metadata": {},
     "output_type": "execute_result"
    }
   ],
   "source": [
    "#Checking to see how much % of data still remains\n",
    "(final['Id'].size*1.0)/(filtered_data['Id'].size*1.0)*100"
   ]
  },
  {
   "cell_type": "code",
   "execution_count": 7,
   "metadata": {},
   "outputs": [],
   "source": [
    "final=final[final.HelpfulnessNumerator<=final.HelpfulnessDenominator]"
   ]
  },
  {
   "cell_type": "code",
   "execution_count": 8,
   "metadata": {},
   "outputs": [
    {
     "name": "stdout",
     "output_type": "stream",
     "text": [
      "(37415, 10)\n"
     ]
    },
    {
     "data": {
      "text/plain": [
       "1    31324\n",
       "0     6091\n",
       "Name: Score, dtype: int64"
      ]
     },
     "execution_count": 8,
     "metadata": {},
     "output_type": "execute_result"
    }
   ],
   "source": [
    "#Before starting the next phase of preprocessing lets see the number of entries left\n",
    "print(final.shape)\n",
    "\n",
    "#How many positive and negative reviews are present in our dataset?\n",
    "final['Score'].value_counts()"
   ]
  },
  {
   "cell_type": "code",
   "execution_count": 9,
   "metadata": {},
   "outputs": [
    {
     "data": {
      "text/plain": [
       "(37415,)"
      ]
     },
     "execution_count": 9,
     "metadata": {},
     "output_type": "execute_result"
    }
   ],
   "source": [
    "final_score = final['Score']\n",
    "final_score.shape"
   ]
  },
  {
   "cell_type": "code",
   "execution_count": 10,
   "metadata": {},
   "outputs": [],
   "source": [
    "# https://stackoverflow.com/a/47091490/4084039\n",
    "import re\n",
    "\n",
    "def decontracted(phrase):\n",
    "    # specific\n",
    "    phrase = re.sub(r\"won't\", \"will not\", phrase)\n",
    "    phrase = re.sub(r\"can\\'t\", \"can not\", phrase)\n",
    "\n",
    "    # general\n",
    "    phrase = re.sub(r\"n\\'t\", \" not\", phrase)\n",
    "    phrase = re.sub(r\"\\'re\", \" are\", phrase)\n",
    "    phrase = re.sub(r\"\\'s\", \" is\", phrase)\n",
    "    phrase = re.sub(r\"\\'d\", \" would\", phrase)\n",
    "    phrase = re.sub(r\"\\'ll\", \" will\", phrase)\n",
    "    phrase = re.sub(r\"\\'t\", \" not\", phrase)\n",
    "    phrase = re.sub(r\"\\'ve\", \" have\", phrase)\n",
    "    phrase = re.sub(r\"\\'m\", \" am\", phrase)\n",
    "    return phrase"
   ]
  },
  {
   "cell_type": "code",
   "execution_count": 11,
   "metadata": {},
   "outputs": [],
   "source": [
    "# https://gist.github.com/sebleier/554280\n",
    "# we are removing the words from the stop words list: 'no', 'nor', 'not'\n",
    "# <br /><br /> ==> after the above steps, we are getting \"br br\"\n",
    "# we are including them into stop words list\n",
    "# instead of <br /> if we have <br/> these tags would have revmoved in the 1st step\n",
    "\n",
    "stopwords= set(['br', 'the', 'i', 'me', 'my', 'myself', 'we', 'our', 'ours', 'ourselves', 'you', \"you're\", \"you've\",\\\n",
    "            \"you'll\", \"you'd\", 'your', 'yours', 'yourself', 'yourselves', 'he', 'him', 'his', 'himself', \\\n",
    "            'she', \"she's\", 'her', 'hers', 'herself', 'it', \"it's\", 'its', 'itself', 'they', 'them', 'their',\\\n",
    "            'theirs', 'themselves', 'what', 'which', 'who', 'whom', 'this', 'that', \"that'll\", 'these', 'those', \\\n",
    "            'am', 'is', 'are', 'was', 'were', 'be', 'been', 'being', 'have', 'has', 'had', 'having', 'do', 'does', \\\n",
    "            'did', 'doing', 'a', 'an', 'the', 'and', 'but', 'if', 'or', 'because', 'as', 'until', 'while', 'of', \\\n",
    "            'at', 'by', 'for', 'with', 'about', 'against', 'between', 'into', 'through', 'during', 'before', 'after',\\\n",
    "            'above', 'below','not','no', 'to', 'from', 'up', 'down', 'in', 'out', 'on', 'off', 'over', 'under', 'again', 'further',\\\n",
    "            'then', 'once', 'here', 'there', 'when', 'where', 'why', 'how', 'all', 'any', 'both', 'each', 'few', 'more',\\\n",
    "            'most', 'other', 'some', 'such', 'only', 'own', 'same', 'so', 'than', 'too', 'very', \\\n",
    "            's', 't', 'can', 'will', 'just', 'don', \"don't\", 'should', \"should've\", 'now', 'd', 'll', 'm', 'o', 're', \\\n",
    "            've', 'y', 'ain', 'aren', \"aren't\", 'couldn', \"couldn't\", 'didn', \"didn't\", 'doesn', \"doesn't\", 'hadn',\\\n",
    "            \"hadn't\", 'hasn', \"hasn't\", 'haven', \"haven't\", 'isn', \"isn't\", 'ma', 'mightn', \"mightn't\", 'mustn',\\\n",
    "            \"mustn't\", 'needn', \"needn't\", 'shan', \"shan't\", 'shouldn', \"shouldn't\", 'wasn', \"wasn't\", 'weren', \"weren't\", \\\n",
    "            'won', \"won't\", 'wouldn', \"wouldn't\"])"
   ]
  },
  {
   "cell_type": "code",
   "execution_count": 12,
   "metadata": {},
   "outputs": [
    {
     "name": "stderr",
     "output_type": "stream",
     "text": [
      "100%|██████████████████████████████████████████████████████████████████████████| 37415/37415 [00:23<00:00, 1584.30it/s]\n"
     ]
    }
   ],
   "source": [
    "# Combining all the above stundents \n",
    "from tqdm import tqdm\n",
    "from bs4 import BeautifulSoup\n",
    "\n",
    "preprocessed_reviews = []\n",
    "# tqdm is for printing the status bar\n",
    "for sentance in tqdm(final['Text'].values):\n",
    "    sentance = re.sub(r\"http\\S+\", \"\", sentance)\n",
    "    sentance = BeautifulSoup(sentance, 'lxml').get_text()\n",
    "    sentance = decontracted(sentance)\n",
    "    sentance = re.sub(\"\\S*\\d\\S*\", \"\", sentance).strip()\n",
    "    sentance = re.sub('[^A-Za-z]+', ' ', sentance)\n",
    "    # https://gist.github.com/sebleier/554280\n",
    "    sentance = ' '.join(e.lower() for e in sentance.split() if e.lower() not in stopwords)\n",
    "    preprocessed_reviews.append(sentance.strip())"
   ]
  },
  {
   "cell_type": "markdown",
   "metadata": {},
   "source": [
    "## 1) Applying Support Vector Machine "
   ]
  },
  {
   "cell_type": "markdown",
   "metadata": {},
   "source": [
    "## 1.1) Applying Support Vector Machine on BOW, SET 1"
   ]
  },
  {
   "cell_type": "code",
   "execution_count": 13,
   "metadata": {},
   "outputs": [],
   "source": [
    "# Getting all the imports done\n",
    "\n",
    "from sklearn.metrics import accuracy_score\n",
    "#from sklearn.cross_validation import cross_val_score\n",
    "from collections import Counter\n",
    "from sklearn.metrics import accuracy_score\n",
    "#from sklearn import cross_validation\n",
    "from sklearn.metrics import roc_auc_score\n",
    "from sklearn import preprocessing\n",
    "from sklearn.model_selection import train_test_split\n",
    "from sklearn.metrics import auc,roc_curve\n",
    "from sklearn.metrics import confusion_matrix\n",
    "from sklearn.feature_extraction.text import TfidfVectorizer\n",
    "from sklearn.preprocessing import StandardScaler\n",
    "from sklearn.utils import resample\n",
    "from sklearn.linear_model import SGDClassifier\n",
    "from scipy.sparse import hstack\n",
    "from sklearn.model_selection import GridSearchCV\n",
    "from sklearn.calibration import CalibratedClassifierCV\n",
    "from sklearn.svm import SVC"
   ]
  },
  {
   "cell_type": "code",
   "execution_count": 15,
   "metadata": {},
   "outputs": [],
   "source": [
    "final['Cleaned_Text']=preprocessed_reviews\n",
    "#final['Cleaned_Summary'] = preprocessed_summary\n",
    "final['Word Count'] = final['Cleaned_Text'].apply(lambda x:len(x.split()))\n",
    "#final['Summary Word Count'] = final['Cleaned_Summary'].apply(lambda x:len(x.split()))\n",
    "final.head()\n",
    "word_count = final['Word Count']"
   ]
  },
  {
   "cell_type": "code",
   "execution_count": 16,
   "metadata": {},
   "outputs": [
    {
     "name": "stdout",
     "output_type": "stream",
     "text": [
      "(23945, 1) (23945,)\n"
     ]
    }
   ],
   "source": [
    "# Please write all the code with proper documentation\n",
    "# TIME BASED SPILTTING\n",
    "# SIMPLE CROSS VALIDATION\n",
    "\n",
    "X_1, X_test, Y_1, Y_test = train_test_split(X,Y,test_size=0.2,shuffle = False)\n",
    "X_1_train, X_1_cv, Y_1_train, Y_1_cv = train_test_split( X_1, Y_1, test_size=0.2,shuffle = False)\n",
    "print(X_1_train.shape,Y_1_train.shape)"
   ]
  },
  {
   "cell_type": "code",
   "execution_count": 17,
   "metadata": {},
   "outputs": [],
   "source": [
    "df_post_split = pd.concat([X_1_train,Y_1_train],axis=1)\n",
    "x_positive = df_post_split[df_post_split['Score']==1]\n",
    "x_negetive = df_post_split[df_post_split['Score']==0]"
   ]
  },
  {
   "cell_type": "code",
   "execution_count": 18,
   "metadata": {},
   "outputs": [
    {
     "data": {
      "text/plain": [
       "1    20308\n",
       "0     3637\n",
       "Name: Score, dtype: int64"
      ]
     },
     "execution_count": 18,
     "metadata": {},
     "output_type": "execute_result"
    }
   ],
   "source": [
    "df_post_split['Score'].value_counts()"
   ]
  },
  {
   "cell_type": "code",
   "execution_count": 19,
   "metadata": {},
   "outputs": [],
   "source": [
    "# For every observation of class 1, randomly sample from class 0 without replacement\n",
    "#x_negetive_upsample = resample(x_negetive, replace = True, n_samples=17000)\n",
    "x_negative_downsample = resample(x_negetive,replace=True,n_samples=15000,random_state=123) "
   ]
  },
  {
   "cell_type": "code",
   "execution_count": 20,
   "metadata": {},
   "outputs": [
    {
     "name": "stdout",
     "output_type": "stream",
     "text": [
      "(15000, 2) <class 'pandas.core.frame.DataFrame'>\n"
     ]
    }
   ],
   "source": [
    "print(x_negative_downsample.shape, type(x_positive))"
   ]
  },
  {
   "cell_type": "code",
   "execution_count": 21,
   "metadata": {},
   "outputs": [
    {
     "data": {
      "text/html": [
       "<div>\n",
       "<style scoped>\n",
       "    .dataframe tbody tr th:only-of-type {\n",
       "        vertical-align: middle;\n",
       "    }\n",
       "\n",
       "    .dataframe tbody tr th {\n",
       "        vertical-align: top;\n",
       "    }\n",
       "\n",
       "    .dataframe thead th {\n",
       "        text-align: right;\n",
       "    }\n",
       "</style>\n",
       "<table border=\"1\" class=\"dataframe\">\n",
       "  <thead>\n",
       "    <tr style=\"text-align: right;\">\n",
       "      <th></th>\n",
       "      <th>Cleaned_Text</th>\n",
       "      <th>Score</th>\n",
       "    </tr>\n",
       "  </thead>\n",
       "  <tbody>\n",
       "    <tr>\n",
       "      <th>0</th>\n",
       "      <td>really good idea final product outstanding use...</td>\n",
       "      <td>1</td>\n",
       "    </tr>\n",
       "    <tr>\n",
       "      <th>1</th>\n",
       "      <td>received shipment could hardly wait try produc...</td>\n",
       "      <td>1</td>\n",
       "    </tr>\n",
       "    <tr>\n",
       "      <th>2</th>\n",
       "      <td>love stuff sugar free rot gums tastes good goi...</td>\n",
       "      <td>1</td>\n",
       "    </tr>\n",
       "    <tr>\n",
       "      <th>3</th>\n",
       "      <td>nothing product bother link top page buy used ...</td>\n",
       "      <td>1</td>\n",
       "    </tr>\n",
       "    <tr>\n",
       "      <th>4</th>\n",
       "      <td>fresh limes underappreciated joy kitchen squir...</td>\n",
       "      <td>1</td>\n",
       "    </tr>\n",
       "  </tbody>\n",
       "</table>\n",
       "</div>"
      ],
      "text/plain": [
       "                                        Cleaned_Text  Score\n",
       "0  really good idea final product outstanding use...      1\n",
       "1  received shipment could hardly wait try produc...      1\n",
       "2  love stuff sugar free rot gums tastes good goi...      1\n",
       "3  nothing product bother link top page buy used ...      1\n",
       "4  fresh limes underappreciated joy kitchen squir...      1"
      ]
     },
     "execution_count": 21,
     "metadata": {},
     "output_type": "execute_result"
    }
   ],
   "source": [
    "#df_upsample = pd.concat([x_positive,x_negetive_upsample])\n",
    "df_upsample = pd.concat([x_positive,x_negative_downsample])\n",
    "type(df_upsample)\n",
    "df_upsample.head()"
   ]
  },
  {
   "cell_type": "code",
   "execution_count": 22,
   "metadata": {},
   "outputs": [
    {
     "data": {
      "text/plain": [
       "1    20308\n",
       "0    15000\n",
       "Name: Score, dtype: int64"
      ]
     },
     "execution_count": 22,
     "metadata": {},
     "output_type": "execute_result"
    }
   ],
   "source": [
    "df_upsample['Score'].value_counts()"
   ]
  },
  {
   "cell_type": "code",
   "execution_count": 23,
   "metadata": {},
   "outputs": [
    {
     "name": "stdout",
     "output_type": "stream",
     "text": [
      "(35308, 1) (35308,)\n"
     ]
    }
   ],
   "source": [
    "X_Train = df_upsample.drop(['Score'],axis=1)\n",
    "Y_1_train = df_upsample['Score']\n",
    "print(X_Train.shape, Y_1_train.shape)"
   ]
  },
  {
   "cell_type": "code",
   "execution_count": 24,
   "metadata": {},
   "outputs": [
    {
     "name": "stdout",
     "output_type": "stream",
     "text": [
      "(35308, 1) (35308,)\n"
     ]
    }
   ],
   "source": [
    "print(X_Train.shape, Y_1_train.shape)"
   ]
  },
  {
   "cell_type": "code",
   "execution_count": 24,
   "metadata": {},
   "outputs": [
    {
     "name": "stdout",
     "output_type": "stream",
     "text": [
      "(35308, 500) (7483, 500)\n"
     ]
    }
   ],
   "source": [
    "# BoW -- transform with unigram and bigram\n",
    "\n",
    "ngram_vect = CountVectorizer(min_df=10, max_features = 500)\n",
    "D1_Train = ngram_vect.fit_transform(X_Train['Cleaned_Text'])\n",
    "D1_Cv = ngram_vect.transform(X_1_cv['Cleaned_Text'])\n",
    "D1_Test = ngram_vect.transform(X_test['Cleaned_Text'])\n",
    "print(D1_Train.shape,D1_Test.shape)"
   ]
  },
  {
   "cell_type": "code",
   "execution_count": 25,
   "metadata": {},
   "outputs": [
    {
     "name": "stdout",
     "output_type": "stream",
     "text": [
      "35308\n",
      "7483\n"
     ]
    }
   ],
   "source": [
    "n_cv = D1_Cv.get_shape()[0]\n",
    "n_train = D1_Train.get_shape()[0]\n",
    "n_test = D1_Test.get_shape()[0]\n",
    "print(n_train)\n",
    "print(n_test)"
   ]
  },
  {
   "cell_type": "code",
   "execution_count": 26,
   "metadata": {},
   "outputs": [
    {
     "name": "stderr",
     "output_type": "stream",
     "text": [
      "C:\\Users\\NamrataT\\Anaconda3\\lib\\site-packages\\sklearn\\utils\\validation.py:595: DataConversionWarning: Data with input dtype int64 was converted to float64 by StandardScaler.\n",
      "  warnings.warn(msg, DataConversionWarning)\n",
      "C:\\Users\\NamrataT\\Anaconda3\\lib\\site-packages\\sklearn\\utils\\validation.py:595: DataConversionWarning: Data with input dtype int64 was converted to float64 by StandardScaler.\n",
      "  warnings.warn(msg, DataConversionWarning)\n",
      "C:\\Users\\NamrataT\\Anaconda3\\lib\\site-packages\\sklearn\\utils\\validation.py:595: DataConversionWarning: Data with input dtype int64 was converted to float64 by StandardScaler.\n",
      "  warnings.warn(msg, DataConversionWarning)\n",
      "C:\\Users\\NamrataT\\Anaconda3\\lib\\site-packages\\sklearn\\utils\\validation.py:595: DataConversionWarning: Data with input dtype int64 was converted to float64 by StandardScaler.\n",
      "  warnings.warn(msg, DataConversionWarning)\n"
     ]
    },
    {
     "name": "stdout",
     "output_type": "stream",
     "text": [
      "(35308, 500)\n",
      "(5987, 500)\n",
      "(7483, 500)\n"
     ]
    }
   ],
   "source": [
    "# Standardization Process\n",
    "# Changes done as suggested\n",
    "\n",
    "from sklearn.preprocessing import StandardScaler\n",
    "scaler = StandardScaler(with_mean=False)\n",
    "scaler.fit(D1_Train)\n",
    "D1_Train = scaler.transform(D1_Train)\n",
    "D1_Cv = scaler.transform(D1_Cv)\n",
    "D1_Test = scaler.transform(D1_Test)\n",
    "\n",
    "print(D1_Train.shape)\n",
    "print(D1_Cv.shape)\n",
    "print(D1_Test.shape)"
   ]
  },
  {
   "cell_type": "code",
   "execution_count": 30,
   "metadata": {},
   "outputs": [
    {
     "name": "stderr",
     "output_type": "stream",
     "text": [
      "\n",
      "  0%|                                                                                           | 0/10 [00:00<?, ?it/s]"
     ]
    },
    {
     "name": "stdout",
     "output_type": "stream",
     "text": [
      "35308\n"
     ]
    },
    {
     "name": "stderr",
     "output_type": "stream",
     "text": [
      "\n",
      " 10%|███████▉                                                                       | 1/10 [47:48<7:10:15, 2868.37s/it]"
     ]
    },
    {
     "name": "stdout",
     "output_type": "stream",
     "text": [
      "35308\n"
     ]
    },
    {
     "name": "stderr",
     "output_type": "stream",
     "text": [
      "\n",
      " 20%|███████████████▍                                                             | 2/10 [1:35:54<6:23:08, 2873.56s/it]"
     ]
    },
    {
     "name": "stdout",
     "output_type": "stream",
     "text": [
      "35308\n"
     ]
    },
    {
     "name": "stderr",
     "output_type": "stream",
     "text": [
      "\n",
      " 30%|███████████████████████                                                      | 3/10 [2:25:16<5:38:22, 2900.33s/it]"
     ]
    },
    {
     "name": "stdout",
     "output_type": "stream",
     "text": [
      "35308\n"
     ]
    },
    {
     "name": "stderr",
     "output_type": "stream",
     "text": [
      "\n",
      " 40%|██████████████████████████████▊                                              | 4/10 [3:15:24<4:53:15, 2932.55s/it]"
     ]
    },
    {
     "name": "stdout",
     "output_type": "stream",
     "text": [
      "35308\n"
     ]
    },
    {
     "name": "stderr",
     "output_type": "stream",
     "text": [
      "\n",
      " 50%|██████████████████████████████████████▌                                      | 5/10 [4:03:47<4:03:38, 2923.61s/it]"
     ]
    },
    {
     "name": "stdout",
     "output_type": "stream",
     "text": [
      "35308\n"
     ]
    },
    {
     "name": "stderr",
     "output_type": "stream",
     "text": [
      "\n",
      " 60%|██████████████████████████████████████████████▏                              | 6/10 [4:57:56<3:21:25, 3021.41s/it]"
     ]
    },
    {
     "name": "stdout",
     "output_type": "stream",
     "text": [
      "35308\n"
     ]
    },
    {
     "name": "stderr",
     "output_type": "stream",
     "text": [
      "\n",
      " 70%|█████████████████████████████████████████████████████▉                       | 7/10 [6:02:01<2:43:25, 3268.47s/it]"
     ]
    },
    {
     "name": "stdout",
     "output_type": "stream",
     "text": [
      "35308\n"
     ]
    },
    {
     "name": "stderr",
     "output_type": "stream",
     "text": [
      "\n",
      " 80%|█████████████████████████████████████████████████████████████▌               | 8/10 [7:12:07<1:58:19, 3549.51s/it]"
     ]
    },
    {
     "name": "stdout",
     "output_type": "stream",
     "text": [
      "35308\n"
     ]
    },
    {
     "name": "stderr",
     "output_type": "stream",
     "text": [
      "\n",
      " 90%|█████████████████████████████████████████████████████████████████████▎       | 9/10 [8:15:44<1:00:29, 3629.96s/it]"
     ]
    },
    {
     "name": "stdout",
     "output_type": "stream",
     "text": [
      "35308\n"
     ]
    },
    {
     "name": "stderr",
     "output_type": "stream",
     "text": [
      "\n",
      "100%|██████████████████████████████████████████████████████████████████████████████| 10/10 [9:20:08<00:00, 3699.98s/it]\n"
     ]
    }
   ],
   "source": [
    "# Applying SVM\n",
    "\n",
    "cv_score = []\n",
    "train_score = []\n",
    "\n",
    "# creating hyper-parameter list\n",
    "alpha = list((0.00001,0.0001,0.001,0.01,0.1,1,10,100,1000,10000))\n",
    "\n",
    "cv_auc = []\n",
    "train_auc = []\n",
    "        \n",
    "for i in tqdm(alpha):\n",
    "    svm = SVC(random_state = 0, C = i, class_weight='balanced',kernel = 'rbf', probability = True )\n",
    "    \n",
    "    # Fitting the model in Train - CrossValidation\n",
    "    svm.fit(D1_Train,Y_1_train)\n",
    "    \n",
    "    predict_cv_prob = []\n",
    "    predict_train_prob = []\n",
    "    predicted_labels_test = []\n",
    "    predicted_labels_train = []\n",
    "        \n",
    "    # Predicting the model with CrossValidation and Train Data\n",
    "    for j in range(0,n_cv,1000):\n",
    "        predicted_labels_test.extend(svm.predict(D1_Cv[j:j+1000]))\n",
    "        predict_cv_prob.extend(svm.predict_proba(D1_Cv[j:j+1000])[:,1])\n",
    "    \n",
    "    for k in range(0,n_train,1000):\n",
    "        predicted_labels_train.extend(svm.predict(D1_Train[k:k+1000]))\n",
    "        predict_train_prob.extend(svm.predict_proba(D1_Train[k:k+1000])[:,1])\n",
    "    \n",
    "    print(len(predict_train_prob))\n",
    "        \n",
    "    cv_auc.append(roc_auc_score(Y_1_cv,predict_cv_prob))\n",
    "    train_auc.append(roc_auc_score(Y_1_train,predict_train_prob))"
   ]
  },
  {
   "cell_type": "code",
   "execution_count": 33,
   "metadata": {},
   "outputs": [
    {
     "name": "stdout",
     "output_type": "stream",
     "text": [
      "1e-05 -11.512925464970229\n",
      "0.0001 -9.210340371976182\n",
      "0.001 -6.907755278982137\n",
      "0.01 -4.605170185988091\n",
      "0.1 -2.3025850929940455\n",
      "1 0.0\n",
      "10 2.302585092994046\n",
      "100 4.605170185988092\n",
      "1000 6.907755278982137\n",
      "10000 9.210340371976184\n"
     ]
    }
   ],
   "source": [
    "import math\n",
    "alpha_new = []\n",
    "for n in range(len(alpha)):\n",
    "    alpha1 = alpha[n]\n",
    "    x = math.log(alpha1)\n",
    "    print(alpha1,x)\n",
    "    alpha_new.append(x)"
   ]
  },
  {
   "cell_type": "code",
   "execution_count": 34,
   "metadata": {},
   "outputs": [
    {
     "data": {
      "image/png": "[encoded data removed]",
      "text/plain": [
       "<Figure size 432x288 with 1 Axes>"
      ]
     },
     "metadata": {},
     "output_type": "display_data"
    }
   ],
   "source": [
    "# Plotting Train_AUC and CV_AUC against K\n",
    "plt.plot(alpha_new,train_auc)\n",
    "plt.plot(alpha_new,cv_auc)\n",
    "plt.legend(['Train AUC', 'CV AUC'], loc='upper right')\n",
    "plt.title(\"ERROR PLOTS for BOW Vectorizer\")\n",
    "plt.xlabel('Hyper-parameter Alpha')\n",
    "plt.ylabel('AUC Value')\n",
    "plt.show()"
   ]
  },
  {
   "cell_type": "code",
   "execution_count": 35,
   "metadata": {},
   "outputs": [
    {
     "name": "stdout",
     "output_type": "stream",
     "text": [
      "AUC Metric Best Alpha = 0.100000\n",
      "0.902\n"
     ]
    }
   ],
   "source": [
    "# Getting the optimal Alpha Based to CV AUC\n",
    "optimal_lamda_auc = alpha[cv_auc.index(max(cv_auc))]\n",
    "best_cv_auc = max([ '%.3f' % elem for elem in cv_auc ])\n",
    "print('AUC Metric Best Alpha = %f' % optimal_lamda_auc)\n",
    "print(best_cv_auc)"
   ]
  },
  {
   "cell_type": "code",
   "execution_count": 36,
   "metadata": {},
   "outputs": [
    {
     "name": "stdout",
     "output_type": "stream",
     "text": [
      "7483\n",
      "7483\n",
      "Algo Run Successfully on D_Test\n",
      "====================================================================================================\n"
     ]
    }
   ],
   "source": [
    "# Applying Best K on D_Test\n",
    "\n",
    "svm = SVC(random_state = 0, C = 0.1, class_weight='balanced',kernel = 'rbf', probability = True )\n",
    "svm.fit(D1_Train,Y_1_train)\n",
    "\n",
    "predicted_labels_test = []\n",
    "predicted_labels_train = []\n",
    "predict_test_prob = []\n",
    "predict_train_prob = []\n",
    "\n",
    "# Predicting the model with CrossValidation and Train Data\n",
    "for j in range(0,n_test,1000):\n",
    "    predicted_labels_test.extend(svm.predict(D1_Test[j:j+1000]))\n",
    "    predict_test_prob.extend(svm.predict_proba(D1_Test[j:j+1000])[:,1])\n",
    "    \n",
    "for k in range(0,n_train,1000):\n",
    "    predicted_labels_train.extend(svm.predict(D1_Train[k:k+1000]))\n",
    "    predict_train_prob.extend(svm.predict_proba(D1_Train[k:k+1000])[:,1])\n",
    "    \n",
    "print(len(predict_test_prob))\n",
    "print(len(Y_test))\n",
    "    \n",
    "train_fpr, train_tpr, thresholds = roc_curve(Y_1_train, predict_train_prob)\n",
    "test_fpr, test_tpr, thresholds = roc_curve(Y_test, predict_test_prob)\n",
    "\n",
    "print('Algo Run Successfully on D_Test')\n",
    "print(\"=\"*100)\n"
   ]
  },
  {
   "cell_type": "code",
   "execution_count": 37,
   "metadata": {},
   "outputs": [
    {
     "data": {
      "image/png": "[encoded data removed]",
      "text/plain": [
       "<Figure size 432x288 with 1 Axes>"
      ]
     },
     "metadata": {},
     "output_type": "display_data"
    },
    {
     "name": "stdout",
     "output_type": "stream",
     "text": [
      "====================================================================================================\n"
     ]
    }
   ],
   "source": [
    "# Plotting the AUC curve on Test and Train Data\n",
    "\n",
    "plt.plot(train_fpr, train_tpr, label=\"Train AUC =\"+str(auc(train_fpr, train_tpr)))\n",
    "plt.plot(test_fpr, test_tpr, label=\"Test AUC =\"+str(auc(test_fpr, test_tpr)))\n",
    "plt.legend()\n",
    "plt.xlabel(\"FPR\")\n",
    "plt.ylabel(\"TPR\")\n",
    "plt.title(\"ERROR PLOTS\")\n",
    "plt.show()\n",
    "\n",
    "print(\"=\"*100)"
   ]
  },
  {
   "cell_type": "code",
   "execution_count": 38,
   "metadata": {},
   "outputs": [
    {
     "name": "stdout",
     "output_type": "stream",
     "text": [
      "Train Confusion Matrix\n",
      "13641 1359 4200 16108\n",
      "[[13641  1359]\n",
      " [ 4200 16108]]\n",
      "========================================================================================================================\n",
      "Test Confusion Matrix\n",
      "1150 193 1303 4837\n",
      "[[1150  193]\n",
      " [1303 4837]]\n",
      "========================================================================================================================\n"
     ]
    }
   ],
   "source": [
    "# Getting the confusion metrics\n",
    "\n",
    "print('Train Confusion Matrix')\n",
    "tr_true_negetive,tr_false_positive, tr_false_negetive, tr_true_positive = confusion_matrix(Y_1_train,predicted_labels_train).ravel()\n",
    "print(tr_true_negetive, tr_false_positive, tr_false_negetive, tr_true_positive)\n",
    "print(confusion_matrix(Y_1_train,predicted_labels_train))\n",
    "print(\"=\"*120)\n",
    "\n",
    "print('Test Confusion Matrix')\n",
    "true_negetive,false_positive, false_negetive, true_positive = confusion_matrix(Y_test,predicted_labels_test).ravel()\n",
    "print(true_negetive, false_positive, false_negetive, true_positive)\n",
    "print(confusion_matrix(Y_test,predicted_labels_test))\n",
    "print(\"=\"*120)"
   ]
  },
  {
   "cell_type": "markdown",
   "metadata": {},
   "source": [
    "##### Heatmap on the model "
   ]
  },
  {
   "cell_type": "code",
   "execution_count": 39,
   "metadata": {},
   "outputs": [
    {
     "data": {
      "text/plain": [
       "Text(0.5,1,'Confusion Matrix of Train Data')"
      ]
     },
     "execution_count": 39,
     "metadata": {},
     "output_type": "execute_result"
    },
    {
     "data": {
      "image/png": "[encoded data removed]",
      "text/plain": [
       "<Figure size 432x288 with 2 Axes>"
      ]
     },
     "metadata": {},
     "output_type": "display_data"
    }
   ],
   "source": [
    "conMatrix= [[tr_true_negetive,tr_false_positive],[tr_false_negetive,tr_true_positive]]\n",
    "data = conMatrix\n",
    "sns.heatmap(data, cmap=\"YlGnBu\", annot=True, fmt=\"d\")\n",
    "plt.xlabel('Actual Values')\n",
    "plt.ylabel('Predicted Values')\n",
    "plt.title('Confusion Matrix of Train Data')"
   ]
  },
  {
   "cell_type": "code",
   "execution_count": 40,
   "metadata": {},
   "outputs": [
    {
     "data": {
      "text/plain": [
       "Text(0.5,1,'Confusion Matrix of Test Data')"
      ]
     },
     "execution_count": 40,
     "metadata": {},
     "output_type": "execute_result"
    },
    {
     "data": {
      "image/png": "[encoded data removed]",
      "text/plain": [
       "<Figure size 432x288 with 2 Axes>"
      ]
     },
     "metadata": {},
     "output_type": "display_data"
    }
   ],
   "source": [
    "conMatrix= [[true_negetive,false_positive],[false_negetive,true_positive]]\n",
    "data = conMatrix\n",
    "sns.heatmap(data, cmap=\"YlGnBu\", annot=True, fmt=\"d\")\n",
    "plt.xlabel('Actual Values')\n",
    "plt.ylabel('Predicted Values')\n",
    "plt.title('Confusion Matrix of Test Data')"
   ]
  },
  {
   "cell_type": "markdown",
   "metadata": {},
   "source": [
    "## 1.2) Applying SVM - Linear Kernel on TF-IDF, SET 2"
   ]
  },
  {
   "cell_type": "code",
   "execution_count": 25,
   "metadata": {},
   "outputs": [
    {
     "name": "stdout",
     "output_type": "stream",
     "text": [
      "Some feature names :  ['able', 'absolutely', 'acid', 'actually', 'add', 'added', 'aftertaste', 'ago', 'almost', 'also']\n",
      "(35308, 500) (7483, 500)\n"
     ]
    }
   ],
   "source": [
    "# Creating Tfidf Vectorizer\n",
    "\n",
    "tfidf_vect = TfidfVectorizer(ngram_range=(1,2) , min_df = 10, max_features = 500 )\n",
    "D2_Train = tfidf_vect.fit_transform(X_Train['Cleaned_Text'])\n",
    "D2_Cv = tfidf_vect.transform(X_1_cv['Cleaned_Text'])\n",
    "D2_Test = tfidf_vect.transform(X_test['Cleaned_Text'])\n",
    "print(\"Some feature names : \", tfidf_vect.get_feature_names()[0:10])\n",
    "print(D2_Train.shape,D2_Test.shape)"
   ]
  },
  {
   "cell_type": "code",
   "execution_count": 26,
   "metadata": {},
   "outputs": [
    {
     "name": "stdout",
     "output_type": "stream",
     "text": [
      "(35308, 500) (7483, 500)\n"
     ]
    }
   ],
   "source": [
    "scaler_tfidf = StandardScaler(with_mean=False)\n",
    "scaler_tfidf.fit(D2_Train)\n",
    "D2_Train = scaler_tfidf.transform(D2_Train)\n",
    "D2_Cv = scaler_tfidf.transform(D2_Cv)\n",
    "D2_Test = scaler_tfidf.transform(D2_Test)\n",
    "print(D2_Train.shape,D2_Test.shape)"
   ]
  },
  {
   "cell_type": "code",
   "execution_count": 27,
   "metadata": {},
   "outputs": [
    {
     "name": "stdout",
     "output_type": "stream",
     "text": [
      "35308 7483 5987\n"
     ]
    }
   ],
   "source": [
    "n_test = D2_Test.get_shape()[0]\n",
    "n_train = D2_Train.get_shape()[0]\n",
    "n_cv = D2_Cv.get_shape()[0]\n",
    "print(n_train,n_test,n_cv)"
   ]
  },
  {
   "cell_type": "code",
   "execution_count": 28,
   "metadata": {},
   "outputs": [
    {
     "name": "stderr",
     "output_type": "stream",
     "text": [
      "\r",
      "  0%|                                                                                           | 0/10 [00:00<?, ?it/s]"
     ]
    },
    {
     "name": "stdout",
     "output_type": "stream",
     "text": [
      "35308\n"
     ]
    },
    {
     "name": "stderr",
     "output_type": "stream",
     "text": [
      "\r",
      " 10%|███████▉                                                                       | 1/10 [56:06<8:25:01, 3366.88s/it]"
     ]
    },
    {
     "name": "stdout",
     "output_type": "stream",
     "text": [
      "35308\n"
     ]
    },
    {
     "name": "stderr",
     "output_type": "stream",
     "text": [
      "\r",
      " 20%|███████████████▍                                                             | 2/10 [1:55:36<7:37:01, 3427.70s/it]"
     ]
    },
    {
     "name": "stdout",
     "output_type": "stream",
     "text": [
      "35308\n"
     ]
    },
    {
     "name": "stderr",
     "output_type": "stream",
     "text": [
      "\r",
      " 30%|███████████████████████                                                      | 3/10 [2:58:08<6:51:14, 3524.90s/it]"
     ]
    },
    {
     "name": "stdout",
     "output_type": "stream",
     "text": [
      "35308\n"
     ]
    },
    {
     "name": "stderr",
     "output_type": "stream",
     "text": [
      "\r",
      " 40%|██████████████████████████████▊                                              | 4/10 [4:01:43<6:01:12, 3612.05s/it]"
     ]
    },
    {
     "name": "stdout",
     "output_type": "stream",
     "text": [
      "35308\n"
     ]
    },
    {
     "name": "stderr",
     "output_type": "stream",
     "text": [
      "\r",
      " 50%|██████████████████████████████████████▌                                      | 5/10 [4:51:23<4:45:12, 3422.49s/it]"
     ]
    },
    {
     "name": "stdout",
     "output_type": "stream",
     "text": [
      "35308\n"
     ]
    },
    {
     "name": "stderr",
     "output_type": "stream",
     "text": [
      "\r",
      " 60%|██████████████████████████████████████████████▏                              | 6/10 [5:58:18<4:00:00, 3600.09s/it]"
     ]
    },
    {
     "name": "stdout",
     "output_type": "stream",
     "text": [
      "35308\n"
     ]
    },
    {
     "name": "stderr",
     "output_type": "stream",
     "text": [
      "\r",
      " 70%|█████████████████████████████████████████████████████▉                       | 7/10 [7:25:00<3:24:02, 4080.85s/it]"
     ]
    },
    {
     "name": "stdout",
     "output_type": "stream",
     "text": [
      "35308\n"
     ]
    },
    {
     "name": "stderr",
     "output_type": "stream",
     "text": [
      "\r",
      " 80%|█████████████████████████████████████████████████████████████▌               | 8/10 [8:41:31<2:21:07, 4233.75s/it]"
     ]
    },
    {
     "name": "stdout",
     "output_type": "stream",
     "text": [
      "35308\n"
     ]
    },
    {
     "name": "stderr",
     "output_type": "stream",
     "text": [
      "\r",
      " 90%|█████████████████████████████████████████████████████████████████████▎       | 9/10 [9:49:10<1:09:41, 4181.40s/it]"
     ]
    },
    {
     "name": "stdout",
     "output_type": "stream",
     "text": [
      "35308\n"
     ]
    },
    {
     "name": "stderr",
     "output_type": "stream",
     "text": [
      "100%|█████████████████████████████████████████████████████████████████████████████| 10/10 [10:59:18<00:00, 4189.20s/it]\n"
     ]
    }
   ],
   "source": [
    "# Applying SVM\n",
    "\n",
    "cv_score = []\n",
    "train_score = []\n",
    "\n",
    "# creating hyper-parameter list\n",
    "alpha = list((0.00001,0.0001,0.001,0.01,0.1,1,10,100,1000,10000))\n",
    "\n",
    "cv_auc = []\n",
    "train_auc = []\n",
    "        \n",
    "for i in tqdm(alpha):\n",
    "    svm = SVC(random_state = 0, C = i, class_weight='balanced',kernel = 'rbf', probability = True )\n",
    "    \n",
    "    # Fitting the model in Train - CrossValidation\n",
    "    svm.fit(D2_Train,Y_1_train)\n",
    "    \n",
    "    predict_cv_prob = []\n",
    "    predict_train_prob = []\n",
    "    predicted_labels_test = []\n",
    "    predicted_labels_train = []\n",
    "        \n",
    "    # Predicting the model with CrossValidation and Train Data\n",
    "    for j in range(0,n_cv,1000):\n",
    "        predicted_labels_test.extend(svm.predict(D2_Cv[j:j+1000]))\n",
    "        predict_cv_prob.extend(svm.predict_proba(D2_Cv[j:j+1000])[:,1])\n",
    "    \n",
    "    for k in range(0,n_train,1000):\n",
    "        predicted_labels_train.extend(svm.predict(D2_Train[k:k+1000]))\n",
    "        predict_train_prob.extend(svm.predict_proba(D2_Train[k:k+1000])[:,1])\n",
    "    \n",
    "    print(len(predict_train_prob))\n",
    "        \n",
    "    cv_auc.append(roc_auc_score(Y_1_cv,predict_cv_prob))\n",
    "    train_auc.append(roc_auc_score(Y_1_train,predict_train_prob))"
   ]
  },
  {
   "cell_type": "code",
   "execution_count": 29,
   "metadata": {},
   "outputs": [
    {
     "name": "stdout",
     "output_type": "stream",
     "text": [
      "1e-05 -11.512925464970229\n",
      "0.0001 -9.210340371976182\n",
      "0.001 -6.907755278982137\n",
      "0.01 -4.605170185988091\n",
      "0.1 -2.3025850929940455\n",
      "1 0.0\n",
      "10 2.302585092994046\n",
      "100 4.605170185988092\n",
      "1000 6.907755278982137\n",
      "10000 9.210340371976184\n"
     ]
    }
   ],
   "source": [
    "import math\n",
    "alpha_new = []\n",
    "for n in range(len(alpha)):\n",
    "    alpha1 = alpha[n]\n",
    "    x = math.log(alpha1)\n",
    "    print(alpha1,x)\n",
    "    alpha_new.append(x)"
   ]
  },
  {
   "cell_type": "code",
   "execution_count": 30,
   "metadata": {},
   "outputs": [
    {
     "data": {
      "image/png": "[encoded data removed]",
      "text/plain": [
       "<Figure size 432x288 with 1 Axes>"
      ]
     },
     "metadata": {},
     "output_type": "display_data"
    }
   ],
   "source": [
    "# Plotting Train_AUC and CV_AUC against K\n",
    "plt.plot(alpha_new,train_auc)\n",
    "plt.plot(alpha_new,cv_auc)\n",
    "plt.legend(['Train AUC', 'CV AUC'], loc='upper right')\n",
    "plt.title(\"ERROR PLOTS for BOW Vectorizer\")\n",
    "plt.xlabel('Hyper-parameter Alpha')\n",
    "plt.ylabel('AUC Value')\n",
    "plt.show()"
   ]
  },
  {
   "cell_type": "code",
   "execution_count": 31,
   "metadata": {},
   "outputs": [
    {
     "name": "stdout",
     "output_type": "stream",
     "text": [
      "AUC Metric Best Alpha = 1.000000\n",
      "0.915\n"
     ]
    }
   ],
   "source": [
    "# Getting the optimal Alpha Based to CV AUC\n",
    "optimal_lamda_auc = alpha[cv_auc.index(max(cv_auc))]\n",
    "best_cv_auc = max([ '%.3f' % elem for elem in cv_auc ])\n",
    "print('AUC Metric Best Alpha = %f' % optimal_lamda_auc)\n",
    "print(best_cv_auc)"
   ]
  },
  {
   "cell_type": "code",
   "execution_count": 32,
   "metadata": {},
   "outputs": [
    {
     "name": "stdout",
     "output_type": "stream",
     "text": [
      "7483\n",
      "7483\n",
      "Algo Run Successfully on D_Test\n",
      "====================================================================================================\n"
     ]
    }
   ],
   "source": [
    "# Applying Best K on D_Test\n",
    "\n",
    "svm = SVC(random_state = 0, C = 1, class_weight='balanced',kernel = 'rbf', probability = True )\n",
    "svm.fit(D2_Train,Y_1_train)\n",
    "\n",
    "predicted_labels_test = []\n",
    "predicted_labels_train = []\n",
    "predict_test_prob = []\n",
    "predict_train_prob = []\n",
    "\n",
    "# Predicting the model with CrossValidation and Train Data\n",
    "for j in range(0,n_test,1000):\n",
    "    predicted_labels_test.extend(svm.predict(D2_Test[j:j+1000]))\n",
    "    predict_test_prob.extend(svm.predict_proba(D2_Test[j:j+1000])[:,1])\n",
    "    \n",
    "for k in range(0,n_train,1000):\n",
    "    predicted_labels_train.extend(svm.predict(D2_Train[k:k+1000]))\n",
    "    predict_train_prob.extend(svm.predict_proba(D2_Train[k:k+1000])[:,1])\n",
    "    \n",
    "print(len(predict_test_prob))\n",
    "print(len(Y_test))\n",
    "    \n",
    "train_fpr, train_tpr, thresholds = roc_curve(Y_1_train, predict_train_prob)\n",
    "test_fpr, test_tpr, thresholds = roc_curve(Y_test, predict_test_prob)\n",
    "\n",
    "print('Algo Run Successfully on D_Test')\n",
    "print(\"=\"*100)"
   ]
  },
  {
   "cell_type": "code",
   "execution_count": 33,
   "metadata": {},
   "outputs": [
    {
     "data": {
      "image/png": "[encoded data removed]",
      "text/plain": [
       "<Figure size 432x288 with 1 Axes>"
      ]
     },
     "metadata": {},
     "output_type": "display_data"
    },
    {
     "name": "stdout",
     "output_type": "stream",
     "text": [
      "====================================================================================================\n"
     ]
    }
   ],
   "source": [
    "# Plotting the AUC curve on Test and Train Data\n",
    "\n",
    "plt.plot(train_fpr, train_tpr, label=\"Train AUC =\"+str(auc(train_fpr, train_tpr)))\n",
    "plt.plot(test_fpr, test_tpr, label=\"Test AUC =\"+str(auc(test_fpr, test_tpr)))\n",
    "plt.legend()\n",
    "plt.xlabel(\"FPR\")\n",
    "plt.ylabel(\"TPR\")\n",
    "plt.title(\"ERROR PLOTS\")\n",
    "plt.show()\n",
    "\n",
    "print(\"=\"*100)"
   ]
  },
  {
   "cell_type": "code",
   "execution_count": 34,
   "metadata": {},
   "outputs": [
    {
     "name": "stdout",
     "output_type": "stream",
     "text": [
      "Train Confusion Matrix\n",
      "14921 79 282 20026\n",
      "[[14921    79]\n",
      " [  282 20026]]\n",
      "========================================================================================================================\n",
      "Test Confusion Matrix\n",
      "800 543 306 5834\n",
      "[[ 800  543]\n",
      " [ 306 5834]]\n",
      "========================================================================================================================\n"
     ]
    }
   ],
   "source": [
    "# Getting the confusion metrics\n",
    "\n",
    "print('Train Confusion Matrix')\n",
    "tr_true_negetive,tr_false_positive, tr_false_negetive, tr_true_positive = confusion_matrix(Y_1_train,predicted_labels_train).ravel()\n",
    "print(tr_true_negetive, tr_false_positive, tr_false_negetive, tr_true_positive)\n",
    "print(confusion_matrix(Y_1_train,predicted_labels_train))\n",
    "print(\"=\"*120)\n",
    "\n",
    "print('Test Confusion Matrix')\n",
    "true_negetive,false_positive, false_negetive, true_positive = confusion_matrix(Y_test,predicted_labels_test).ravel()\n",
    "print(true_negetive, false_positive, false_negetive, true_positive)\n",
    "print(confusion_matrix(Y_test,predicted_labels_test))\n",
    "print(\"=\"*120)"
   ]
  },
  {
   "cell_type": "code",
   "execution_count": 35,
   "metadata": {},
   "outputs": [
    {
     "data": {
      "text/plain": [
       "Text(0.5,1,'Confusion Matrix of Train Data')"
      ]
     },
     "execution_count": 35,
     "metadata": {},
     "output_type": "execute_result"
    },
    {
     "data": {
      "image/png": "[encoded data removed]",
      "text/plain": [
       "<Figure size 432x288 with 2 Axes>"
      ]
     },
     "metadata": {},
     "output_type": "display_data"
    }
   ],
   "source": [
    "conMatrix= [[tr_true_negetive,tr_false_positive],[tr_false_negetive,tr_true_positive]]\n",
    "data = conMatrix\n",
    "sns.heatmap(data, cmap=\"YlGnBu\", annot=True, fmt=\"d\")\n",
    "plt.xlabel('Actual Values')\n",
    "plt.ylabel('Predicted Values')\n",
    "plt.title('Confusion Matrix of Train Data')"
   ]
  },
  {
   "cell_type": "code",
   "execution_count": 36,
   "metadata": {},
   "outputs": [
    {
     "data": {
      "text/plain": [
       "Text(0.5,1,'Confusion Matrix of Test Data')"
      ]
     },
     "execution_count": 36,
     "metadata": {},
     "output_type": "execute_result"
    },
    {
     "data": {
      "image/png": "[encoded data removed]",
      "text/plain": [
       "<Figure size 432x288 with 2 Axes>"
      ]
     },
     "metadata": {},
     "output_type": "display_data"
    }
   ],
   "source": [
    "conMatrix= [[true_negetive,false_positive],[false_negetive,true_positive]]\n",
    "data = conMatrix\n",
    "sns.heatmap(data, cmap=\"YlGnBu\", annot=True, fmt=\"d\")\n",
    "plt.xlabel('Actual Values')\n",
    "plt.ylabel('Predicted Values')\n",
    "plt.title('Confusion Matrix of Test Data')"
   ]
  },
  {
   "cell_type": "markdown",
   "metadata": {},
   "source": [
    "## 1.3) Applying Logistic Regression on Average_Word2Vec, SET 3"
   ]
  },
  {
   "cell_type": "code",
   "execution_count": 37,
   "metadata": {},
   "outputs": [
    {
     "name": "stdout",
     "output_type": "stream",
     "text": [
      "35308\n",
      "[('great', 0.7676036357879639), ('bad', 0.7352327108383179), ('decent', 0.7326608896255493), ('awesome', 0.7072588205337524), ('terrific', 0.7009645700454712), ('fantastic', 0.6643946766853333), ('amazing', 0.6580710411071777), ('fabulous', 0.648877739906311), ('perky', 0.6419084072113037), ('awful', 0.6270285844802856)]\n",
      "====================================================================================================\n",
      "Total Words Present  12389\n",
      "Sample Words :  ['really', 'good', 'idea', 'final', 'product', 'outstanding', 'use', 'car', 'window', 'everybody']\n",
      "====================================================================================================\n"
     ]
    }
   ],
   "source": [
    "# Creating Word2Vec model on Training Data \n",
    "\n",
    "list_of_sentence_w2v = []\n",
    "for sentence in X_Train['Cleaned_Text']:\n",
    "    list_of_sentence_w2v.append(sentence.split())\n",
    "print(len(list_of_sentence_w2v))\n",
    "\n",
    "# Creating Word2Vec model with 50 dimension and min_count=5, it will consider the word only if it appeared more than 5 times\n",
    "\n",
    "w2v_model = Word2Vec(list_of_sentence_w2v, min_count=5, size=50, workers=4)\n",
    "print(w2v_model.wv.most_similar(\"good\"))\n",
    "print(\"=\"*100)\n",
    "\n",
    "w2v_words = list(w2v_model.wv.vocab)\n",
    "print(\"Total Words Present \", len(w2v_words))\n",
    "print(\"Sample Words : \", w2v_words[0:10])\n",
    "print(\"=\"*100)"
   ]
  },
  {
   "cell_type": "code",
   "execution_count": 39,
   "metadata": {},
   "outputs": [
    {
     "name": "stderr",
     "output_type": "stream",
     "text": [
      "100%|███████████████████████████████████████████████████████████████████████████| 35308/35308 [01:43<00:00, 341.05it/s]\n"
     ]
    },
    {
     "name": "stdout",
     "output_type": "stream",
     "text": [
      "35308\n",
      "[ 0.27060881 -0.32823568  0.19338272 -0.15602914 -0.4590505  -0.08977718\n",
      "  0.0636862  -0.42937598  0.48017675  0.19315948  0.38800425  0.18836895\n",
      "  0.11848439 -0.34882788  0.22884186  0.32566196  0.30434442 -0.020688\n",
      "  0.06287416  0.11268584  0.3403602   0.08700429  0.67134427 -0.44806751\n",
      "  0.66732525  0.54325271  0.03134542 -0.16041191  0.77567926 -0.29857864\n",
      "  0.45084681 -0.48050503 -0.07824148  0.164813   -0.11623404  0.4110286\n",
      "  0.31438083  0.47147773  0.04519112 -0.00598114 -0.37721292  0.34609095\n",
      " -0.29331916 -0.48830851  0.67633917 -0.51136914  0.01865011 -0.36399278\n",
      " -0.36511272 -0.4503982 ]\n"
     ]
    }
   ],
   "source": [
    "# Fitting Average Word2Vec Model on Train Data\n",
    "\n",
    "sent_vect_train = []\n",
    "for sent in tqdm(list_of_sentence_w2v):\n",
    "    sentence_vec = np.zeros(50)\n",
    "    count_words = 0\n",
    "    for word in sent:\n",
    "        if word in w2v_words:\n",
    "            vec = w2v_model.wv[word]\n",
    "            count_words += 1\n",
    "            sentence_vec += vec\n",
    "    if count_words != 0:\n",
    "        sentence_vec /= count_words\n",
    "    sent_vect_train.append(sentence_vec)\n",
    "print(len(sent_vect_train))\n",
    "print(sent_vect_train[0])"
   ]
  },
  {
   "cell_type": "code",
   "execution_count": 40,
   "metadata": {},
   "outputs": [
    {
     "name": "stdout",
     "output_type": "stream",
     "text": [
      "5987\n"
     ]
    }
   ],
   "source": [
    "list_of_sentence_w2v = []\n",
    "for sentence in X_1_cv['Cleaned_Text']:\n",
    "    list_of_sentence_w2v.append(sentence.split())\n",
    "print(len(list_of_sentence_w2v))"
   ]
  },
  {
   "cell_type": "code",
   "execution_count": 41,
   "metadata": {},
   "outputs": [
    {
     "name": "stderr",
     "output_type": "stream",
     "text": [
      "100%|█████████████████████████████████████████████████████████████████████████████| 5987/5987 [00:17<00:00, 340.35it/s]\n"
     ]
    },
    {
     "name": "stdout",
     "output_type": "stream",
     "text": [
      "5987\n",
      "[-0.16904604 -0.38458246 -1.0996619  -0.73001359 -0.92116623 -0.04964264\n",
      " -0.19858005 -0.76984166  0.56835132  0.23069311  0.37470553  0.06241505\n",
      " -0.11840632  0.61212092 -0.13183858 -0.35703844  0.1079141   0.08167603\n",
      " -0.39330484 -0.38900834  0.07070256  0.75043399  0.24123787 -0.34303024\n",
      "  0.65264706  0.89870345  0.70887716 -0.00153372  0.96904205  0.07028119\n",
      " -0.18221226 -0.18721199 -0.06577569  0.49261821  0.01299059  0.38005827\n",
      " -0.01669093  0.03560516 -0.29901149 -0.08805083 -0.69119775  0.11716311\n",
      "  0.22706906 -1.09359544  0.51773066 -0.09869457  0.2959564  -0.29139018\n",
      " -0.27539404 -0.43649629]\n"
     ]
    }
   ],
   "source": [
    "# Fitting Average Word2Vec Model on Train Data\n",
    "\n",
    "sent_vect_cv = []\n",
    "for sent in tqdm(list_of_sentence_w2v):\n",
    "    sentence_vec = np.zeros(50)\n",
    "    count_words = 0\n",
    "    for word in sent:\n",
    "        if word in w2v_words:\n",
    "            vec = w2v_model.wv[word]\n",
    "            count_words += 1\n",
    "            sentence_vec += vec\n",
    "    if count_words != 0:\n",
    "        sentence_vec /= count_words\n",
    "    sent_vect_cv.append(sentence_vec)\n",
    "print(len(sent_vect_cv))\n",
    "print(sent_vect_cv[0])"
   ]
  },
  {
   "cell_type": "code",
   "execution_count": 42,
   "metadata": {},
   "outputs": [
    {
     "name": "stdout",
     "output_type": "stream",
     "text": [
      "7483\n"
     ]
    }
   ],
   "source": [
    "# Applying Word2Vec for Vectorization of X_test\n",
    "\n",
    "list_of_sentence = []\n",
    "for sentence in X_test['Cleaned_Text']:\n",
    "    list_of_sentence.append(sentence.split())\n",
    "print(len(list_of_sentence))"
   ]
  },
  {
   "cell_type": "code",
   "execution_count": 43,
   "metadata": {},
   "outputs": [
    {
     "name": "stderr",
     "output_type": "stream",
     "text": [
      "100%|█████████████████████████████████████████████████████████████████████████████| 7483/7483 [00:21<00:00, 352.68it/s]\n"
     ]
    },
    {
     "name": "stdout",
     "output_type": "stream",
     "text": [
      "7483\n",
      "[-0.1331956  -0.37837218 -0.09922468 -0.28637378  0.56479571  0.16741523\n",
      "  1.28935429 -0.97433824  0.07770403  0.41006059  0.35554941  0.8611682\n",
      "  0.66870815 -0.89995112 -0.18288778 -0.06301893  0.42507423  0.22240725\n",
      "  0.91194578 -0.36393584  0.64626363  0.45447514  0.3188086  -0.09207566\n",
      "  0.90898038  0.42618475  0.28662121 -1.4877507   0.36116398  0.30919251\n",
      " -0.16764364  0.02545224  0.05616166  1.28694863  0.22841608 -0.37418272\n",
      "  0.51246241  0.28921958 -0.35222276  0.31407597  0.29552127  0.43408433\n",
      "  0.42843166 -0.17449473  0.30175796  0.12389303 -0.61906465 -0.61391273\n",
      " -0.23922335 -1.02344792]\n"
     ]
    }
   ],
   "source": [
    "# Creating Average Word2Vec Vector for Test Data\n",
    "\n",
    "sent_vect_test = []\n",
    "for sent in tqdm(list_of_sentence):\n",
    "    sentence_vec = np.zeros(50)\n",
    "    count_words = 0\n",
    "    for word in sent:\n",
    "        if word in w2v_words:\n",
    "            vec = w2v_model.wv[word]\n",
    "            count_words += 1\n",
    "            sentence_vec += vec\n",
    "    if count_words != 0:\n",
    "        sentence_vec /= count_words\n",
    "    sent_vect_test.append(sentence_vec)\n",
    "print(len(sent_vect_test))\n",
    "print(sent_vect_test[0])"
   ]
  },
  {
   "cell_type": "code",
   "execution_count": 44,
   "metadata": {},
   "outputs": [
    {
     "name": "stdout",
     "output_type": "stream",
     "text": [
      "35308\n",
      "7483\n"
     ]
    }
   ],
   "source": [
    "n_train = len(sent_vect_train)\n",
    "n_test = len(sent_vect_test)\n",
    "n_cv = len(sent_vect_cv)\n",
    "print(n_train)\n",
    "print(n_test)"
   ]
  },
  {
   "cell_type": "code",
   "execution_count": 45,
   "metadata": {},
   "outputs": [
    {
     "name": "stdout",
     "output_type": "stream",
     "text": [
      "(35308, 50)\n",
      "(7483, 50)\n",
      "(5987, 50)\n"
     ]
    }
   ],
   "source": [
    "# Standardization Process when we are not doing Feature Engineering\n",
    "\n",
    "scaler = StandardScaler()\n",
    "scaler.fit(sent_vect_train)\n",
    "D3_Train = scaler.transform(sent_vect_train)\n",
    "D3_Test = scaler.transform(sent_vect_test)\n",
    "D3_Cv= scaler.transform(sent_vect_cv)\n",
    "\n",
    "print(D3_Train.shape)\n",
    "print(D3_Test.shape)\n",
    "print(D3_Cv.shape)"
   ]
  },
  {
   "cell_type": "code",
   "execution_count": 46,
   "metadata": {},
   "outputs": [
    {
     "name": "stderr",
     "output_type": "stream",
     "text": [
      "\r",
      "  0%|                                                                                           | 0/10 [00:00<?, ?it/s]"
     ]
    },
    {
     "name": "stdout",
     "output_type": "stream",
     "text": [
      "35308\n"
     ]
    },
    {
     "name": "stderr",
     "output_type": "stream",
     "text": [
      "\r",
      " 10%|███████▉                                                                       | 1/10 [28:29<4:16:21, 1709.00s/it]"
     ]
    },
    {
     "name": "stdout",
     "output_type": "stream",
     "text": [
      "35308\n"
     ]
    },
    {
     "name": "stderr",
     "output_type": "stream",
     "text": [
      "\r",
      " 20%|███████████████▊                                                               | 2/10 [56:53<3:47:41, 1707.65s/it]"
     ]
    },
    {
     "name": "stdout",
     "output_type": "stream",
     "text": [
      "35308\n"
     ]
    },
    {
     "name": "stderr",
     "output_type": "stream",
     "text": [
      "\r",
      " 30%|███████████████████████                                                      | 3/10 [1:30:31<3:30:04, 1800.67s/it]"
     ]
    },
    {
     "name": "stdout",
     "output_type": "stream",
     "text": [
      "35308\n"
     ]
    },
    {
     "name": "stderr",
     "output_type": "stream",
     "text": [
      "\r",
      " 40%|██████████████████████████████▊                                              | 4/10 [1:57:33<2:54:42, 1747.01s/it]"
     ]
    },
    {
     "name": "stdout",
     "output_type": "stream",
     "text": [
      "35308\n"
     ]
    },
    {
     "name": "stderr",
     "output_type": "stream",
     "text": [
      "\r",
      " 50%|██████████████████████████████████████▌                                      | 5/10 [2:18:31<2:13:22, 1600.53s/it]"
     ]
    },
    {
     "name": "stdout",
     "output_type": "stream",
     "text": [
      "35308\n"
     ]
    },
    {
     "name": "stderr",
     "output_type": "stream",
     "text": [
      "\r",
      " 60%|██████████████████████████████████████████████▏                              | 6/10 [2:39:40<1:40:03, 1500.89s/it]"
     ]
    },
    {
     "name": "stdout",
     "output_type": "stream",
     "text": [
      "35308\n"
     ]
    },
    {
     "name": "stderr",
     "output_type": "stream",
     "text": [
      "\r",
      " 70%|█████████████████████████████████████████████████████▉                       | 7/10 [3:13:11<1:22:42, 1654.05s/it]"
     ]
    },
    {
     "name": "stdout",
     "output_type": "stream",
     "text": [
      "35308\n"
     ]
    },
    {
     "name": "stderr",
     "output_type": "stream",
     "text": [
      "\r",
      " 80%|█████████████████████████████████████████████████████████████▌               | 8/10 [4:35:57<1:28:15, 2647.61s/it]"
     ]
    },
    {
     "name": "stdout",
     "output_type": "stream",
     "text": [
      "35308\n"
     ]
    },
    {
     "name": "stderr",
     "output_type": "stream",
     "text": [
      "\r",
      " 90%|███████████████████████████████████████████████████████████████████████        | 9/10 [6:07:18<58:17, 3497.68s/it]"
     ]
    },
    {
     "name": "stdout",
     "output_type": "stream",
     "text": [
      "35308\n"
     ]
    },
    {
     "name": "stderr",
     "output_type": "stream",
     "text": [
      "100%|██████████████████████████████████████████████████████████████████████████████| 10/10 [7:30:14<00:00, 3941.19s/it]\n"
     ]
    }
   ],
   "source": [
    "# Applying SVM\n",
    "\n",
    "cv_score = []\n",
    "train_score = []\n",
    "\n",
    "# creating hyper-parameter list\n",
    "alpha = list((0.00001,0.0001,0.001,0.01,0.1,1,10,100,1000,10000))\n",
    "\n",
    "cv_auc = []\n",
    "train_auc = []\n",
    "        \n",
    "for i in tqdm(alpha):\n",
    "    svm = SVC(random_state = 0, C = i, class_weight='balanced',kernel = 'rbf', probability = True )\n",
    "    \n",
    "    # Fitting the model in Train - CrossValidation\n",
    "    svm.fit(D3_Train,Y_1_train)\n",
    "    \n",
    "    predict_cv_prob = []\n",
    "    predict_train_prob = []\n",
    "    predicted_labels_test = []\n",
    "    predicted_labels_train = []\n",
    "        \n",
    "    # Predicting the model with CrossValidation and Train Data\n",
    "    for j in range(0,n_cv,1000):\n",
    "        predicted_labels_test.extend(svm.predict(D3_Cv[j:j+1000]))\n",
    "        predict_cv_prob.extend(svm.predict_proba(D3_Cv[j:j+1000])[:,1])\n",
    "    \n",
    "    for k in range(0,n_train,1000):\n",
    "        predicted_labels_train.extend(svm.predict(D3_Train[k:k+1000]))\n",
    "        predict_train_prob.extend(svm.predict_proba(D3_Train[k:k+1000])[:,1])\n",
    "    \n",
    "    print(len(predict_train_prob))\n",
    "        \n",
    "    cv_auc.append(roc_auc_score(Y_1_cv,predict_cv_prob))\n",
    "    train_auc.append(roc_auc_score(Y_1_train,predict_train_prob))"
   ]
  },
  {
   "cell_type": "code",
   "execution_count": 47,
   "metadata": {},
   "outputs": [
    {
     "name": "stdout",
     "output_type": "stream",
     "text": [
      "1e-05 -11.512925464970229\n",
      "0.0001 -9.210340371976182\n",
      "0.001 -6.907755278982137\n",
      "0.01 -4.605170185988091\n",
      "0.1 -2.3025850929940455\n",
      "1 0.0\n",
      "10 2.302585092994046\n",
      "100 4.605170185988092\n",
      "1000 6.907755278982137\n",
      "10000 9.210340371976184\n"
     ]
    }
   ],
   "source": [
    "import math\n",
    "alpha_new = []\n",
    "for n in range(len(alpha)):\n",
    "    alpha1 = alpha[n]\n",
    "    x = math.log(alpha1)\n",
    "    print(alpha1,x)\n",
    "    alpha_new.append(x)"
   ]
  },
  {
   "cell_type": "code",
   "execution_count": 48,
   "metadata": {},
   "outputs": [
    {
     "data": {
      "image/png": "[encoded data removed]",
      "text/plain": [
       "<Figure size 432x288 with 1 Axes>"
      ]
     },
     "metadata": {},
     "output_type": "display_data"
    }
   ],
   "source": [
    "# Plotting Train_AUC and CV_AUC against K\n",
    "plt.plot(alpha_new,train_auc)\n",
    "plt.plot(alpha_new,cv_auc)\n",
    "plt.legend(['Train AUC', 'CV AUC'], loc='upper right')\n",
    "plt.title(\"ERROR PLOTS for BOW Vectorizer\")\n",
    "plt.xlabel('Hyper-parameter Alpha')\n",
    "plt.ylabel('AUC Value')\n",
    "plt.show()"
   ]
  },
  {
   "cell_type": "code",
   "execution_count": 49,
   "metadata": {},
   "outputs": [
    {
     "name": "stdout",
     "output_type": "stream",
     "text": [
      "AUC Metric Best Alpha = 1.000000\n",
      "0.885\n"
     ]
    }
   ],
   "source": [
    "# Getting the optimal Alpha Based to CV AUC\n",
    "optimal_lamda_auc = alpha[cv_auc.index(max(cv_auc))]\n",
    "best_cv_auc = max([ '%.3f' % elem for elem in cv_auc ])\n",
    "print('AUC Metric Best Alpha = %f' % optimal_lamda_auc)\n",
    "print(best_cv_auc)"
   ]
  },
  {
   "cell_type": "code",
   "execution_count": 50,
   "metadata": {},
   "outputs": [
    {
     "name": "stdout",
     "output_type": "stream",
     "text": [
      "7483\n",
      "7483\n",
      "Algo Run Successfully on D_Test\n",
      "====================================================================================================\n"
     ]
    }
   ],
   "source": [
    "# Applying Best K on D_Test\n",
    "\n",
    "svm = SVC(random_state = 0, C = 1, class_weight='balanced',kernel = 'rbf', probability = True )\n",
    "svm.fit(D3_Train,Y_1_train)\n",
    "\n",
    "predicted_labels_test = []\n",
    "predicted_labels_train = []\n",
    "predict_test_prob = []\n",
    "predict_train_prob = []\n",
    "\n",
    "# Predicting the model with CrossValidation and Train Data\n",
    "for j in range(0,n_test,1000):\n",
    "    predicted_labels_test.extend(svm.predict(D3_Test[j:j+1000]))\n",
    "    predict_test_prob.extend(svm.predict_proba(D3_Test[j:j+1000])[:,1])\n",
    "    \n",
    "for k in range(0,n_train,1000):\n",
    "    predicted_labels_train.extend(svm.predict(D3_Train[k:k+1000]))\n",
    "    predict_train_prob.extend(svm.predict_proba(D3_Train[k:k+1000])[:,1])\n",
    "    \n",
    "print(len(predict_test_prob))\n",
    "print(len(Y_test))\n",
    "    \n",
    "train_fpr, train_tpr, thresholds = roc_curve(Y_1_train, predict_train_prob)\n",
    "test_fpr, test_tpr, thresholds = roc_curve(Y_test, predict_test_prob)\n",
    "\n",
    "print('Algo Run Successfully on D_Test')\n",
    "print(\"=\"*100)"
   ]
  },
  {
   "cell_type": "code",
   "execution_count": 51,
   "metadata": {},
   "outputs": [
    {
     "data": {
      "image/png": "[encoded data removed]",
      "text/plain": [
       "<Figure size 432x288 with 1 Axes>"
      ]
     },
     "metadata": {},
     "output_type": "display_data"
    },
    {
     "name": "stdout",
     "output_type": "stream",
     "text": [
      "====================================================================================================\n"
     ]
    }
   ],
   "source": [
    "# Plotting the AUC curve on Test and Train Data\n",
    "\n",
    "plt.plot(train_fpr, train_tpr, label=\"Train AUC =\"+str(auc(train_fpr, train_tpr)))\n",
    "plt.plot(test_fpr, test_tpr, label=\"Test AUC =\"+str(auc(test_fpr, test_tpr)))\n",
    "plt.legend()\n",
    "plt.xlabel(\"FPR\")\n",
    "plt.ylabel(\"TPR\")\n",
    "plt.title(\"ERROR PLOTS\")\n",
    "plt.show()\n",
    "\n",
    "print(\"=\"*100)"
   ]
  },
  {
   "cell_type": "code",
   "execution_count": 52,
   "metadata": {},
   "outputs": [
    {
     "name": "stdout",
     "output_type": "stream",
     "text": [
      "Train Confusion Matrix\n",
      "13911 1089 2620 17688\n",
      "[[13911  1089]\n",
      " [ 2620 17688]]\n",
      "========================================================================================================================\n",
      "Test Confusion Matrix\n",
      "1014 329 909 5231\n",
      "[[1014  329]\n",
      " [ 909 5231]]\n",
      "========================================================================================================================\n"
     ]
    }
   ],
   "source": [
    "# Getting the confusion metrics\n",
    "\n",
    "print('Train Confusion Matrix')\n",
    "tr_true_negetive,tr_false_positive, tr_false_negetive, tr_true_positive = confusion_matrix(Y_1_train,predicted_labels_train).ravel()\n",
    "print(tr_true_negetive, tr_false_positive, tr_false_negetive, tr_true_positive)\n",
    "print(confusion_matrix(Y_1_train,predicted_labels_train))\n",
    "print(\"=\"*120)\n",
    "\n",
    "print('Test Confusion Matrix')\n",
    "true_negetive,false_positive, false_negetive, true_positive = confusion_matrix(Y_test,predicted_labels_test).ravel()\n",
    "print(true_negetive, false_positive, false_negetive, true_positive)\n",
    "print(confusion_matrix(Y_test,predicted_labels_test))\n",
    "print(\"=\"*120)"
   ]
  },
  {
   "cell_type": "code",
   "execution_count": 53,
   "metadata": {},
   "outputs": [
    {
     "data": {
      "text/plain": [
       "Text(0.5,1,'Confusion Matrix of Train Data')"
      ]
     },
     "execution_count": 53,
     "metadata": {},
     "output_type": "execute_result"
    },
    {
     "data": {
      "image/png": "[encoded data removed]",
      "text/plain": [
       "<Figure size 432x288 with 2 Axes>"
      ]
     },
     "metadata": {},
     "output_type": "display_data"
    }
   ],
   "source": [
    "conMatrix= [[tr_true_negetive,tr_false_positive],[tr_false_negetive,tr_true_positive]]\n",
    "data = conMatrix\n",
    "sns.heatmap(data, cmap=\"YlGnBu\", annot=True, fmt=\"d\")\n",
    "plt.xlabel('Actual Values')\n",
    "plt.ylabel('Predicted Values')\n",
    "plt.title('Confusion Matrix of Train Data')"
   ]
  },
  {
   "cell_type": "code",
   "execution_count": 54,
   "metadata": {},
   "outputs": [
    {
     "data": {
      "text/plain": [
       "Text(0.5,1,'Confusion Matrix of Test Data')"
      ]
     },
     "execution_count": 54,
     "metadata": {},
     "output_type": "execute_result"
    },
    {
     "data": {
      "image/png": "[encoded data removed]",
      "text/plain": [
       "<Figure size 432x288 with 2 Axes>"
      ]
     },
     "metadata": {},
     "output_type": "display_data"
    }
   ],
   "source": [
    "conMatrix= [[true_negetive,false_positive],[false_negetive,true_positive]]\n",
    "data = conMatrix\n",
    "sns.heatmap(data, cmap=\"YlGnBu\", annot=True, fmt=\"d\")\n",
    "plt.xlabel('Actual Values')\n",
    "plt.ylabel('Predicted Values')\n",
    "plt.title('Confusion Matrix of Test Data')"
   ]
  },
  {
   "cell_type": "markdown",
   "metadata": {},
   "source": [
    "## 1.4) Applying Logistic Regression on Tf-Idf_Weighted-Average_Word2Vec, SET 4"
   ]
  },
  {
   "cell_type": "markdown",
   "metadata": {},
   "source": [
    "##### We are using the previously created Tf-Idf and Word2Vec vectorizer ."
   ]
  },
  {
   "cell_type": "code",
   "execution_count": 55,
   "metadata": {},
   "outputs": [
    {
     "name": "stdout",
     "output_type": "stream",
     "text": [
      "35308\n"
     ]
    }
   ],
   "source": [
    "# Splitting the Training Data into sentences\n",
    "list_of_sentence = []\n",
    "for sentence in X_Train['Cleaned_Text']:\n",
    "    list_of_sentence.append(sentence.split())\n",
    "print(len(list_of_sentence))"
   ]
  },
  {
   "cell_type": "code",
   "execution_count": 56,
   "metadata": {},
   "outputs": [
    {
     "name": "stderr",
     "output_type": "stream",
     "text": [
      "100%|███████████████████████████████████████████████████████████████████████████| 35308/35308 [02:01<00:00, 291.72it/s]\n"
     ]
    },
    {
     "name": "stdout",
     "output_type": "stream",
     "text": [
      "35308\n"
     ]
    }
   ],
   "source": [
    "# Tf-Idf Weighted Word2Vec for Training Data\n",
    "\n",
    "tf_idf_features = tfidf_vect.get_feature_names()\n",
    "dictionary = dict(zip(tfidf_vect.get_feature_names(), list(tfidf_vect.idf_)))\n",
    "\n",
    "tfidf_w2v_train = []\n",
    "for sent in tqdm(list_of_sentence):\n",
    "    sent_vec = np.zeros(50)\n",
    "    weighted_sum = 0\n",
    "    for word in sent:\n",
    "        if word in w2v_words and word in tf_idf_features:\n",
    "            vec = w2v_model.wv[word]\n",
    "            tfidf = dictionary[word]*(sent.count(word)/len(sent))\n",
    "            sent_vec += vec * tfidf\n",
    "            weighted_sum += tfidf\n",
    "    if weighted_sum != 0:\n",
    "        sent_vec /= weighted_sum\n",
    "    tfidf_w2v_train.append(sent_vec)\n",
    "print(len(tfidf_w2v_train))"
   ]
  },
  {
   "cell_type": "code",
   "execution_count": 59,
   "metadata": {},
   "outputs": [
    {
     "name": "stdout",
     "output_type": "stream",
     "text": [
      "5987\n"
     ]
    }
   ],
   "source": [
    "# Splitting the Test Data into sentences\n",
    "\n",
    "list_of_sentence = []\n",
    "for sentence in X_1_cv['Cleaned_Text']:\n",
    "    list_of_sentence.append(sentence.split())\n",
    "print(len(list_of_sentence))"
   ]
  },
  {
   "cell_type": "code",
   "execution_count": 60,
   "metadata": {},
   "outputs": [
    {
     "name": "stderr",
     "output_type": "stream",
     "text": [
      "100%|█████████████████████████████████████████████████████████████████████████████| 5987/5987 [00:21<00:00, 280.37it/s]\n"
     ]
    },
    {
     "name": "stdout",
     "output_type": "stream",
     "text": [
      "5987\n"
     ]
    }
   ],
   "source": [
    "# Tf-Idf Weighted Word2Vec for Test Data\n",
    "\n",
    "tf_idf_features = tfidf_vect.get_feature_names()\n",
    "\n",
    "tfidf_w2v_cv = []\n",
    "for sent in tqdm(list_of_sentence):\n",
    "    sent_vec = np.zeros(50)\n",
    "    weighted_sum = 0\n",
    "    for word in sent:\n",
    "        if word in w2v_words and word in tf_idf_features:\n",
    "            vec = w2v_model.wv[word]\n",
    "            tfidf = dictionary[word]*(sent.count(word)/len(sent))\n",
    "            sent_vec += vec * tfidf\n",
    "            weighted_sum += tfidf\n",
    "    if weighted_sum != 0:\n",
    "        sent_vec /= weighted_sum\n",
    "    tfidf_w2v_cv.append(sent_vec)\n",
    "print(len(tfidf_w2v_cv))"
   ]
  },
  {
   "cell_type": "code",
   "execution_count": 57,
   "metadata": {},
   "outputs": [
    {
     "name": "stdout",
     "output_type": "stream",
     "text": [
      "7483\n"
     ]
    }
   ],
   "source": [
    "# Splitting the Test Data into sentences\n",
    "\n",
    "list_of_sentence = []X_1_cv\n",
    "for sentence in X_test['Cleaned_Text']:\n",
    "    list_of_sentence.append(sentence.split())\n",
    "print(len(list_of_sentence))"
   ]
  },
  {
   "cell_type": "code",
   "execution_count": 58,
   "metadata": {},
   "outputs": [
    {
     "name": "stderr",
     "output_type": "stream",
     "text": [
      "100%|█████████████████████████████████████████████████████████████████████████████| 7483/7483 [00:27<00:00, 271.33it/s]\n"
     ]
    },
    {
     "name": "stdout",
     "output_type": "stream",
     "text": [
      "7483\n"
     ]
    }
   ],
   "source": [
    "# Tf-Idf Weighted Word2Vec for Test Data\n",
    "\n",
    "tf_idf_features = tfidf_vect.get_feature_names()\n",
    "\n",
    "tfidf_w2v_test = []\n",
    "for sent in tqdm(list_of_sentence):\n",
    "    sent_vec = np.zeros(50)\n",
    "    weighted_sum = 0\n",
    "    for word in sent:\n",
    "        if word in w2v_words and word in tf_idf_features:\n",
    "            vec = w2v_model.wv[word]\n",
    "            tfidf = dictionary[word]*(sent.count(word)/len(sent))\n",
    "            sent_vec += vec * tfidf\n",
    "            weighted_sum += tfidf\n",
    "    if weighted_sum != 0:\n",
    "        sent_vec /= weighted_sum\n",
    "    tfidf_w2v_test.append(sent_vec)\n",
    "print(len(tfidf_w2v_test))"
   ]
  },
  {
   "cell_type": "code",
   "execution_count": 61,
   "metadata": {},
   "outputs": [
    {
     "name": "stdout",
     "output_type": "stream",
     "text": [
      "35308\n",
      "7483\n"
     ]
    }
   ],
   "source": [
    "n_train = len(tfidf_w2v_train)\n",
    "n_test = len(tfidf_w2v_test)\n",
    "n_cv = len(tfidf_w2v_cv)\n",
    "print(n_train)\n",
    "print(n_test)"
   ]
  },
  {
   "cell_type": "code",
   "execution_count": 62,
   "metadata": {},
   "outputs": [
    {
     "name": "stdout",
     "output_type": "stream",
     "text": [
      "(35308, 50)\n",
      "(7483, 50)\n"
     ]
    }
   ],
   "source": [
    "# Standardization Process\n",
    "\n",
    "scaler = StandardScaler()\n",
    "scaler.fit(tfidf_w2v_train)\n",
    "D4_Train = scaler.transform(tfidf_w2v_train)\n",
    "D4_Test = scaler.transform(tfidf_w2v_test)\n",
    "D4_Cv = scaler.transform(tfidf_w2v_cv)\n",
    "\n",
    "print(D4_Train.shape)\n",
    "print(D4_Test.shape)"
   ]
  },
  {
   "cell_type": "code",
   "execution_count": 63,
   "metadata": {},
   "outputs": [
    {
     "name": "stderr",
     "output_type": "stream",
     "text": [
      "\r",
      "  0%|                                                                                           | 0/10 [00:00<?, ?it/s]"
     ]
    },
    {
     "name": "stdout",
     "output_type": "stream",
     "text": [
      "35308\n"
     ]
    },
    {
     "name": "stderr",
     "output_type": "stream",
     "text": [
      "\r",
      " 10%|███████▉                                                                       | 1/10 [26:23<3:57:35, 1583.90s/it]"
     ]
    },
    {
     "name": "stdout",
     "output_type": "stream",
     "text": [
      "35308\n"
     ]
    },
    {
     "name": "stderr",
     "output_type": "stream",
     "text": [
      "\r",
      " 20%|███████████████▊                                                               | 2/10 [52:39<3:30:50, 1581.31s/it]"
     ]
    },
    {
     "name": "stdout",
     "output_type": "stream",
     "text": [
      "35308\n"
     ]
    },
    {
     "name": "stderr",
     "output_type": "stream",
     "text": [
      "\r",
      " 30%|███████████████████████                                                      | 3/10 [1:18:53<3:04:14, 1579.22s/it]"
     ]
    },
    {
     "name": "stdout",
     "output_type": "stream",
     "text": [
      "35308\n"
     ]
    },
    {
     "name": "stderr",
     "output_type": "stream",
     "text": [
      "\r",
      " 40%|██████████████████████████████▊                                              | 4/10 [1:40:55<2:30:12, 1502.04s/it]"
     ]
    },
    {
     "name": "stdout",
     "output_type": "stream",
     "text": [
      "35308\n"
     ]
    },
    {
     "name": "stderr",
     "output_type": "stream",
     "text": [
      "\r",
      " 50%|██████████████████████████████████████▌                                      | 5/10 [2:00:11<1:56:31, 1398.24s/it]"
     ]
    },
    {
     "name": "stdout",
     "output_type": "stream",
     "text": [
      "35308\n"
     ]
    },
    {
     "name": "stderr",
     "output_type": "stream",
     "text": [
      "\r",
      " 60%|██████████████████████████████████████████████▏                              | 6/10 [2:24:06<1:33:57, 1409.38s/it]"
     ]
    },
    {
     "name": "stdout",
     "output_type": "stream",
     "text": [
      "35308\n"
     ]
    },
    {
     "name": "stderr",
     "output_type": "stream",
     "text": [
      "\r",
      " 70%|█████████████████████████████████████████████████████▉                       | 7/10 [3:05:59<1:27:01, 1740.50s/it]"
     ]
    },
    {
     "name": "stdout",
     "output_type": "stream",
     "text": [
      "35308\n"
     ]
    },
    {
     "name": "stderr",
     "output_type": "stream",
     "text": [
      "\r",
      " 80%|█████████████████████████████████████████████████████████████▌               | 8/10 [5:17:08<1:59:17, 3578.89s/it]"
     ]
    },
    {
     "name": "stdout",
     "output_type": "stream",
     "text": [
      "35308\n"
     ]
    },
    {
     "name": "stderr",
     "output_type": "stream",
     "text": [
      "\r",
      " 90%|█████████████████████████████████████████████████████████████████████▎       | 9/10 [7:51:48<1:28:09, 5289.31s/it]"
     ]
    },
    {
     "name": "stdout",
     "output_type": "stream",
     "text": [
      "35308\n"
     ]
    },
    {
     "name": "stderr",
     "output_type": "stream",
     "text": [
      "100%|█████████████████████████████████████████████████████████████████████████████| 10/10 [10:10:22<00:00, 6196.65s/it]\n"
     ]
    }
   ],
   "source": [
    "# Applying SVM\n",
    "\n",
    "cv_score = []\n",
    "train_score = []\n",
    "\n",
    "# creating hyper-parameter list\n",
    "alpha = list((0.00001,0.0001,0.001,0.01,0.1,1,10,100,1000,10000))\n",
    "\n",
    "cv_auc = []\n",
    "train_auc = []\n",
    "        \n",
    "for i in tqdm(alpha):\n",
    "    svm = SVC(random_state = 0, C = i, class_weight='balanced',kernel = 'rbf', probability = True )\n",
    "    \n",
    "    # Fitting the model in Train - CrossValidation\n",
    "    svm.fit(D4_Train,Y_1_train)\n",
    "    \n",
    "    predict_cv_prob = []\n",
    "    predict_train_prob = []\n",
    "    predicted_labels_test = []\n",
    "    predicted_labels_train = []\n",
    "        \n",
    "    # Predicting the model with CrossValidation and Train Data\n",
    "    for j in range(0,n_cv,1000):\n",
    "        predicted_labels_test.extend(svm.predict(D4_Cv[j:j+1000]))\n",
    "        predict_cv_prob.extend(svm.predict_proba(D4_Cv[j:j+1000])[:,1])\n",
    "    \n",
    "    for k in range(0,n_train,1000):\n",
    "        predicted_labels_train.extend(svm.predict(D4_Train[k:k+1000]))\n",
    "        predict_train_prob.extend(svm.predict_proba(D4_Train[k:k+1000])[:,1])\n",
    "    \n",
    "    print(len(predict_train_prob))\n",
    "        \n",
    "    cv_auc.append(roc_auc_score(Y_1_cv,predict_cv_prob))\n",
    "    train_auc.append(roc_auc_score(Y_1_train,predict_train_prob))"
   ]
  },
  {
   "cell_type": "code",
   "execution_count": 64,
   "metadata": {},
   "outputs": [
    {
     "name": "stdout",
     "output_type": "stream",
     "text": [
      "1e-05 -11.512925464970229\n",
      "0.0001 -9.210340371976182\n",
      "0.001 -6.907755278982137\n",
      "0.01 -4.605170185988091\n",
      "0.1 -2.3025850929940455\n",
      "1 0.0\n",
      "10 2.302585092994046\n",
      "100 4.605170185988092\n",
      "1000 6.907755278982137\n",
      "10000 9.210340371976184\n"
     ]
    }
   ],
   "source": [
    "import math\n",
    "alpha_new = []\n",
    "for n in range(len(alpha)):\n",
    "    alpha1 = alpha[n]\n",
    "    x = math.log(alpha1)\n",
    "    print(alpha1,x)\n",
    "    alpha_new.append(x)"
   ]
  },
  {
   "cell_type": "code",
   "execution_count": 65,
   "metadata": {},
   "outputs": [
    {
     "data": {
      "image/png": "[encoded data removed]",
      "text/plain": [
       "<Figure size 432x288 with 1 Axes>"
      ]
     },
     "metadata": {},
     "output_type": "display_data"
    }
   ],
   "source": [
    "# Plotting Train_AUC and CV_AUC against K\n",
    "plt.plot(alpha_new,train_auc)\n",
    "plt.plot(alpha_new,cv_auc)\n",
    "plt.legend(['Train AUC', 'CV AUC'], loc='upper right')\n",
    "plt.title(\"ERROR PLOTS for BOW Vectorizer\")\n",
    "plt.xlabel('Hyper-parameter Alpha')\n",
    "plt.ylabel('AUC Value')\n",
    "plt.show()"
   ]
  },
  {
   "cell_type": "code",
   "execution_count": 66,
   "metadata": {},
   "outputs": [
    {
     "name": "stdout",
     "output_type": "stream",
     "text": [
      "AUC Metric Best Alpha = 1.000000\n",
      "0.852\n"
     ]
    }
   ],
   "source": [
    "# Getting the optimal Alpha Based to CV AUC\n",
    "optimal_lamda_auc = alpha[cv_auc.index(max(cv_auc))]\n",
    "best_cv_auc = max([ '%.3f' % elem for elem in cv_auc ])\n",
    "print('AUC Metric Best Alpha = %f' % optimal_lamda_auc)\n",
    "print(best_cv_auc)"
   ]
  },
  {
   "cell_type": "code",
   "execution_count": 67,
   "metadata": {},
   "outputs": [
    {
     "name": "stdout",
     "output_type": "stream",
     "text": [
      "7483\n",
      "7483\n",
      "Algo Run Successfully on D_Test\n",
      "====================================================================================================\n"
     ]
    }
   ],
   "source": [
    "# Applying Best K on D_Test\n",
    "\n",
    "svm = SVC(random_state = 0, C = 1, class_weight='balanced',kernel = 'rbf', probability = True )\n",
    "svm.fit(D4_Train,Y_1_train)\n",
    "\n",
    "predicted_labels_test = []\n",
    "predicted_labels_train = []\n",
    "predict_test_prob = []\n",
    "predict_train_prob = []\n",
    "\n",
    "# Predicting the model with CrossValidation and Train Data\n",
    "for j in range(0,n_test,1000):\n",
    "    predicted_labels_test.extend(svm.predict(D4_Test[j:j+1000]))\n",
    "    predict_test_prob.extend(svm.predict_proba(D4_Test[j:j+1000])[:,1])\n",
    "    \n",
    "for k in range(0,n_train,1000):\n",
    "    predicted_labels_train.extend(svm.predict(D4_Train[k:k+1000]))\n",
    "    predict_train_prob.extend(svm.predict_proba(D4_Train[k:k+1000])[:,1])\n",
    "    \n",
    "print(len(predict_test_prob))\n",
    "print(len(Y_test))\n",
    "    \n",
    "train_fpr, train_tpr, thresholds = roc_curve(Y_1_train, predict_train_prob)\n",
    "test_fpr, test_tpr, thresholds = roc_curve(Y_test, predict_test_prob)\n",
    "\n",
    "print('Algo Run Successfully on D_Test')\n",
    "print(\"=\"*100)"
   ]
  },
  {
   "cell_type": "code",
   "execution_count": 68,
   "metadata": {},
   "outputs": [
    {
     "data": {
      "image/png": "[encoded data removed]",
      "text/plain": [
       "<Figure size 432x288 with 1 Axes>"
      ]
     },
     "metadata": {},
     "output_type": "display_data"
    },
    {
     "name": "stdout",
     "output_type": "stream",
     "text": [
      "====================================================================================================\n"
     ]
    }
   ],
   "source": [
    "# Plotting the AUC curve on Test and Train Data\n",
    "\n",
    "plt.plot(train_fpr, train_tpr, label=\"Train AUC =\"+str(auc(train_fpr, train_tpr)))\n",
    "plt.plot(test_fpr, test_tpr, label=\"Test AUC =\"+str(auc(test_fpr, test_tpr)))\n",
    "plt.legend()\n",
    "plt.xlabel(\"FPR\")\n",
    "plt.ylabel(\"TPR\")\n",
    "plt.title(\"ERROR PLOTS\")\n",
    "plt.show()\n",
    "\n",
    "print(\"=\"*100)"
   ]
  },
  {
   "cell_type": "code",
   "execution_count": 69,
   "metadata": {},
   "outputs": [
    {
     "name": "stdout",
     "output_type": "stream",
     "text": [
      "Train Confusion Matrix\n",
      "13532 1468 3332 16976\n",
      "[[13532  1468]\n",
      " [ 3332 16976]]\n",
      "========================================================================================================================\n",
      "Test Confusion Matrix\n",
      "966 377 1141 4999\n",
      "[[ 966  377]\n",
      " [1141 4999]]\n",
      "========================================================================================================================\n"
     ]
    }
   ],
   "source": [
    "# Getting the confusion metrics\n",
    "\n",
    "print('Train Confusion Matrix')\n",
    "tr_true_negetive,tr_false_positive, tr_false_negetive, tr_true_positive = confusion_matrix(Y_1_train,predicted_labels_train).ravel()\n",
    "print(tr_true_negetive, tr_false_positive, tr_false_negetive, tr_true_positive)\n",
    "print(confusion_matrix(Y_1_train,predicted_labels_train))\n",
    "print(\"=\"*120)\n",
    "\n",
    "print('Test Confusion Matrix')\n",
    "true_negetive,false_positive, false_negetive, true_positive = confusion_matrix(Y_test,predicted_labels_test).ravel()\n",
    "print(true_negetive, false_positive, false_negetive, true_positive)\n",
    "print(confusion_matrix(Y_test,predicted_labels_test))\n",
    "print(\"=\"*120)"
   ]
  },
  {
   "cell_type": "code",
   "execution_count": 70,
   "metadata": {},
   "outputs": [
    {
     "data": {
      "text/plain": [
       "Text(0.5,1,'Confusion Matrix of Train Data')"
      ]
     },
     "execution_count": 70,
     "metadata": {},
     "output_type": "execute_result"
    },
    {
     "data": {
      "image/png": "[encoded data removed]",
      "text/plain": [
       "<Figure size 432x288 with 2 Axes>"
      ]
     },
     "metadata": {},
     "output_type": "display_data"
    }
   ],
   "source": [
    "conMatrix= [[tr_true_negetive,tr_false_positive],[tr_false_negetive,tr_true_positive]]\n",
    "data = conMatrix\n",
    "sns.heatmap(data, cmap=\"YlGnBu\", annot=True, fmt=\"d\")\n",
    "plt.xlabel('Actual Values')\n",
    "plt.ylabel('Predicted Values')\n",
    "plt.title('Confusion Matrix of Train Data')"
   ]
  },
  {
   "cell_type": "code",
   "execution_count": 71,
   "metadata": {},
   "outputs": [
    {
     "data": {
      "text/plain": [
       "Text(0.5,1,'Confusion Matrix of Test Data')"
      ]
     },
     "execution_count": 71,
     "metadata": {},
     "output_type": "execute_result"
    },
    {
     "data": {
      "image/png": "[encoded data removed]",
      "text/plain": [
       "<Figure size 432x288 with 2 Axes>"
      ]
     },
     "metadata": {},
     "output_type": "display_data"
    }
   ],
   "source": [
    "conMatrix= [[true_negetive,false_positive],[false_negetive,true_positive]]\n",
    "data = conMatrix\n",
    "sns.heatmap(data, cmap=\"YlGnBu\", annot=True, fmt=\"d\")\n",
    "plt.xlabel('Actual Values')\n",
    "plt.ylabel('Predicted Values')\n",
    "plt.title('Confusion Matrix of Test Data')"
   ]
  },
  {
   "cell_type": "markdown",
   "metadata": {},
   "source": [
    "### Conclusion"
   ]
  },
  {
   "cell_type": "code",
   "execution_count": 73,
   "metadata": {},
   "outputs": [],
   "source": [
    "# Importing Pretty Table\n",
    "from prettytable import PrettyTable"
   ]
  },
  {
   "cell_type": "code",
   "execution_count": 77,
   "metadata": {},
   "outputs": [
    {
     "name": "stdout",
     "output_type": "stream",
     "text": [
      "+-------------------------+-----------------------+------+\n",
      "|        Vectorizer       | Hyper-Parameter Alpha | AUC  |\n",
      "+-------------------------+-----------------------+------+\n",
      "|           BOW           |          0.1          | 0.90 |\n",
      "|          Tf-Idf         |           1           | 0.91 |\n",
      "|     Average Word2Vec    |           1           | 0.89 |\n",
      "| Tf-Idf_Average_Word2Vec |           1           | 0.85 |\n",
      "+-------------------------+-----------------------+------+\n"
     ]
    }
   ],
   "source": [
    "x = PrettyTable()\n",
    "x.field_names = ['Vectorizer', 'Hyper-Parameter Alpha','AUC']\n",
    "x.add_row(['BOW','0.1','0.90'])\n",
    "x.add_row(['Tf-Idf','1','0.91'])\n",
    "x.add_row(['Average Word2Vec','1','0.89'])\n",
    "x.add_row(['Tf-Idf_Average_Word2Vec','1','0.85'])\n",
    "\n",
    "print(x)"
   ]
  },
  {
   "cell_type": "markdown",
   "metadata": {},
   "source": [
    "#### We have sampled top 40k datapoints that are highly imbalanced. We have thus balanced only the train datapoints with upsampling the negetive point. We also used the class_weight = balanced parameter of SVC function."
   ]
  },
  {
   "cell_type": "markdown",
   "metadata": {},
   "source": [
    "#### We have used the min_df = 10, max_features = 500 values for BOW and TFIDF vectorizer so that the run time of the algorithm is still manageable."
   ]
  }
 ],
 "metadata": {
  "kernelspec": {
   "display_name": "Python 3",
   "language": "python",
   "name": "python3"
  },
  "language_info": {
   "codemirror_mode": {
    "name": "ipython",
    "version": 3
   },
   "file_extension": ".py",
   "mimetype": "text/x-python",
   "name": "python",
   "nbconvert_exporter": "python",
   "pygments_lexer": "ipython3",
   "version": "3.6.5"
  }
 },
 "nbformat": 4,
 "nbformat_minor": 2
}
